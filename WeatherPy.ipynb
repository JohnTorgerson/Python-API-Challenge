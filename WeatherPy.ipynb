{
 "cells": [
  {
   "cell_type": "markdown",
   "metadata": {},
   "source": [
    "# WeatherPy\n",
    "----\n",
    "\n",
    "#### Note\n",
    "* Instructions have been included for each segment. You do not have to follow them exactly, but they are included to help you think through the steps."
   ]
  },
  {
   "cell_type": "code",
   "execution_count": 1,
   "metadata": {
    "scrolled": true
   },
   "outputs": [],
   "source": [
    "# Dependencies and Setup\n",
    "import matplotlib.pyplot as plt\n",
    "import pandas as pd\n",
    "import numpy as np\n",
    "import requests\n",
    "import time\n",
    "from scipy.stats import linregress\n",
    "\n",
    "# Import API key\n",
    "from api_keys import weather_key\n",
    "\n",
    "# Incorporated citipy to determine city based on latitude and longitude\n",
    "from citipy import citipy\n",
    "\n",
    "# Output File (CSV)\n",
    "output_data_file = \"output_data/cities.csv\"\n",
    "\n",
    "# Range of latitudes and longitudes\n",
    "lat_range = (-90, 90)\n",
    "lng_range = (-180, 180)"
   ]
  },
  {
   "cell_type": "markdown",
   "metadata": {},
   "source": [
    "## Generate Cities List"
   ]
  },
  {
   "cell_type": "code",
   "execution_count": 2,
   "metadata": {},
   "outputs": [
    {
     "data": {
      "text/plain": [
       "628"
      ]
     },
     "execution_count": 2,
     "metadata": {},
     "output_type": "execute_result"
    }
   ],
   "source": [
    "# List for holding and cities\n",
    "lat_lngs = []\n",
    "cities = []\n",
    "\n",
    "# Create a set of random lat and lng combinations\n",
    "lats = np.random.uniform(lat_range[0], lat_range[1], size=1500)\n",
    "lngs = np.random.uniform(lng_range[0], lng_range[1], size=1500)\n",
    "lat_lngs = zip(lats, lngs)\n",
    "\n",
    "# Identify nearest city for each lat, lng combination\n",
    "for lat_lng in lat_lngs:\n",
    "    city = citipy.nearest_city(lat_lng[0], lat_lng[1]).city_name\n",
    "    \n",
    "    # If the city is unique, then add it to a our cities list\n",
    "    if city not in cities:\n",
    "        cities.append(city)\n",
    "\n",
    "# Print the city count to confirm sufficient count\n",
    "len(cities)"
   ]
  },
  {
   "cell_type": "markdown",
   "metadata": {},
   "source": [
    "### Perform API Calls\n",
    "* Perform a weather check on each city using a series of successive API calls.\n",
    "* Include a print log of each city as it'sbeing processed (with the city number and city name).\n"
   ]
  },
  {
   "cell_type": "code",
   "execution_count": 3,
   "metadata": {},
   "outputs": [],
   "source": [
    "# Save config information.\n",
    "base_url = \"http://api.openweathermap.org/data/2.5/weather?\"\n",
    "units = \"imperial\"\n",
    "\n",
    "# Build partial query URL\n",
    "query_url = f\"{base_url}appid={weather_key}&units={units}&q=\""
   ]
  },
  {
   "cell_type": "code",
   "execution_count": 4,
   "metadata": {},
   "outputs": [],
   "source": [
    "#create empty lists as variable to hold data per cities list index\n",
    "\n",
    "lat = []\n",
    "temp = []\n",
    "humidity = []\n",
    "cloudiness = []\n",
    "windspeed = []\n",
    "country = []\n",
    "name = []"
   ]
  },
  {
   "cell_type": "code",
   "execution_count": 5,
   "metadata": {},
   "outputs": [],
   "source": [
    "response = requests.get(query_url + city).json()"
   ]
  },
  {
   "cell_type": "code",
   "execution_count": 6,
   "metadata": {},
   "outputs": [
    {
     "name": "stdout",
     "output_type": "stream",
     "text": [
      "{'cod': '404', 'message': 'city not found'}\n",
      "City Not Found\n",
      "{'coord': {'lon': -139.0333, 'lat': -9.8}, 'weather': [{'id': 800, 'main': 'Clear', 'description': 'clear sky', 'icon': '01n'}], 'base': 'stations', 'main': {'temp': 77.18, 'feels_like': 77.88, 'temp_min': 77.18, 'temp_max': 77.18, 'pressure': 1014, 'humidity': 70, 'sea_level': 1014, 'grnd_level': 1006}, 'visibility': 10000, 'wind': {'speed': 18.32, 'deg': 99, 'gust': 19.17}, 'clouds': {'all': 5}, 'dt': 1659152116, 'sys': {'country': 'PF', 'sunrise': 1659108739, 'sunset': 1659150760}, 'timezone': -34200, 'id': 4020109, 'name': 'Atuona', 'cod': 200}\n",
      "{'coord': {'lon': 147.9167, 'lat': 70.6333}, 'weather': [{'id': 803, 'main': 'Clouds', 'description': 'broken clouds', 'icon': '04n'}], 'base': 'stations', 'main': {'temp': 64.87, 'feels_like': 63.03, 'temp_min': 64.87, 'temp_max': 64.87, 'pressure': 1007, 'humidity': 42, 'sea_level': 1007, 'grnd_level': 1003}, 'visibility': 10000, 'wind': {'speed': 10.29, 'deg': 212, 'gust': 14.18}, 'clouds': {'all': 70}, 'dt': 1659152117, 'sys': {'country': 'RU', 'sunrise': 0, 'sunset': 0}, 'timezone': 39600, 'id': 2126123, 'name': 'Chokurdakh', 'cod': 200}\n",
      "{'cod': '404', 'message': 'city not found'}\n",
      "City Not Found\n",
      "{'coord': {'lon': 136.6319, 'lat': 50.7214}, 'weather': [{'id': 804, 'main': 'Clouds', 'description': 'overcast clouds', 'icon': '04d'}], 'base': 'stations', 'main': {'temp': 73.94, 'feels_like': 75.27, 'temp_min': 73.94, 'temp_max': 73.94, 'pressure': 1003, 'humidity': 90, 'sea_level': 1003, 'grnd_level': 971}, 'visibility': 10000, 'wind': {'speed': 6.38, 'deg': 341, 'gust': 15.28}, 'clouds': {'all': 97}, 'dt': 1659152117, 'sys': {'country': 'RU', 'sunrise': 1659122186, 'sunset': 1659177793}, 'timezone': 36000, 'id': 2016307, 'name': 'Solnechnyy', 'cod': 200}\n",
      "{'coord': {'lon': -90.4, 'lat': 20.8667}, 'weather': [{'id': 800, 'main': 'Clear', 'description': 'clear sky', 'icon': '01n'}], 'base': 'stations', 'main': {'temp': 77.23, 'feels_like': 78.51, 'temp_min': 77.23, 'temp_max': 77.23, 'pressure': 1014, 'humidity': 82, 'sea_level': 1014, 'grnd_level': 1014}, 'visibility': 10000, 'wind': {'speed': 13.71, 'deg': 67, 'gust': 28.97}, 'clouds': {'all': 7}, 'dt': 1659152117, 'sys': {'country': 'MX', 'sunrise': 1659094471, 'sunset': 1659141684}, 'timezone': -18000, 'id': 3531368, 'name': 'Celestún', 'cod': 200}\n",
      "{'coord': {'lon': 161.3, 'lat': 68.75}, 'weather': [{'id': 801, 'main': 'Clouds', 'description': 'few clouds', 'icon': '02d'}], 'base': 'stations', 'main': {'temp': 66.07, 'feels_like': 64.02, 'temp_min': 66.07, 'temp_max': 66.07, 'pressure': 1013, 'humidity': 35, 'sea_level': 1013, 'grnd_level': 1013}, 'visibility': 10000, 'wind': {'speed': 15.03, 'deg': 175, 'gust': 16.98}, 'clouds': {'all': 20}, 'dt': 1659152118, 'sys': {'country': 'RU', 'sunrise': 1659106778, 'sunset': 1659181361}, 'timezone': 39600, 'id': 2126199, 'name': 'Cherskiy', 'cod': 200}\n",
      "{'coord': {'lon': -156.7887, 'lat': 71.2906}, 'weather': [{'id': 804, 'main': 'Clouds', 'description': 'overcast clouds', 'icon': '04n'}], 'base': 'stations', 'main': {'temp': 35.62, 'feels_like': 30.72, 'temp_min': 35.62, 'temp_max': 35.62, 'pressure': 1021, 'humidity': 93}, 'visibility': 10000, 'wind': {'speed': 5.75, 'deg': 360}, 'clouds': {'all': 100}, 'dt': 1659152118, 'sys': {'type': 1, 'id': 7649, 'country': 'US', 'sunrise': 0, 'sunset': 0}, 'timezone': -28800, 'id': 5880054, 'name': 'Barrow', 'cod': 200}\n",
      "{'coord': {'lon': 59.4406, 'lat': 55.3383}, 'weather': [{'id': 804, 'main': 'Clouds', 'description': 'overcast clouds', 'icon': '04d'}], 'base': 'stations', 'main': {'temp': 64.76, 'feels_like': 63.9, 'temp_min': 64.76, 'temp_max': 64.76, 'pressure': 1016, 'humidity': 63, 'sea_level': 1016, 'grnd_level': 974}, 'visibility': 10000, 'wind': {'speed': 4.81, 'deg': 36, 'gust': 9.82}, 'clouds': {'all': 91}, 'dt': 1659152118, 'sys': {'country': 'RU', 'sunrise': 1659139515, 'sunset': 1659197515}, 'timezone': 18000, 'id': 538442, 'name': 'Kusa', 'cod': 200}\n",
      "{'coord': {'lon': 92.3058, 'lat': 20.8624}, 'weather': [{'id': 803, 'main': 'Clouds', 'description': 'broken clouds', 'icon': '04d'}], 'base': 'stations', 'main': {'temp': 88.3, 'feels_like': 99.37, 'temp_min': 88.3, 'temp_max': 88.3, 'pressure': 1007, 'humidity': 67, 'sea_level': 1007, 'grnd_level': 1007}, 'visibility': 10000, 'wind': {'speed': 4.52, 'deg': 275, 'gust': 4.65}, 'clouds': {'all': 72}, 'dt': 1659152119, 'sys': {'country': 'BD', 'sunrise': 1659137034, 'sunset': 1659184222}, 'timezone': 21600, 'id': 1185095, 'name': 'Teknāf', 'cod': 200}\n",
      "{'coord': {'lon': 80.5464, 'lat': 73.5069}, 'weather': [{'id': 804, 'main': 'Clouds', 'description': 'overcast clouds', 'icon': '04n'}], 'base': 'stations', 'main': {'temp': 40.66, 'feels_like': 31.66, 'temp_min': 40.66, 'temp_max': 40.66, 'pressure': 1014, 'humidity': 93, 'sea_level': 1014, 'grnd_level': 1008}, 'visibility': 10000, 'wind': {'speed': 18.68, 'deg': 323, 'gust': 26.89}, 'clouds': {'all': 97}, 'dt': 1659152119, 'sys': {'country': 'RU', 'sunrise': 0, 'sunset': 0}, 'timezone': 25200, 'id': 1507390, 'name': 'Dikson', 'cod': 200}\n",
      "{'coord': {'lon': -175.2, 'lat': -21.2}, 'weather': [{'id': 802, 'main': 'Clouds', 'description': 'scattered clouds', 'icon': '03n'}], 'base': 'stations', 'main': {'temp': 78.96, 'feels_like': 78.96, 'temp_min': 78.96, 'temp_max': 78.96, 'pressure': 1017, 'humidity': 89}, 'visibility': 10000, 'wind': {'speed': 11.5, 'deg': 90}, 'clouds': {'all': 40}, 'dt': 1659152119, 'sys': {'type': 1, 'id': 7285, 'country': 'TO', 'sunrise': 1659204780, 'sunset': 1659244875}, 'timezone': 46800, 'id': 4032243, 'name': 'Vaini', 'cod': 200}\n",
      "{'coord': {'lon': -114.3525, 'lat': 62.456}, 'weather': [{'id': 802, 'main': 'Clouds', 'description': 'scattered clouds', 'icon': '03d'}], 'base': 'stations', 'main': {'temp': 63.12, 'feels_like': 61.72, 'temp_min': 63.12, 'temp_max': 63.12, 'pressure': 1016, 'humidity': 55}, 'visibility': 10000, 'wind': {'speed': 9.22, 'deg': 190}, 'clouds': {'all': 40}, 'dt': 1659152120, 'sys': {'type': 1, 'id': 1007, 'country': 'CA', 'sunrise': 1659091914, 'sunset': 1659155738}, 'timezone': -21600, 'id': 6185377, 'name': 'Yellowknife', 'cod': 200}\n",
      "{'coord': {'lon': -133.0374, 'lat': 69.4541}, 'weather': [{'id': 804, 'main': 'Clouds', 'description': 'overcast clouds', 'icon': '04d'}], 'base': 'stations', 'main': {'temp': 39.2, 'feels_like': 33.01, 'temp_min': 39.2, 'temp_max': 39.2, 'pressure': 1020, 'humidity': 75}, 'visibility': 10000, 'wind': {'speed': 9.22, 'deg': 320}, 'clouds': {'all': 100}, 'dt': 1659152120, 'sys': {'type': 1, 'id': 942, 'country': 'CA', 'sunrise': 1659089679, 'sunset': 1659166942}, 'timezone': -21600, 'id': 6170031, 'name': 'Tuktoyaktuk', 'cod': 200}\n",
      "{'coord': {'lon': -98.0298, 'lat': 43.7094}, 'weather': [{'id': 804, 'main': 'Clouds', 'description': 'overcast clouds', 'icon': '04n'}], 'base': 'stations', 'main': {'temp': 71.33, 'feels_like': 71.26, 'temp_min': 65.73, 'temp_max': 71.58, 'pressure': 1020, 'humidity': 66}, 'visibility': 10000, 'wind': {'speed': 9.22, 'deg': 120}, 'clouds': {'all': 100}, 'dt': 1659152043, 'sys': {'type': 2, 'id': 2039694, 'country': 'US', 'sunrise': 1659093470, 'sunset': 1659146348}, 'timezone': -18000, 'id': 5229794, 'name': 'Mitchell', 'cod': 200}\n",
      "{'coord': {'lon': 100.3543, 'lat': -0.9492}, 'weather': [{'id': 804, 'main': 'Clouds', 'description': 'overcast clouds', 'icon': '04d'}], 'base': 'stations', 'main': {'temp': 80.65, 'feels_like': 88.47, 'temp_min': 80.65, 'temp_max': 80.65, 'pressure': 1013, 'humidity': 95, 'sea_level': 1013, 'grnd_level': 1012}, 'visibility': 3805, 'wind': {'speed': 0.94, 'deg': 254, 'gust': 4.27}, 'clouds': {'all': 100}, 'dt': 1659152121, 'sys': {'type': 1, 'id': 9423, 'country': 'ID', 'sunrise': 1659136962, 'sunset': 1659180430}, 'timezone': 25200, 'id': 1633419, 'name': 'Padang', 'cod': 200}\n",
      "{'coord': {'lon': 19.2345, 'lat': -34.4187}, 'weather': [{'id': 804, 'main': 'Clouds', 'description': 'overcast clouds', 'icon': '04n'}], 'base': 'stations', 'main': {'temp': 44.8, 'feels_like': 39.83, 'temp_min': 44.8, 'temp_max': 44.8, 'pressure': 1020, 'humidity': 77, 'sea_level': 1020, 'grnd_level': 1017}, 'visibility': 10000, 'wind': {'speed': 9.4, 'deg': 314, 'gust': 13.73}, 'clouds': {'all': 99}, 'dt': 1659152113, 'sys': {'type': 2, 'id': 2006131, 'country': 'ZA', 'sunrise': 1659159491, 'sunset': 1659196838}, 'timezone': 7200, 'id': 3366880, 'name': 'Hermanus', 'cod': 200}\n"
     ]
    },
    {
     "name": "stdout",
     "output_type": "stream",
     "text": [
      "{'coord': {'lon': 127.4902, 'lat': 50.2441}, 'weather': [{'id': 500, 'main': 'Rain', 'description': 'light rain', 'icon': '10d'}], 'base': 'stations', 'main': {'temp': 82.98, 'feels_like': 83.35, 'temp_min': 82.4, 'temp_max': 82.98, 'pressure': 1007, 'humidity': 47, 'sea_level': 1007, 'grnd_level': 992}, 'visibility': 10000, 'wind': {'speed': 7.11, 'deg': 203, 'gust': 8.03}, 'rain': {'1h': 0.65}, 'clouds': {'all': 100}, 'dt': 1659152121, 'sys': {'type': 1, 'id': 8859, 'country': 'CN', 'sunrise': 1659124492, 'sunset': 1659179875}, 'timezone': 28800, 'id': 2036973, 'name': 'Heihe', 'cod': 200}\n",
      "{'coord': {'lon': -38.8828, 'lat': -15.8631}, 'weather': [{'id': 800, 'main': 'Clear', 'description': 'clear sky', 'icon': '01n'}], 'base': 'stations', 'main': {'temp': 72.16, 'feels_like': 72.88, 'temp_min': 72.16, 'temp_max': 72.16, 'pressure': 1015, 'humidity': 81, 'sea_level': 1015, 'grnd_level': 1014}, 'visibility': 10000, 'wind': {'speed': 11.81, 'deg': 10, 'gust': 18.79}, 'clouds': {'all': 4}, 'dt': 1659152121, 'sys': {'country': 'BR', 'sunrise': 1659171602, 'sunset': 1659212622}, 'timezone': -10800, 'id': 3470137, 'name': 'Belmonte', 'cod': 200}\n",
      "{'coord': {'lon': 97.9683, 'lat': 4.4683}, 'weather': [{'id': 804, 'main': 'Clouds', 'description': 'overcast clouds', 'icon': '04d'}], 'base': 'stations', 'main': {'temp': 87.21, 'feels_like': 95.68, 'temp_min': 87.21, 'temp_max': 87.21, 'pressure': 1009, 'humidity': 65, 'sea_level': 1009, 'grnd_level': 1008}, 'visibility': 10000, 'wind': {'speed': 3.96, 'deg': 116, 'gust': 6.04}, 'clouds': {'all': 98}, 'dt': 1659152122, 'sys': {'country': 'ID', 'sunrise': 1659137096, 'sunset': 1659181441}, 'timezone': 25200, 'id': 1214724, 'name': 'Langsa', 'cod': 200}\n",
      "{'coord': {'lon': -109.9124, 'lat': 22.8909}, 'weather': [{'id': 800, 'main': 'Clear', 'description': 'clear sky', 'icon': '01n'}], 'base': 'stations', 'main': {'temp': 87.19, 'feels_like': 98.56, 'temp_min': 87.19, 'temp_max': 88.9, 'pressure': 1012, 'humidity': 71, 'sea_level': 1012, 'grnd_level': 1010}, 'visibility': 10000, 'wind': {'speed': 5.55, 'deg': 297, 'gust': 7.36}, 'clouds': {'all': 7}, 'dt': 1659152019, 'sys': {'type': 2, 'id': 2006274, 'country': 'MX', 'sunrise': 1659098959, 'sunset': 1659146562}, 'timezone': -21600, 'id': 3985710, 'name': 'Cabo San Lucas', 'cod': 200}\n",
      "{'coord': {'lon': -13.0499, 'lat': 20.5169}, 'weather': [{'id': 804, 'main': 'Clouds', 'description': 'overcast clouds', 'icon': '04n'}], 'base': 'stations', 'main': {'temp': 81.72, 'feels_like': 84.38, 'temp_min': 81.72, 'temp_max': 81.72, 'pressure': 1010, 'humidity': 62, 'sea_level': 1010, 'grnd_level': 985}, 'visibility': 10000, 'wind': {'speed': 13.65, 'deg': 242, 'gust': 19.77}, 'clouds': {'all': 93}, 'dt': 1659152122, 'sys': {'country': 'MR', 'sunrise': 1659162358, 'sunset': 1659209467}, 'timezone': 0, 'id': 2381334, 'name': 'Atar', 'cod': 200}\n",
      "{'coord': {'lon': 169.2667, 'lat': -19.55}, 'weather': [{'id': 804, 'main': 'Clouds', 'description': 'overcast clouds', 'icon': '04d'}], 'base': 'stations', 'main': {'temp': 80.71, 'feels_like': 86.31, 'temp_min': 80.71, 'temp_max': 80.71, 'pressure': 1011, 'humidity': 83}, 'visibility': 10000, 'wind': {'speed': 4.61, 'deg': 90}, 'clouds': {'all': 100}, 'dt': 1659152123, 'sys': {'type': 1, 'id': 7317, 'country': 'VU', 'sunrise': 1659121983, 'sunset': 1659162331}, 'timezone': 39600, 'id': 2136825, 'name': 'Isangel', 'cod': 200}\n",
      "{'coord': {'lon': 25.5701, 'lat': -33.918}, 'weather': [{'id': 801, 'main': 'Clouds', 'description': 'few clouds', 'icon': '02n'}], 'base': 'stations', 'main': {'temp': 54.32, 'feels_like': 53.55, 'temp_min': 53.89, 'temp_max': 54.32, 'pressure': 1019, 'humidity': 87}, 'visibility': 10000, 'wind': {'speed': 13.8, 'deg': 250}, 'clouds': {'all': 20}, 'dt': 1659152124, 'sys': {'type': 2, 'id': 2072678, 'country': 'ZA', 'sunrise': 1659157912, 'sunset': 1659195375}, 'timezone': 7200, 'id': 964420, 'name': 'Port Elizabeth', 'cod': 200}\n",
      "{'coord': {'lon': 109.1591, 'lat': 11.9214}, 'weather': [{'id': 501, 'main': 'Rain', 'description': 'moderate rain', 'icon': '10d'}], 'base': 'stations', 'main': {'temp': 87.76, 'feels_like': 99.59, 'temp_min': 87.76, 'temp_max': 87.76, 'pressure': 1007, 'humidity': 70}, 'visibility': 10000, 'wind': {'speed': 4.61, 'deg': 100}, 'rain': {'1h': 2.05}, 'clouds': {'all': 40}, 'dt': 1659152124, 'sys': {'type': 1, 'id': 9304, 'country': 'VN', 'sunrise': 1659133790, 'sunset': 1659179376}, 'timezone': 25200, 'id': 1586350, 'name': 'Cam Ranh', 'cod': 200}\n",
      "{'coord': {'lon': -68.3, 'lat': -54.8}, 'weather': [{'id': 804, 'main': 'Clouds', 'description': 'overcast clouds', 'icon': '04n'}], 'base': 'stations', 'main': {'temp': 38.86, 'feels_like': 28.04, 'temp_min': 38.86, 'temp_max': 38.86, 'pressure': 986, 'humidity': 87}, 'visibility': 7000, 'wind': {'speed': 24.16, 'deg': 230, 'gust': 39.12}, 'clouds': {'all': 100}, 'dt': 1659152115, 'sys': {'type': 1, 'id': 8303, 'country': 'AR', 'sunrise': 1659183947, 'sunset': 1659214397}, 'timezone': -10800, 'id': 3833367, 'name': 'Ushuaia', 'cod': 200}\n",
      "{'coord': {'lon': 147.3294, 'lat': -42.8794}, 'weather': [{'id': 801, 'main': 'Clouds', 'description': 'few clouds', 'icon': '02d'}], 'base': 'stations', 'main': {'temp': 50.94, 'feels_like': 48.51, 'temp_min': 50.25, 'temp_max': 54.23, 'pressure': 1016, 'humidity': 59}, 'visibility': 10000, 'wind': {'speed': 11.5, 'deg': 320}, 'clouds': {'all': 20}, 'dt': 1659152125, 'sys': {'type': 2, 'id': 2002195, 'country': 'AU', 'sunrise': 1659129897, 'sunset': 1659164947}, 'timezone': 36000, 'id': 2163355, 'name': 'Hobart', 'cod': 200}\n",
      "{'coord': {'lon': 30.7861, 'lat': 59.7035}, 'weather': [{'id': 803, 'main': 'Clouds', 'description': 'broken clouds', 'icon': '04d'}], 'base': 'stations', 'main': {'temp': 60.33, 'feels_like': 59.83, 'temp_min': 57.78, 'temp_max': 62.87, 'pressure': 1015, 'humidity': 80, 'sea_level': 1015, 'grnd_level': 1011}, 'visibility': 10000, 'wind': {'speed': 7.52, 'deg': 252, 'gust': 19.26}, 'clouds': {'all': 83}, 'dt': 1659152125, 'sys': {'type': 2, 'id': 2034996, 'country': 'RU', 'sunrise': 1659144868, 'sunset': 1659205917}, 'timezone': 10800, 'id': 546105, 'name': 'Nikolskoye', 'cod': 200}\n",
      "{'coord': {'lon': 52.9124, 'lat': 36.6412}, 'weather': [{'id': 801, 'main': 'Clouds', 'description': 'few clouds', 'icon': '02d'}], 'base': 'stations', 'main': {'temp': 75.36, 'feels_like': 76.08, 'temp_min': 75.36, 'temp_max': 75.36, 'pressure': 1014, 'humidity': 74, 'sea_level': 1014, 'grnd_level': 1015}, 'visibility': 10000, 'wind': {'speed': 4.72, 'deg': 237, 'gust': 5.35}, 'clouds': {'all': 20}, 'dt': 1659152125, 'sys': {'type': 1, 'id': 7498, 'country': 'IR', 'sunrise': 1659144740, 'sunset': 1659195423}, 'timezone': 16200, 'id': 129933, 'name': 'Jūybār', 'cod': 200}\n",
      "{'coord': {'lon': 27.9116, 'lat': -33.0153}, 'weather': [{'id': 801, 'main': 'Clouds', 'description': 'few clouds', 'icon': '02n'}], 'base': 'stations', 'main': {'temp': 54.54, 'feels_like': 53.78, 'temp_min': 54.54, 'temp_max': 54.54, 'pressure': 1018, 'humidity': 87}, 'visibility': 10000, 'wind': {'speed': 12.66, 'deg': 260}, 'clouds': {'all': 20}, 'dt': 1659152126, 'sys': {'type': 1, 'id': 1912, 'country': 'ZA', 'sunrise': 1659157247, 'sunset': 1659194917}, 'timezone': 7200, 'id': 1006984, 'name': 'East London', 'cod': 200}\n",
      "{'coord': {'lon': 124.8167, 'lat': 45.1833}, 'weather': [{'id': 804, 'main': 'Clouds', 'description': 'overcast clouds', 'icon': '04d'}], 'base': 'stations', 'main': {'temp': 78.85, 'feels_like': 78.85, 'temp_min': 78.85, 'temp_max': 78.85, 'pressure': 1008, 'humidity': 77, 'sea_level': 1008, 'grnd_level': 992}, 'visibility': 10000, 'wind': {'speed': 12.68, 'deg': 219, 'gust': 15.61}, 'clouds': {'all': 87}, 'dt': 1659152126, 'sys': {'country': 'CN', 'sunrise': 1659126154, 'sunset': 1659179497}, 'timezone': 28800, 'id': 2037335, 'name': 'Fuyu', 'cod': 200}\n",
      "{'coord': {'lon': 153.6833, 'lat': 67.45}, 'weather': [{'id': 804, 'main': 'Clouds', 'description': 'overcast clouds', 'icon': '04d'}], 'base': 'stations', 'main': {'temp': 69.12, 'feels_like': 67.08, 'temp_min': 69.12, 'temp_max': 69.12, 'pressure': 1009, 'humidity': 29, 'sea_level': 1009, 'grnd_level': 1006}, 'visibility': 10000, 'wind': {'speed': 7.94, 'deg': 151, 'gust': 9.15}, 'clouds': {'all': 97}, 'dt': 1659152126, 'sys': {'country': 'RU', 'sunrise': 1659110287, 'sunset': 1659181508}, 'timezone': 39600, 'id': 2121025, 'name': 'Srednekolymsk', 'cod': 200}\n"
     ]
    },
    {
     "name": "stdout",
     "output_type": "stream",
     "text": [
      "{'coord': {'lon': 112.4, 'lat': 66.4167}, 'weather': [{'id': 804, 'main': 'Clouds', 'description': 'overcast clouds', 'icon': '04d'}], 'base': 'stations', 'main': {'temp': 80.46, 'feels_like': 82.49, 'temp_min': 80.46, 'temp_max': 80.46, 'pressure': 999, 'humidity': 61, 'sea_level': 999, 'grnd_level': 968}, 'visibility': 10000, 'wind': {'speed': 10.51, 'deg': 94, 'gust': 13.13}, 'clouds': {'all': 92}, 'dt': 1659152127, 'sys': {'type': 2, 'id': 49565, 'country': 'RU', 'sunrise': 1659121245, 'sunset': 1659190365}, 'timezone': 32400, 'id': 2014624, 'name': 'Udachny', 'cod': 200}\n",
      "{'coord': {'lon': 24.4336, 'lat': 0.8102}, 'weather': [{'id': 501, 'main': 'Rain', 'description': 'moderate rain', 'icon': '10n'}], 'base': 'stations', 'main': {'temp': 67.89, 'feels_like': 68.94, 'temp_min': 67.89, 'temp_max': 67.89, 'pressure': 1013, 'humidity': 97, 'sea_level': 1013, 'grnd_level': 962}, 'visibility': 10000, 'wind': {'speed': 2.13, 'deg': 44, 'gust': 4.76}, 'rain': {'1h': 1.06}, 'clouds': {'all': 93}, 'dt': 1659152127, 'sys': {'country': 'CD', 'sunrise': 1659155041, 'sunset': 1659198792}, 'timezone': 7200, 'id': 203717, 'name': 'Yangambi', 'cod': 200}\n",
      "{'coord': {'lon': -105.2842, 'lat': 55.1001}, 'weather': [{'id': 711, 'main': 'Smoke', 'description': 'smoke', 'icon': '50n'}], 'base': 'stations', 'main': {'temp': 66.45, 'feels_like': 66, 'temp_min': 64.62, 'temp_max': 66.45, 'pressure': 1013, 'humidity': 68}, 'visibility': 10000, 'wind': {'speed': 3.44, 'deg': 30}, 'clouds': {'all': 75}, 'dt': 1659152127, 'sys': {'type': 1, 'id': 696, 'country': 'CA', 'sunrise': 1659092663, 'sunset': 1659150637}, 'timezone': -21600, 'id': 6050066, 'name': 'La Ronge', 'cod': 200}\n",
      "{'coord': {'lon': -151.75, 'lat': -16.4833}, 'weather': [{'id': 800, 'main': 'Clear', 'description': 'clear sky', 'icon': '01d'}], 'base': 'stations', 'main': {'temp': 79.27, 'feels_like': 79.27, 'temp_min': 79.27, 'temp_max': 79.27, 'pressure': 1016, 'humidity': 71, 'sea_level': 1016, 'grnd_level': 1016}, 'visibility': 10000, 'wind': {'speed': 22.12, 'deg': 99, 'gust': 24.18}, 'clouds': {'all': 3}, 'dt': 1659152128, 'sys': {'country': 'PF', 'sunrise': 1659112358, 'sunset': 1659153245}, 'timezone': -36000, 'id': 4034551, 'name': 'Faanui', 'cod': 200}\n",
      "{'coord': {'lon': -71.2167, 'lat': -33.7}, 'weather': [{'id': 804, 'main': 'Clouds', 'description': 'overcast clouds', 'icon': '04n'}], 'base': 'stations', 'main': {'temp': 47.21, 'feels_like': 47.21, 'temp_min': 47.21, 'temp_max': 47.21, 'pressure': 1015, 'humidity': 85, 'sea_level': 1015, 'grnd_level': 995}, 'visibility': 10000, 'wind': {'speed': 0.98, 'deg': 69, 'gust': 1.16}, 'clouds': {'all': 90}, 'dt': 1659151968, 'sys': {'type': 1, 'id': 8511, 'country': 'CL', 'sunrise': 1659094748, 'sunset': 1659132199}, 'timezone': -14400, 'id': 3880107, 'name': 'Melipilla', 'cod': 200}\n",
      "{'coord': {'lon': -25.4333, 'lat': 37.7167}, 'weather': [{'id': 802, 'main': 'Clouds', 'description': 'scattered clouds', 'icon': '03n'}], 'base': 'stations', 'main': {'temp': 72.01, 'feels_like': 72.59, 'temp_min': 72.01, 'temp_max': 72.01, 'pressure': 1027, 'humidity': 78, 'sea_level': 1027, 'grnd_level': 1023}, 'visibility': 10000, 'wind': {'speed': 3.56, 'deg': 31, 'gust': 5.32}, 'clouds': {'all': 43}, 'dt': 1659152128, 'sys': {'type': 1, 'id': 6899, 'country': 'PT', 'sunrise': 1659163408, 'sunset': 1659214361}, 'timezone': 0, 'id': 3372472, 'name': 'Vila Franca do Campo', 'cod': 200}\n",
      "{'coord': {'lon': 23.616, 'lat': 1.2391}, 'weather': [{'id': 804, 'main': 'Clouds', 'description': 'overcast clouds', 'icon': '04n'}], 'base': 'stations', 'main': {'temp': 68.88, 'feels_like': 69.94, 'temp_min': 68.88, 'temp_max': 68.88, 'pressure': 1013, 'humidity': 95, 'sea_level': 1013, 'grnd_level': 970}, 'visibility': 10000, 'wind': {'speed': 3.09, 'deg': 346, 'gust': 4.61}, 'clouds': {'all': 92}, 'dt': 1659152129, 'sys': {'country': 'CD', 'sunrise': 1659155203, 'sunset': 1659199023}, 'timezone': 7200, 'id': 219414, 'name': 'Basoko', 'cod': 200}\n",
      "{'cod': '404', 'message': 'city not found'}\n",
      "City Not Found\n",
      "{'coord': {'lon': 44.3833, 'lat': -23.7167}, 'weather': [{'id': 802, 'main': 'Clouds', 'description': 'scattered clouds', 'icon': '03n'}], 'base': 'stations', 'main': {'temp': 63.75, 'feels_like': 63.07, 'temp_min': 63.75, 'temp_max': 63.75, 'pressure': 1019, 'humidity': 69, 'sea_level': 1019, 'grnd_level': 990}, 'visibility': 10000, 'wind': {'speed': 7.34, 'deg': 66, 'gust': 19.39}, 'clouds': {'all': 31}, 'dt': 1659152129, 'sys': {'country': 'MG', 'sunrise': 1659152332, 'sunset': 1659191926}, 'timezone': 10800, 'id': 1066310, 'name': 'Betioky', 'cod': 200}\n",
      "{'coord': {'lon': 48.0167, 'lat': -22.1333}, 'weather': [{'id': 801, 'main': 'Clouds', 'description': 'few clouds', 'icon': '02d'}], 'base': 'stations', 'main': {'temp': 62.92, 'feels_like': 63.37, 'temp_min': 62.92, 'temp_max': 62.92, 'pressure': 1023, 'humidity': 95, 'sea_level': 1023, 'grnd_level': 1022}, 'visibility': 10000, 'wind': {'speed': 3.8, 'deg': 282, 'gust': 4.38}, 'clouds': {'all': 23}, 'dt': 1659152129, 'sys': {'country': 'MG', 'sunrise': 1659151311, 'sunset': 1659191202}, 'timezone': 10800, 'id': 1061605, 'name': 'Manakara', 'cod': 200}\n",
      "{'coord': {'lon': 86.4, 'lat': 23.7167}, 'weather': [{'id': 803, 'main': 'Clouds', 'description': 'broken clouds', 'icon': '04d'}], 'base': 'stations', 'main': {'temp': 93.81, 'feels_like': 100.04, 'temp_min': 93.81, 'temp_max': 93.81, 'pressure': 1005, 'humidity': 46, 'sea_level': 1005, 'grnd_level': 986}, 'visibility': 10000, 'wind': {'speed': 6.64, 'deg': 249, 'gust': 6.8}, 'clouds': {'all': 66}, 'dt': 1659152130, 'sys': {'country': 'IN', 'sunrise': 1659138174, 'sunset': 1659185916}, 'timezone': 19800, 'id': 1269379, 'name': 'Jāmadoba', 'cod': 200}\n",
      "{'coord': {'lon': 136.6669, 'lat': 51.1983}, 'weather': [{'id': 804, 'main': 'Clouds', 'description': 'overcast clouds', 'icon': '04d'}], 'base': 'stations', 'main': {'temp': 75.11, 'feels_like': 76.14, 'temp_min': 75.11, 'temp_max': 75.11, 'pressure': 1003, 'humidity': 81, 'sea_level': 1003, 'grnd_level': 995}, 'visibility': 10000, 'wind': {'speed': 10.13, 'deg': 330, 'gust': 20}, 'clouds': {'all': 100}, 'dt': 1659152130, 'sys': {'country': 'RU', 'sunrise': 1659122066, 'sunset': 1659177896}, 'timezone': 36000, 'id': 2023943, 'name': 'Gorin', 'cod': 200}\n",
      "{'cod': '404', 'message': 'city not found'}\n",
      "City Not Found\n",
      "{'coord': {'lon': 147.2712, 'lat': -2.0226}, 'weather': [{'id': 803, 'main': 'Clouds', 'description': 'broken clouds', 'icon': '04d'}], 'base': 'stations', 'main': {'temp': 84.79, 'feels_like': 91.87, 'temp_min': 84.79, 'temp_max': 84.79, 'pressure': 1008, 'humidity': 69, 'sea_level': 1008, 'grnd_level': 1008}, 'visibility': 10000, 'wind': {'speed': 10.31, 'deg': 92, 'gust': 11.77}, 'clouds': {'all': 83}, 'dt': 1659152130, 'sys': {'country': 'PG', 'sunrise': 1659125789, 'sunset': 1659169083}, 'timezone': 36000, 'id': 2092164, 'name': 'Lorengau', 'cod': 200}\n",
      "{'cod': '404', 'message': 'city not found'}\n",
      "City Not Found\n",
      "{'cod': '404', 'message': 'city not found'}\n",
      "City Not Found\n",
      "{'coord': {'lon': 48.7516, 'lat': 33.8973}, 'weather': [{'id': 800, 'main': 'Clear', 'description': 'clear sky', 'icon': '01d'}], 'base': 'stations', 'main': {'temp': 68.23, 'feels_like': 67.3, 'temp_min': 68.23, 'temp_max': 68.23, 'pressure': 1010, 'humidity': 54, 'sea_level': 1010, 'grnd_level': 847}, 'visibility': 10000, 'wind': {'speed': 1.9, 'deg': 43, 'gust': 2.44}, 'clouds': {'all': 7}, 'dt': 1659152131, 'sys': {'type': 1, 'id': 7468, 'country': 'IR', 'sunrise': 1659146092, 'sunset': 1659196069}, 'timezone': 16200, 'id': 140044, 'name': 'Borūjerd', 'cod': 200}\n",
      "{'coord': {'lon': -134.9692, 'lat': -23.1203}, 'weather': [{'id': 800, 'main': 'Clear', 'description': 'clear sky', 'icon': '01n'}], 'base': 'stations', 'main': {'temp': 72.7, 'feels_like': 73.24, 'temp_min': 72.7, 'temp_max': 72.7, 'pressure': 1021, 'humidity': 76, 'sea_level': 1021, 'grnd_level': 1018}, 'visibility': 10000, 'wind': {'speed': 16.64, 'deg': 110, 'gust': 17.47}, 'clouds': {'all': 7}, 'dt': 1659152131, 'sys': {'country': 'PF', 'sunrise': 1659108934, 'sunset': 1659148614}, 'timezone': -32400, 'id': 4030556, 'name': 'Rikitea', 'cod': 200}\n",
      "{'coord': {'lon': 172.7902, 'lat': 3.0707}, 'weather': [{'id': 802, 'main': 'Clouds', 'description': 'scattered clouds', 'icon': '03d'}], 'base': 'stations', 'main': {'temp': 81.97, 'feels_like': 86.81, 'temp_min': 81.97, 'temp_max': 81.97, 'pressure': 1008, 'humidity': 72, 'sea_level': 1008, 'grnd_level': 1007}, 'visibility': 10000, 'wind': {'speed': 14.52, 'deg': 119, 'gust': 15.1}, 'clouds': {'all': 27}, 'dt': 1659152132, 'sys': {'country': 'KI', 'sunrise': 1659119252, 'sunset': 1659163371}, 'timezone': 43200, 'id': 2110227, 'name': 'Butaritari', 'cod': 200}\n",
      "{'cod': '404', 'message': 'city not found'}\n",
      "City Not Found\n"
     ]
    },
    {
     "name": "stdout",
     "output_type": "stream",
     "text": [
      "{'coord': {'lon': -97.0667, 'lat': 15.85}, 'weather': [{'id': 803, 'main': 'Clouds', 'description': 'broken clouds', 'icon': '04n'}], 'base': 'stations', 'main': {'temp': 81.43, 'feels_like': 84.47, 'temp_min': 81.43, 'temp_max': 81.43, 'pressure': 1013, 'humidity': 65}, 'visibility': 8047, 'wind': {'speed': 3.44, 'deg': 140}, 'clouds': {'all': 75}, 'dt': 1659152089, 'sys': {'type': 1, 'id': 7157, 'country': 'MX', 'sunrise': 1659096534, 'sunset': 1659142821}, 'timezone': -18000, 'id': 3520994, 'name': 'Puerto Escondido', 'cod': 200}\n",
      "{'coord': {'lon': 159.95, 'lat': -9.4333}, 'weather': [{'id': 803, 'main': 'Clouds', 'description': 'broken clouds', 'icon': '04d'}], 'base': 'stations', 'main': {'temp': 86.63, 'feels_like': 92.32, 'temp_min': 86.63, 'temp_max': 86.63, 'pressure': 1009, 'humidity': 60, 'sea_level': 1009, 'grnd_level': 1005}, 'visibility': 10000, 'wind': {'speed': 4.76, 'deg': 27, 'gust': 5.75}, 'clouds': {'all': 76}, 'dt': 1659152132, 'sys': {'country': 'SB', 'sunrise': 1659123350, 'sunset': 1659165436}, 'timezone': 39600, 'id': 2108502, 'name': 'Honiara', 'cod': 200}\n",
      "{'coord': {'lon': 27.5692, 'lat': 54.0065}, 'weather': [{'id': 804, 'main': 'Clouds', 'description': 'overcast clouds', 'icon': '04d'}], 'base': 'stations', 'main': {'temp': 47.82, 'feels_like': 46.67, 'temp_min': 47.62, 'temp_max': 47.82, 'pressure': 1021, 'humidity': 77, 'sea_level': 1021, 'grnd_level': 994}, 'visibility': 10000, 'wind': {'speed': 3.6, 'deg': 90, 'gust': 5.59}, 'clouds': {'all': 100}, 'dt': 1659152133, 'sys': {'type': 1, 'id': 8939, 'country': 'BY', 'sunrise': 1659147558, 'sunset': 1659204770}, 'timezone': 10800, 'id': 625144, 'name': 'Bolshevik', 'cod': 200}\n",
      "{'coord': {'lon': -24.4956, 'lat': 14.8961}, 'weather': [{'id': 804, 'main': 'Clouds', 'description': 'overcast clouds', 'icon': '04n'}], 'base': 'stations', 'main': {'temp': 77.43, 'feels_like': 78.58, 'temp_min': 77.43, 'temp_max': 77.43, 'pressure': 1012, 'humidity': 79, 'sea_level': 1012, 'grnd_level': 1001}, 'visibility': 10000, 'wind': {'speed': 8.37, 'deg': 347, 'gust': 12.71}, 'clouds': {'all': 93}, 'dt': 1659152133, 'sys': {'country': 'CV', 'sunrise': 1659165615, 'sunset': 1659211704}, 'timezone': -3600, 'id': 3374210, 'name': 'São Filipe', 'cod': 200}\n",
      "{'coord': {'lon': 15.6401, 'lat': 78.2186}, 'weather': [{'id': 300, 'main': 'Drizzle', 'description': 'light intensity drizzle', 'icon': '09n'}], 'base': 'stations', 'main': {'temp': 48.04, 'feels_like': 47.05, 'temp_min': 48.04, 'temp_max': 48.04, 'pressure': 1013, 'humidity': 87}, 'visibility': 10000, 'wind': {'speed': 3.44, 'deg': 40}, 'clouds': {'all': 75}, 'dt': 1659152133, 'sys': {'type': 1, 'id': 1663, 'country': 'SJ', 'sunrise': 0, 'sunset': 0}, 'timezone': 7200, 'id': 2729907, 'name': 'Longyearbyen', 'cod': 200}\n",
      "{'coord': {'lon': -3.0073, 'lat': 40.0085}, 'weather': [{'id': 800, 'main': 'Clear', 'description': 'clear sky', 'icon': '01n'}], 'base': 'stations', 'main': {'temp': 70.14, 'feels_like': 70.72, 'temp_min': 70.14, 'temp_max': 70.14, 'pressure': 1016, 'humidity': 82, 'sea_level': 1016, 'grnd_level': 925}, 'visibility': 10000, 'wind': {'speed': 11.81, 'deg': 118, 'gust': 22.88}, 'clouds': {'all': 0}, 'dt': 1659152134, 'sys': {'country': 'ES', 'sunrise': 1659157696, 'sunset': 1659209308}, 'timezone': 7200, 'id': 3108317, 'name': 'Tarancón', 'cod': 200}\n",
      "{'coord': {'lon': -158.0858, 'lat': 21.3469}, 'weather': [{'id': 521, 'main': 'Rain', 'description': 'shower rain', 'icon': '09d'}], 'base': 'stations', 'main': {'temp': 81.43, 'feels_like': 84.13, 'temp_min': 79.02, 'temp_max': 82.72, 'pressure': 1017, 'humidity': 63}, 'visibility': 10000, 'wind': {'speed': 10.36, 'deg': 100}, 'clouds': {'all': 0}, 'dt': 1659152134, 'sys': {'type': 1, 'id': 7868, 'country': 'US', 'sunrise': 1659110674, 'sunset': 1659157970}, 'timezone': -36000, 'id': 5850554, 'name': 'Makakilo City', 'cod': 200}\n",
      "{'coord': {'lon': 18.4232, 'lat': -33.9258}, 'weather': [{'id': 802, 'main': 'Clouds', 'description': 'scattered clouds', 'icon': '03n'}], 'base': 'stations', 'main': {'temp': 48.79, 'feels_like': 45.77, 'temp_min': 46.35, 'temp_max': 52.12, 'pressure': 1020, 'humidity': 90}, 'visibility': 10000, 'wind': {'speed': 6.91, 'deg': 40}, 'clouds': {'all': 40}, 'dt': 1659151843, 'sys': {'type': 2, 'id': 2073005, 'country': 'ZA', 'sunrise': 1659159628, 'sunset': 1659197091}, 'timezone': 7200, 'id': 3369157, 'name': 'Cape Town', 'cod': 200}\n",
      "{'coord': {'lon': 36.5532, 'lat': 50.677}, 'weather': [{'id': 800, 'main': 'Clear', 'description': 'clear sky', 'icon': '01d'}], 'base': 'stations', 'main': {'temp': 59.04, 'feels_like': 58.03, 'temp_min': 59.04, 'temp_max': 59.04, 'pressure': 1019, 'humidity': 72}, 'visibility': 10000, 'wind': {'speed': 4.47, 'deg': 320}, 'clouds': {'all': 0}, 'dt': 1659152135, 'sys': {'type': 1, 'id': 9030, 'country': 'RU', 'sunrise': 1659146239, 'sunset': 1659201777}, 'timezone': 10800, 'id': 496358, 'name': 'Severnyy', 'cod': 200}\n",
      "{'coord': {'lon': -16.5469, 'lat': 12.485}, 'weather': [{'id': 500, 'main': 'Rain', 'description': 'light rain', 'icon': '10n'}], 'base': 'stations', 'main': {'temp': 78.89, 'feels_like': 78.89, 'temp_min': 77.18, 'temp_max': 78.89, 'pressure': 1013, 'humidity': 85, 'sea_level': 1013, 'grnd_level': 1012}, 'visibility': 10000, 'wind': {'speed': 10.89, 'deg': 220, 'gust': 19.64}, 'rain': {'1h': 0.16}, 'clouds': {'all': 88}, 'dt': 1659152135, 'sys': {'type': 1, 'id': 2413, 'country': 'SN', 'sunrise': 1659163915, 'sunset': 1659209588}, 'timezone': 0, 'id': 2246901, 'name': 'Oussouye', 'cod': 200}\n",
      "{'coord': {'lon': -155.09, 'lat': 19.7297}, 'weather': [{'id': 803, 'main': 'Clouds', 'description': 'broken clouds', 'icon': '04d'}], 'base': 'stations', 'main': {'temp': 78.82, 'feels_like': 78.82, 'temp_min': 77.11, 'temp_max': 83.28, 'pressure': 1017, 'humidity': 85}, 'visibility': 10000, 'wind': {'speed': 10.36, 'deg': 120}, 'clouds': {'all': 75}, 'dt': 1659152135, 'sys': {'type': 1, 'id': 7881, 'country': 'US', 'sunrise': 1659110108, 'sunset': 1659157098}, 'timezone': -36000, 'id': 5855927, 'name': 'Hilo', 'cod': 200}\n",
      "{'coord': {'lon': -159.319, 'lat': 22.0752}, 'weather': [{'id': 802, 'main': 'Clouds', 'description': 'scattered clouds', 'icon': '03d'}], 'base': 'stations', 'main': {'temp': 80.37, 'feels_like': 83.55, 'temp_min': 79.2, 'temp_max': 82.72, 'pressure': 1018, 'humidity': 70}, 'visibility': 10000, 'wind': {'speed': 10.36, 'deg': 50}, 'clouds': {'all': 40}, 'dt': 1659151985, 'sys': {'type': 2, 'id': 2001562, 'country': 'US', 'sunrise': 1659110900, 'sunset': 1659158336}, 'timezone': -36000, 'id': 5848280, 'name': 'Kapaa', 'cod': 200}\n",
      "{'coord': {'lon': -79.2353, 'lat': 42.097}, 'weather': [{'id': 800, 'main': 'Clear', 'description': 'clear sky', 'icon': '01n'}], 'base': 'stations', 'main': {'temp': 62.98, 'feels_like': 62.08, 'temp_min': 56.52, 'temp_max': 65.84, 'pressure': 1017, 'humidity': 66}, 'visibility': 10000, 'wind': {'speed': 5.75, 'deg': 270}, 'clouds': {'all': 0}, 'dt': 1659151854, 'sys': {'type': 2, 'id': 2008933, 'country': 'US', 'sunrise': 1659089223, 'sunset': 1659141573}, 'timezone': -14400, 'id': 5122534, 'name': 'Jamestown', 'cod': 200}\n",
      "{'cod': '404', 'message': 'city not found'}\n",
      "City Not Found\n",
      "{'coord': {'lon': -56.1549, 'lat': 72.7868}, 'weather': [{'id': 804, 'main': 'Clouds', 'description': 'overcast clouds', 'icon': '04n'}], 'base': 'stations', 'main': {'temp': 43.56, 'feels_like': 40.33, 'temp_min': 43.56, 'temp_max': 43.56, 'pressure': 1007, 'humidity': 76, 'sea_level': 1007, 'grnd_level': 1007}, 'visibility': 10000, 'wind': {'speed': 5.46, 'deg': 146, 'gust': 5.84}, 'clouds': {'all': 100}, 'dt': 1659152136, 'sys': {'country': 'GL', 'sunrise': 0, 'sunset': 0}, 'timezone': -7200, 'id': 3418910, 'name': 'Upernavik', 'cod': 200}\n",
      "{'coord': {'lon': 156.125, 'lat': 50.6789}, 'weather': [{'id': 500, 'main': 'Rain', 'description': 'light rain', 'icon': '10d'}], 'base': 'stations', 'main': {'temp': 54.07, 'feels_like': 53.46, 'temp_min': 54.07, 'temp_max': 54.07, 'pressure': 1006, 'humidity': 91, 'sea_level': 1006, 'grnd_level': 1006}, 'visibility': 7490, 'wind': {'speed': 12.28, 'deg': 240, 'gust': 18.01}, 'rain': {'1h': 0.75}, 'clouds': {'all': 100}, 'dt': 1659152136, 'sys': {'country': 'RU', 'sunrise': 1659117513, 'sunset': 1659173109}, 'timezone': 39600, 'id': 2121385, 'name': \"Severo-Kuril'sk\", 'cod': 200}\n",
      "{'coord': {'lon': -70.9167, 'lat': -53.15}, 'weather': [{'id': 803, 'main': 'Clouds', 'description': 'broken clouds', 'icon': '04n'}], 'base': 'stations', 'main': {'temp': 39.31, 'feels_like': 27.54, 'temp_min': 39.11, 'temp_max': 39.31, 'pressure': 995, 'humidity': 81}, 'visibility': 10000, 'wind': {'speed': 29.93, 'deg': 290}, 'clouds': {'all': 75}, 'dt': 1659152041, 'sys': {'type': 1, 'id': 8487, 'country': 'CL', 'sunrise': 1659184165, 'sunset': 1659215435}, 'timezone': -10800, 'id': 3874787, 'name': 'Punta Arenas', 'cod': 200}\n"
     ]
    },
    {
     "name": "stdout",
     "output_type": "stream",
     "text": [
      "{'coord': {'lon': 147.0587, 'lat': -42.7826}, 'weather': [{'id': 800, 'main': 'Clear', 'description': 'clear sky', 'icon': '01d'}], 'base': 'stations', 'main': {'temp': 51.49, 'feels_like': 48.42, 'temp_min': 49.91, 'temp_max': 53.89, 'pressure': 1018, 'humidity': 44, 'sea_level': 1018, 'grnd_level': 1013}, 'visibility': 10000, 'wind': {'speed': 3.31, 'deg': 317, 'gust': 10.63}, 'clouds': {'all': 5}, 'dt': 1659152137, 'sys': {'type': 2, 'id': 2002195, 'country': 'AU', 'sunrise': 1659129947, 'sunset': 1659165027}, 'timezone': 36000, 'id': 2155415, 'name': 'New Norfolk', 'cod': 200}\n",
      "{'cod': '404', 'message': 'city not found'}\n",
      "City Not Found\n",
      "{'coord': {'lon': -11.3686, 'lat': 6.7533}, 'weather': [{'id': 804, 'main': 'Clouds', 'description': 'overcast clouds', 'icon': '04n'}], 'base': 'stations', 'main': {'temp': 76.15, 'feels_like': 76.86, 'temp_min': 76.15, 'temp_max': 76.15, 'pressure': 1014, 'humidity': 72, 'sea_level': 1014, 'grnd_level': 1013}, 'visibility': 10000, 'wind': {'speed': 6.82, 'deg': 238, 'gust': 7.47}, 'clouds': {'all': 100}, 'dt': 1659152137, 'sys': {'country': 'LR', 'sunrise': 1659163152, 'sunset': 1659207866}, 'timezone': 0, 'id': 2274275, 'name': 'Robertsport', 'cod': 200}\n",
      "{'coord': {'lon': -127.4199, 'lat': 50.6996}, 'weather': [{'id': 801, 'main': 'Clouds', 'description': 'few clouds', 'icon': '02d'}], 'base': 'stations', 'main': {'temp': 78.98, 'feels_like': 78.98, 'temp_min': 62.6, 'temp_max': 78.98, 'pressure': 1014, 'humidity': 44}, 'visibility': 10000, 'wind': {'speed': 5.75, 'deg': 310}, 'clouds': {'all': 20}, 'dt': 1659151852, 'sys': {'type': 1, 'id': 1011, 'country': 'CA', 'sunrise': 1659099141, 'sunset': 1659154784}, 'timezone': -25200, 'id': 6111862, 'name': 'Port Hardy', 'cod': 200}\n",
      "{'coord': {'lon': 43.6501, 'lat': 46.5614}, 'weather': [{'id': 803, 'main': 'Clouds', 'description': 'broken clouds', 'icon': '04d'}], 'base': 'stations', 'main': {'temp': 82.76, 'feels_like': 82.11, 'temp_min': 82.76, 'temp_max': 82.76, 'pressure': 1012, 'humidity': 40, 'sea_level': 1012, 'grnd_level': 1000}, 'visibility': 10000, 'wind': {'speed': 3.13, 'deg': 64, 'gust': 5.32}, 'clouds': {'all': 83}, 'dt': 1659152138, 'sys': {'country': 'RU', 'sunrise': 1659145395, 'sunset': 1659199215}, 'timezone': 10800, 'id': 502185, 'name': 'Remontnoye', 'cod': 200}\n",
      "{'coord': {'lon': 90.3041, 'lat': 26.0299}, 'weather': [{'id': 502, 'main': 'Rain', 'description': 'heavy intensity rain', 'icon': '10d'}], 'base': 'stations', 'main': {'temp': 86.65, 'feels_like': 99.14, 'temp_min': 86.65, 'temp_max': 86.65, 'pressure': 1005, 'humidity': 75, 'sea_level': 1005, 'grnd_level': 1001}, 'visibility': 8479, 'wind': {'speed': 6.17, 'deg': 219, 'gust': 9.28}, 'rain': {'1h': 11.89}, 'clouds': {'all': 64}, 'dt': 1659152138, 'sys': {'country': 'IN', 'sunrise': 1659137002, 'sunset': 1659185214}, 'timezone': 19800, 'id': 1265239, 'name': 'Lakhipur', 'cod': 200}\n",
      "{'cod': '404', 'message': 'city not found'}\n",
      "City Not Found\n",
      "{'coord': {'lon': -99.3904, 'lat': 36.4337}, 'weather': [{'id': 800, 'main': 'Clear', 'description': 'clear sky', 'icon': '01n'}], 'base': 'stations', 'main': {'temp': 69.31, 'feels_like': 70.03, 'temp_min': 68.92, 'temp_max': 70.83, 'pressure': 1021, 'humidity': 87}, 'visibility': 10000, 'wind': {'speed': 10.36, 'deg': 90}, 'clouds': {'all': 0}, 'dt': 1659151848, 'sys': {'type': 1, 'id': 6275, 'country': 'US', 'sunrise': 1659094893, 'sunset': 1659145578}, 'timezone': -18000, 'id': 4556050, 'name': 'Woodward', 'cod': 200}\n",
      "{'coord': {'lon': 81.1185, 'lat': 6.1241}, 'weather': [{'id': 801, 'main': 'Clouds', 'description': 'few clouds', 'icon': '02d'}], 'base': 'stations', 'main': {'temp': 82.74, 'feels_like': 91.56, 'temp_min': 82.74, 'temp_max': 82.74, 'pressure': 1008, 'humidity': 83}, 'visibility': 10000, 'wind': {'speed': 2.3, 'deg': 0}, 'clouds': {'all': 20}, 'dt': 1659152138, 'sys': {'type': 1, 'id': 9124, 'country': 'LK', 'sunrise': 1659141005, 'sunset': 1659185620}, 'timezone': 19800, 'id': 1244926, 'name': 'Hambantota', 'cod': 200}\n",
      "{'coord': {'lon': -71.1419, 'lat': 21.4612}, 'weather': [{'id': 803, 'main': 'Clouds', 'description': 'broken clouds', 'icon': '04n'}], 'base': 'stations', 'main': {'temp': 81.7, 'feels_like': 87.15, 'temp_min': 81.7, 'temp_max': 81.7, 'pressure': 1019, 'humidity': 76, 'sea_level': 1019, 'grnd_level': 1018}, 'visibility': 10000, 'wind': {'speed': 20.89, 'deg': 101, 'gust': 24.47}, 'clouds': {'all': 82}, 'dt': 1659152139, 'sys': {'country': 'TC', 'sunrise': 1659089791, 'sunset': 1659137121}, 'timezone': -14400, 'id': 3576994, 'name': 'Cockburn Town', 'cod': 200}\n",
      "{'coord': {'lon': -50.2056, 'lat': -30.1811}, 'weather': [{'id': 801, 'main': 'Clouds', 'description': 'few clouds', 'icon': '02n'}], 'base': 'stations', 'main': {'temp': 51.12, 'feels_like': 49.87, 'temp_min': 51.12, 'temp_max': 51.12, 'pressure': 1018, 'humidity': 84, 'sea_level': 1018, 'grnd_level': 1018}, 'visibility': 10000, 'wind': {'speed': 8.21, 'deg': 238, 'gust': 13.89}, 'clouds': {'all': 14}, 'dt': 1659152139, 'sys': {'country': 'BR', 'sunrise': 1659175674, 'sunset': 1659213986}, 'timezone': -10800, 'id': 3466165, 'name': 'Cidreira', 'cod': 200}\n",
      "{'coord': {'lon': -90.3518, 'lat': -0.7393}, 'weather': [{'id': 804, 'main': 'Clouds', 'description': 'overcast clouds', 'icon': '04n'}], 'base': 'stations', 'main': {'temp': 69.55, 'feels_like': 70.63, 'temp_min': 69.55, 'temp_max': 69.55, 'pressure': 1013, 'humidity': 94}, 'visibility': 10000, 'wind': {'speed': 5.01, 'deg': 155, 'gust': 11.01}, 'clouds': {'all': 97}, 'dt': 1659152139, 'sys': {'type': 2, 'id': 2005652, 'country': 'EC', 'sunrise': 1659096316, 'sunset': 1659139816}, 'timezone': -21600, 'id': 3652764, 'name': 'Puerto Ayora', 'cod': 200}\n",
      "{'coord': {'lon': -137.5108, 'lat': 60.7522}, 'weather': [{'id': 804, 'main': 'Clouds', 'description': 'overcast clouds', 'icon': '04d'}], 'base': 'stations', 'main': {'temp': 71.55, 'feels_like': 70.43, 'temp_min': 71.55, 'temp_max': 71.55, 'pressure': 1016, 'humidity': 43}, 'visibility': 10000, 'wind': {'speed': 2.3, 'deg': 160}, 'clouds': {'all': 100}, 'dt': 1659152140, 'sys': {'type': 1, 'id': 287, 'country': 'CA', 'sunrise': 1659098328, 'sunset': 1659160440}, 'timezone': -25200, 'id': 5969025, 'name': 'Haines Junction', 'cod': 200}\n",
      "{'coord': {'lon': -106.5436, 'lat': 34.8014}, 'weather': [{'id': 804, 'main': 'Clouds', 'description': 'overcast clouds', 'icon': '04n'}], 'base': 'stations', 'main': {'temp': 69.08, 'feels_like': 68.65, 'temp_min': 65.14, 'temp_max': 71.94, 'pressure': 1017, 'humidity': 63, 'sea_level': 1017, 'grnd_level': 842}, 'visibility': 10000, 'wind': {'speed': 7.65, 'deg': 25, 'gust': 10.09}, 'clouds': {'all': 98}, 'dt': 1659152140, 'sys': {'type': 1, 'id': 3205, 'country': 'US', 'sunrise': 1659096824, 'sunset': 1659147080}, 'timezone': -21600, 'id': 5478673, 'name': 'Meadow Lake', 'cod': 200}\n",
      "{'coord': {'lon': 95.3333, 'lat': 28.0667}, 'weather': [{'id': 803, 'main': 'Clouds', 'description': 'broken clouds', 'icon': '04d'}], 'base': 'stations', 'main': {'temp': 84.88, 'feels_like': 97.36, 'temp_min': 84.88, 'temp_max': 84.88, 'pressure': 1007, 'humidity': 82, 'sea_level': 1007, 'grnd_level': 989}, 'visibility': 10000, 'wind': {'speed': 1.81, 'deg': 180, 'gust': 2.24}, 'clouds': {'all': 81}, 'dt': 1659152140, 'sys': {'country': 'IN', 'sunrise': 1659135579, 'sunset': 1659184223}, 'timezone': 19800, 'id': 1260206, 'name': 'Pāsighāt', 'cod': 200}\n",
      "{'coord': {'lon': 8.3033, 'lat': 54.9079}, 'weather': [{'id': 804, 'main': 'Clouds', 'description': 'overcast clouds', 'icon': '04d'}], 'base': 'stations', 'main': {'temp': 60.48, 'feels_like': 60.37, 'temp_min': 57.94, 'temp_max': 60.82, 'pressure': 1017, 'humidity': 88}, 'visibility': 10000, 'wind': {'speed': 10.36, 'deg': 80}, 'clouds': {'all': 100}, 'dt': 1659152141, 'sys': {'type': 1, 'id': 1312, 'country': 'DE', 'sunrise': 1659151931, 'sunset': 1659209645}, 'timezone': 7200, 'id': 2810284, 'name': 'Westerland', 'cod': 200}\n",
      "{'coord': {'lon': -23.7142, 'lat': 64.8945}, 'weather': [{'id': 802, 'main': 'Clouds', 'description': 'scattered clouds', 'icon': '03n'}], 'base': 'stations', 'main': {'temp': 48.13, 'feels_like': 43.5, 'temp_min': 48.13, 'temp_max': 48.13, 'pressure': 1007, 'humidity': 71, 'sea_level': 1007, 'grnd_level': 1005}, 'visibility': 10000, 'wind': {'speed': 10.63, 'deg': 327, 'gust': 11.56}, 'clouds': {'all': 28}, 'dt': 1659152141, 'sys': {'country': 'IS', 'sunrise': 1659155202, 'sunset': 1659221742}, 'timezone': 0, 'id': 3414079, 'name': 'Olafsvik', 'cod': 200}\n"
     ]
    },
    {
     "name": "stdout",
     "output_type": "stream",
     "text": [
      "{'coord': {'lon': -86.1758, 'lat': 39.447}, 'weather': [{'id': 804, 'main': 'Clouds', 'description': 'overcast clouds', 'icon': '04n'}], 'base': 'stations', 'main': {'temp': 66.65, 'feels_like': 66.72, 'temp_min': 63.48, 'temp_max': 69.98, 'pressure': 1019, 'humidity': 79, 'sea_level': 1019, 'grnd_level': 990}, 'visibility': 10000, 'wind': {'speed': 2.53, 'deg': 350, 'gust': 2.93}, 'clouds': {'all': 96}, 'dt': 1659152142, 'sys': {'type': 2, 'id': 2006000, 'country': 'US', 'sunrise': 1659091297, 'sunset': 1659142830}, 'timezone': -14400, 'id': 4255151, 'name': 'Bud', 'cod': 200}\n",
      "{'coord': {'lon': 141.4333, 'lat': -31.95}, 'weather': [{'id': 804, 'main': 'Clouds', 'description': 'overcast clouds', 'icon': '04d'}], 'base': 'stations', 'main': {'temp': 58.62, 'feels_like': 55.87, 'temp_min': 58.62, 'temp_max': 58.62, 'pressure': 1021, 'humidity': 36, 'sea_level': 1021, 'grnd_level': 985}, 'visibility': 10000, 'wind': {'speed': 14.47, 'deg': 4, 'gust': 15.48}, 'clouds': {'all': 94}, 'dt': 1659152142, 'sys': {'country': 'AU', 'sunrise': 1659129895, 'sunset': 1659167780}, 'timezone': 34200, 'id': 2173911, 'name': 'Broken Hill', 'cod': 200}\n",
      "{'coord': {'lon': 73.0833, 'lat': -0.6}, 'weather': [{'id': 501, 'main': 'Rain', 'description': 'moderate rain', 'icon': '10d'}], 'base': 'stations', 'main': {'temp': 81.54, 'feels_like': 86.81, 'temp_min': 81.54, 'temp_max': 81.54, 'pressure': 1012, 'humidity': 76, 'sea_level': 1012, 'grnd_level': 1011}, 'visibility': 10000, 'wind': {'speed': 19.19, 'deg': 224, 'gust': 20.96}, 'rain': {'1h': 1.54}, 'clouds': {'all': 100}, 'dt': 1659152142, 'sys': {'country': 'MV', 'sunrise': 1659143479, 'sunset': 1659187003}, 'timezone': 18000, 'id': 1282256, 'name': 'Hithadhoo', 'cod': 200}\n",
      "{'coord': {'lon': -73.8203, 'lat': -41.8697}, 'weather': [{'id': 803, 'main': 'Clouds', 'description': 'broken clouds', 'icon': '04n'}], 'base': 'stations', 'main': {'temp': 48.22, 'feels_like': 46.65, 'temp_min': 48.22, 'temp_max': 48.22, 'pressure': 1020, 'humidity': 93, 'sea_level': 1020, 'grnd_level': 1014}, 'visibility': 10000, 'wind': {'speed': 4.21, 'deg': 149, 'gust': 4.59}, 'clouds': {'all': 83}, 'dt': 1659151995, 'sys': {'type': 2, 'id': 2043823, 'country': 'CL', 'sunrise': 1659096445, 'sunset': 1659131752}, 'timezone': -14400, 'id': 3899695, 'name': 'Ancud', 'cod': 200}\n",
      "{'coord': {'lon': 115.3333, 'lat': -33.65}, 'weather': [{'id': 804, 'main': 'Clouds', 'description': 'overcast clouds', 'icon': '04d'}], 'base': 'stations', 'main': {'temp': 55.11, 'feels_like': 53.01, 'temp_min': 55.11, 'temp_max': 55.11, 'pressure': 1017, 'humidity': 57, 'sea_level': 1017, 'grnd_level': 1016}, 'visibility': 10000, 'wind': {'speed': 18.99, 'deg': 228, 'gust': 26.96}, 'clouds': {'all': 93}, 'dt': 1659152143, 'sys': {'country': 'AU', 'sunrise': 1659136349, 'sunset': 1659173853}, 'timezone': 28800, 'id': 2075265, 'name': 'Busselton', 'cod': 200}\n",
      "{'coord': {'lon': 167.4833, 'lat': -22.6667}, 'weather': [{'id': 500, 'main': 'Rain', 'description': 'light rain', 'icon': '10d'}], 'base': 'stations', 'main': {'temp': 68.9, 'feels_like': 69.85, 'temp_min': 68.9, 'temp_max': 68.9, 'pressure': 1014, 'humidity': 93, 'sea_level': 1014, 'grnd_level': 1004}, 'visibility': 6858, 'wind': {'speed': 20.92, 'deg': 164, 'gust': 21.43}, 'rain': {'1h': 0.11}, 'clouds': {'all': 100}, 'dt': 1659152143, 'sys': {'country': 'NC', 'sunrise': 1659122698, 'sunset': 1659162472}, 'timezone': 39600, 'id': 2137773, 'name': 'Vao', 'cod': 200}\n",
      "{'coord': {'lon': -59.5167, 'lat': 13.2167}, 'weather': [{'id': 802, 'main': 'Clouds', 'description': 'scattered clouds', 'icon': '03n'}], 'base': 'stations', 'main': {'temp': 81.05, 'feels_like': 88.2, 'temp_min': 81.05, 'temp_max': 81.21, 'pressure': 1015, 'humidity': 88}, 'visibility': 10000, 'wind': {'speed': 17.27, 'deg': 110}, 'clouds': {'all': 40}, 'dt': 1659152143, 'sys': {'type': 2, 'id': 2017042, 'country': 'BB', 'sunrise': 1659087753, 'sunset': 1659133578}, 'timezone': -14400, 'id': 3374083, 'name': 'Bathsheba', 'cod': 200}\n",
      "{'coord': {'lon': -17.3389, 'lat': 66.0449}, 'weather': [{'id': 804, 'main': 'Clouds', 'description': 'overcast clouds', 'icon': '04n'}], 'base': 'stations', 'main': {'temp': 42.82, 'feels_like': 36.16, 'temp_min': 42.82, 'temp_max': 42.82, 'pressure': 1004, 'humidity': 87, 'sea_level': 1004, 'grnd_level': 1003}, 'visibility': 10000, 'wind': {'speed': 12.66, 'deg': 350, 'gust': 17.22}, 'clouds': {'all': 100}, 'dt': 1659152144, 'sys': {'country': 'IS', 'sunrise': 1659152790, 'sunset': 1659221094}, 'timezone': 0, 'id': 2629833, 'name': 'Husavik', 'cod': 200}\n",
      "{'coord': {'lon': -72.4167, 'lat': -35.3333}, 'weather': [{'id': 802, 'main': 'Clouds', 'description': 'scattered clouds', 'icon': '03n'}], 'base': 'stations', 'main': {'temp': 49.32, 'feels_like': 47.12, 'temp_min': 49.32, 'temp_max': 49.32, 'pressure': 1015, 'humidity': 74, 'sea_level': 1015, 'grnd_level': 1011}, 'visibility': 10000, 'wind': {'speed': 5.5, 'deg': 118, 'gust': 5.21}, 'clouds': {'all': 35}, 'dt': 1659152144, 'sys': {'country': 'CL', 'sunrise': 1659095232, 'sunset': 1659132292}, 'timezone': -14400, 'id': 3893726, 'name': 'Constitución', 'cod': 200}\n",
      "{'coord': {'lon': 143.6268, 'lat': -3.5534}, 'weather': [{'id': 804, 'main': 'Clouds', 'description': 'overcast clouds', 'icon': '04d'}], 'base': 'stations', 'main': {'temp': 83.3, 'feels_like': 89.29, 'temp_min': 83.3, 'temp_max': 83.3, 'pressure': 1008, 'humidity': 71, 'sea_level': 1008, 'grnd_level': 1008}, 'visibility': 10000, 'wind': {'speed': 6.87, 'deg': 98, 'gust': 9.71}, 'clouds': {'all': 94}, 'dt': 1659152144, 'sys': {'country': 'PG', 'sunrise': 1659126788, 'sunset': 1659169834}, 'timezone': 36000, 'id': 2083537, 'name': 'Wewak', 'cod': 200}\n",
      "{'coord': {'lon': 36.9856, 'lat': -16.8392}, 'weather': [{'id': 800, 'main': 'Clear', 'description': 'clear sky', 'icon': '01n'}], 'base': 'stations', 'main': {'temp': 57.76, 'feels_like': 57.79, 'temp_min': 57.76, 'temp_max': 57.76, 'pressure': 1020, 'humidity': 97, 'sea_level': 1020, 'grnd_level': 1003}, 'visibility': 10000, 'wind': {'speed': 2.89, 'deg': 298, 'gust': 2.91}, 'clouds': {'all': 1}, 'dt': 1659152145, 'sys': {'country': 'MZ', 'sunrise': 1659153482, 'sunset': 1659194326}, 'timezone': 7200, 'id': 1024312, 'name': 'Mocuba', 'cod': 200}\n",
      "{'coord': {'lon': -17.1, 'lat': 32.6667}, 'weather': [{'id': 801, 'main': 'Clouds', 'description': 'few clouds', 'icon': '02n'}], 'base': 'stations', 'main': {'temp': 69.3, 'feels_like': 69.73, 'temp_min': 68.13, 'temp_max': 72.23, 'pressure': 1019, 'humidity': 81, 'sea_level': 1019, 'grnd_level': 1019}, 'visibility': 10000, 'wind': {'speed': 5.48, 'deg': 17, 'gust': 8.25}, 'clouds': {'all': 18}, 'dt': 1659152145, 'sys': {'type': 2, 'id': 2008291, 'country': 'PT', 'sunrise': 1659162053, 'sunset': 1659211716}, 'timezone': 3600, 'id': 2264557, 'name': 'Ponta do Sol', 'cod': 200}\n",
      "{'coord': {'lon': 114.6, 'lat': -28.7667}, 'weather': [{'id': 802, 'main': 'Clouds', 'description': 'scattered clouds', 'icon': '03d'}], 'base': 'stations', 'main': {'temp': 64.81, 'feels_like': 63.57, 'temp_min': 64.81, 'temp_max': 64.81, 'pressure': 1020, 'humidity': 55}, 'visibility': 10000, 'wind': {'speed': 11.5, 'deg': 210}, 'clouds': {'all': 40}, 'dt': 1659152145, 'sys': {'type': 1, 'id': 9522, 'country': 'AU', 'sunrise': 1659135989, 'sunset': 1659174566}, 'timezone': 28800, 'id': 2070998, 'name': 'Geraldton', 'cod': 200}\n",
      "{'coord': {'lon': -66.7667, 'lat': -18.9}, 'weather': [{'id': 801, 'main': 'Clouds', 'description': 'few clouds', 'icon': '02n'}], 'base': 'stations', 'main': {'temp': 45.1, 'feels_like': 45.1, 'temp_min': 45.1, 'temp_max': 45.1, 'pressure': 1015, 'humidity': 24, 'sea_level': 1015, 'grnd_level': 655}, 'visibility': 10000, 'wind': {'speed': 2.3, 'deg': 82, 'gust': 2.26}, 'clouds': {'all': 13}, 'dt': 1659152146, 'sys': {'country': 'BO', 'sunrise': 1659092181, 'sunset': 1659132631}, 'timezone': -14400, 'id': 3921355, 'name': 'Challapata', 'cod': 200}\n",
      "{'coord': {'lon': 141.9667, 'lat': -38.2667}, 'weather': [{'id': 803, 'main': 'Clouds', 'description': 'broken clouds', 'icon': '04d'}], 'base': 'stations', 'main': {'temp': 54.57, 'feels_like': 52.59, 'temp_min': 54.57, 'temp_max': 54.57, 'pressure': 1018, 'humidity': 61, 'sea_level': 1018, 'grnd_level': 1017}, 'visibility': 10000, 'wind': {'speed': 19.17, 'deg': 356, 'gust': 32.23}, 'clouds': {'all': 77}, 'dt': 1659152146, 'sys': {'country': 'AU', 'sunrise': 1659130531, 'sunset': 1659166888}, 'timezone': 36000, 'id': 2171099, 'name': 'Codrington', 'cod': 200}\n"
     ]
    },
    {
     "name": "stdout",
     "output_type": "stream",
     "text": [
      "{'coord': {'lon': -76.5119, 'lat': 38.8876}, 'weather': [{'id': 802, 'main': 'Clouds', 'description': 'scattered clouds', 'icon': '03n'}], 'base': 'stations', 'main': {'temp': 73.51, 'feels_like': 74.79, 'temp_min': 72.09, 'temp_max': 76.17, 'pressure': 1008, 'humidity': 90}, 'visibility': 10000, 'wind': {'speed': 4.61, 'deg': 280}, 'clouds': {'all': 40}, 'dt': 1659152146, 'sys': {'type': 2, 'id': 2005357, 'country': 'US', 'sunrise': 1659089058, 'sunset': 1659140431}, 'timezone': -14400, 'id': 4362001, 'name': 'Mayo', 'cod': 200}\n",
      "{'coord': {'lon': 113.6333, 'lat': -24.8667}, 'weather': [{'id': 804, 'main': 'Clouds', 'description': 'overcast clouds', 'icon': '04d'}], 'base': 'stations', 'main': {'temp': 65.21, 'feels_like': 64.17, 'temp_min': 65.21, 'temp_max': 65.21, 'pressure': 1019, 'humidity': 58, 'sea_level': 1019, 'grnd_level': 1019}, 'visibility': 10000, 'wind': {'speed': 17.36, 'deg': 136, 'gust': 18.68}, 'clouds': {'all': 100}, 'dt': 1659152147, 'sys': {'country': 'AU', 'sunrise': 1659135828, 'sunset': 1659175190}, 'timezone': 28800, 'id': 2074865, 'name': 'Carnarvon', 'cod': 200}\n",
      "{'coord': {'lon': 168.8643, 'lat': -46.1927}, 'weather': [{'id': 804, 'main': 'Clouds', 'description': 'overcast clouds', 'icon': '04d'}], 'base': 'stations', 'main': {'temp': 45.48, 'feels_like': 45.48, 'temp_min': 45.48, 'temp_max': 45.48, 'pressure': 1012, 'humidity': 85, 'sea_level': 1012, 'grnd_level': 1005}, 'visibility': 10000, 'wind': {'speed': 2.95, 'deg': 248, 'gust': 7.34}, 'clouds': {'all': 100}, 'dt': 1659152147, 'sys': {'type': 2, 'id': 2008959, 'country': 'NZ', 'sunrise': 1659125271, 'sunset': 1659159237}, 'timezone': 43200, 'id': 6201424, 'name': 'Mataura', 'cod': 200}\n",
      "{'coord': {'lon': 97.2, 'lat': 40.2833}, 'weather': [{'id': 803, 'main': 'Clouds', 'description': 'broken clouds', 'icon': '04d'}], 'base': 'stations', 'main': {'temp': 86.16, 'feels_like': 82.83, 'temp_min': 86.16, 'temp_max': 86.16, 'pressure': 1001, 'humidity': 17, 'sea_level': 1001, 'grnd_level': 852}, 'visibility': 10000, 'wind': {'speed': 12.91, 'deg': 83, 'gust': 11.68}, 'clouds': {'all': 84}, 'dt': 1659152147, 'sys': {'country': 'CN', 'sunrise': 1659133590, 'sunset': 1659185316}, 'timezone': 28800, 'id': 1528998, 'name': 'Yumen', 'cod': 200}\n",
      "{'coord': {'lon': 1.0114, 'lat': 20.1986}, 'weather': [{'id': 802, 'main': 'Clouds', 'description': 'scattered clouds', 'icon': '03n'}], 'base': 'stations', 'main': {'temp': 86.04, 'feels_like': 85.69, 'temp_min': 86.04, 'temp_max': 86.04, 'pressure': 1010, 'humidity': 41, 'sea_level': 1010, 'grnd_level': 953}, 'visibility': 10000, 'wind': {'speed': 7.07, 'deg': 197, 'gust': 10.31}, 'clouds': {'all': 48}, 'dt': 1659152148, 'sys': {'country': 'ML', 'sunrise': 1659159013, 'sunset': 1659206063}, 'timezone': 0, 'id': 2449893, 'name': 'Tessalit', 'cod': 200}\n",
      "{'coord': {'lon': -45.2371, 'lat': 60.1432}, 'weather': [{'id': 802, 'main': 'Clouds', 'description': 'scattered clouds', 'icon': '03n'}], 'base': 'stations', 'main': {'temp': 44.76, 'feels_like': 39.69, 'temp_min': 44.76, 'temp_max': 44.76, 'pressure': 1012, 'humidity': 90, 'sea_level': 1012, 'grnd_level': 1012}, 'visibility': 10000, 'wind': {'speed': 9.64, 'deg': 307, 'gust': 13.11}, 'clouds': {'all': 31}, 'dt': 1659152148, 'sys': {'country': 'GL', 'sunrise': 1659162958, 'sunset': 1659224316}, 'timezone': -7200, 'id': 3421765, 'name': 'Nanortalik', 'cod': 200}\n",
      "{'coord': {'lon': 57.7, 'lat': -20.4081}, 'weather': [{'id': 803, 'main': 'Clouds', 'description': 'broken clouds', 'icon': '04d'}], 'base': 'stations', 'main': {'temp': 70.09, 'feels_like': 70.23, 'temp_min': 70.09, 'temp_max': 71.26, 'pressure': 1023, 'humidity': 73}, 'visibility': 10000, 'wind': {'speed': 11.5, 'deg': 120}, 'clouds': {'all': 75}, 'dt': 1659152148, 'sys': {'type': 1, 'id': 2061, 'country': 'MU', 'sunrise': 1659148829, 'sunset': 1659189036}, 'timezone': 14400, 'id': 934322, 'name': 'Mahébourg', 'cod': 200}\n",
      "{'coord': {'lon': 70.8342, 'lat': 36.8648}, 'weather': [{'id': 804, 'main': 'Clouds', 'description': 'overcast clouds', 'icon': '04d'}], 'base': 'stations', 'main': {'temp': 78.24, 'feels_like': 77.04, 'temp_min': 78.24, 'temp_max': 78.24, 'pressure': 1013, 'humidity': 27, 'sea_level': 1013, 'grnd_level': 850}, 'visibility': 10000, 'wind': {'speed': 4.9, 'deg': 323, 'gust': 4.76}, 'clouds': {'all': 98}, 'dt': 1659152149, 'sys': {'country': 'AF', 'sunrise': 1659140407, 'sunset': 1659191155}, 'timezone': 16200, 'id': 1139085, 'name': 'Jurm', 'cod': 200}\n",
      "{'coord': {'lon': 140.3, 'lat': 35.1333}, 'weather': [{'id': 800, 'main': 'Clear', 'description': 'clear sky', 'icon': '01d'}], 'base': 'stations', 'main': {'temp': 85.28, 'feels_like': 94.98, 'temp_min': 85.28, 'temp_max': 85.28, 'pressure': 1015, 'humidity': 74, 'sea_level': 1015, 'grnd_level': 1015}, 'visibility': 10000, 'wind': {'speed': 14.12, 'deg': 211, 'gust': 15.82}, 'clouds': {'all': 6}, 'dt': 1659152149, 'sys': {'country': 'JP', 'sunrise': 1659123953, 'sunset': 1659174265}, 'timezone': 32400, 'id': 2112309, 'name': 'Katsuura', 'cod': 200}\n",
      "{'coord': {'lon': 148.2333, 'lat': -20.0167}, 'weather': [{'id': 802, 'main': 'Clouds', 'description': 'scattered clouds', 'icon': '03d'}], 'base': 'stations', 'main': {'temp': 70.41, 'feels_like': 70.07, 'temp_min': 70.41, 'temp_max': 70.41, 'pressure': 1018, 'humidity': 62, 'sea_level': 1018, 'grnd_level': 1018}, 'visibility': 10000, 'wind': {'speed': 17.25, 'deg': 121, 'gust': 20.4}, 'clouds': {'all': 45}, 'dt': 1659152149, 'sys': {'country': 'AU', 'sunrise': 1659127072, 'sunset': 1659167338}, 'timezone': 36000, 'id': 2174444, 'name': 'Bowen', 'cod': 200}\n",
      "{'coord': {'lon': 26.891, 'lat': -33.5906}, 'weather': [{'id': 803, 'main': 'Clouds', 'description': 'broken clouds', 'icon': '04n'}], 'base': 'stations', 'main': {'temp': 57.15, 'feels_like': 56.41, 'temp_min': 57.15, 'temp_max': 57.15, 'pressure': 1019, 'humidity': 82, 'sea_level': 1019, 'grnd_level': 1017}, 'visibility': 10000, 'wind': {'speed': 11.48, 'deg': 257, 'gust': 14.43}, 'clouds': {'all': 59}, 'dt': 1659152150, 'sys': {'country': 'ZA', 'sunrise': 1659157558, 'sunset': 1659195096}, 'timezone': 7200, 'id': 964432, 'name': 'Port Alfred', 'cod': 200}\n",
      "{'coord': {'lon': 170.3133, 'lat': 69.7008}, 'weather': [{'id': 803, 'main': 'Clouds', 'description': 'broken clouds', 'icon': '04d'}], 'base': 'stations', 'main': {'temp': 47.98, 'feels_like': 43.41, 'temp_min': 47.98, 'temp_max': 47.98, 'pressure': 1016, 'humidity': 61, 'sea_level': 1016, 'grnd_level': 1011}, 'visibility': 10000, 'wind': {'speed': 10.36, 'deg': 157, 'gust': 13.4}, 'clouds': {'all': 54}, 'dt': 1659152150, 'sys': {'country': 'RU', 'sunrise': 1659102810, 'sunset': 1659181002}, 'timezone': 43200, 'id': 2122090, 'name': 'Pevek', 'cod': 200}\n",
      "{'coord': {'lon': -159.775, 'lat': -21.2078}, 'weather': [{'id': 801, 'main': 'Clouds', 'description': 'few clouds', 'icon': '02d'}], 'base': 'stations', 'main': {'temp': 78.85, 'feels_like': 78.85, 'temp_min': 78.85, 'temp_max': 78.85, 'pressure': 1019, 'humidity': 73}, 'visibility': 10000, 'wind': {'speed': 12.66, 'deg': 90, 'gust': 24.16}, 'clouds': {'all': 20}, 'dt': 1659152150, 'sys': {'type': 1, 'id': 7271, 'country': 'CK', 'sunrise': 1659114707, 'sunset': 1659154748}, 'timezone': -36000, 'id': 4035715, 'name': 'Avarua', 'cod': 200}\n",
      "{'coord': {'lon': 73.7167, 'lat': 23.8333}, 'weather': [{'id': 802, 'main': 'Clouds', 'description': 'scattered clouds', 'icon': '03d'}], 'base': 'stations', 'main': {'temp': 83.12, 'feels_like': 87.57, 'temp_min': 83.12, 'temp_max': 83.12, 'pressure': 1008, 'humidity': 66, 'sea_level': 1008, 'grnd_level': 972}, 'visibility': 10000, 'wind': {'speed': 12.95, 'deg': 258, 'gust': 15.9}, 'clouds': {'all': 48}, 'dt': 1659152151, 'sys': {'country': 'IN', 'sunrise': 1659141208, 'sunset': 1659188970}, 'timezone': 19800, 'id': 1272201, 'name': 'Dūngarpur', 'cod': 200}\n",
      "{'coord': {'lon': 169.8464, 'lat': -46.2817}, 'weather': [{'id': 804, 'main': 'Clouds', 'description': 'overcast clouds', 'icon': '04d'}], 'base': 'stations', 'main': {'temp': 45, 'feels_like': 42.06, 'temp_min': 45, 'temp_max': 45, 'pressure': 1011, 'humidity': 73, 'sea_level': 1011, 'grnd_level': 1010}, 'visibility': 10000, 'wind': {'speed': 5.41, 'deg': 264, 'gust': 10.2}, 'clouds': {'all': 100}, 'dt': 1659152151, 'sys': {'country': 'NZ', 'sunrise': 1659125051, 'sunset': 1659158986}, 'timezone': 43200, 'id': 2208248, 'name': 'Kaitangata', 'cod': 200}\n"
     ]
    },
    {
     "name": "stdout",
     "output_type": "stream",
     "text": [
      "{'coord': {'lon': 54.0924, 'lat': 17.0151}, 'weather': [{'id': 803, 'main': 'Clouds', 'description': 'broken clouds', 'icon': '04d'}], 'base': 'stations', 'main': {'temp': 75.29, 'feels_like': 76.95, 'temp_min': 75.29, 'temp_max': 75.29, 'pressure': 1007, 'humidity': 94}, 'visibility': 10000, 'wind': {'speed': 8.05, 'deg': 150}, 'clouds': {'all': 75}, 'dt': 1659152151, 'sys': {'type': 1, 'id': 7562, 'country': 'OM', 'sunrise': 1659146562, 'sunset': 1659193035}, 'timezone': 14400, 'id': 286621, 'name': 'Salalah', 'cod': 200}\n",
      "{'coord': {'lon': 179.3167, 'lat': 63.05}, 'weather': [{'id': 804, 'main': 'Clouds', 'description': 'overcast clouds', 'icon': '04d'}], 'base': 'stations', 'main': {'temp': 49.24, 'feels_like': 46.71, 'temp_min': 49.24, 'temp_max': 49.24, 'pressure': 1021, 'humidity': 78, 'sea_level': 1021, 'grnd_level': 1019}, 'visibility': 10000, 'wind': {'speed': 6.13, 'deg': 117, 'gust': 5.82}, 'clouds': {'all': 100}, 'dt': 1659152152, 'sys': {'country': 'RU', 'sunrise': 1659107535, 'sunset': 1659171955}, 'timezone': 43200, 'id': 2126710, 'name': 'Beringovskiy', 'cod': 200}\n",
      "{'coord': {'lon': 24.7314, 'lat': -34.0033}, 'weather': [{'id': 500, 'main': 'Rain', 'description': 'light rain', 'icon': '10n'}], 'base': 'stations', 'main': {'temp': 52.79, 'feels_like': 51.48, 'temp_min': 52.79, 'temp_max': 52.79, 'pressure': 1019, 'humidity': 79, 'sea_level': 1019, 'grnd_level': 992}, 'visibility': 10000, 'wind': {'speed': 9.31, 'deg': 252, 'gust': 17.2}, 'rain': {'1h': 0.18}, 'clouds': {'all': 100}, 'dt': 1659152152, 'sys': {'country': 'ZA', 'sunrise': 1659158123, 'sunset': 1659195567}, 'timezone': 7200, 'id': 986717, 'name': 'Kruisfontein', 'cod': 200}\n",
      "{'coord': {'lon': 46.7219, 'lat': 24.6877}, 'weather': [{'id': 803, 'main': 'Clouds', 'description': 'broken clouds', 'icon': '04d'}], 'base': 'stations', 'main': {'temp': 87.94, 'feels_like': 84.96, 'temp_min': 87.94, 'temp_max': 87.94, 'pressure': 1003, 'humidity': 25, 'sea_level': 1003, 'grnd_level': 937}, 'visibility': 10000, 'wind': {'speed': 2.77, 'deg': 149, 'gust': 3.56}, 'clouds': {'all': 65}, 'dt': 1659152051, 'sys': {'type': 1, 'id': 7424, 'country': 'SA', 'sunrise': 1659147603, 'sunset': 1659195532}, 'timezone': 10800, 'id': 108410, 'name': 'Riyadh', 'cod': 200}\n",
      "{'coord': {'lon': -2.7921, 'lat': 39.2858}, 'weather': [{'id': 800, 'main': 'Clear', 'description': 'clear sky', 'icon': '01n'}], 'base': 'stations', 'main': {'temp': 73.38, 'feels_like': 74.46, 'temp_min': 73.38, 'temp_max': 73.38, 'pressure': 1015, 'humidity': 86, 'sea_level': 1015, 'grnd_level': 939}, 'visibility': 10000, 'wind': {'speed': 15.03, 'deg': 100, 'gust': 21.14}, 'clouds': {'all': 0}, 'dt': 1659152153, 'sys': {'type': 2, 'id': 2010920, 'country': 'ES', 'sunrise': 1659157750, 'sunset': 1659209151}, 'timezone': 7200, 'id': 2510852, 'name': 'Socuéllamos', 'cod': 200}\n",
      "{'coord': {'lon': -64.3831, 'lat': -6.5339}, 'weather': [{'id': 803, 'main': 'Clouds', 'description': 'broken clouds', 'icon': '04n'}], 'base': 'stations', 'main': {'temp': 78.19, 'feels_like': 78.1, 'temp_min': 78.19, 'temp_max': 78.19, 'pressure': 1012, 'humidity': 51, 'sea_level': 1012, 'grnd_level': 1006}, 'visibility': 10000, 'wind': {'speed': 1.72, 'deg': 130, 'gust': 1.92}, 'clouds': {'all': 58}, 'dt': 1659152153, 'sys': {'country': 'BR', 'sunrise': 1659090556, 'sunset': 1659133112}, 'timezone': -14400, 'id': 3664716, 'name': 'Canutama', 'cod': 200}\n",
      "{'coord': {'lon': 140.8333, 'lat': 35.7333}, 'weather': [{'id': 802, 'main': 'Clouds', 'description': 'scattered clouds', 'icon': '03d'}], 'base': 'stations', 'main': {'temp': 88.2, 'feels_like': 100.8, 'temp_min': 88.2, 'temp_max': 95.29, 'pressure': 1014, 'humidity': 78, 'sea_level': 1014, 'grnd_level': 1014}, 'visibility': 10000, 'wind': {'speed': 13.27, 'deg': 186, 'gust': 17.05}, 'clouds': {'all': 47}, 'dt': 1659152153, 'sys': {'type': 1, 'id': 7955, 'country': 'JP', 'sunrise': 1659123747, 'sunset': 1659174215}, 'timezone': 32400, 'id': 2112802, 'name': 'Hasaki', 'cod': 200}\n",
      "{'coord': {'lon': -113.5852, 'lat': 50.0333}, 'weather': [{'id': 804, 'main': 'Clouds', 'description': 'overcast clouds', 'icon': '04n'}], 'base': 'stations', 'main': {'temp': 74.89, 'feels_like': 74.01, 'temp_min': 69.21, 'temp_max': 75.11, 'pressure': 1011, 'humidity': 41}, 'visibility': 10000, 'wind': {'speed': 12.66, 'deg': 320, 'gust': 19.57}, 'clouds': {'all': 93}, 'dt': 1659152154, 'sys': {'type': 1, 'id': 205, 'country': 'CA', 'sunrise': 1659095970, 'sunset': 1659151314}, 'timezone': -21600, 'id': 5923125, 'name': 'Claresholm', 'cod': 200}\n",
      "{'coord': {'lon': -69.3632, 'lat': 77.484}, 'weather': [{'id': 800, 'main': 'Clear', 'description': 'clear sky', 'icon': '01n'}], 'base': 'stations', 'main': {'temp': 36.57, 'feels_like': 33.31, 'temp_min': 36.57, 'temp_max': 36.57, 'pressure': 1009, 'humidity': 62, 'sea_level': 1009, 'grnd_level': 1005}, 'visibility': 10000, 'wind': {'speed': 4.05, 'deg': 67, 'gust': 4.34}, 'clouds': {'all': 0}, 'dt': 1659152154, 'sys': {'country': 'GL', 'sunrise': 0, 'sunset': 0}, 'timezone': -10800, 'id': 3831208, 'name': 'Qaanaaq', 'cod': 200}\n",
      "{'coord': {'lon': 57.7625, 'lat': -20.2078}, 'weather': [{'id': 803, 'main': 'Clouds', 'description': 'broken clouds', 'icon': '04d'}], 'base': 'stations', 'main': {'temp': 71.1, 'feels_like': 71.15, 'temp_min': 69.91, 'temp_max': 71.1, 'pressure': 1023, 'humidity': 69, 'sea_level': 1023, 'grnd_level': 1019}, 'visibility': 10000, 'wind': {'speed': 16.82, 'deg': 110, 'gust': 20.07}, 'clouds': {'all': 63}, 'dt': 1659152154, 'sys': {'type': 2, 'id': 2002134, 'country': 'MU', 'sunrise': 1659148796, 'sunset': 1659189039}, 'timezone': 14400, 'id': 1106643, 'name': 'Quatre Cocos', 'cod': 200}\n",
      "{'coord': {'lon': -28.7, 'lat': 38.5167}, 'weather': [{'id': 800, 'main': 'Clear', 'description': 'clear sky', 'icon': '01n'}], 'base': 'stations', 'main': {'temp': 72.9, 'feels_like': 73.36, 'temp_min': 72.9, 'temp_max': 72.9, 'pressure': 1027, 'humidity': 74, 'sea_level': 1027, 'grnd_level': 1027}, 'visibility': 10000, 'wind': {'speed': 1.43, 'deg': 207, 'gust': 1.45}, 'clouds': {'all': 4}, 'dt': 1659152155, 'sys': {'country': 'PT', 'sunrise': 1659164082, 'sunset': 1659215255}, 'timezone': 0, 'id': 3372707, 'name': 'Ribeira Grande', 'cod': 200}\n",
      "{'coord': {'lon': -116.4356, 'lat': 53.5835}, 'weather': [{'id': 202, 'main': 'Thunderstorm', 'description': 'thunderstorm with heavy rain', 'icon': '11d'}, {'id': 500, 'main': 'Rain', 'description': 'light rain', 'icon': '10d'}], 'base': 'stations', 'main': {'temp': 62.71, 'feels_like': 62.53, 'temp_min': 62.71, 'temp_max': 75.34, 'pressure': 1016, 'humidity': 82}, 'visibility': 8047, 'wind': {'speed': 13.8, 'deg': 290, 'gust': 24.16}, 'rain': {'1h': 0.38}, 'clouds': {'all': 100}, 'dt': 1659151936, 'sys': {'type': 1, 'id': 794, 'country': 'CA', 'sunrise': 1659095776, 'sunset': 1659152876}, 'timezone': -21600, 'id': 5946820, 'name': 'Edson', 'cod': 200}\n",
      "{'coord': {'lon': 167.6833, 'lat': -46.1333}, 'weather': [{'id': 804, 'main': 'Clouds', 'description': 'overcast clouds', 'icon': '04d'}], 'base': 'stations', 'main': {'temp': 43.07, 'feels_like': 43.07, 'temp_min': 43.07, 'temp_max': 43.07, 'pressure': 1012, 'humidity': 83, 'sea_level': 1012, 'grnd_level': 1009}, 'visibility': 10000, 'wind': {'speed': 1.25, 'deg': 322, 'gust': 3.74}, 'clouds': {'all': 92}, 'dt': 1659152155, 'sys': {'country': 'NZ', 'sunrise': 1659125544, 'sunset': 1659159531}, 'timezone': 43200, 'id': 2180815, 'name': 'Tuatapere', 'cod': 200}\n",
      "{'coord': {'lon': 31.0409, 'lat': -6.3655}, 'weather': [{'id': 804, 'main': 'Clouds', 'description': 'overcast clouds', 'icon': '04n'}], 'base': 'stations', 'main': {'temp': 68.99, 'feels_like': 68.18, 'temp_min': 68.99, 'temp_max': 68.99, 'pressure': 1014, 'humidity': 55, 'sea_level': 1014, 'grnd_level': 900}, 'visibility': 10000, 'wind': {'speed': 3.71, 'deg': 153, 'gust': 8.12}, 'clouds': {'all': 96}, 'dt': 1659152155, 'sys': {'country': 'TZ', 'sunrise': 1659154034, 'sunset': 1659196628}, 'timezone': 10800, 'id': 153176, 'name': 'Mpanda', 'cod': 200}\n",
      "{'coord': {'lon': 57.7575, 'lat': -20.3428}, 'weather': [{'id': 803, 'main': 'Clouds', 'description': 'broken clouds', 'icon': '04d'}], 'base': 'stations', 'main': {'temp': 70.05, 'feels_like': 70.2, 'temp_min': 70.05, 'temp_max': 71.22, 'pressure': 1023, 'humidity': 73}, 'visibility': 10000, 'wind': {'speed': 11.5, 'deg': 120}, 'clouds': {'all': 75}, 'dt': 1659152156, 'sys': {'type': 1, 'id': 2061, 'country': 'MU', 'sunrise': 1659148810, 'sunset': 1659189028}, 'timezone': 14400, 'id': 1106677, 'name': 'Bambous Virieux', 'cod': 200}\n"
     ]
    },
    {
     "name": "stdout",
     "output_type": "stream",
     "text": [
      "{'coord': {'lon': 168.3333, 'lat': -46.6}, 'weather': [{'id': 803, 'main': 'Clouds', 'description': 'broken clouds', 'icon': '04d'}], 'base': 'stations', 'main': {'temp': 45.81, 'feels_like': 40.78, 'temp_min': 45.81, 'temp_max': 45.81, 'pressure': 1011, 'humidity': 69, 'sea_level': 1011, 'grnd_level': 1008}, 'visibility': 10000, 'wind': {'speed': 10.13, 'deg': 301, 'gust': 13.4}, 'clouds': {'all': 84}, 'dt': 1659152156, 'sys': {'type': 2, 'id': 2008959, 'country': 'NZ', 'sunrise': 1659125469, 'sunset': 1659159294}, 'timezone': 43200, 'id': 2206939, 'name': 'Bluff', 'cod': 200}\n",
      "{'cod': '404', 'message': 'city not found'}\n",
      "City Not Found\n",
      "{'coord': {'lon': -105.2, 'lat': 20.7}, 'weather': [{'id': 804, 'main': 'Clouds', 'description': 'overcast clouds', 'icon': '04n'}], 'base': 'stations', 'main': {'temp': 74.43, 'feels_like': 76.26, 'temp_min': 74.43, 'temp_max': 78.22, 'pressure': 1013, 'humidity': 100}, 'visibility': 6437, 'wind': {'speed': 5.75, 'deg': 150}, 'clouds': {'all': 100}, 'dt': 1659152157, 'sys': {'type': 1, 'id': 7156, 'country': 'MX', 'sunrise': 1659098040, 'sunset': 1659145219}, 'timezone': -18000, 'id': 4004293, 'name': 'Ixtapa', 'cod': 200}\n",
      "{'coord': {'lon': -53.48, 'lat': -1.8}, 'weather': [{'id': 802, 'main': 'Clouds', 'description': 'scattered clouds', 'icon': '03n'}], 'base': 'stations', 'main': {'temp': 75.07, 'feels_like': 76.46, 'temp_min': 75.07, 'temp_max': 75.07, 'pressure': 1012, 'humidity': 89, 'sea_level': 1012, 'grnd_level': 1008}, 'visibility': 10000, 'wind': {'speed': 3.33, 'deg': 33, 'gust': 9.37}, 'clouds': {'all': 50}, 'dt': 1659152157, 'sys': {'country': 'BR', 'sunrise': 1659173950, 'sunset': 1659217281}, 'timezone': -10800, 'id': 3391287, 'name': 'Prainha', 'cod': 200}\n",
      "{'coord': {'lon': -22.9167, 'lat': 16.1833}, 'weather': [{'id': 804, 'main': 'Clouds', 'description': 'overcast clouds', 'icon': '04n'}], 'base': 'stations', 'main': {'temp': 76.06, 'feels_like': 77.13, 'temp_min': 76.06, 'temp_max': 76.06, 'pressure': 1012, 'humidity': 80, 'sea_level': 1012, 'grnd_level': 1011}, 'visibility': 10000, 'wind': {'speed': 10.67, 'deg': 26, 'gust': 10.25}, 'clouds': {'all': 100}, 'dt': 1659152157, 'sys': {'country': 'CV', 'sunrise': 1659165123, 'sunset': 1659211438}, 'timezone': -3600, 'id': 3374235, 'name': 'Sal Rei', 'cod': 200}\n",
      "{'coord': {'lon': -122.6762, 'lat': 45.5234}, 'weather': [{'id': 800, 'main': 'Clear', 'description': 'clear sky', 'icon': '01d'}], 'base': 'stations', 'main': {'temp': 90.23, 'feels_like': 95.04, 'temp_min': 83.75, 'temp_max': 94.93, 'pressure': 1009, 'humidity': 50}, 'visibility': 10000, 'wind': {'speed': 10.36, 'deg': 300}, 'clouds': {'all': 0}, 'dt': 1659151624, 'sys': {'type': 2, 'id': 2013569, 'country': 'US', 'sunrise': 1659099069, 'sunset': 1659152579}, 'timezone': -25200, 'id': 5746545, 'name': 'Portland', 'cod': 200}\n",
      "{'coord': {'lon': -50.0119, 'lat': -24.7911}, 'weather': [{'id': 800, 'main': 'Clear', 'description': 'clear sky', 'icon': '01n'}], 'base': 'stations', 'main': {'temp': 41.79, 'feels_like': 38.88, 'temp_min': 41.79, 'temp_max': 41.79, 'pressure': 1019, 'humidity': 80, 'sea_level': 1019, 'grnd_level': 903}, 'visibility': 10000, 'wind': {'speed': 4.61, 'deg': 171, 'gust': 14.61}, 'clouds': {'all': 0}, 'dt': 1659152158, 'sys': {'country': 'BR', 'sunrise': 1659175082, 'sunset': 1659214485}, 'timezone': -10800, 'id': 3466704, 'name': 'Castro', 'cod': 200}\n",
      "{'coord': {'lon': -53.4616, 'lat': -33.6971}, 'weather': [{'id': 800, 'main': 'Clear', 'description': 'clear sky', 'icon': '01n'}], 'base': 'stations', 'main': {'temp': 42.76, 'feels_like': 40.15, 'temp_min': 42.76, 'temp_max': 42.76, 'pressure': 1018, 'humidity': 82, 'sea_level': 1018, 'grnd_level': 1016}, 'visibility': 10000, 'wind': {'speed': 4.43, 'deg': 253, 'gust': 4.97}, 'clouds': {'all': 0}, 'dt': 1659152158, 'sys': {'country': 'UY', 'sunrise': 1659176844, 'sunset': 1659214378}, 'timezone': -10800, 'id': 3443061, 'name': 'Chui', 'cod': 200}\n",
      "{'cod': '404', 'message': 'city not found'}\n",
      "City Not Found\n",
      "{'coord': {'lon': -78.1736, 'lat': 18.451}, 'weather': [{'id': 802, 'main': 'Clouds', 'description': 'scattered clouds', 'icon': '03n'}], 'base': 'stations', 'main': {'temp': 77.86, 'feels_like': 79.07, 'temp_min': 77.86, 'temp_max': 80.46, 'pressure': 1016, 'humidity': 79, 'sea_level': 1016, 'grnd_level': 1014}, 'visibility': 10000, 'wind': {'speed': 6.26, 'deg': 109, 'gust': 7.7}, 'clouds': {'all': 43}, 'dt': 1659152158, 'sys': {'type': 2, 'id': 2003687, 'country': 'JM', 'sunrise': 1659091763, 'sunset': 1659138524}, 'timezone': -18000, 'id': 3489657, 'name': 'Lucea', 'cod': 200}\n",
      "{'coord': {'lon': 109.1853, 'lat': 27.7172}, 'weather': [{'id': 800, 'main': 'Clear', 'description': 'clear sky', 'icon': '01d'}], 'base': 'stations', 'main': {'temp': 88.93, 'feels_like': 97.2, 'temp_min': 88.93, 'temp_max': 88.93, 'pressure': 1006, 'humidity': 60, 'sea_level': 1006, 'grnd_level': 978}, 'visibility': 10000, 'wind': {'speed': 2.82, 'deg': 107, 'gust': 4.07}, 'clouds': {'all': 3}, 'dt': 1659152159, 'sys': {'country': 'CN', 'sunrise': 1659132291, 'sunset': 1659180862}, 'timezone': 28800, 'id': 1792592, 'name': 'Tongren', 'cod': 200}\n",
      "{'cod': '404', 'message': 'city not found'}\n",
      "City Not Found\n",
      "{'coord': {'lon': -37.6368, 'lat': 65.6145}, 'weather': [{'id': 801, 'main': 'Clouds', 'description': 'few clouds', 'icon': '02n'}], 'base': 'stations', 'main': {'temp': 39.36, 'feels_like': 35.31, 'temp_min': 39.36, 'temp_max': 39.36, 'pressure': 1008, 'humidity': 78, 'sea_level': 1008, 'grnd_level': 1003}, 'visibility': 10000, 'wind': {'speed': 5.55, 'deg': 306, 'gust': 6.58}, 'clouds': {'all': 24}, 'dt': 1659152159, 'sys': {'type': 1, 'id': 81, 'country': 'GL', 'sunrise': 1659158020, 'sunset': 1659225606}, 'timezone': -7200, 'id': 3424607, 'name': 'Tasiilaq', 'cod': 200}\n",
      "{'coord': {'lon': -94.6335, 'lat': 31.6002}, 'weather': [{'id': 800, 'main': 'Clear', 'description': 'clear sky', 'icon': '01n'}], 'base': 'stations', 'main': {'temp': 83.98, 'feels_like': 90.77, 'temp_min': 83.64, 'temp_max': 87.44, 'pressure': 1017, 'humidity': 71}, 'visibility': 10000, 'wind': {'speed': 5.75, 'deg': 120}, 'clouds': {'all': 0}, 'dt': 1659152160, 'sys': {'type': 1, 'id': 5162, 'country': 'US', 'sunrise': 1659094356, 'sunset': 1659143831}, 'timezone': -18000, 'id': 4713738, 'name': 'Nacogdoches', 'cod': 200}\n",
      "{'coord': {'lon': 102.2655, 'lat': -3.8004}, 'weather': [{'id': 804, 'main': 'Clouds', 'description': 'overcast clouds', 'icon': '04d'}], 'base': 'stations', 'main': {'temp': 83.1, 'feels_like': 87.03, 'temp_min': 83.1, 'temp_max': 83.1, 'pressure': 1010, 'humidity': 64, 'sea_level': 1010, 'grnd_level': 1008}, 'visibility': 10000, 'wind': {'speed': 3.67, 'deg': 278, 'gust': 3.69}, 'clouds': {'all': 91}, 'dt': 1659152160, 'sys': {'country': 'ID', 'sunrise': 1659136734, 'sunset': 1659179741}, 'timezone': 25200, 'id': 1649150, 'name': 'Bengkulu', 'cod': 200}\n",
      "{'coord': {'lon': -73.9662, 'lat': 42.6001}, 'weather': [{'id': 801, 'main': 'Clouds', 'description': 'few clouds', 'icon': '02n'}], 'base': 'stations', 'main': {'temp': 68.11, 'feels_like': 68.32, 'temp_min': 65.25, 'temp_max': 69.62, 'pressure': 1012, 'humidity': 79}, 'visibility': 10000, 'wind': {'speed': 4.25, 'deg': 299, 'gust': 6.46}, 'clouds': {'all': 21}, 'dt': 1659152160, 'sys': {'type': 2, 'id': 19530, 'country': 'US', 'sunrise': 1659087876, 'sunset': 1659140391}, 'timezone': -14400, 'id': 5106841, 'name': 'Albany', 'cod': 200}\n",
      "{'coord': {'lon': 100.3354, 'lat': 5.4112}, 'weather': [{'id': 802, 'main': 'Clouds', 'description': 'scattered clouds', 'icon': '03d'}], 'base': 'stations', 'main': {'temp': 84.81, 'feels_like': 95.41, 'temp_min': 83.98, 'temp_max': 85.95, 'pressure': 1009, 'humidity': 78}, 'visibility': 8000, 'wind': {'speed': 4.61, 'deg': 0}, 'clouds': {'all': 40}, 'dt': 1659152161, 'sys': {'type': 2, 'id': 2037578, 'country': 'MY', 'sunrise': 1659136451, 'sunset': 1659180950}, 'timezone': 28800, 'id': 1735106, 'name': 'George Town', 'cod': 200}\n",
      "{'coord': {'lon': -77.6139, 'lat': -11.0964}, 'weather': [{'id': 802, 'main': 'Clouds', 'description': 'scattered clouds', 'icon': '03n'}], 'base': 'stations', 'main': {'temp': 60.8, 'feels_like': 60.62, 'temp_min': 60.8, 'temp_max': 60.8, 'pressure': 1015, 'humidity': 86, 'sea_level': 1015, 'grnd_level': 1009}, 'visibility': 10000, 'wind': {'speed': 6.33, 'deg': 176, 'gust': 6.69}, 'clouds': {'all': 37}, 'dt': 1659152161, 'sys': {'country': 'PE', 'sunrise': 1659094108, 'sunset': 1659135910}, 'timezone': -18000, 'id': 3939761, 'name': 'Hualmay', 'cod': 200}\n"
     ]
    },
    {
     "name": "stdout",
     "output_type": "stream",
     "text": [
      "{'coord': {'lon': -173.3, 'lat': 64.3833}, 'weather': [{'id': 804, 'main': 'Clouds', 'description': 'overcast clouds', 'icon': '04n'}], 'base': 'stations', 'main': {'temp': 52.3, 'feels_like': 50.43, 'temp_min': 52.3, 'temp_max': 52.3, 'pressure': 1019, 'humidity': 68, 'sea_level': 1019, 'grnd_level': 1019}, 'visibility': 10000, 'wind': {'speed': 1.34, 'deg': 140, 'gust': 2.91}, 'clouds': {'all': 100}, 'dt': 1659152161, 'sys': {'country': 'RU', 'sunrise': 1659191532, 'sunset': 1659257211}, 'timezone': 43200, 'id': 4031574, 'name': 'Provideniya', 'cod': 200}\n",
      "{'coord': {'lon': -76.6886, 'lat': 3.6569}, 'weather': [{'id': 804, 'main': 'Clouds', 'description': 'overcast clouds', 'icon': '04n'}], 'base': 'stations', 'main': {'temp': 73.9, 'feels_like': 75.6, 'temp_min': 73.9, 'temp_max': 73.9, 'pressure': 1014, 'humidity': 98, 'sea_level': 1014, 'grnd_level': 913}, 'visibility': 3380, 'wind': {'speed': 1.48, 'deg': 270, 'gust': 2.04}, 'clouds': {'all': 96}, 'dt': 1659152162, 'sys': {'type': 1, 'id': 8590, 'country': 'CO', 'sunrise': 1659092678, 'sunset': 1659136896}, 'timezone': -18000, 'id': 3685292, 'name': 'Dagua', 'cod': 200}\n",
      "{'coord': {'lon': -122.2669, 'lat': 38.033}, 'weather': [{'id': 800, 'main': 'Clear', 'description': 'clear sky', 'icon': '01n'}], 'base': 'stations', 'main': {'temp': 61.2, 'feels_like': 60.96, 'temp_min': 56.5, 'temp_max': 68.23, 'pressure': 1009, 'humidity': 84}, 'visibility': 10000, 'wind': {'speed': 17.27, 'deg': 200}, 'clouds': {'all': 0}, 'dt': 1659152162, 'sys': {'type': 2, 'id': 2004065, 'country': 'US', 'sunrise': 1659100167, 'sunset': 1659151284}, 'timezone': -25200, 'id': 5388467, 'name': 'Rodeo', 'cod': 200}\n",
      "{'coord': {'lon': 143.2326, 'lat': 51.7102}, 'weather': [{'id': 501, 'main': 'Rain', 'description': 'moderate rain', 'icon': '10d'}], 'base': 'stations', 'main': {'temp': 56.55, 'feels_like': 56.55, 'temp_min': 56.55, 'temp_max': 56.55, 'pressure': 1005, 'humidity': 99, 'sea_level': 1005, 'grnd_level': 1002}, 'visibility': 1591, 'wind': {'speed': 8.32, 'deg': 139, 'gust': 18.45}, 'rain': {'1h': 1.15}, 'clouds': {'all': 100}, 'dt': 1659152162, 'sys': {'country': 'RU', 'sunrise': 1659120365, 'sunset': 1659176446}, 'timezone': 39600, 'id': 2122783, 'name': 'Katangli', 'cod': 200}\n",
      "{'coord': {'lon': 118.5667, 'lat': -20.3167}, 'weather': [{'id': 800, 'main': 'Clear', 'description': 'clear sky', 'icon': '01d'}], 'base': 'stations', 'main': {'temp': 82.45, 'feels_like': 79.99, 'temp_min': 82.45, 'temp_max': 82.45, 'pressure': 1015, 'humidity': 14}, 'visibility': 10000, 'wind': {'speed': 10.36, 'deg': 40}, 'clouds': {'all': 3}, 'dt': 1659152163, 'sys': {'type': 1, 'id': 9585, 'country': 'AU', 'sunrise': 1659134217, 'sunset': 1659174433}, 'timezone': 28800, 'id': 2063042, 'name': 'Port Hedland', 'cod': 200}\n",
      "{'coord': {'lon': 124.9112, 'lat': 1.3038}, 'weather': [{'id': 803, 'main': 'Clouds', 'description': 'broken clouds', 'icon': '04d'}], 'base': 'stations', 'main': {'temp': 84.29, 'feels_like': 89.49, 'temp_min': 84.29, 'temp_max': 84.29, 'pressure': 1009, 'humidity': 65, 'sea_level': 1009, 'grnd_level': 933}, 'visibility': 10000, 'wind': {'speed': 5.53, 'deg': 157, 'gust': 8.48}, 'clouds': {'all': 84}, 'dt': 1659152163, 'sys': {'type': 1, 'id': 9356, 'country': 'ID', 'sunrise': 1659130887, 'sunset': 1659174718}, 'timezone': 28800, 'id': 1623424, 'name': 'Tondano', 'cod': 200}\n",
      "{'coord': {'lon': 138.95, 'lat': 34.6667}, 'weather': [{'id': 800, 'main': 'Clear', 'description': 'clear sky', 'icon': '01d'}], 'base': 'stations', 'main': {'temp': 88.16, 'feels_like': 99, 'temp_min': 88.16, 'temp_max': 88.16, 'pressure': 1015, 'humidity': 67, 'sea_level': 1015, 'grnd_level': 1015}, 'visibility': 10000, 'wind': {'speed': 9.84, 'deg': 233, 'gust': 11.34}, 'clouds': {'all': 6}, 'dt': 1659152164, 'sys': {'type': 1, 'id': 8070, 'country': 'JP', 'sunrise': 1659124337, 'sunset': 1659174530}, 'timezone': 32400, 'id': 1852357, 'name': 'Shimoda', 'cod': 200}\n",
      "{'coord': {'lon': 92.6267, 'lat': 60.3778}, 'weather': [{'id': 804, 'main': 'Clouds', 'description': 'overcast clouds', 'icon': '04d'}], 'base': 'stations', 'main': {'temp': 72.48, 'feels_like': 72.95, 'temp_min': 72.48, 'temp_max': 72.48, 'pressure': 999, 'humidity': 75, 'sea_level': 999, 'grnd_level': 977}, 'visibility': 10000, 'wind': {'speed': 3.51, 'deg': 24, 'gust': 5.55}, 'clouds': {'all': 100}, 'dt': 1659152164, 'sys': {'country': 'RU', 'sunrise': 1659129715, 'sunset': 1659191386}, 'timezone': 25200, 'id': 1489656, 'name': 'Teya', 'cod': 200}\n",
      "{'cod': '404', 'message': 'city not found'}\n",
      "City Not Found\n",
      "{'coord': {'lon': 57.5167, 'lat': -20.5167}, 'weather': [{'id': 803, 'main': 'Clouds', 'description': 'broken clouds', 'icon': '04d'}], 'base': 'stations', 'main': {'temp': 70.18, 'feels_like': 70.32, 'temp_min': 70.18, 'temp_max': 70.18, 'pressure': 1023, 'humidity': 73}, 'visibility': 10000, 'wind': {'speed': 11.5, 'deg': 120}, 'clouds': {'all': 75}, 'dt': 1659152164, 'sys': {'type': 1, 'id': 2061, 'country': 'MU', 'sunrise': 1659148883, 'sunset': 1659189070}, 'timezone': 14400, 'id': 933995, 'name': 'Souillac', 'cod': 200}\n",
      "{'coord': {'lon': 67.9055, 'lat': 27.8477}, 'weather': [{'id': 804, 'main': 'Clouds', 'description': 'overcast clouds', 'icon': '04d'}], 'base': 'stations', 'main': {'temp': 92.21, 'feels_like': 104.81, 'temp_min': 92.21, 'temp_max': 92.21, 'pressure': 1001, 'humidity': 60, 'sea_level': 1001, 'grnd_level': 996}, 'visibility': 10000, 'wind': {'speed': 4.18, 'deg': 150, 'gust': 3.69}, 'clouds': {'all': 93}, 'dt': 1659152165, 'sys': {'country': 'PK', 'sunrise': 1659142188, 'sunset': 1659190779}, 'timezone': 18000, 'id': 1165638, 'name': 'Shahdad Kot', 'cod': 200}\n",
      "{'coord': {'lon': 53.1512, 'lat': 67.6803}, 'weather': [{'id': 801, 'main': 'Clouds', 'description': 'few clouds', 'icon': '02d'}], 'base': 'stations', 'main': {'temp': 58.66, 'feels_like': 56.71, 'temp_min': 58.66, 'temp_max': 58.66, 'pressure': 1023, 'humidity': 53, 'sea_level': 1023, 'grnd_level': 1022}, 'visibility': 10000, 'wind': {'speed': 12.59, 'deg': 76, 'gust': 15.46}, 'clouds': {'all': 24}, 'dt': 1659152165, 'sys': {'country': 'RU', 'sunrise': 1659134242, 'sunset': 1659205807}, 'timezone': 10800, 'id': 866062, 'name': 'Iskateley', 'cod': 200}\n",
      "{'coord': {'lon': 27.4167, 'lat': -7.3}, 'weather': [{'id': 800, 'main': 'Clear', 'description': 'clear sky', 'icon': '01n'}], 'base': 'stations', 'main': {'temp': 70.57, 'feels_like': 69.58, 'temp_min': 70.57, 'temp_max': 70.57, 'pressure': 1012, 'humidity': 48, 'sea_level': 1012, 'grnd_level': 944}, 'visibility': 10000, 'wind': {'speed': 2.42, 'deg': 134, 'gust': 2.48}, 'clouds': {'all': 3}, 'dt': 1659152165, 'sys': {'country': 'CD', 'sunrise': 1659154980, 'sunset': 1659197422}, 'timezone': 7200, 'id': 209598, 'name': 'Manono', 'cod': 200}\n",
      "{'coord': {'lon': -51.1, 'lat': 69.2167}, 'weather': [{'id': 803, 'main': 'Clouds', 'description': 'broken clouds', 'icon': '04n'}], 'base': 'stations', 'main': {'temp': 48.22, 'feels_like': 48.22, 'temp_min': 48.22, 'temp_max': 48.22, 'pressure': 1006, 'humidity': 66}, 'visibility': 10000, 'wind': {'speed': 1.14, 'deg': 0}, 'clouds': {'all': 75}, 'dt': 1659152166, 'sys': {'type': 1, 'id': 165, 'country': 'GL', 'sunrise': 1659157238, 'sunset': 1659232851}, 'timezone': -7200, 'id': 3423146, 'name': 'Ilulissat', 'cod': 200}\n",
      "{'coord': {'lon': -89.8333, 'lat': 20.75}, 'weather': [{'id': 803, 'main': 'Clouds', 'description': 'broken clouds', 'icon': '04n'}], 'base': 'stations', 'main': {'temp': 75, 'feels_like': 76.19, 'temp_min': 73.42, 'temp_max': 75, 'pressure': 1014, 'humidity': 85, 'sea_level': 1014, 'grnd_level': 1013}, 'visibility': 10000, 'wind': {'speed': 6.55, 'deg': 59, 'gust': 25.37}, 'clouds': {'all': 59}, 'dt': 1659152166, 'sys': {'type': 2, 'id': 2007869, 'country': 'MX', 'sunrise': 1659094346, 'sunset': 1659141537}, 'timezone': -18000, 'id': 3530775, 'name': 'Chochola', 'cod': 200}\n",
      "{'coord': {'lon': 152.4333, 'lat': 62.8833}, 'weather': [{'id': 803, 'main': 'Clouds', 'description': 'broken clouds', 'icon': '04d'}], 'base': 'stations', 'main': {'temp': 67.24, 'feels_like': 65.12, 'temp_min': 67.24, 'temp_max': 67.24, 'pressure': 1009, 'humidity': 31, 'sea_level': 1009, 'grnd_level': 986}, 'visibility': 10000, 'wind': {'speed': 5.84, 'deg': 164, 'gust': 6.31}, 'clouds': {'all': 52}, 'dt': 1659152166, 'sys': {'country': 'RU', 'sunrise': 1659114095, 'sunset': 1659178300}, 'timezone': 39600, 'id': 2121373, 'name': 'Seymchan', 'cod': 200}\n"
     ]
    },
    {
     "name": "stdout",
     "output_type": "stream",
     "text": [
      "{'coord': {'lon': -44.8683, 'lat': -1.8283}, 'weather': [{'id': 801, 'main': 'Clouds', 'description': 'few clouds', 'icon': '02n'}], 'base': 'stations', 'main': {'temp': 74.91, 'feels_like': 76.39, 'temp_min': 74.91, 'temp_max': 74.91, 'pressure': 1013, 'humidity': 91, 'sea_level': 1013, 'grnd_level': 1012}, 'visibility': 10000, 'wind': {'speed': 3.67, 'deg': 43, 'gust': 13.98}, 'clouds': {'all': 11}, 'dt': 1659152167, 'sys': {'country': 'BR', 'sunrise': 1659171885, 'sunset': 1659215212}, 'timezone': -10800, 'id': 3401148, 'name': 'Cururupu', 'cod': 200}\n",
      "{'coord': {'lon': 125.4092, 'lat': -8.9266}, 'weather': [{'id': 804, 'main': 'Clouds', 'description': 'overcast clouds', 'icon': '04d'}], 'base': 'stations', 'main': {'temp': 74.1, 'feels_like': 73.15, 'temp_min': 74.1, 'temp_max': 74.1, 'pressure': 1011, 'humidity': 41, 'sea_level': 1011, 'grnd_level': 860}, 'visibility': 10000, 'wind': {'speed': 3.8, 'deg': 162, 'gust': 5.82}, 'clouds': {'all': 88}, 'dt': 1659152167, 'sys': {'country': 'TL', 'sunrise': 1659131597, 'sunset': 1659173768}, 'timezone': 32400, 'id': 1651810, 'name': 'Airai', 'cod': 200}\n",
      "{'coord': {'lon': -97.8558, 'lat': 55.7435}, 'weather': [{'id': 802, 'main': 'Clouds', 'description': 'scattered clouds', 'icon': '03n'}], 'base': 'stations', 'main': {'temp': 60.96, 'feels_like': 60.39, 'temp_min': 60.96, 'temp_max': 60.96, 'pressure': 1011, 'humidity': 77}, 'visibility': 10000, 'wind': {'speed': 5.75, 'deg': 20}, 'clouds': {'all': 40}, 'dt': 1659152167, 'sys': {'type': 1, 'id': 935, 'country': 'CA', 'sunrise': 1659090681, 'sunset': 1659149053}, 'timezone': -18000, 'id': 6165406, 'name': 'Thompson', 'cod': 200}\n",
      "{'coord': {'lon': 129.4833, 'lat': 28.3667}, 'weather': [{'id': 501, 'main': 'Rain', 'description': 'moderate rain', 'icon': '10d'}], 'base': 'stations', 'main': {'temp': 81.52, 'feels_like': 88.56, 'temp_min': 81.52, 'temp_max': 81.52, 'pressure': 1004, 'humidity': 84, 'sea_level': 1004, 'grnd_level': 978}, 'visibility': 10000, 'wind': {'speed': 21.03, 'deg': 140, 'gust': 29.64}, 'rain': {'1h': 2}, 'clouds': {'all': 100}, 'dt': 1659152168, 'sys': {'type': 1, 'id': 8013, 'country': 'JP', 'sunrise': 1659127348, 'sunset': 1659176063}, 'timezone': 32400, 'id': 1855540, 'name': 'Naze', 'cod': 200}\n",
      "{'coord': {'lon': 166.1, 'lat': 60.4667}, 'weather': [{'id': 500, 'main': 'Rain', 'description': 'light rain', 'icon': '10d'}], 'base': 'stations', 'main': {'temp': 51.53, 'feels_like': 50.67, 'temp_min': 51.53, 'temp_max': 51.53, 'pressure': 1012, 'humidity': 91, 'sea_level': 1012, 'grnd_level': 988}, 'visibility': 10000, 'wind': {'speed': 28.92, 'deg': 113, 'gust': 39.68}, 'rain': {'1h': 0.59}, 'clouds': {'all': 100}, 'dt': 1659152168, 'sys': {'country': 'RU', 'sunrise': 1659112013, 'sunset': 1659173822}, 'timezone': 43200, 'id': 2120591, 'name': 'Tilichiki', 'cod': 200}\n",
      "{'coord': {'lon': 29.6619, 'lat': -8.4689}, 'weather': [{'id': 803, 'main': 'Clouds', 'description': 'broken clouds', 'icon': '04n'}], 'base': 'stations', 'main': {'temp': 65.34, 'feels_like': 64.2, 'temp_min': 65.34, 'temp_max': 65.34, 'pressure': 1015, 'humidity': 56, 'sea_level': 1015, 'grnd_level': 910}, 'visibility': 10000, 'wind': {'speed': 3.76, 'deg': 172, 'gust': 6.93}, 'clouds': {'all': 80}, 'dt': 1659152168, 'sys': {'country': 'ZM', 'sunrise': 1659154536, 'sunset': 1659196787}, 'timezone': 7200, 'id': 176758, 'name': 'Kaputa', 'cod': 200}\n",
      "{'coord': {'lon': -22.4338, 'lat': 63.8424}, 'weather': [{'id': 803, 'main': 'Clouds', 'description': 'broken clouds', 'icon': '04n'}], 'base': 'stations', 'main': {'temp': 43.27, 'feels_like': 38.53, 'temp_min': 43.27, 'temp_max': 44.55, 'pressure': 1006, 'humidity': 87}, 'visibility': 10000, 'wind': {'speed': 8.05, 'deg': 360}, 'clouds': {'all': 75}, 'dt': 1659152169, 'sys': {'type': 1, 'id': 90, 'country': 'IS', 'sunrise': 1659155586, 'sunset': 1659220743}, 'timezone': 0, 'id': 3416888, 'name': 'Grindavik', 'cod': 200}\n",
      "{'cod': '404', 'message': 'city not found'}\n",
      "City Not Found\n",
      "{'coord': {'lon': 35.4968, 'lat': 38.737}, 'weather': [{'id': 800, 'main': 'Clear', 'description': 'clear sky', 'icon': '01d'}], 'base': 'stations', 'main': {'temp': 53.62, 'feels_like': 52.25, 'temp_min': 53.62, 'temp_max': 53.62, 'pressure': 1014, 'humidity': 76}, 'visibility': 10000, 'wind': {'speed': 0, 'deg': 0}, 'clouds': {'all': 0}, 'dt': 1659152169, 'sys': {'type': 1, 'id': 6963, 'country': 'TR', 'sunrise': 1659148634, 'sunset': 1659199889}, 'timezone': 10800, 'id': 308463, 'name': 'Kayseri Province', 'cod': 200}\n",
      "{'coord': {'lon': -117.7357, 'lat': 40.973}, 'weather': [{'id': 800, 'main': 'Clear', 'description': 'clear sky', 'icon': '01n'}], 'base': 'stations', 'main': {'temp': 93.25, 'feels_like': 88.66, 'temp_min': 93.25, 'temp_max': 93.25, 'pressure': 1016, 'humidity': 10}, 'visibility': 10000, 'wind': {'speed': 9.22, 'deg': 30}, 'clouds': {'all': 0}, 'dt': 1659152170, 'sys': {'type': 1, 'id': 6249, 'country': 'US', 'sunrise': 1659098647, 'sunset': 1659150629}, 'timezone': -25200, 'id': 5710360, 'name': 'Winnemucca', 'cod': 200}\n",
      "{'coord': {'lon': -135.0107, 'lat': 68.2191}, 'weather': [{'id': 804, 'main': 'Clouds', 'description': 'overcast clouds', 'icon': '04d'}], 'base': 'stations', 'main': {'temp': 38.93, 'feels_like': 36.23, 'temp_min': 38.93, 'temp_max': 38.93, 'pressure': 1023, 'humidity': 96, 'sea_level': 1023, 'grnd_level': 1022}, 'visibility': 163, 'wind': {'speed': 3.85, 'deg': 265, 'gust': 5.73}, 'clouds': {'all': 100}, 'dt': 1659152170, 'sys': {'country': 'CA', 'sunrise': 1659092186, 'sunset': 1659165383}, 'timezone': -21600, 'id': 5882953, 'name': 'Aklavik', 'cod': 200}\n",
      "{'coord': {'lon': -8.0083, 'lat': 31.6315}, 'weather': [{'id': 800, 'main': 'Clear', 'description': 'clear sky', 'icon': '01n'}], 'base': 'stations', 'main': {'temp': 77.07, 'feels_like': 77.34, 'temp_min': 77.07, 'temp_max': 77.07, 'pressure': 1014, 'humidity': 61}, 'visibility': 10000, 'wind': {'speed': 3.44, 'deg': 250}, 'clouds': {'all': 0}, 'dt': 1659152170, 'sys': {'type': 1, 'id': 2409, 'country': 'MA', 'sunrise': 1659159992, 'sunset': 1659209413}, 'timezone': 3600, 'id': 2542997, 'name': 'Marrakesh', 'cod': 200}\n",
      "{'coord': {'lon': -67.4293, 'lat': 8.9242}, 'weather': [{'id': 802, 'main': 'Clouds', 'description': 'scattered clouds', 'icon': '03n'}], 'base': 'stations', 'main': {'temp': 74.3, 'feels_like': 75.61, 'temp_min': 74.3, 'temp_max': 74.3, 'pressure': 1013, 'humidity': 89, 'sea_level': 1013, 'grnd_level': 1001}, 'visibility': 10000, 'wind': {'speed': 2.33, 'deg': 32, 'gust': 2.37}, 'clouds': {'all': 35}, 'dt': 1659152171, 'sys': {'country': 'VE', 'sunrise': 1659090019, 'sunset': 1659135110}, 'timezone': -14400, 'id': 3647444, 'name': 'Calabozo', 'cod': 200}\n",
      "{'coord': {'lon': 79.9828, 'lat': 6.4788}, 'weather': [{'id': 804, 'main': 'Clouds', 'description': 'overcast clouds', 'icon': '04d'}], 'base': 'stations', 'main': {'temp': 81.73, 'feels_like': 87.67, 'temp_min': 81.73, 'temp_max': 81.73, 'pressure': 1010, 'humidity': 78, 'sea_level': 1010, 'grnd_level': 1009}, 'visibility': 10000, 'wind': {'speed': 5.37, 'deg': 235, 'gust': 6.29}, 'clouds': {'all': 87}, 'dt': 1659152171, 'sys': {'country': 'LK', 'sunrise': 1659141248, 'sunset': 1659185922}, 'timezone': 19800, 'id': 1249931, 'name': 'Beruwala', 'cod': 200}\n",
      "{'coord': {'lon': 22.9189, 'lat': 55.985}, 'weather': [{'id': 801, 'main': 'Clouds', 'description': 'few clouds', 'icon': '02d'}], 'base': 'stations', 'main': {'temp': 50.25, 'feels_like': 48.54, 'temp_min': 50.25, 'temp_max': 50.25, 'pressure': 1022, 'humidity': 76, 'sea_level': 1022, 'grnd_level': 1009}, 'visibility': 10000, 'wind': {'speed': 3.6, 'deg': 69, 'gust': 4.43}, 'clouds': {'all': 21}, 'dt': 1659152171, 'sys': {'type': 1, 'id': 1882, 'country': 'LT', 'sunrise': 1659148093, 'sunset': 1659206467}, 'timezone': 10800, 'id': 597769, 'name': 'Kuršėnai', 'cod': 200}\n",
      "{'coord': {'lon': 150.8552, 'lat': -34.5833}, 'weather': [{'id': 800, 'main': 'Clear', 'description': 'clear sky', 'icon': '01d'}], 'base': 'stations', 'main': {'temp': 57.25, 'feels_like': 55.22, 'temp_min': 57.25, 'temp_max': 57.25, 'pressure': 1026, 'humidity': 54, 'sea_level': 1026, 'grnd_level': 1024}, 'visibility': 10000, 'wind': {'speed': 5.48, 'deg': 56, 'gust': 7}, 'clouds': {'all': 8}, 'dt': 1659152172, 'sys': {'type': 2, 'id': 2010723, 'country': 'AU', 'sunrise': 1659127938, 'sunset': 1659165214}, 'timezone': 36000, 'id': 6255012, 'name': 'Flinders', 'cod': 200}\n"
     ]
    },
    {
     "name": "stdout",
     "output_type": "stream",
     "text": [
      "{'coord': {'lon': 152.9167, 'lat': -31.4333}, 'weather': [{'id': 803, 'main': 'Clouds', 'description': 'broken clouds', 'icon': '04d'}], 'base': 'stations', 'main': {'temp': 62.89, 'feels_like': 61.56, 'temp_min': 62.89, 'temp_max': 62.89, 'pressure': 1026, 'humidity': 57, 'sea_level': 1026, 'grnd_level': 1025}, 'visibility': 10000, 'wind': {'speed': 8.68, 'deg': 186, 'gust': 8.86}, 'clouds': {'all': 66}, 'dt': 1659152172, 'sys': {'type': 2, 'id': 2037918, 'country': 'AU', 'sunrise': 1659127083, 'sunset': 1659165080}, 'timezone': 36000, 'id': 2152659, 'name': 'Port Macquarie', 'cod': 200}\n",
      "{'coord': {'lon': -15.9785, 'lat': 18.0858}, 'weather': [{'id': 804, 'main': 'Clouds', 'description': 'overcast clouds', 'icon': '04n'}], 'base': 'stations', 'main': {'temp': 78.73, 'feels_like': 78.73, 'temp_min': 78.73, 'temp_max': 78.73, 'pressure': 1010, 'humidity': 78, 'sea_level': 1010, 'grnd_level': 1009}, 'visibility': 10000, 'wind': {'speed': 19.3, 'deg': 240, 'gust': 24.63}, 'clouds': {'all': 99}, 'dt': 1659152172, 'sys': {'type': 1, 'id': 2482, 'country': 'MR', 'sunrise': 1659163286, 'sunset': 1659209945}, 'timezone': 0, 'id': 2377450, 'name': 'Nouakchott', 'cod': 200}\n",
      "{'coord': {'lon': 25.8338, 'lat': -13.4584}, 'weather': [{'id': 800, 'main': 'Clear', 'description': 'clear sky', 'icon': '01n'}], 'base': 'stations', 'main': {'temp': 50.45, 'feels_like': 47.55, 'temp_min': 50.45, 'temp_max': 50.45, 'pressure': 1019, 'humidity': 50, 'sea_level': 1019, 'grnd_level': 880}, 'visibility': 10000, 'wind': {'speed': 5.1, 'deg': 93, 'gust': 12.84}, 'clouds': {'all': 1}, 'dt': 1659152173, 'sys': {'country': 'ZM', 'sunrise': 1659155869, 'sunset': 1659197292}, 'timezone': 7200, 'id': 912628, 'name': 'Kasempa', 'cod': 200}\n",
      "{'coord': {'lon': 102.5, 'lat': 71.9667}, 'weather': [{'id': 500, 'main': 'Rain', 'description': 'light rain', 'icon': '10n'}], 'base': 'stations', 'main': {'temp': 71.19, 'feels_like': 70.92, 'temp_min': 71.19, 'temp_max': 71.19, 'pressure': 1004, 'humidity': 62, 'sea_level': 1004, 'grnd_level': 1001}, 'visibility': 10000, 'wind': {'speed': 9.95, 'deg': 260, 'gust': 12.77}, 'rain': {'1h': 0.22}, 'clouds': {'all': 99}, 'dt': 1659152173, 'sys': {'country': 'RU', 'sunrise': 0, 'sunset': 0}, 'timezone': 25200, 'id': 2022572, 'name': 'Khatanga', 'cod': 200}\n",
      "{'coord': {'lon': -147.8028, 'lat': 64.8569}, 'weather': [{'id': 803, 'main': 'Clouds', 'description': 'broken clouds', 'icon': '04d'}], 'base': 'stations', 'main': {'temp': 71.11, 'feels_like': 69.71, 'temp_min': 67.8, 'temp_max': 73.72, 'pressure': 1012, 'humidity': 38}, 'visibility': 10000, 'wind': {'speed': 3.44, 'deg': 100}, 'clouds': {'all': 75}, 'dt': 1659152173, 'sys': {'type': 1, 'id': 7683, 'country': 'US', 'sunrise': 1659098474, 'sunset': 1659165234}, 'timezone': -28800, 'id': 5859699, 'name': 'College', 'cod': 200}\n",
      "{'coord': {'lon': -124.1637, 'lat': 40.8021}, 'weather': [{'id': 804, 'main': 'Clouds', 'description': 'overcast clouds', 'icon': '04d'}], 'base': 'stations', 'main': {'temp': 59.07, 'feels_like': 58.82, 'temp_min': 56.01, 'temp_max': 59.61, 'pressure': 1010, 'humidity': 88}, 'visibility': 4466, 'wind': {'speed': 3, 'deg': 75, 'gust': 7}, 'clouds': {'all': 89}, 'dt': 1659151839, 'sys': {'type': 2, 'id': 2019045, 'country': 'US', 'sunrise': 1659100217, 'sunset': 1659152145}, 'timezone': -25200, 'id': 5563397, 'name': 'Eureka', 'cod': 200}\n",
      "{'coord': {'lon': 177.4833, 'lat': 64.75}, 'weather': [{'id': 801, 'main': 'Clouds', 'description': 'few clouds', 'icon': '02d'}], 'base': 'stations', 'main': {'temp': 55, 'feels_like': 53.31, 'temp_min': 55, 'temp_max': 55.9, 'pressure': 1020, 'humidity': 66}, 'visibility': 10000, 'wind': {'speed': 8.95, 'deg': 180}, 'clouds': {'all': 20}, 'dt': 1659152174, 'sys': {'type': 2, 'id': 47746, 'country': 'RU', 'sunrise': 1659106901, 'sunset': 1659173470}, 'timezone': 43200, 'id': 2127202, 'name': 'Anadyr', 'cod': 200}\n",
      "{'coord': {'lon': 36.7347, 'lat': 48.2532}, 'weather': [{'id': 802, 'main': 'Clouds', 'description': 'scattered clouds', 'icon': '03d'}], 'base': 'stations', 'main': {'temp': 67.06, 'feels_like': 66.24, 'temp_min': 67.06, 'temp_max': 67.06, 'pressure': 1017, 'humidity': 59, 'sea_level': 1017, 'grnd_level': 996}, 'visibility': 10000, 'wind': {'speed': 11.32, 'deg': 35, 'gust': 19.89}, 'clouds': {'all': 28}, 'dt': 1659152174, 'sys': {'country': 'UA', 'sunrise': 1659146722, 'sunset': 1659201207}, 'timezone': 10800, 'id': 701305, 'name': 'Mezhova', 'cod': 200}\n",
      "{'coord': {'lon': 75.3833, 'lat': 19.4833}, 'weather': [{'id': 804, 'main': 'Clouds', 'description': 'overcast clouds', 'icon': '04d'}], 'base': 'stations', 'main': {'temp': 80.28, 'feels_like': 83.14, 'temp_min': 80.28, 'temp_max': 80.28, 'pressure': 1009, 'humidity': 68, 'sea_level': 1009, 'grnd_level': 959}, 'visibility': 10000, 'wind': {'speed': 10.74, 'deg': 306, 'gust': 11.14}, 'clouds': {'all': 96}, 'dt': 1659152175, 'sys': {'type': 1, 'id': 9057, 'country': 'IN', 'sunrise': 1659141226, 'sunset': 1659188152}, 'timezone': 19800, 'id': 1260833, 'name': 'Paithan', 'cod': 200}\n",
      "{'coord': {'lon': 5.1352, 'lat': 61.9875}, 'weather': [{'id': 802, 'main': 'Clouds', 'description': 'scattered clouds', 'icon': '03d'}], 'base': 'stations', 'main': {'temp': 54.27, 'feels_like': 53.11, 'temp_min': 49.96, 'temp_max': 54.27, 'pressure': 1017, 'humidity': 79, 'sea_level': 1017, 'grnd_level': 1005}, 'visibility': 10000, 'wind': {'speed': 6.38, 'deg': 178, 'gust': 9.13}, 'clouds': {'all': 38}, 'dt': 1659152175, 'sys': {'type': 1, 'id': 1616, 'country': 'NO', 'sunrise': 1659149992, 'sunset': 1659213105}, 'timezone': 7200, 'id': 3146487, 'name': 'Raudeberg', 'cod': 200}\n",
      "{'coord': {'lon': 110.3, 'lat': 54.3}, 'weather': [{'id': 501, 'main': 'Rain', 'description': 'moderate rain', 'icon': '10d'}], 'base': 'stations', 'main': {'temp': 59.58, 'feels_like': 59.56, 'temp_min': 59.58, 'temp_max': 59.58, 'pressure': 1002, 'humidity': 92, 'sea_level': 1002, 'grnd_level': 946}, 'visibility': 10000, 'wind': {'speed': 0.25, 'deg': 304, 'gust': 3.89}, 'rain': {'1h': 1.5}, 'clouds': {'all': 100}, 'dt': 1659152175, 'sys': {'country': 'RU', 'sunrise': 1659127597, 'sunset': 1659185021}, 'timezone': 28800, 'id': 2021188, 'name': 'Kurumkan', 'cod': 200}\n",
      "{'coord': {'lon': -8.4694, 'lat': 54.2697}, 'weather': [{'id': 804, 'main': 'Clouds', 'description': 'overcast clouds', 'icon': '04n'}], 'base': 'stations', 'main': {'temp': 61.68, 'feels_like': 62.15, 'temp_min': 61.61, 'temp_max': 61.68, 'pressure': 1013, 'humidity': 98, 'sea_level': 1013, 'grnd_level': 1012}, 'visibility': 10000, 'wind': {'speed': 6.11, 'deg': 226, 'gust': 15.12}, 'clouds': {'all': 100}, 'dt': 1659152176, 'sys': {'type': 2, 'id': 2012815, 'country': 'IE', 'sunrise': 1659156144, 'sunset': 1659213482}, 'timezone': 3600, 'id': 2961423, 'name': 'Sligo', 'cod': 200}\n",
      "{'coord': {'lon': -60.6333, 'lat': -9.1667}, 'weather': [{'id': 803, 'main': 'Clouds', 'description': 'broken clouds', 'icon': '04n'}], 'base': 'stations', 'main': {'temp': 69.73, 'feels_like': 68.76, 'temp_min': 69.73, 'temp_max': 69.73, 'pressure': 1013, 'humidity': 50, 'sea_level': 1013, 'grnd_level': 995}, 'visibility': 10000, 'wind': {'speed': 1.95, 'deg': 112, 'gust': 1.99}, 'clouds': {'all': 84}, 'dt': 1659152176, 'sys': {'country': 'BR', 'sunrise': 1659089873, 'sunset': 1659131995}, 'timezone': -14400, 'id': 3665202, 'name': 'Aripuanã', 'cod': 200}\n",
      "{'coord': {'lon': 122.95, 'lat': 10.6667}, 'weather': [{'id': 501, 'main': 'Rain', 'description': 'moderate rain', 'icon': '10d'}], 'base': 'stations', 'main': {'temp': 84.83, 'feels_like': 93.85, 'temp_min': 84.83, 'temp_max': 84.83, 'pressure': 1008, 'humidity': 74, 'sea_level': 1008, 'grnd_level': 1006}, 'visibility': 10000, 'wind': {'speed': 13.65, 'deg': 227, 'gust': 16.67}, 'rain': {'1h': 1.33}, 'clouds': {'all': 100}, 'dt': 1659152158, 'sys': {'country': 'PH', 'sunrise': 1659130586, 'sunset': 1659175960}, 'timezone': 28800, 'id': 1729564, 'name': 'Bacolod City', 'cod': 200}\n",
      "{'coord': {'lon': 55.7679, 'lat': -21.3585}, 'weather': [{'id': 500, 'main': 'Rain', 'description': 'light rain', 'icon': '10d'}], 'base': 'stations', 'main': {'temp': 65.79, 'feels_like': 65.88, 'temp_min': 65.21, 'temp_max': 65.79, 'pressure': 1025, 'humidity': 81, 'sea_level': 1025, 'grnd_level': 1019}, 'visibility': 10000, 'wind': {'speed': 15.61, 'deg': 80, 'gust': 16.82}, 'rain': {'1h': 0.16}, 'clouds': {'all': 55}, 'dt': 1659152176, 'sys': {'type': 1, 'id': 2127, 'country': 'RE', 'sunrise': 1659149380, 'sunset': 1659189413}, 'timezone': 14400, 'id': 935215, 'name': 'Saint-Philippe', 'cod': 200}\n"
     ]
    },
    {
     "name": "stdout",
     "output_type": "stream",
     "text": [
      "{'coord': {'lon': 70.4667, 'lat': 43.1667}, 'weather': [{'id': 800, 'main': 'Clear', 'description': 'clear sky', 'icon': '01d'}], 'base': 'stations', 'main': {'temp': 79.39, 'feels_like': 79.39, 'temp_min': 79.39, 'temp_max': 79.39, 'pressure': 1008, 'humidity': 25, 'sea_level': 1008, 'grnd_level': 949}, 'visibility': 10000, 'wind': {'speed': 2.86, 'deg': 4, 'gust': 4.99}, 'clouds': {'all': 6}, 'dt': 1659152177, 'sys': {'country': 'KZ', 'sunrise': 1659139556, 'sunset': 1659192182}, 'timezone': 21600, 'id': 1519938, 'name': 'Karatau', 'cod': 200}\n",
      "{'cod': '404', 'message': 'city not found'}\n",
      "City Not Found\n",
      "{'coord': {'lon': 62.3254, 'lat': 25.1216}, 'weather': [{'id': 500, 'main': 'Rain', 'description': 'light rain', 'icon': '10d'}], 'base': 'stations', 'main': {'temp': 81.79, 'feels_like': 88.03, 'temp_min': 81.79, 'temp_max': 81.79, 'pressure': 1006, 'humidity': 79, 'sea_level': 1006, 'grnd_level': 1005}, 'visibility': 10000, 'wind': {'speed': 8.43, 'deg': 233, 'gust': 8.3}, 'rain': {'1h': 0.13}, 'clouds': {'all': 97}, 'dt': 1659152177, 'sys': {'country': 'PK', 'sunrise': 1659143813, 'sunset': 1659191833}, 'timezone': 18000, 'id': 1177446, 'name': 'Gwadar', 'cod': 200}\n",
      "{'coord': {'lon': 114.0833, 'lat': 71.9167}, 'weather': [{'id': 800, 'main': 'Clear', 'description': 'clear sky', 'icon': '01n'}], 'base': 'stations', 'main': {'temp': 74.26, 'feels_like': 73.45, 'temp_min': 74.26, 'temp_max': 74.26, 'pressure': 1004, 'humidity': 44, 'sea_level': 1004, 'grnd_level': 1003}, 'visibility': 10000, 'wind': {'speed': 6.82, 'deg': 293, 'gust': 7.54}, 'clouds': {'all': 2}, 'dt': 1659152178, 'sys': {'country': 'RU', 'sunrise': 0, 'sunset': 0}, 'timezone': 32400, 'id': 2017155, 'name': 'Saskylakh', 'cod': 200}\n",
      "{'coord': {'lon': -96.85, 'lat': 19.5333}, 'weather': [{'id': 803, 'main': 'Clouds', 'description': 'broken clouds', 'icon': '04n'}], 'base': 'stations', 'main': {'temp': 61.74, 'feels_like': 62.02, 'temp_min': 61.74, 'temp_max': 61.74, 'pressure': 1019, 'humidity': 94, 'sea_level': 1019, 'grnd_level': 888}, 'visibility': 10000, 'wind': {'speed': 3.91, 'deg': 274, 'gust': 4.45}, 'clouds': {'all': 66}, 'dt': 1659152179, 'sys': {'country': 'MX', 'sunrise': 1659096146, 'sunset': 1659143106}, 'timezone': -18000, 'id': 3529243, 'name': 'El Castillo', 'cod': 200}\n",
      "{'coord': {'lon': -117.6027, 'lat': 56.1834}, 'weather': [{'id': 501, 'main': 'Rain', 'description': 'moderate rain', 'icon': '10d'}], 'base': 'stations', 'main': {'temp': 65.82, 'feels_like': 65.97, 'temp_min': 65.82, 'temp_max': 65.82, 'pressure': 1012, 'humidity': 82}, 'visibility': 10000, 'wind': {'speed': 12.66, 'deg': 360}, 'rain': {'1h': 1.37}, 'clouds': {'all': 75}, 'dt': 1659152179, 'sys': {'type': 1, 'id': 877, 'country': 'CA', 'sunrise': 1659095287, 'sunset': 1659153925}, 'timezone': -21600, 'id': 5967157, 'name': 'Grimshaw', 'cod': 200}\n",
      "{'coord': {'lon': -122.8027, 'lat': 50.3164}, 'weather': [{'id': 800, 'main': 'Clear', 'description': 'clear sky', 'icon': '01d'}], 'base': 'stations', 'main': {'temp': 79.65, 'feels_like': 79.65, 'temp_min': 79.65, 'temp_max': 79.65, 'pressure': 1012, 'humidity': 43, 'sea_level': 1012, 'grnd_level': 988}, 'visibility': 10000, 'wind': {'speed': 3.78, 'deg': 250, 'gust': 3.76}, 'clouds': {'all': 0}, 'dt': 1659152180, 'sys': {'country': 'CA', 'sunrise': 1659098120, 'sunset': 1659153588}, 'timezone': -25200, 'id': 6100799, 'name': 'Pemberton', 'cod': 200}\n",
      "{'coord': {'lon': -73.414, 'lat': 41.3712}, 'weather': [{'id': 804, 'main': 'Clouds', 'description': 'overcast clouds', 'icon': '04n'}], 'base': 'stations', 'main': {'temp': 73.13, 'feels_like': 73.9, 'temp_min': 69.57, 'temp_max': 76.42, 'pressure': 1011, 'humidity': 80}, 'visibility': 10000, 'wind': {'speed': 4.61, 'deg': 230}, 'clouds': {'all': 100}, 'dt': 1659152180, 'sys': {'type': 2, 'id': 2004826, 'country': 'US', 'sunrise': 1659087941, 'sunset': 1659140062}, 'timezone': -14400, 'id': 5282297, 'name': 'Bethel', 'cod': 200}\n",
      "{'coord': {'lon': 29.6133, 'lat': 41.1754}, 'weather': [{'id': 800, 'main': 'Clear', 'description': 'clear sky', 'icon': '01d'}], 'base': 'stations', 'main': {'temp': 73.56, 'feels_like': 74.28, 'temp_min': 72.27, 'temp_max': 73.56, 'pressure': 1012, 'humidity': 78}, 'visibility': 10000, 'wind': {'speed': 10.63, 'deg': 50, 'gust': 18.79}, 'clouds': {'all': 4}, 'dt': 1659152180, 'sys': {'type': 2, 'id': 2020499, 'country': 'TR', 'sunrise': 1659149686, 'sunset': 1659201661}, 'timezone': 10800, 'id': 739636, 'name': 'Şile', 'cod': 200}\n",
      "{'cod': '404', 'message': 'city not found'}\n",
      "City Not Found\n",
      "{'coord': {'lon': -89.3168, 'lat': 48.4001}, 'weather': [{'id': 803, 'main': 'Clouds', 'description': 'broken clouds', 'icon': '04n'}], 'base': 'stations', 'main': {'temp': 60.71, 'feels_like': 60.62, 'temp_min': 60.71, 'temp_max': 60.78, 'pressure': 1016, 'humidity': 88}, 'visibility': 10000, 'wind': {'speed': 3.44, 'deg': 330}, 'clouds': {'all': 75}, 'dt': 1659151891, 'sys': {'type': 1, 'id': 906, 'country': 'CA', 'sunrise': 1659090494, 'sunset': 1659145142}, 'timezone': -14400, 'id': 6166142, 'name': 'Thunder Bay', 'cod': 200}\n",
      "{'coord': {'lon': -7.7169, 'lat': 4.375}, 'weather': [{'id': 803, 'main': 'Clouds', 'description': 'broken clouds', 'icon': '04n'}], 'base': 'stations', 'main': {'temp': 73.38, 'feels_like': 73.99, 'temp_min': 73.38, 'temp_max': 73.38, 'pressure': 1014, 'humidity': 76, 'sea_level': 1014, 'grnd_level': 1013}, 'visibility': 10000, 'wind': {'speed': 5.68, 'deg': 218, 'gust': 5.64}, 'clouds': {'all': 67}, 'dt': 1659152181, 'sys': {'country': 'LR', 'sunrise': 1659162469, 'sunset': 1659206796}, 'timezone': 0, 'id': 2276492, 'name': 'Harper', 'cod': 200}\n",
      "{'coord': {'lon': -103.6833, 'lat': 18.7333}, 'weather': [{'id': 804, 'main': 'Clouds', 'description': 'overcast clouds', 'icon': '04n'}], 'base': 'stations', 'main': {'temp': 78.04, 'feels_like': 79.77, 'temp_min': 78.04, 'temp_max': 78.04, 'pressure': 1013, 'humidity': 90, 'sea_level': 1013, 'grnd_level': 1011}, 'visibility': 10000, 'wind': {'speed': 1.83, 'deg': 91, 'gust': 1.99}, 'clouds': {'all': 96}, 'dt': 1659152181, 'sys': {'country': 'MX', 'sunrise': 1659097860, 'sunset': 1659144671}, 'timezone': -18000, 'id': 4013679, 'name': 'Coahuayana Viejo', 'cod': 200}\n",
      "{'coord': {'lon': -42.0278, 'lat': -22.9661}, 'weather': [{'id': 804, 'main': 'Clouds', 'description': 'overcast clouds', 'icon': '04n'}], 'base': 'stations', 'main': {'temp': 66.31, 'feels_like': 66.54, 'temp_min': 66.31, 'temp_max': 66.31, 'pressure': 1015, 'humidity': 83, 'sea_level': 1015, 'grnd_level': 1013}, 'visibility': 10000, 'wind': {'speed': 20.71, 'deg': 211, 'gust': 22.28}, 'clouds': {'all': 100}, 'dt': 1659152181, 'sys': {'country': 'BR', 'sunrise': 1659172993, 'sunset': 1659212742}, 'timezone': -10800, 'id': 3471451, 'name': 'Arraial do Cabo', 'cod': 200}\n",
      "{'coord': {'lon': 35.2318, 'lat': 54.0507}, 'weather': [{'id': 801, 'main': 'Clouds', 'description': 'few clouds', 'icon': '02d'}], 'base': 'stations', 'main': {'temp': 56.55, 'feels_like': 55.96, 'temp_min': 56.55, 'temp_max': 56.55, 'pressure': 1021, 'humidity': 86, 'sea_level': 1021, 'grnd_level': 996}, 'visibility': 10000, 'wind': {'speed': 3.6, 'deg': 23, 'gust': 5.53}, 'clouds': {'all': 16}, 'dt': 1659152182, 'sys': {'country': 'RU', 'sunrise': 1659145705, 'sunset': 1659202946}, 'timezone': 10800, 'id': 496869, 'name': 'Seredeyskiy', 'cod': 200}\n",
      "{'coord': {'lon': -68.5145, 'lat': 63.7506}, 'weather': [{'id': 804, 'main': 'Clouds', 'description': 'overcast clouds', 'icon': '04n'}], 'base': 'stations', 'main': {'temp': 44.33, 'feels_like': 44.33, 'temp_min': 44.33, 'temp_max': 44.33, 'pressure': 999, 'humidity': 81}, 'visibility': 10000, 'wind': {'speed': 2.3, 'deg': 260}, 'clouds': {'all': 100}, 'dt': 1659152182, 'sys': {'type': 1, 'id': 797, 'country': 'CA', 'sunrise': 1659080140, 'sunset': 1659145511}, 'timezone': -14400, 'id': 5983720, 'name': 'Iqaluit', 'cod': 200}\n",
      "{'coord': {'lon': 40.2064, 'lat': 29.9697}, 'weather': [{'id': 800, 'main': 'Clear', 'description': 'clear sky', 'icon': '01d'}], 'base': 'stations', 'main': {'temp': 85.57, 'feels_like': 82.29, 'temp_min': 85.57, 'temp_max': 85.57, 'pressure': 1005, 'humidity': 13, 'sea_level': 1005, 'grnd_level': 945}, 'visibility': 10000, 'wind': {'speed': 3.85, 'deg': 194, 'gust': 7.11}, 'clouds': {'all': 2}, 'dt': 1659152182, 'sys': {'type': 1, 'id': 7431, 'country': 'SA', 'sunrise': 1659148606, 'sunset': 1659197657}, 'timezone': 10800, 'id': 102527, 'name': 'Sakakah', 'cod': 200}\n",
      "{'cod': '404', 'message': 'city not found'}\n",
      "City Not Found\n"
     ]
    },
    {
     "name": "stdout",
     "output_type": "stream",
     "text": [
      "{'coord': {'lon': 36.2, 'lat': 36.9559}, 'weather': [{'id': 800, 'main': 'Clear', 'description': 'clear sky', 'icon': '01d'}], 'base': 'stations', 'main': {'temp': 77.41, 'feels_like': 77.72, 'temp_min': 77.41, 'temp_max': 77.41, 'pressure': 1007, 'humidity': 61, 'sea_level': 1007, 'grnd_level': 988}, 'visibility': 10000, 'wind': {'speed': 0.63, 'deg': 139, 'gust': 2.15}, 'clouds': {'all': 0}, 'dt': 1659152183, 'sys': {'country': 'TR', 'sunrise': 1659148711, 'sunset': 1659199474}, 'timezone': 10800, 'id': 296852, 'name': 'Erzin', 'cod': 200}\n",
      "{'coord': {'lon': -67.6236, 'lat': 5.6639}, 'weather': [{'id': 804, 'main': 'Clouds', 'description': 'overcast clouds', 'icon': '04n'}], 'base': 'stations', 'main': {'temp': 74.34, 'feels_like': 75.85, 'temp_min': 74.34, 'temp_max': 74.34, 'pressure': 1014, 'humidity': 93, 'sea_level': 1014, 'grnd_level': 1005}, 'visibility': 10000, 'wind': {'speed': 2.98, 'deg': 181, 'gust': 3.38}, 'clouds': {'all': 100}, 'dt': 1659152183, 'sys': {'country': 'VE', 'sunrise': 1659090338, 'sunset': 1659134885}, 'timezone': -14400, 'id': 3629710, 'name': 'Puerto Ayacucho', 'cod': 200}\n",
      "{'coord': {'lon': -117.3795, 'lat': 33.1959}, 'weather': [{'id': 801, 'main': 'Clouds', 'description': 'few clouds', 'icon': '02n'}], 'base': 'stations', 'main': {'temp': 68.76, 'feels_like': 69.22, 'temp_min': 66.06, 'temp_max': 73.51, 'pressure': 1012, 'humidity': 83}, 'visibility': 10000, 'wind': {'speed': 5.75, 'deg': 210}, 'clouds': {'all': 20}, 'dt': 1659152030, 'sys': {'type': 2, 'id': 2009310, 'country': 'US', 'sunrise': 1659099626, 'sunset': 1659149479}, 'timezone': -25200, 'id': 5378771, 'name': 'Oceanside', 'cod': 200}\n",
      "{'coord': {'lon': 113.9611, 'lat': 62.5353}, 'weather': [{'id': 803, 'main': 'Clouds', 'description': 'broken clouds', 'icon': '04d'}], 'base': 'stations', 'main': {'temp': 69.24, 'feels_like': 68.88, 'temp_min': 69.24, 'temp_max': 69.24, 'pressure': 1000, 'humidity': 64}, 'visibility': 10000, 'wind': {'speed': 8.99, 'deg': 190, 'gust': 0}, 'clouds': {'all': 83}, 'dt': 1659152184, 'sys': {'type': 2, 'id': 69381, 'country': 'RU', 'sunrise': 1659123538, 'sunset': 1659187323}, 'timezone': 32400, 'id': 2019951, 'name': 'Mirny', 'cod': 200}\n",
      "{'coord': {'lon': 49.1816, 'lat': 11.2842}, 'weather': [{'id': 500, 'main': 'Rain', 'description': 'light rain', 'icon': '10d'}], 'base': 'stations', 'main': {'temp': 87.21, 'feels_like': 88.21, 'temp_min': 87.21, 'temp_max': 87.21, 'pressure': 1007, 'humidity': 45, 'sea_level': 1007, 'grnd_level': 1005}, 'visibility': 10000, 'wind': {'speed': 27.13, 'deg': 169, 'gust': 33.69}, 'rain': {'1h': 0.28}, 'clouds': {'all': 94}, 'dt': 1659152184, 'sys': {'country': 'SO', 'sunrise': 1659148241, 'sunset': 1659193714}, 'timezone': 10800, 'id': 64013, 'name': 'Bosaso', 'cod': 200}\n",
      "{'coord': {'lon': 117.996, 'lat': 50.4457}, 'weather': [{'id': 803, 'main': 'Clouds', 'description': 'broken clouds', 'icon': '04d'}], 'base': 'stations', 'main': {'temp': 77.11, 'feels_like': 77.34, 'temp_min': 77.11, 'temp_max': 77.11, 'pressure': 1003, 'humidity': 60, 'sea_level': 1003, 'grnd_level': 921}, 'visibility': 10000, 'wind': {'speed': 8.68, 'deg': 143, 'gust': 10.47}, 'clouds': {'all': 71}, 'dt': 1659152184, 'sys': {'country': 'RU', 'sunrise': 1659126727, 'sunset': 1659182197}, 'timezone': 32400, 'id': 2021992, 'name': 'Klichka', 'cod': 200}\n",
      "{'coord': {'lon': -59.7833, 'lat': 8.2}, 'weather': [{'id': 802, 'main': 'Clouds', 'description': 'scattered clouds', 'icon': '03n'}], 'base': 'stations', 'main': {'temp': 73.49, 'feels_like': 75.09, 'temp_min': 73.49, 'temp_max': 73.49, 'pressure': 1013, 'humidity': 97, 'sea_level': 1013, 'grnd_level': 1012}, 'visibility': 10000, 'wind': {'speed': 1.48, 'deg': 102, 'gust': 2.06}, 'clouds': {'all': 28}, 'dt': 1659152185, 'sys': {'country': 'GY', 'sunrise': 1659088245, 'sunset': 1659133215}, 'timezone': -14400, 'id': 3377301, 'name': 'Mabaruma', 'cod': 200}\n",
      "{'cod': '404', 'message': 'city not found'}\n",
      "City Not Found\n",
      "{'coord': {'lon': 87.9833, 'lat': 65.8167}, 'weather': [{'id': 803, 'main': 'Clouds', 'description': 'broken clouds', 'icon': '04d'}], 'base': 'stations', 'main': {'temp': 76.75, 'feels_like': 76.37, 'temp_min': 76.75, 'temp_max': 76.75, 'pressure': 1006, 'humidity': 48, 'sea_level': 1006, 'grnd_level': 1001}, 'visibility': 10000, 'wind': {'speed': 11.83, 'deg': 358, 'gust': 13.06}, 'clouds': {'all': 67}, 'dt': 1659152185, 'sys': {'country': 'RU', 'sunrise': 1659127632, 'sunset': 1659195698}, 'timezone': 25200, 'id': 1488903, 'name': 'Turukhansk', 'cod': 200}\n",
      "{'coord': {'lon': 39.0031, 'lat': 41.0308}, 'weather': [{'id': 802, 'main': 'Clouds', 'description': 'scattered clouds', 'icon': '03d'}], 'base': 'stations', 'main': {'temp': 71.49, 'feels_like': 72.28, 'temp_min': 71.49, 'temp_max': 71.49, 'pressure': 1012, 'humidity': 84, 'sea_level': 1012, 'grnd_level': 1005}, 'visibility': 10000, 'wind': {'speed': 1.03, 'deg': 140, 'gust': 1.61}, 'clouds': {'all': 44}, 'dt': 1659152186, 'sys': {'country': 'TR', 'sunrise': 1659147453, 'sunset': 1659199387}, 'timezone': 10800, 'id': 746565, 'name': 'Görele', 'cod': 200}\n",
      "{'coord': {'lon': 45.3438, 'lat': 2.0371}, 'weather': [{'id': 802, 'main': 'Clouds', 'description': 'scattered clouds', 'icon': '03d'}], 'base': 'stations', 'main': {'temp': 76.3, 'feels_like': 77.4, 'temp_min': 76.3, 'temp_max': 76.3, 'pressure': 1015, 'humidity': 80, 'sea_level': 1015, 'grnd_level': 1013}, 'visibility': 10000, 'wind': {'speed': 16.2, 'deg': 207, 'gust': 21.18}, 'clouds': {'all': 42}, 'dt': 1659152186, 'sys': {'country': 'SO', 'sunrise': 1659149924, 'sunset': 1659193873}, 'timezone': 10800, 'id': 53654, 'name': 'Mogadishu', 'cod': 200}\n",
      "{'cod': '404', 'message': 'city not found'}\n",
      "City Not Found\n",
      "{'coord': {'lon': -68.5914, 'lat': 70.4692}, 'weather': [{'id': 804, 'main': 'Clouds', 'description': 'overcast clouds', 'icon': '04n'}], 'base': 'stations', 'main': {'temp': 39.43, 'feels_like': 32.32, 'temp_min': 39.43, 'temp_max': 39.43, 'pressure': 1002, 'humidity': 100}, 'visibility': 10000, 'wind': {'speed': 11.5, 'deg': 340, 'gust': 17.27}, 'clouds': {'all': 100}, 'dt': 1659152186, 'sys': {'type': 1, 'id': 776, 'country': 'CA', 'sunrise': 0, 'sunset': 0}, 'timezone': -14400, 'id': 5924351, 'name': 'Clyde River', 'cod': 200}\n",
      "{'coord': {'lon': -96.667, 'lat': 40.8}, 'weather': [{'id': 800, 'main': 'Clear', 'description': 'clear sky', 'icon': '01n'}], 'base': 'stations', 'main': {'temp': 69.75, 'feels_like': 69.8, 'temp_min': 66, 'temp_max': 72.01, 'pressure': 1019, 'humidity': 72}, 'visibility': 10000, 'wind': {'speed': 5.75, 'deg': 170}, 'clouds': {'all': 0}, 'dt': 1659151925, 'sys': {'type': 2, 'id': 2007392, 'country': 'US', 'sunrise': 1659093614, 'sunset': 1659145550}, 'timezone': -18000, 'id': 5072006, 'name': 'Lincoln', 'cod': 200}\n",
      "{'coord': {'lon': 108.2667, 'lat': -2.8833}, 'weather': [{'id': 804, 'main': 'Clouds', 'description': 'overcast clouds', 'icon': '04d'}], 'base': 'stations', 'main': {'temp': 76.87, 'feels_like': 78.53, 'temp_min': 76.87, 'temp_max': 76.87, 'pressure': 1010, 'humidity': 91, 'sea_level': 1010, 'grnd_level': 1010}, 'visibility': 6608, 'wind': {'speed': 4.29, 'deg': 110, 'gust': 8.52}, 'clouds': {'all': 100}, 'dt': 1659152187, 'sys': {'country': 'ID', 'sunrise': 1659135220, 'sunset': 1659178375}, 'timezone': 25200, 'id': 1636426, 'name': 'Manggar', 'cod': 200}\n",
      "{'coord': {'lon': -52.3333, 'lat': 4.9333}, 'weather': [{'id': 801, 'main': 'Clouds', 'description': 'few clouds', 'icon': '02n'}], 'base': 'stations', 'main': {'temp': 76.08, 'feels_like': 73.44, 'temp_min': 75.24, 'temp_max': 76.08, 'pressure': 1013, 'humidity': 1}, 'visibility': 10000, 'wind': {'speed': 3.44, 'deg': 50}, 'clouds': {'all': 11}, 'dt': 1659152187, 'sys': {'type': 2, 'id': 2038747, 'country': 'GF', 'sunrise': 1659173132, 'sunset': 1659217548}, 'timezone': -10800, 'id': 3382160, 'name': 'Cayenne', 'cod': 200}\n",
      "{'coord': {'lon': -171, 'lat': 65.5833}, 'weather': [{'id': 804, 'main': 'Clouds', 'description': 'overcast clouds', 'icon': '04n'}], 'base': 'stations', 'main': {'temp': 47.95, 'feels_like': 44.08, 'temp_min': 47.95, 'temp_max': 47.95, 'pressure': 1019, 'humidity': 75, 'sea_level': 1019, 'grnd_level': 1018}, 'visibility': 10000, 'wind': {'speed': 8.43, 'deg': 84, 'gust': 11.95}, 'clouds': {'all': 100}, 'dt': 1659152188, 'sys': {'country': 'RU', 'sunrise': 1659190134, 'sunset': 1659257505}, 'timezone': 43200, 'id': 4031637, 'name': 'Lavrentiya', 'cod': 200}\n",
      "{'coord': {'lon': -75.978, 'lat': 36.8529}, 'weather': [{'id': 211, 'main': 'Thunderstorm', 'description': 'thunderstorm', 'icon': '11n'}, {'id': 500, 'main': 'Rain', 'description': 'light rain', 'icon': '10n'}], 'base': 'stations', 'main': {'temp': 77.61, 'feels_like': 79.45, 'temp_min': 75.22, 'temp_max': 79.02, 'pressure': 1015, 'humidity': 93}, 'visibility': 10000, 'wind': {'speed': 6.91, 'deg': 200}, 'rain': {'1h': 0.65}, 'clouds': {'all': 20}, 'dt': 1659152020, 'sys': {'type': 1, 'id': 5123, 'country': 'US', 'sunrise': 1659089214, 'sunset': 1659140019}, 'timezone': -14400, 'id': 4791259, 'name': 'Virginia Beach', 'cod': 200}\n"
     ]
    },
    {
     "name": "stdout",
     "output_type": "stream",
     "text": [
      "{'coord': {'lon': 32.3382, 'lat': 59.9258}, 'weather': [{'id': 804, 'main': 'Clouds', 'description': 'overcast clouds', 'icon': '04d'}], 'base': 'stations', 'main': {'temp': 55.72, 'feels_like': 55.45, 'temp_min': 55.72, 'temp_max': 55.72, 'pressure': 1014, 'humidity': 95, 'sea_level': 1014, 'grnd_level': 1010}, 'visibility': 10000, 'wind': {'speed': 7.99, 'deg': 240, 'gust': 19.95}, 'clouds': {'all': 99}, 'dt': 1659152188, 'sys': {'country': 'RU', 'sunrise': 1659144402, 'sunset': 1659205637}, 'timezone': 10800, 'id': 472722, 'name': 'Volkhov', 'cod': 200}\n",
      "{'coord': {'lon': 13.3017, 'lat': 37.8134}, 'weather': [{'id': 800, 'main': 'Clear', 'description': 'clear sky', 'icon': '01n'}], 'base': 'stations', 'main': {'temp': 73.78, 'feels_like': 73.2, 'temp_min': 69.04, 'temp_max': 76.75, 'pressure': 1015, 'humidity': 50, 'sea_level': 1015, 'grnd_level': 954}, 'visibility': 10000, 'wind': {'speed': 0.76, 'deg': 249, 'gust': 1.41}, 'clouds': {'all': 0}, 'dt': 1659152188, 'sys': {'type': 2, 'id': 2000357, 'country': 'IT', 'sunrise': 1659154093, 'sunset': 1659205083}, 'timezone': 7200, 'id': 2524928, 'name': 'Corleone', 'cod': 200}\n",
      "{'coord': {'lon': -135.0538, 'lat': 60.7161}, 'weather': [{'id': 803, 'main': 'Clouds', 'description': 'broken clouds', 'icon': '04d'}], 'base': 'stations', 'main': {'temp': 69.48, 'feels_like': 68.23, 'temp_min': 66.09, 'temp_max': 70.57, 'pressure': 1014, 'humidity': 45}, 'visibility': 10000, 'wind': {'speed': 5.75, 'deg': 140}, 'clouds': {'all': 75}, 'dt': 1659152189, 'sys': {'type': 2, 'id': 47668, 'country': 'CA', 'sunrise': 1659097754, 'sunset': 1659159835}, 'timezone': -25200, 'id': 6180550, 'name': 'Whitehorse', 'cod': 200}\n",
      "{'coord': {'lon': -71.3436, 'lat': -29.9533}, 'weather': [{'id': 804, 'main': 'Clouds', 'description': 'overcast clouds', 'icon': '04n'}], 'base': 'stations', 'main': {'temp': 55.13, 'feels_like': 54.43, 'temp_min': 55.13, 'temp_max': 55.13, 'pressure': 1015, 'humidity': 87}, 'visibility': 10000, 'wind': {'speed': 2.3, 'deg': 0}, 'clouds': {'all': 100}, 'dt': 1659152055, 'sys': {'type': 1, 'id': 8514, 'country': 'CL', 'sunrise': 1659094359, 'sunset': 1659132650}, 'timezone': -14400, 'id': 3893629, 'name': 'Coquimbo', 'cod': 200}\n",
      "{'coord': {'lon': 44.5333, 'lat': -22.9}, 'weather': [{'id': 800, 'main': 'Clear', 'description': 'clear sky', 'icon': '01n'}], 'base': 'stations', 'main': {'temp': 60.24, 'feels_like': 59.49, 'temp_min': 60.24, 'temp_max': 60.24, 'pressure': 1020, 'humidity': 75, 'sea_level': 1020, 'grnd_level': 964}, 'visibility': 10000, 'wind': {'speed': 3.91, 'deg': 47, 'gust': 4.32}, 'clouds': {'all': 6}, 'dt': 1659152189, 'sys': {'country': 'MG', 'sunrise': 1659152219, 'sunset': 1659191967}, 'timezone': 10800, 'id': 1057095, 'name': 'Sakaraha', 'cod': 200}\n",
      "{'coord': {'lon': -60.6733, 'lat': 2.8197}, 'weather': [{'id': 804, 'main': 'Clouds', 'description': 'overcast clouds', 'icon': '04n'}], 'base': 'stations', 'main': {'temp': 75.18, 'feels_like': 76.53, 'temp_min': 75.18, 'temp_max': 75.18, 'pressure': 1016, 'humidity': 88}, 'visibility': 10000, 'wind': {'speed': 8.05, 'deg': 230}, 'clouds': {'all': 100}, 'dt': 1659152050, 'sys': {'type': 1, 'id': 8340, 'country': 'BR', 'sunrise': 1659088903, 'sunset': 1659132984}, 'timezone': -14400, 'id': 3664980, 'name': 'Boa Vista', 'cod': 200}\n",
      "{'coord': {'lon': -152.4072, 'lat': 57.79}, 'weather': [{'id': 500, 'main': 'Rain', 'description': 'light rain', 'icon': '10d'}, {'id': 701, 'main': 'Mist', 'description': 'mist', 'icon': '50d'}], 'base': 'stations', 'main': {'temp': 54.91, 'feels_like': 54.52, 'temp_min': 54.91, 'temp_max': 54.91, 'pressure': 1012, 'humidity': 94}, 'visibility': 6437, 'wind': {'speed': 8.05, 'deg': 80}, 'rain': {'1h': 0.76}, 'clouds': {'all': 100}, 'dt': 1659152190, 'sys': {'type': 1, 'id': 7668, 'country': 'US', 'sunrise': 1659103106, 'sunset': 1659162812}, 'timezone': -28800, 'id': 5866583, 'name': 'Saint Paul Harbor', 'cod': 200}\n",
      "{'coord': {'lon': -58.6502, 'lat': 51.226}, 'weather': [{'id': 804, 'main': 'Clouds', 'description': 'overcast clouds', 'icon': '04n'}], 'base': 'stations', 'main': {'temp': 59, 'feels_like': 59.16, 'temp_min': 59, 'temp_max': 59, 'pressure': 1007, 'humidity': 97, 'sea_level': 1007, 'grnd_level': 1007}, 'visibility': 10000, 'wind': {'speed': 11.59, 'deg': 116, 'gust': 20.04}, 'clouds': {'all': 100}, 'dt': 1659152190, 'sys': {'country': 'CA', 'sunrise': 1659082495, 'sunset': 1659138420}, 'timezone': -14400, 'id': 6137462, 'name': 'Saint-Augustin', 'cod': 200}\n",
      "{'coord': {'lon': -57.5575, 'lat': -38.0023}, 'weather': [{'id': 800, 'main': 'Clear', 'description': 'clear sky', 'icon': '01n'}], 'base': 'stations', 'main': {'temp': 48.33, 'feels_like': 46.51, 'temp_min': 42.82, 'temp_max': 50.88, 'pressure': 1017, 'humidity': 78}, 'visibility': 10000, 'wind': {'speed': 4.61, 'deg': 290}, 'clouds': {'all': 0}, 'dt': 1659152190, 'sys': {'type': 2, 'id': 268283, 'country': 'AR', 'sunrise': 1659178352, 'sunset': 1659214836}, 'timezone': -10800, 'id': 3430863, 'name': 'Mar del Plata', 'cod': 200}\n",
      "{'coord': {'lon': -57.6359, 'lat': -25.3007}, 'weather': [{'id': 800, 'main': 'Clear', 'description': 'clear sky', 'icon': '01n'}], 'base': 'stations', 'main': {'temp': 49.44, 'feels_like': 49.44, 'temp_min': 49.44, 'temp_max': 49.89, 'pressure': 1021, 'humidity': 81}, 'visibility': 10000, 'wind': {'speed': 0, 'deg': 0}, 'clouds': {'all': 0}, 'dt': 1659152105, 'sys': {'type': 1, 'id': 8575, 'country': 'PY', 'sunrise': 1659090592, 'sunset': 1659129837}, 'timezone': -14400, 'id': 3439389, 'name': 'Asunción', 'cod': 200}\n",
      "{'coord': {'lon': -66.5427, 'lat': 10.4762}, 'weather': [{'id': 802, 'main': 'Clouds', 'description': 'scattered clouds', 'icon': '03n'}], 'base': 'stations', 'main': {'temp': 69.13, 'feels_like': 70.36, 'temp_min': 69.13, 'temp_max': 69.13, 'pressure': 1016, 'humidity': 98, 'sea_level': 1016, 'grnd_level': 980}, 'visibility': 10000, 'wind': {'speed': 1.52, 'deg': 180, 'gust': 1.9}, 'clouds': {'all': 43}, 'dt': 1659152191, 'sys': {'country': 'VE', 'sunrise': 1659089675, 'sunset': 1659135029}, 'timezone': -14400, 'id': 3639898, 'name': 'Guatire', 'cod': 200}\n",
      "{'coord': {'lon': 83.75, 'lat': 18.6}, 'weather': [{'id': 802, 'main': 'Clouds', 'description': 'scattered clouds', 'icon': '03d'}], 'base': 'stations', 'main': {'temp': 89.2, 'feels_like': 99.99, 'temp_min': 89.2, 'temp_max': 89.2, 'pressure': 1007, 'humidity': 64, 'sea_level': 1007, 'grnd_level': 1002}, 'visibility': 10000, 'wind': {'speed': 2.64, 'deg': 207, 'gust': 2.48}, 'clouds': {'all': 35}, 'dt': 1659152191, 'sys': {'country': 'IN', 'sunrise': 1659139299, 'sunset': 1659186063}, 'timezone': 19800, 'id': 1260702, 'name': 'Pālkonda', 'cod': 200}\n",
      "{'coord': {'lon': -80.75, 'lat': -5.45}, 'weather': [{'id': 800, 'main': 'Clear', 'description': 'clear sky', 'icon': '01n'}], 'base': 'stations', 'main': {'temp': 64.24, 'feels_like': 63.99, 'temp_min': 64.24, 'temp_max': 64.24, 'pressure': 1014, 'humidity': 77, 'sea_level': 1014, 'grnd_level': 1013}, 'visibility': 10000, 'wind': {'speed': 11.21, 'deg': 157, 'gust': 16.53}, 'clouds': {'all': 4}, 'dt': 1659152191, 'sys': {'country': 'PE', 'sunrise': 1659094395, 'sunset': 1659137129}, 'timezone': -18000, 'id': 3699350, 'name': 'Bernal', 'cod': 200}\n",
      "{'coord': {'lon': 14.5431, 'lat': 35.8419}, 'weather': [{'id': 800, 'main': 'Clear', 'description': 'clear sky', 'icon': '01n'}], 'base': 'stations', 'main': {'temp': 79.41, 'feels_like': 79.41, 'temp_min': 79.41, 'temp_max': 81.09, 'pressure': 1013, 'humidity': 73}, 'visibility': 10000, 'wind': {'speed': 5.75, 'deg': 290}, 'clouds': {'all': 0}, 'dt': 1659152192, 'sys': {'type': 1, 'id': 6861, 'country': 'MT', 'sunrise': 1659154059, 'sunset': 1659204521}, 'timezone': 7200, 'id': 2562247, 'name': 'Marsaxlokk', 'cod': 200}\n",
      "{'coord': {'lon': -73.65, 'lat': -37.6167}, 'weather': [{'id': 804, 'main': 'Clouds', 'description': 'overcast clouds', 'icon': '04n'}], 'base': 'stations', 'main': {'temp': 47.8, 'feels_like': 41.32, 'temp_min': 47.8, 'temp_max': 47.8, 'pressure': 1016, 'humidity': 88, 'sea_level': 1016, 'grnd_level': 1012}, 'visibility': 10000, 'wind': {'speed': 17.11, 'deg': 174, 'gust': 24.18}, 'clouds': {'all': 100}, 'dt': 1659152192, 'sys': {'country': 'CL', 'sunrise': 1659095815, 'sunset': 1659132301}, 'timezone': -14400, 'id': 3883457, 'name': 'Lebu', 'cod': 200}\n",
      "{'coord': {'lon': -105.3505, 'lat': 40.0833}, 'weather': [{'id': 800, 'main': 'Clear', 'description': 'clear sky', 'icon': '01n'}], 'base': 'stations', 'main': {'temp': 61.18, 'feels_like': 60.19, 'temp_min': 58.06, 'temp_max': 63.91, 'pressure': 1022, 'humidity': 68}, 'visibility': 10000, 'wind': {'speed': 6.91, 'deg': 180}, 'clouds': {'all': 0}, 'dt': 1659151898, 'sys': {'type': 2, 'id': 2029641, 'country': 'US', 'sunrise': 1659095808, 'sunset': 1659147524}, 'timezone': -21600, 'id': 5574999, 'name': 'Boulder', 'cod': 200}\n"
     ]
    },
    {
     "name": "stdout",
     "output_type": "stream",
     "text": [
      "{'coord': {'lon': -38.3242, 'lat': -12.6975}, 'weather': [{'id': 800, 'main': 'Clear', 'description': 'clear sky', 'icon': '01n'}], 'base': 'stations', 'main': {'temp': 76.77, 'feels_like': 78.51, 'temp_min': 76.77, 'temp_max': 76.77, 'pressure': 1015, 'humidity': 93, 'sea_level': 1015, 'grnd_level': 1012}, 'visibility': 10000, 'wind': {'speed': 5.12, 'deg': 62, 'gust': 12.3}, 'clouds': {'all': 6}, 'dt': 1659152192, 'sys': {'type': 1, 'id': 8454, 'country': 'BR', 'sunrise': 1659171200, 'sunset': 1659212757}, 'timezone': -10800, 'id': 3468031, 'name': 'Camaçari', 'cod': 200}\n",
      "{'coord': {'lon': 44.3244, 'lat': 15.1718}, 'weather': [{'id': 803, 'main': 'Clouds', 'description': 'broken clouds', 'icon': '04d'}], 'base': 'stations', 'main': {'temp': 64.42, 'feels_like': 63.37, 'temp_min': 64.42, 'temp_max': 64.42, 'pressure': 1012, 'humidity': 60, 'sea_level': 1012, 'grnd_level': 763}, 'visibility': 10000, 'wind': {'speed': 3.11, 'deg': 261, 'gust': 4.21}, 'clouds': {'all': 58}, 'dt': 1659152193, 'sys': {'country': 'YE', 'sunrise': 1659149071, 'sunset': 1659195215}, 'timezone': 10800, 'id': 70979, 'name': 'Sayyan', 'cod': 200}\n",
      "{'coord': {'lon': 20.2827, 'lat': 11.0297}, 'weather': [{'id': 804, 'main': 'Clouds', 'description': 'overcast clouds', 'icon': '04n'}], 'base': 'stations', 'main': {'temp': 68.81, 'feels_like': 69.94, 'temp_min': 68.81, 'temp_max': 68.81, 'pressure': 1013, 'humidity': 97, 'sea_level': 1013, 'grnd_level': 963}, 'visibility': 10000, 'wind': {'speed': 2.15, 'deg': 243, 'gust': 2.26}, 'clouds': {'all': 100}, 'dt': 1659152193, 'sys': {'country': 'TD', 'sunrise': 1659155199, 'sunset': 1659200627}, 'timezone': 3600, 'id': 245338, 'name': 'Am Timan', 'cod': 200}\n",
      "{'coord': {'lon': 106.2731, 'lat': 38.4681}, 'weather': [{'id': 803, 'main': 'Clouds', 'description': 'broken clouds', 'icon': '04d'}], 'base': 'stations', 'main': {'temp': 89.31, 'feels_like': 88.03, 'temp_min': 89.31, 'temp_max': 89.31, 'pressure': 1000, 'humidity': 34, 'sea_level': 1000, 'grnd_level': 884}, 'visibility': 10000, 'wind': {'speed': 5.5, 'deg': 185, 'gust': 7.56}, 'clouds': {'all': 77}, 'dt': 1659151985, 'sys': {'country': 'CN', 'sunrise': 1659131675, 'sunset': 1659182876}, 'timezone': 28800, 'id': 1786657, 'name': 'Yinchuan', 'cod': 200}\n",
      "{'coord': {'lon': -78.5783, 'lat': -9.0853}, 'weather': [{'id': 803, 'main': 'Clouds', 'description': 'broken clouds', 'icon': '04n'}], 'base': 'stations', 'main': {'temp': 61.83, 'feels_like': 61.79, 'temp_min': 61.83, 'temp_max': 61.83, 'pressure': 1014, 'humidity': 87, 'sea_level': 1014, 'grnd_level': 1013}, 'visibility': 10000, 'wind': {'speed': 7.07, 'deg': 175, 'gust': 9.28}, 'clouds': {'all': 64}, 'dt': 1659152066, 'sys': {'country': 'PE', 'sunrise': 1659094172, 'sunset': 1659136309}, 'timezone': -18000, 'id': 3698304, 'name': 'Chimbote', 'cod': 200}\n",
      "{'coord': {'lon': -101.3565, 'lat': 51.23}, 'weather': [{'id': 800, 'main': 'Clear', 'description': 'clear sky', 'icon': '01n'}], 'base': 'stations', 'main': {'temp': 62.15, 'feels_like': 61.83, 'temp_min': 62.15, 'temp_max': 62.15, 'pressure': 1011, 'humidity': 80, 'sea_level': 1011, 'grnd_level': 948}, 'visibility': 10000, 'wind': {'speed': 7.11, 'deg': 202, 'gust': 9.75}, 'clouds': {'all': 0}, 'dt': 1659152194, 'sys': {'country': 'CA', 'sunrise': 1659092754, 'sunset': 1659148660}, 'timezone': -18000, 'id': 6125862, 'name': 'Roblin', 'cod': 200}\n",
      "{'coord': {'lon': 45.7622, 'lat': 64.8989}, 'weather': [{'id': 801, 'main': 'Clouds', 'description': 'few clouds', 'icon': '02d'}], 'base': 'stations', 'main': {'temp': 70.07, 'feels_like': 69.78, 'temp_min': 70.07, 'temp_max': 70.07, 'pressure': 1015, 'humidity': 64, 'sea_level': 1015, 'grnd_level': 1010}, 'visibility': 10000, 'wind': {'speed': 7.78, 'deg': 129, 'gust': 20.51}, 'clouds': {'all': 14}, 'dt': 1659152194, 'sys': {'country': 'RU', 'sunrise': 1659138484, 'sunset': 1659205111}, 'timezone': 10800, 'id': 535839, 'name': 'Leshukonskoye', 'cod': 200}\n",
      "{'coord': {'lon': -73.3579, 'lat': 41.1415}, 'weather': [{'id': 804, 'main': 'Clouds', 'description': 'overcast clouds', 'icon': '04n'}], 'base': 'stations', 'main': {'temp': 74.07, 'feels_like': 75.45, 'temp_min': 71.56, 'temp_max': 77.56, 'pressure': 1012, 'humidity': 91}, 'visibility': 10000, 'wind': {'speed': 7.29, 'deg': 247, 'gust': 16.6}, 'clouds': {'all': 91}, 'dt': 1659152005, 'sys': {'type': 2, 'id': 2011298, 'country': 'US', 'sunrise': 1659087963, 'sunset': 1659140012}, 'timezone': -14400, 'id': 4845585, 'name': 'Westport', 'cod': 200}\n",
      "{'coord': {'lon': -99.8901, 'lat': 16.8634}, 'weather': [{'id': 804, 'main': 'Clouds', 'description': 'overcast clouds', 'icon': '04n'}], 'base': 'stations', 'main': {'temp': 82.22, 'feels_like': 90.14, 'temp_min': 82.22, 'temp_max': 82.22, 'pressure': 1011, 'humidity': 83}, 'visibility': 9656, 'wind': {'speed': 2.3, 'deg': 140}, 'clouds': {'all': 100}, 'dt': 1659151963, 'sys': {'type': 1, 'id': 7103, 'country': 'MX', 'sunrise': 1659097121, 'sunset': 1659143589}, 'timezone': -18000, 'id': 3533462, 'name': 'Acapulco de Juárez', 'cod': 200}\n",
      "{'coord': {'lon': 132.75, 'lat': -5.6667}, 'weather': [{'id': 802, 'main': 'Clouds', 'description': 'scattered clouds', 'icon': '03d'}], 'base': 'stations', 'main': {'temp': 78.71, 'feels_like': 78.71, 'temp_min': 78.71, 'temp_max': 78.71, 'pressure': 1009, 'humidity': 86, 'sea_level': 1009, 'grnd_level': 1009}, 'visibility': 10000, 'wind': {'speed': 17.25, 'deg': 128, 'gust': 20.51}, 'clouds': {'all': 40}, 'dt': 1659152195, 'sys': {'country': 'ID', 'sunrise': 1659129569, 'sunset': 1659172273}, 'timezone': 32400, 'id': 1623197, 'name': 'Tual', 'cod': 200}\n",
      "{'coord': {'lon': -52.7314, 'lat': 47.6666}, 'weather': [{'id': 520, 'main': 'Rain', 'description': 'light intensity shower rain', 'icon': '09n'}], 'base': 'stations', 'main': {'temp': 57.99, 'feels_like': 57.81, 'temp_min': 56.75, 'temp_max': 59.58, 'pressure': 1016, 'humidity': 92}, 'visibility': 10000, 'wind': {'speed': 6.91, 'deg': 220}, 'rain': {'1h': 0.51}, 'clouds': {'all': 100}, 'dt': 1659152130, 'sys': {'type': 1, 'id': 998, 'country': 'CA', 'sunrise': 1659168331, 'sunset': 1659222540}, 'timezone': -9000, 'id': 6167817, 'name': 'Torbay', 'cod': 200}\n",
      "{'coord': {'lon': 121.9, 'lat': -33.8667}, 'weather': [{'id': 803, 'main': 'Clouds', 'description': 'broken clouds', 'icon': '04d'}], 'base': 'stations', 'main': {'temp': 55.24, 'feels_like': 53.1, 'temp_min': 55.24, 'temp_max': 55.24, 'pressure': 1010, 'humidity': 56, 'sea_level': 1010, 'grnd_level': 1010}, 'visibility': 10000, 'wind': {'speed': 30.13, 'deg': 277, 'gust': 39.15}, 'clouds': {'all': 58}, 'dt': 1659152195, 'sys': {'type': 1, 'id': 9525, 'country': 'AU', 'sunrise': 1659134799, 'sunset': 1659172251}, 'timezone': 28800, 'id': 2071860, 'name': 'Esperance', 'cod': 200}\n",
      "{'coord': {'lon': -62.2724, 'lat': -38.7196}, 'weather': [{'id': 800, 'main': 'Clear', 'description': 'clear sky', 'icon': '01n'}], 'base': 'stations', 'main': {'temp': 49.51, 'feels_like': 46.89, 'temp_min': 49.51, 'temp_max': 49.51, 'pressure': 1014, 'humidity': 59, 'sea_level': 1014, 'grnd_level': 1011}, 'visibility': 10000, 'wind': {'speed': 6.4, 'deg': 350, 'gust': 7.92}, 'clouds': {'all': 1}, 'dt': 1659152195, 'sys': {'country': 'AR', 'sunrise': 1659179577, 'sunset': 1659215874}, 'timezone': -10800, 'id': 3865086, 'name': 'Bahía Blanca', 'cod': 200}\n",
      "{'coord': {'lon': -35.4608, 'lat': -5.1989}, 'weather': [{'id': 803, 'main': 'Clouds', 'description': 'broken clouds', 'icon': '04n'}], 'base': 'stations', 'main': {'temp': 75.18, 'feels_like': 76.5, 'temp_min': 75.18, 'temp_max': 75.18, 'pressure': 1014, 'humidity': 87, 'sea_level': 1014, 'grnd_level': 1013}, 'visibility': 10000, 'wind': {'speed': 7.18, 'deg': 114, 'gust': 13.71}, 'clouds': {'all': 55}, 'dt': 1659152196, 'sys': {'country': 'BR', 'sunrise': 1659169899, 'sunset': 1659212683}, 'timezone': -10800, 'id': 3386213, 'name': 'Touros', 'cod': 200}\n",
      "{'cod': '404', 'message': 'city not found'}\n",
      "City Not Found\n",
      "{'coord': {'lon': -84.5333, 'lat': 39.1834}, 'weather': [{'id': 800, 'main': 'Clear', 'description': 'clear sky', 'icon': '01n'}], 'base': 'stations', 'main': {'temp': 66, 'feels_like': 66.06, 'temp_min': 62.11, 'temp_max': 69.03, 'pressure': 1018, 'humidity': 80}, 'visibility': 10000, 'wind': {'speed': 3.44, 'deg': 260}, 'clouds': {'all': 0}, 'dt': 1659152196, 'sys': {'type': 2, 'id': 2005257, 'country': 'US', 'sunrise': 1659090941, 'sunset': 1659142398}, 'timezone': -14400, 'id': 4513583, 'name': 'Hamilton', 'cod': 200}\n"
     ]
    },
    {
     "name": "stdout",
     "output_type": "stream",
     "text": [
      "{'coord': {'lon': -156.47, 'lat': 20.8947}, 'weather': [{'id': 800, 'main': 'Clear', 'description': 'clear sky', 'icon': '01d'}], 'base': 'stations', 'main': {'temp': 87.82, 'feels_like': 91.09, 'temp_min': 83.97, 'temp_max': 87.82, 'pressure': 1016, 'humidity': 51}, 'visibility': 10000, 'wind': {'speed': 9.22, 'deg': 320, 'gust': 21.85}, 'clouds': {'all': 0}, 'dt': 1659152197, 'sys': {'type': 1, 'id': 7879, 'country': 'US', 'sunrise': 1659110329, 'sunset': 1659157539}, 'timezone': -36000, 'id': 5847411, 'name': 'Kahului', 'cod': 200}\n",
      "{'coord': {'lon': -97.5169, 'lat': 28.017}, 'weather': [{'id': 800, 'main': 'Clear', 'description': 'clear sky', 'icon': '01n'}], 'base': 'stations', 'main': {'temp': 83.8, 'feels_like': 91.35, 'temp_min': 82.35, 'temp_max': 85.89, 'pressure': 1015, 'humidity': 74, 'sea_level': 1015, 'grnd_level': 1013}, 'visibility': 10000, 'wind': {'speed': 13.89, 'deg': 151, 'gust': 22.19}, 'clouds': {'all': 0}, 'dt': 1659152197, 'sys': {'type': 2, 'id': 2040001, 'country': 'US', 'sunrise': 1659095453, 'sunset': 1659144118}, 'timezone': -18000, 'id': 4726521, 'name': 'San Patricio', 'cod': 200}\n",
      "{'coord': {'lon': -12.4568, 'lat': 14.905}, 'weather': [{'id': 500, 'main': 'Rain', 'description': 'light rain', 'icon': '10n'}], 'base': 'stations', 'main': {'temp': 77.52, 'feels_like': 78.96, 'temp_min': 77.52, 'temp_max': 77.52, 'pressure': 1012, 'humidity': 85, 'sea_level': 1012, 'grnd_level': 1008}, 'visibility': 10000, 'wind': {'speed': 14.34, 'deg': 236, 'gust': 26.02}, 'rain': {'1h': 0.46}, 'clouds': {'all': 96}, 'dt': 1659152197, 'sys': {'country': 'SN', 'sunrise': 1659162724, 'sunset': 1659208816}, 'timezone': 0, 'id': 2252606, 'name': 'Bakel', 'cod': 200}\n",
      "{'coord': {'lon': 145.7667, 'lat': -16.9167}, 'weather': [{'id': 802, 'main': 'Clouds', 'description': 'scattered clouds', 'icon': '03d'}], 'base': 'stations', 'main': {'temp': 78.75, 'feels_like': 78.75, 'temp_min': 78.75, 'temp_max': 80.06, 'pressure': 1016, 'humidity': 50}, 'visibility': 10000, 'wind': {'speed': 20.71, 'deg': 140}, 'clouds': {'all': 40}, 'dt': 1659152198, 'sys': {'type': 1, 'id': 9490, 'country': 'AU', 'sunrise': 1659127388, 'sunset': 1659168206}, 'timezone': 36000, 'id': 2172797, 'name': 'Cairns', 'cod': 200}\n",
      "{'coord': {'lon': -83.2949, 'lat': 36.214}, 'weather': [{'id': 800, 'main': 'Clear', 'description': 'clear sky', 'icon': '01n'}], 'base': 'stations', 'main': {'temp': 71.2, 'feels_like': 71.78, 'temp_min': 68.34, 'temp_max': 72.3, 'pressure': 1019, 'humidity': 80}, 'visibility': 10000, 'wind': {'speed': 0, 'deg': 0}, 'clouds': {'all': 0}, 'dt': 1659152198, 'sys': {'type': 1, 'id': 4954, 'country': 'US', 'sunrise': 1659091057, 'sunset': 1659141688}, 'timezone': -14400, 'id': 4642938, 'name': 'Morristown', 'cod': 200}\n",
      "{'coord': {'lon': -51.7216, 'lat': 64.1835}, 'weather': [{'id': 804, 'main': 'Clouds', 'description': 'overcast clouds', 'icon': '04n'}], 'base': 'stations', 'main': {'temp': 47.01, 'feels_like': 41.9, 'temp_min': 45.88, 'temp_max': 47.01, 'pressure': 1009, 'humidity': 81}, 'visibility': 10000, 'wind': {'speed': 11.27, 'deg': 170, 'gust': 17.43}, 'clouds': {'all': 100}, 'dt': 1659152198, 'sys': {'type': 1, 'id': 86, 'country': 'GL', 'sunrise': 1659162416, 'sunset': 1659227971}, 'timezone': -7200, 'id': 3421319, 'name': 'Nuuk', 'cod': 200}\n",
      "{'coord': {'lon': 37.2685, 'lat': 25.0213}, 'weather': [{'id': 802, 'main': 'Clouds', 'description': 'scattered clouds', 'icon': '03d'}], 'base': 'stations', 'main': {'temp': 87.08, 'feels_like': 89.55, 'temp_min': 87.08, 'temp_max': 87.08, 'pressure': 1004, 'humidity': 50, 'sea_level': 1004, 'grnd_level': 1004}, 'visibility': 10000, 'wind': {'speed': 5.41, 'deg': 12, 'gust': 6.8}, 'clouds': {'all': 32}, 'dt': 1659152199, 'sys': {'country': 'SA', 'sunrise': 1659149839, 'sunset': 1659197834}, 'timezone': 10800, 'id': 100926, 'name': 'Umluj', 'cod': 200}\n",
      "{'coord': {'lon': 54.3667, 'lat': 24.4667}, 'weather': [{'id': 804, 'main': 'Clouds', 'description': 'overcast clouds', 'icon': '04d'}], 'base': 'stations', 'main': {'temp': 89.28, 'feels_like': 95.97, 'temp_min': 88.97, 'temp_max': 89.71, 'pressure': 1003, 'humidity': 56}, 'visibility': 7000, 'wind': {'speed': 10.36, 'deg': 150}, 'clouds': {'all': 96}, 'dt': 1659151982, 'sys': {'type': 2, 'id': 2043159, 'country': 'AE', 'sunrise': 1659145790, 'sunset': 1659193676}, 'timezone': 14400, 'id': 292968, 'name': 'Abu Dhabi', 'cod': 200}\n",
      "{'coord': {'lon': 76.1036, 'lat': 53.0675}, 'weather': [{'id': 804, 'main': 'Clouds', 'description': 'overcast clouds', 'icon': '04d'}], 'base': 'stations', 'main': {'temp': 75.31, 'feels_like': 75.22, 'temp_min': 75.31, 'temp_max': 75.31, 'pressure': 1003, 'humidity': 57, 'sea_level': 1003, 'grnd_level': 992}, 'visibility': 10000, 'wind': {'speed': 12.41, 'deg': 36, 'gust': 14.76}, 'clouds': {'all': 98}, 'dt': 1659152199, 'sys': {'country': 'KZ', 'sunrise': 1659136150, 'sunset': 1659192882}, 'timezone': 21600, 'id': 1523662, 'name': 'Kachīry', 'cod': 200}\n",
      "{'coord': {'lon': 68.5944, 'lat': 58.1286}, 'weather': [{'id': 802, 'main': 'Clouds', 'description': 'scattered clouds', 'icon': '03d'}], 'base': 'stations', 'main': {'temp': 71.01, 'feels_like': 70.57, 'temp_min': 71.01, 'temp_max': 71.01, 'pressure': 1014, 'humidity': 59, 'sea_level': 1014, 'grnd_level': 1002}, 'visibility': 10000, 'wind': {'speed': 8.75, 'deg': 28, 'gust': 18.61}, 'clouds': {'all': 50}, 'dt': 1659152199, 'sys': {'country': 'RU', 'sunrise': 1659136391, 'sunset': 1659196245}, 'timezone': 18000, 'id': 1512223, 'name': 'Abalak', 'cod': 200}\n",
      "{'coord': {'lon': 159.2333, 'lat': 61.95}, 'weather': [{'id': 803, 'main': 'Clouds', 'description': 'broken clouds', 'icon': '04d'}], 'base': 'stations', 'main': {'temp': 52.41, 'feels_like': 50.88, 'temp_min': 52.41, 'temp_max': 52.41, 'pressure': 1013, 'humidity': 75, 'sea_level': 1013, 'grnd_level': 1010}, 'visibility': 10000, 'wind': {'speed': 26.82, 'deg': 34, 'gust': 32.3}, 'clouds': {'all': 63}, 'dt': 1659152200, 'sys': {'country': 'RU', 'sunrise': 1659112958, 'sunset': 1659176172}, 'timezone': 39600, 'id': 2125693, 'name': 'Evensk', 'cod': 200}\n",
      "{'coord': {'lon': -102.0779, 'lat': 31.9974}, 'weather': [{'id': 800, 'main': 'Clear', 'description': 'clear sky', 'icon': '01n'}], 'base': 'stations', 'main': {'temp': 90.95, 'feels_like': 88.59, 'temp_min': 89.85, 'temp_max': 92.07, 'pressure': 1017, 'humidity': 28}, 'visibility': 10000, 'wind': {'speed': 14.97, 'deg': 160}, 'clouds': {'all': 0}, 'dt': 1659151939, 'sys': {'type': 1, 'id': 4853, 'country': 'US', 'sunrise': 1659096097, 'sunset': 1659145664}, 'timezone': -18000, 'id': 5526337, 'name': 'Midland', 'cod': 200}\n",
      "{'coord': {'lon': -70.1733, 'lat': 1.1983}, 'weather': [{'id': 804, 'main': 'Clouds', 'description': 'overcast clouds', 'icon': '04n'}], 'base': 'stations', 'main': {'temp': 70.57, 'feels_like': 71.98, 'temp_min': 70.57, 'temp_max': 70.57, 'pressure': 1014, 'humidity': 99, 'sea_level': 1014, 'grnd_level': 991}, 'visibility': 10000, 'wind': {'speed': 1.59, 'deg': 34, 'gust': 1.61}, 'clouds': {'all': 87}, 'dt': 1659152200, 'sys': {'country': 'CO', 'sunrise': 1659091315, 'sunset': 1659135131}, 'timezone': -18000, 'id': 3674676, 'name': 'Mitú', 'cod': 200}\n",
      "{'coord': {'lon': 70.9181, 'lat': 26.9147}, 'weather': [{'id': 803, 'main': 'Clouds', 'description': 'broken clouds', 'icon': '04d'}], 'base': 'stations', 'main': {'temp': 82.71, 'feels_like': 88.57, 'temp_min': 82.71, 'temp_max': 82.71, 'pressure': 1004, 'humidity': 73, 'sea_level': 1004, 'grnd_level': 977}, 'visibility': 10000, 'wind': {'speed': 21.09, 'deg': 215, 'gust': 24.29}, 'clouds': {'all': 70}, 'dt': 1659152201, 'sys': {'country': 'IN', 'sunrise': 1659141564, 'sunset': 1659189957}, 'timezone': 19800, 'id': 1269507, 'name': 'Jaisalmer', 'cod': 200}\n",
      "{'coord': {'lon': 12.1522, 'lat': -15.1961}, 'weather': [{'id': 802, 'main': 'Clouds', 'description': 'scattered clouds', 'icon': '03n'}], 'base': 'stations', 'main': {'temp': 59.9, 'feels_like': 59.77, 'temp_min': 59.9, 'temp_max': 59.9, 'pressure': 1016, 'humidity': 89, 'sea_level': 1016, 'grnd_level': 1014}, 'visibility': 10000, 'wind': {'speed': 4.38, 'deg': 350, 'gust': 4.99}, 'clouds': {'all': 37}, 'dt': 1659152201, 'sys': {'country': 'AO', 'sunrise': 1659159299, 'sunset': 1659200429}, 'timezone': 3600, 'id': 3347019, 'name': 'Mossamedes', 'cod': 200}\n"
     ]
    },
    {
     "name": "stdout",
     "output_type": "stream",
     "text": [
      "{'coord': {'lon': 94.7667, 'lat': 28.1667}, 'weather': [{'id': 804, 'main': 'Clouds', 'description': 'overcast clouds', 'icon': '04d'}], 'base': 'stations', 'main': {'temp': 81.37, 'feels_like': 89.35, 'temp_min': 81.37, 'temp_max': 81.37, 'pressure': 1008, 'humidity': 89, 'sea_level': 1008, 'grnd_level': 967}, 'visibility': 8729, 'wind': {'speed': 0.58, 'deg': 39, 'gust': 1.66}, 'clouds': {'all': 86}, 'dt': 1659152201, 'sys': {'country': 'IN', 'sunrise': 1659135705, 'sunset': 1659184369}, 'timezone': 19800, 'id': 1278969, 'name': 'Along', 'cod': 200}\n",
      "{'coord': {'lon': -101.9188, 'lat': 34.9803}, 'weather': [{'id': 503, 'main': 'Rain', 'description': 'very heavy rain', 'icon': '10n'}], 'base': 'stations', 'main': {'temp': 66.42, 'feels_like': 66.79, 'temp_min': 64.47, 'temp_max': 68.68, 'pressure': 1018, 'humidity': 86, 'sea_level': 1018, 'grnd_level': 899}, 'visibility': 10000, 'wind': {'speed': 7.16, 'deg': 64, 'gust': 10.29}, 'rain': {'1h': 42.11}, 'clouds': {'all': 100}, 'dt': 1659152202, 'sys': {'type': 2, 'id': 2006354, 'country': 'US', 'sunrise': 1659095690, 'sunset': 1659145994}, 'timezone': -18000, 'id': 5518239, 'name': 'Canyon', 'cod': 200}\n",
      "{'coord': {'lon': 20.0403, 'lat': -34.5322}, 'weather': [{'id': 804, 'main': 'Clouds', 'description': 'overcast clouds', 'icon': '04n'}], 'base': 'stations', 'main': {'temp': 46.8, 'feels_like': 43.27, 'temp_min': 46.8, 'temp_max': 46.8, 'pressure': 1020, 'humidity': 78, 'sea_level': 1020, 'grnd_level': 1011}, 'visibility': 10000, 'wind': {'speed': 7.11, 'deg': 306, 'gust': 9.17}, 'clouds': {'all': 100}, 'dt': 1659152202, 'sys': {'country': 'ZA', 'sunrise': 1659159311, 'sunset': 1659196631}, 'timezone': 7200, 'id': 1015776, 'name': 'Bredasdorp', 'cod': 200}\n",
      "{'cod': '404', 'message': 'city not found'}\n",
      "City Not Found\n",
      "{'coord': {'lon': 109.2333, 'lat': 13.7667}, 'weather': [{'id': 803, 'main': 'Clouds', 'description': 'broken clouds', 'icon': '04d'}], 'base': 'stations', 'main': {'temp': 92.1, 'feels_like': 102.31, 'temp_min': 92.1, 'temp_max': 92.1, 'pressure': 1005, 'humidity': 56, 'sea_level': 1005, 'grnd_level': 1005}, 'visibility': 10000, 'wind': {'speed': 2.68, 'deg': 245, 'gust': 7.78}, 'clouds': {'all': 66}, 'dt': 1659152202, 'sys': {'country': 'VN', 'sunrise': 1659133613, 'sunset': 1659179517}, 'timezone': 25200, 'id': 1568574, 'name': 'Qui Nhon', 'cod': 200}\n",
      "{'coord': {'lon': -75.833, 'lat': 42.2506}, 'weather': [{'id': 802, 'main': 'Clouds', 'description': 'scattered clouds', 'icon': '03n'}], 'base': 'stations', 'main': {'temp': 65.17, 'feels_like': 65.19, 'temp_min': 59.77, 'temp_max': 66.36, 'pressure': 1015, 'humidity': 81, 'sea_level': 1015, 'grnd_level': 981}, 'visibility': 10000, 'wind': {'speed': 1.74, 'deg': 279, 'gust': 1.66}, 'clouds': {'all': 26}, 'dt': 1659152203, 'sys': {'type': 2, 'id': 2041543, 'country': 'US', 'sunrise': 1659088381, 'sunset': 1659140782}, 'timezone': -14400, 'id': 5110365, 'name': 'Broome', 'cod': 200}\n",
      "{'coord': {'lon': 119.7, 'lat': 49.2}, 'weather': [{'id': 804, 'main': 'Clouds', 'description': 'overcast clouds', 'icon': '04d'}], 'base': 'stations', 'main': {'temp': 85.41, 'feels_like': 84.96, 'temp_min': 85.41, 'temp_max': 85.41, 'pressure': 1003, 'humidity': 41, 'sea_level': 1003, 'grnd_level': 936}, 'visibility': 10000, 'wind': {'speed': 14.23, 'deg': 171, 'gust': 20.31}, 'clouds': {'all': 97}, 'dt': 1659152203, 'sys': {'country': 'CN', 'sunrise': 1659126594, 'sunset': 1659181513}, 'timezone': 28800, 'id': 2037078, 'name': 'Hailar', 'cod': 200}\n",
      "{'coord': {'lon': 9.6922, 'lat': 40.5719}, 'weather': [{'id': 800, 'main': 'Clear', 'description': 'clear sky', 'icon': '01n'}], 'base': 'stations', 'main': {'temp': 76.55, 'feels_like': 76.59, 'temp_min': 76.55, 'temp_max': 76.55, 'pressure': 1014, 'humidity': 57, 'sea_level': 1014, 'grnd_level': 1008}, 'visibility': 10000, 'wind': {'speed': 4.63, 'deg': 288, 'gust': 5.08}, 'clouds': {'all': 0}, 'dt': 1659152203, 'sys': {'type': 1, 'id': 6728, 'country': 'IT', 'sunrise': 1659154562, 'sunset': 1659206347}, 'timezone': 7200, 'id': 3166509, 'name': 'Siniscola', 'cod': 200}\n",
      "{'coord': {'lon': -120.3602, 'lat': 36.1397}, 'weather': [{'id': 800, 'main': 'Clear', 'description': 'clear sky', 'icon': '01n'}], 'base': 'stations', 'main': {'temp': 90.03, 'feels_like': 88.43, 'temp_min': 90.03, 'temp_max': 93.45, 'pressure': 1007, 'humidity': 32}, 'visibility': 10000, 'wind': {'speed': 7.85, 'deg': 237, 'gust': 7.4}, 'clouds': {'all': 0}, 'dt': 1659151931, 'sys': {'type': 2, 'id': 2000582, 'country': 'US', 'sunrise': 1659099968, 'sunset': 1659150568}, 'timezone': -25200, 'id': 5338196, 'name': 'Coalinga', 'cod': 200}\n",
      "{'coord': {'lon': -10.0467, 'lat': 5.8808}, 'weather': [{'id': 804, 'main': 'Clouds', 'description': 'overcast clouds', 'icon': '04n'}], 'base': 'stations', 'main': {'temp': 73.81, 'feels_like': 74.57, 'temp_min': 73.81, 'temp_max': 73.81, 'pressure': 1014, 'humidity': 78, 'sea_level': 1014, 'grnd_level': 1012}, 'visibility': 10000, 'wind': {'speed': 6.85, 'deg': 231, 'gust': 8.05}, 'clouds': {'all': 100}, 'dt': 1659152204, 'sys': {'country': 'LR', 'sunrise': 1659162906, 'sunset': 1659207478}, 'timezone': 0, 'id': 2278158, 'name': 'Buchanan', 'cod': 200}\n",
      "{'cod': '404', 'message': 'city not found'}\n",
      "City Not Found\n",
      "{'cod': '404', 'message': 'city not found'}\n",
      "City Not Found\n",
      "{'coord': {'lon': 81.15, 'lat': 25.3833}, 'weather': [{'id': 804, 'main': 'Clouds', 'description': 'overcast clouds', 'icon': '04d'}], 'base': 'stations', 'main': {'temp': 88.79, 'feels_like': 97.9, 'temp_min': 88.79, 'temp_max': 88.79, 'pressure': 1005, 'humidity': 62, 'sea_level': 1005, 'grnd_level': 993}, 'visibility': 10000, 'wind': {'speed': 7.67, 'deg': 267, 'gust': 7.92}, 'clouds': {'all': 93}, 'dt': 1659152204, 'sys': {'country': 'IN', 'sunrise': 1659139267, 'sunset': 1659187343}, 'timezone': 19800, 'id': 1258911, 'name': 'Rājāpur', 'cod': 200}\n",
      "{'coord': {'lon': -9.0603, 'lat': 42.7762}, 'weather': [{'id': 800, 'main': 'Clear', 'description': 'clear sky', 'icon': '01n'}], 'base': 'stations', 'main': {'temp': 67.08, 'feels_like': 66.87, 'temp_min': 63.68, 'temp_max': 67.08, 'pressure': 1019, 'humidity': 72, 'sea_level': 1019, 'grnd_level': 1017}, 'visibility': 10000, 'wind': {'speed': 11.86, 'deg': 29, 'gust': 25.26}, 'clouds': {'all': 3}, 'dt': 1659152205, 'sys': {'type': 2, 'id': 2000018, 'country': 'ES', 'sunrise': 1659158720, 'sunset': 1659211190}, 'timezone': 7200, 'id': 3115824, 'name': 'Muros', 'cod': 200}\n",
      "{'coord': {'lon': 28.2167, 'lat': 37.2687}, 'weather': [{'id': 800, 'main': 'Clear', 'description': 'clear sky', 'icon': '01d'}], 'base': 'stations', 'main': {'temp': 63.12, 'feels_like': 61.39, 'temp_min': 63.12, 'temp_max': 63.12, 'pressure': 1008, 'humidity': 48, 'sea_level': 1008, 'grnd_level': 961}, 'visibility': 10000, 'wind': {'speed': 3.67, 'deg': 3, 'gust': 4.29}, 'clouds': {'all': 0}, 'dt': 1659152205, 'sys': {'type': 1, 'id': 7016, 'country': 'TR', 'sunrise': 1659150586, 'sunset': 1659201431}, 'timezone': 10800, 'id': 304183, 'name': 'Bayir', 'cod': 200}\n",
      "{'coord': {'lon': -93.218, 'lat': 45.0205}, 'weather': [{'id': 802, 'main': 'Clouds', 'description': 'scattered clouds', 'icon': '03n'}], 'base': 'stations', 'main': {'temp': 66.4, 'feels_like': 66.07, 'temp_min': 60.04, 'temp_max': 70.93, 'pressure': 1019, 'humidity': 71}, 'visibility': 10000, 'wind': {'speed': 3.44, 'deg': 180}, 'clouds': {'all': 40}, 'dt': 1659152205, 'sys': {'type': 2, 'id': 2009535, 'country': 'US', 'sunrise': 1659092085, 'sunset': 1659145423}, 'timezone': -18000, 'id': 5044290, 'name': 'Saint Anthony', 'cod': 200}\n",
      "{'coord': {'lon': -66.8507, 'lat': -29.4111}, 'weather': [{'id': 800, 'main': 'Clear', 'description': 'clear sky', 'icon': '01n'}], 'base': 'stations', 'main': {'temp': 54.57, 'feels_like': 51.66, 'temp_min': 54.57, 'temp_max': 54.57, 'pressure': 1013, 'humidity': 41, 'sea_level': 1013, 'grnd_level': 955}, 'visibility': 10000, 'wind': {'speed': 2.89, 'deg': 192, 'gust': 6.08}, 'clouds': {'all': 3}, 'dt': 1659152105, 'sys': {'country': 'AR', 'sunrise': 1659179585, 'sunset': 1659218064}, 'timezone': -10800, 'id': 3848950, 'name': 'La Rioja', 'cod': 200}\n",
      "{'coord': {'lon': -9.5982, 'lat': 30.4202}, 'weather': [{'id': 800, 'main': 'Clear', 'description': 'clear sky', 'icon': '01n'}], 'base': 'stations', 'main': {'temp': 68.45, 'feels_like': 68.2, 'temp_min': 68.45, 'temp_max': 68.45, 'pressure': 1010, 'humidity': 68, 'sea_level': 1010, 'grnd_level': 1007}, 'visibility': 10000, 'wind': {'speed': 3.83, 'deg': 297, 'gust': 5.79}, 'clouds': {'all': 0}, 'dt': 1659152131, 'sys': {'type': 1, 'id': 2393, 'country': 'MA', 'sunrise': 1659160513, 'sunset': 1659209655}, 'timezone': 3600, 'id': 2561668, 'name': 'Agadir', 'cod': 200}\n"
     ]
    },
    {
     "name": "stdout",
     "output_type": "stream",
     "text": [
      "{'coord': {'lon': 10, 'lat': -2.65}, 'weather': [{'id': 803, 'main': 'Clouds', 'description': 'broken clouds', 'icon': '04n'}], 'base': 'stations', 'main': {'temp': 68.74, 'feels_like': 69.73, 'temp_min': 68.74, 'temp_max': 68.74, 'pressure': 1015, 'humidity': 94, 'sea_level': 1015, 'grnd_level': 1011}, 'visibility': 10000, 'wind': {'speed': 2.35, 'deg': 153, 'gust': 3.11}, 'clouds': {'all': 71}, 'dt': 1659152206, 'sys': {'country': 'GA', 'sunrise': 1659158784, 'sunset': 1659201978}, 'timezone': 3600, 'id': 2400547, 'name': 'Gamba', 'cod': 200}\n",
      "{'coord': {'lon': -78.6328, 'lat': 21.6967}, 'weather': [{'id': 803, 'main': 'Clouds', 'description': 'broken clouds', 'icon': '04n'}], 'base': 'stations', 'main': {'temp': 75.31, 'feels_like': 76.82, 'temp_min': 75.31, 'temp_max': 75.31, 'pressure': 1017, 'humidity': 91, 'sea_level': 1017, 'grnd_level': 1016}, 'visibility': 10000, 'wind': {'speed': 8.05, 'deg': 76, 'gust': 25.57}, 'clouds': {'all': 66}, 'dt': 1659152206, 'sys': {'country': 'CU', 'sunrise': 1659091566, 'sunset': 1659138941}, 'timezone': -14400, 'id': 3567823, 'name': 'Baraguá', 'cod': 200}\n",
      "{'coord': {'lon': -78.1328, 'lat': 48.1335}, 'weather': [{'id': 804, 'main': 'Clouds', 'description': 'overcast clouds', 'icon': '04n'}], 'base': 'stations', 'main': {'temp': 58.01, 'feels_like': 58.03, 'temp_min': 58.01, 'temp_max': 59.11, 'pressure': 1011, 'humidity': 96, 'sea_level': 1011, 'grnd_level': 973}, 'visibility': 10000, 'wind': {'speed': 8.16, 'deg': 283, 'gust': 20.74}, 'clouds': {'all': 100}, 'dt': 1659152207, 'sys': {'type': 2, 'id': 2033122, 'country': 'CA', 'sunrise': 1659087862, 'sunset': 1659142405}, 'timezone': -14400, 'id': 6064704, 'name': 'Malartic', 'cod': 200}\n",
      "{'coord': {'lon': 37.2919, 'lat': 53.7094}, 'weather': [{'id': 803, 'main': 'Clouds', 'description': 'broken clouds', 'icon': '04d'}], 'base': 'stations', 'main': {'temp': 60.21, 'feels_like': 59.65, 'temp_min': 60.21, 'temp_max': 60.21, 'pressure': 1020, 'humidity': 79, 'sea_level': 1020, 'grnd_level': 998}, 'visibility': 10000, 'wind': {'speed': 5.84, 'deg': 16, 'gust': 8.12}, 'clouds': {'all': 53}, 'dt': 1659152207, 'sys': {'country': 'RU', 'sunrise': 1659145303, 'sunset': 1659202358}, 'timezone': 10800, 'id': 509052, 'name': 'Plavsk', 'cod': 200}\n",
      "{'coord': {'lon': 128.8694, 'lat': 71.6872}, 'weather': [{'id': 804, 'main': 'Clouds', 'description': 'overcast clouds', 'icon': '04n'}], 'base': 'stations', 'main': {'temp': 50, 'feels_like': 47.37, 'temp_min': 50, 'temp_max': 50, 'pressure': 1006, 'humidity': 75, 'sea_level': 1006, 'grnd_level': 1001}, 'visibility': 2081, 'wind': {'speed': 6.6, 'deg': 107, 'gust': 8.9}, 'clouds': {'all': 100}, 'dt': 1659152207, 'sys': {'country': 'RU', 'sunrise': 0, 'sunset': 0}, 'timezone': 32400, 'id': 2015306, 'name': 'Tiksi', 'cod': 200}\n",
      "{'coord': {'lon': 22.9, 'lat': 39.1}, 'weather': [{'id': 800, 'main': 'Clear', 'description': 'clear sky', 'icon': '01d'}], 'base': 'stations', 'main': {'temp': 70.03, 'feels_like': 69.75, 'temp_min': 69.42, 'temp_max': 78.48, 'pressure': 1012, 'humidity': 64}, 'visibility': 10000, 'wind': {'speed': 4.61, 'deg': 280}, 'clouds': {'all': 0}, 'dt': 1659152208, 'sys': {'type': 1, 'id': 6607, 'country': 'GR', 'sunrise': 1659151607, 'sunset': 1659202962}, 'timezone': 10800, 'id': 253419, 'name': 'Sourpi', 'cod': 200}\n",
      "{'coord': {'lon': 87.6005, 'lat': 43.801}, 'weather': [{'id': 800, 'main': 'Clear', 'description': 'clear sky', 'icon': '01d'}], 'base': 'stations', 'main': {'temp': 85.15, 'feels_like': 82.67, 'temp_min': 85.15, 'temp_max': 85.15, 'pressure': 1007, 'humidity': 27}, 'visibility': 10000, 'wind': {'speed': 6.71, 'deg': 350}, 'clouds': {'all': 0}, 'dt': 1659152183, 'sys': {'type': 1, 'id': 9677, 'country': 'CN', 'sunrise': 1659135334, 'sunset': 1659188179}, 'timezone': 28800, 'id': 1529102, 'name': 'Ürümqi', 'cod': 200}\n",
      "{'coord': {'lon': -9.3811, 'lat': 39.3558}, 'weather': [{'id': 800, 'main': 'Clear', 'description': 'clear sky', 'icon': '01n'}], 'base': 'stations', 'main': {'temp': 65.23, 'feels_like': 65.82, 'temp_min': 63.45, 'temp_max': 67.28, 'pressure': 1014, 'humidity': 93, 'sea_level': 1014, 'grnd_level': 1014}, 'visibility': 10000, 'wind': {'speed': 8.81, 'deg': 346, 'gust': 11.27}, 'clouds': {'all': 5}, 'dt': 1659152208, 'sys': {'type': 2, 'id': 2002825, 'country': 'PT', 'sunrise': 1659159322, 'sunset': 1659210742}, 'timezone': 3600, 'id': 2264923, 'name': 'Peniche', 'cod': 200}\n",
      "{'coord': {'lon': 54.3241, 'lat': 60.3071}, 'weather': [{'id': 803, 'main': 'Clouds', 'description': 'broken clouds', 'icon': '04d'}], 'base': 'stations', 'main': {'temp': 67.66, 'feels_like': 66.99, 'temp_min': 67.66, 'temp_max': 67.66, 'pressure': 1019, 'humidity': 61, 'sea_level': 1019, 'grnd_level': 1001}, 'visibility': 10000, 'wind': {'speed': 1.79, 'deg': 71, 'gust': 2.93}, 'clouds': {'all': 79}, 'dt': 1659152208, 'sys': {'country': 'RU', 'sunrise': 1659138954, 'sunset': 1659200533}, 'timezone': 18000, 'id': 561698, 'name': 'Gayny', 'cod': 200}\n",
      "{'coord': {'lon': 127.9761, 'lat': 26.5881}, 'weather': [{'id': 801, 'main': 'Clouds', 'description': 'few clouds', 'icon': '02d'}], 'base': 'stations', 'main': {'temp': 89.76, 'feels_like': 102.36, 'temp_min': 88.65, 'temp_max': 90.03, 'pressure': 1001, 'humidity': 74, 'sea_level': 1001, 'grnd_level': 1001}, 'visibility': 10000, 'wind': {'speed': 2.53, 'deg': 155, 'gust': 3.53}, 'clouds': {'all': 16}, 'dt': 1659152209, 'sys': {'type': 1, 'id': 8138, 'country': 'JP', 'sunrise': 1659127900, 'sunset': 1659176234}, 'timezone': 32400, 'id': 1856068, 'name': 'Nago', 'cod': 200}\n",
      "{'cod': '404', 'message': 'city not found'}\n",
      "City Not Found\n",
      "{'coord': {'lon': -39.2481, 'lat': -17.7125}, 'weather': [{'id': 803, 'main': 'Clouds', 'description': 'broken clouds', 'icon': '04n'}], 'base': 'stations', 'main': {'temp': 71.71, 'feels_like': 72.52, 'temp_min': 71.71, 'temp_max': 71.71, 'pressure': 1014, 'humidity': 84, 'sea_level': 1014, 'grnd_level': 1013}, 'visibility': 10000, 'wind': {'speed': 11.18, 'deg': 7, 'gust': 25.19}, 'clouds': {'all': 57}, 'dt': 1659152209, 'sys': {'country': 'BR', 'sunrise': 1659171850, 'sunset': 1659212550}, 'timezone': -10800, 'id': 3466980, 'name': 'Caravelas', 'cod': 200}\n",
      "{'coord': {'lon': 24.9906, 'lat': -8.7386}, 'weather': [{'id': 800, 'main': 'Clear', 'description': 'clear sky', 'icon': '01n'}], 'base': 'stations', 'main': {'temp': 58.21, 'feels_like': 55.62, 'temp_min': 58.21, 'temp_max': 58.21, 'pressure': 1015, 'humidity': 40, 'sea_level': 1015, 'grnd_level': 889}, 'visibility': 10000, 'wind': {'speed': 3.96, 'deg': 186, 'gust': 4.29}, 'clouds': {'all': 0}, 'dt': 1659152210, 'sys': {'country': 'CD', 'sunrise': 1659155679, 'sunset': 1659197887}, 'timezone': 7200, 'id': 214614, 'name': 'Kamina', 'cod': 200}\n",
      "{'coord': {'lon': -60.5238, 'lat': -31.732}, 'weather': [{'id': 804, 'main': 'Clouds', 'description': 'overcast clouds', 'icon': '04n'}], 'base': 'stations', 'main': {'temp': 52.16, 'feels_like': 50.04, 'temp_min': 50.47, 'temp_max': 53.56, 'pressure': 1018, 'humidity': 63, 'sea_level': 1018, 'grnd_level': 1011}, 'visibility': 10000, 'wind': {'speed': 6.73, 'deg': 17, 'gust': 9.13}, 'clouds': {'all': 99}, 'dt': 1659151985, 'sys': {'type': 2, 'id': 2019769, 'country': 'AR', 'sunrise': 1659178317, 'sunset': 1659216295}, 'timezone': -10800, 'id': 3841956, 'name': 'Paraná', 'cod': 200}\n",
      "{'coord': {'lon': -69.2597, 'lat': -8.8389}, 'weather': [{'id': 803, 'main': 'Clouds', 'description': 'broken clouds', 'icon': '04n'}], 'base': 'stations', 'main': {'temp': 75.47, 'feels_like': 75.69, 'temp_min': 75.47, 'temp_max': 75.47, 'pressure': 1013, 'humidity': 63, 'sea_level': 1013, 'grnd_level': 996}, 'visibility': 10000, 'wind': {'speed': 2.42, 'deg': 236, 'gust': 4.29}, 'clouds': {'all': 83}, 'dt': 1659152210, 'sys': {'country': 'BR', 'sunrise': 1659091916, 'sunset': 1659134092}, 'timezone': -18000, 'id': 3663495, 'name': 'Manoel Urbano', 'cod': 200}\n",
      "{'coord': {'lon': -65.0192, 'lat': -0.4139}, 'weather': [{'id': 804, 'main': 'Clouds', 'description': 'overcast clouds', 'icon': '04n'}], 'base': 'stations', 'main': {'temp': 72.57, 'feels_like': 74.14, 'temp_min': 72.57, 'temp_max': 72.57, 'pressure': 1014, 'humidity': 98, 'sea_level': 1014, 'grnd_level': 1009}, 'visibility': 10000, 'wind': {'speed': 2.17, 'deg': 305, 'gust': 3.09}, 'clouds': {'all': 96}, 'dt': 1659152210, 'sys': {'country': 'BR', 'sunrise': 1659090210, 'sunset': 1659133763}, 'timezone': -14400, 'id': 3662489, 'name': 'Santa Isabel Rio Negro', 'cod': 200}\n"
     ]
    },
    {
     "name": "stdout",
     "output_type": "stream",
     "text": [
      "{'coord': {'lon': 77.5, 'lat': 8.8667}, 'weather': [{'id': 802, 'main': 'Clouds', 'description': 'scattered clouds', 'icon': '03d'}], 'base': 'stations', 'main': {'temp': 86.09, 'feels_like': 91.27, 'temp_min': 86.09, 'temp_max': 86.09, 'pressure': 1009, 'humidity': 60, 'sea_level': 1009, 'grnd_level': 995}, 'visibility': 10000, 'wind': {'speed': 1.81, 'deg': 223, 'gust': 3.18}, 'clouds': {'all': 45}, 'dt': 1659152211, 'sys': {'country': 'IN', 'sunrise': 1659141647, 'sunset': 1659186715}, 'timezone': 19800, 'id': 1279058, 'name': 'Ālangulam', 'cod': 200}\n",
      "{'coord': {'lon': -135.33, 'lat': 57.0531}, 'weather': [{'id': 300, 'main': 'Drizzle', 'description': 'light intensity drizzle', 'icon': '09d'}, {'id': 701, 'main': 'Mist', 'description': 'mist', 'icon': '50d'}], 'base': 'stations', 'main': {'temp': 57.09, 'feels_like': 56.91, 'temp_min': 57.09, 'temp_max': 57.09, 'pressure': 1016, 'humidity': 94}, 'visibility': 4828, 'wind': {'speed': 3.44, 'deg': 320}, 'clouds': {'all': 100}, 'dt': 1659152211, 'sys': {'type': 1, 'id': 7795, 'country': 'US', 'sunrise': 1659099260, 'sunset': 1659158462}, 'timezone': -28800, 'id': 5557293, 'name': 'Sitka', 'cod': 200}\n",
      "{'coord': {'lon': 34.0758, 'lat': 0.4544}, 'weather': [{'id': 804, 'main': 'Clouds', 'description': 'overcast clouds', 'icon': '04n'}], 'base': 'stations', 'main': {'temp': 64.62, 'feels_like': 64.92, 'temp_min': 64.62, 'temp_max': 64.62, 'pressure': 1014, 'humidity': 88, 'sea_level': 1014, 'grnd_level': 880}, 'visibility': 10000, 'wind': {'speed': 3.69, 'deg': 98, 'gust': 4.83}, 'clouds': {'all': 100}, 'dt': 1659152211, 'sys': {'country': 'UG', 'sunrise': 1659152756, 'sunset': 1659196449}, 'timezone': 10800, 'id': 234077, 'name': 'Busia', 'cod': 200}\n",
      "{'coord': {'lon': -4.6167, 'lat': 48.3833}, 'weather': [{'id': 804, 'main': 'Clouds', 'description': 'overcast clouds', 'icon': '04n'}], 'base': 'stations', 'main': {'temp': 60.93, 'feels_like': 61.14, 'temp_min': 59.32, 'temp_max': 60.98, 'pressure': 1021, 'humidity': 94}, 'visibility': 10000, 'wind': {'speed': 4.61, 'deg': 260}, 'clouds': {'all': 100}, 'dt': 1659152212, 'sys': {'type': 1, 'id': 6554, 'country': 'FR', 'sunrise': 1659156629, 'sunset': 1659211148}, 'timezone': 7200, 'id': 2986626, 'name': 'Plouzané', 'cod': 200}\n",
      "{'coord': {'lon': 13.9942, 'lat': 31.7566}, 'weather': [{'id': 800, 'main': 'Clear', 'description': 'clear sky', 'icon': '01n'}], 'base': 'stations', 'main': {'temp': 71.83, 'feels_like': 72.81, 'temp_min': 71.83, 'temp_max': 71.83, 'pressure': 1014, 'humidity': 87, 'sea_level': 1014, 'grnd_level': 989}, 'visibility': 10000, 'wind': {'speed': 3.94, 'deg': 6, 'gust': 4}, 'clouds': {'all': 0}, 'dt': 1659152212, 'sys': {'country': 'LY', 'sunrise': 1659154695, 'sunset': 1659204149}, 'timezone': 7200, 'id': 2218840, 'name': 'Bani Walid', 'cod': 200}\n",
      "{'coord': {'lon': 23.1376, 'lat': -15.0969}, 'weather': [{'id': 800, 'main': 'Clear', 'description': 'clear sky', 'icon': '01n'}], 'base': 'stations', 'main': {'temp': 50, 'feels_like': 47.73, 'temp_min': 50, 'temp_max': 50, 'pressure': 1019, 'humidity': 43, 'sea_level': 1019, 'grnd_level': 902}, 'visibility': 10000, 'wind': {'speed': 5.86, 'deg': 73, 'gust': 7.9}, 'clouds': {'all': 5}, 'dt': 1659152056, 'sys': {'country': 'ZM', 'sunrise': 1659156655, 'sunset': 1659197800}, 'timezone': 7200, 'id': 910361, 'name': 'Limulunga', 'cod': 200}\n",
      "{'coord': {'lon': 44.8964, 'lat': 43.3036}, 'weather': [{'id': 800, 'main': 'Clear', 'description': 'clear sky', 'icon': '01d'}], 'base': 'stations', 'main': {'temp': 63.59, 'feels_like': 62.01, 'temp_min': 63.59, 'temp_max': 63.59, 'pressure': 1013, 'humidity': 50, 'sea_level': 1013, 'grnd_level': 966}, 'visibility': 10000, 'wind': {'speed': 1.45, 'deg': 126, 'gust': 2.17}, 'clouds': {'all': 2}, 'dt': 1659152212, 'sys': {'type': 1, 'id': 8969, 'country': 'RU', 'sunrise': 1659145675, 'sunset': 1659198337}, 'timezone': 10800, 'id': 552951, 'name': 'Karabulak', 'cod': 200}\n",
      "{'coord': {'lon': 11.3842, 'lat': 62.5747}, 'weather': [{'id': 803, 'main': 'Clouds', 'description': 'broken clouds', 'icon': '04d'}], 'base': 'stations', 'main': {'temp': 44.44, 'feels_like': 44.44, 'temp_min': 44.44, 'temp_max': 44.44, 'pressure': 1019, 'humidity': 93}, 'visibility': 10000, 'wind': {'speed': 0, 'deg': 0}, 'clouds': {'all': 75}, 'dt': 1659152213, 'sys': {'type': 1, 'id': 1655, 'country': 'NO', 'sunrise': 1659148183, 'sunset': 1659211914}, 'timezone': 7200, 'id': 3141332, 'name': 'Røros', 'cod': 200}\n",
      "{'coord': {'lon': -97.4395, 'lat': 35.2226}, 'weather': [{'id': 802, 'main': 'Clouds', 'description': 'scattered clouds', 'icon': '03n'}], 'base': 'stations', 'main': {'temp': 77.38, 'feels_like': 78.67, 'temp_min': 75.2, 'temp_max': 78.84, 'pressure': 1018, 'humidity': 82}, 'visibility': 10000, 'wind': {'speed': 10.36, 'deg': 40}, 'clouds': {'all': 40}, 'dt': 1659152200, 'sys': {'type': 1, 'id': 5244, 'country': 'US', 'sunrise': 1659094584, 'sunset': 1659144951}, 'timezone': -18000, 'id': 4543762, 'name': 'Norman', 'cod': 200}\n",
      "{'coord': {'lon': -92.4215, 'lat': 14.7208}, 'weather': [{'id': 803, 'main': 'Clouds', 'description': 'broken clouds', 'icon': '04n'}], 'base': 'stations', 'main': {'temp': 80.8, 'feels_like': 90.03, 'temp_min': 80.8, 'temp_max': 80.8, 'pressure': 1012, 'humidity': 100}, 'visibility': 10000, 'wind': {'speed': 0, 'deg': 0}, 'clouds': {'all': 75}, 'dt': 1659152213, 'sys': {'type': 1, 'id': 7171, 'country': 'MX', 'sunrise': 1659095520, 'sunset': 1659141606}, 'timezone': -18000, 'id': 3520989, 'name': 'Puerto Madero', 'cod': 200}\n",
      "{'coord': {'lon': -147.7164, 'lat': 64.8378}, 'weather': [{'id': 803, 'main': 'Clouds', 'description': 'broken clouds', 'icon': '04d'}], 'base': 'stations', 'main': {'temp': 71.62, 'feels_like': 70.21, 'temp_min': 67.82, 'temp_max': 74.08, 'pressure': 1012, 'humidity': 37}, 'visibility': 10000, 'wind': {'speed': 3.44, 'deg': 100}, 'clouds': {'all': 75}, 'dt': 1659152037, 'sys': {'type': 2, 'id': 2017395, 'country': 'US', 'sunrise': 1659098467, 'sunset': 1659165200}, 'timezone': -28800, 'id': 5861897, 'name': 'Fairbanks', 'cod': 200}\n",
      "{'coord': {'lon': 92.9, 'lat': 20.15}, 'weather': [{'id': 804, 'main': 'Clouds', 'description': 'overcast clouds', 'icon': '04d'}], 'base': 'stations', 'main': {'temp': 87.15, 'feels_like': 97.47, 'temp_min': 87.15, 'temp_max': 87.15, 'pressure': 1007, 'humidity': 69, 'sea_level': 1007, 'grnd_level': 1007}, 'visibility': 10000, 'wind': {'speed': 5.28, 'deg': 278, 'gust': 5.73}, 'clouds': {'all': 90}, 'dt': 1659152214, 'sys': {'country': 'MM', 'sunrise': 1659136958, 'sunset': 1659184012}, 'timezone': 23400, 'id': 1295765, 'name': 'Sittwe', 'cod': 200}\n",
      "{'coord': {'lon': 85.6108, 'lat': 50.2696}, 'weather': [{'id': 804, 'main': 'Clouds', 'description': 'overcast clouds', 'icon': '04d'}], 'base': 'stations', 'main': {'temp': 71.13, 'feels_like': 70.66, 'temp_min': 71.13, 'temp_max': 71.13, 'pressure': 1005, 'humidity': 58, 'sea_level': 1005, 'grnd_level': 898}, 'visibility': 10000, 'wind': {'speed': 0.81, 'deg': 291, 'gust': 5.1}, 'clouds': {'all': 100}, 'dt': 1659152214, 'sys': {'country': 'RU', 'sunrise': 1659134547, 'sunset': 1659189922}, 'timezone': 25200, 'id': 1488167, 'name': \"Ust'-Koksa\", 'cod': 200}\n",
      "{'coord': {'lon': 59.5289, 'lat': 22.5667}, 'weather': [{'id': 804, 'main': 'Clouds', 'description': 'overcast clouds', 'icon': '04d'}], 'base': 'stations', 'main': {'temp': 83.77, 'feels_like': 89.37, 'temp_min': 83.77, 'temp_max': 83.77, 'pressure': 1005, 'humidity': 68, 'sea_level': 1005, 'grnd_level': 1004}, 'visibility': 10000, 'wind': {'speed': 9.15, 'deg': 204, 'gust': 10.31}, 'clouds': {'all': 94}, 'dt': 1659152214, 'sys': {'country': 'OM', 'sunrise': 1659144738, 'sunset': 1659192249}, 'timezone': 14400, 'id': 286245, 'name': 'Sur', 'cod': 200}\n",
      "{'coord': {'lon': 13.2343, 'lat': -8.8368}, 'weather': [{'id': 803, 'main': 'Clouds', 'description': 'broken clouds', 'icon': '04n'}], 'base': 'stations', 'main': {'temp': 68, 'feels_like': 68.92, 'temp_min': 68, 'temp_max': 68, 'pressure': 1014, 'humidity': 94}, 'visibility': 8000, 'wind': {'speed': 4.61, 'deg': 90}, 'clouds': {'all': 75}, 'dt': 1659152215, 'sys': {'type': 1, 'id': 2173, 'country': 'AO', 'sunrise': 1659158508, 'sunset': 1659200700}, 'timezone': 3600, 'id': 2240449, 'name': 'Luanda', 'cod': 200}\n"
     ]
    },
    {
     "name": "stdout",
     "output_type": "stream",
     "text": [
      "{'coord': {'lon': 37.1841, 'lat': 35.3029}, 'weather': [{'id': 800, 'main': 'Clear', 'description': 'clear sky', 'icon': '01d'}], 'base': 'stations', 'main': {'temp': 78.76, 'feels_like': 78.76, 'temp_min': 78.76, 'temp_max': 78.76, 'pressure': 1007, 'humidity': 37, 'sea_level': 1007, 'grnd_level': 960}, 'visibility': 10000, 'wind': {'speed': 5.82, 'deg': 227, 'gust': 7.83}, 'clouds': {'all': 0}, 'dt': 1659152215, 'sys': {'country': 'SY', 'sunrise': 1659148692, 'sunset': 1659199021}, 'timezone': 10800, 'id': 172515, 'name': 'Abu Samrah', 'cod': 200}\n",
      "{'coord': {'lon': 128.1814, 'lat': -3.6954}, 'weather': [{'id': 802, 'main': 'Clouds', 'description': 'scattered clouds', 'icon': '03d'}], 'base': 'stations', 'main': {'temp': 82.54, 'feels_like': 91.02, 'temp_min': 82.54, 'temp_max': 82.54, 'pressure': 1009, 'humidity': 83}, 'visibility': 9000, 'wind': {'speed': 5.75, 'deg': 30}, 'clouds': {'all': 40}, 'dt': 1659152215, 'sys': {'type': 1, 'id': 9361, 'country': 'ID', 'sunrise': 1659130506, 'sunset': 1659173529}, 'timezone': 32400, 'id': 1651531, 'name': 'Ambon City', 'cod': 200}\n",
      "{'coord': {'lon': -62.9967, 'lat': -40.8135}, 'weather': [{'id': 802, 'main': 'Clouds', 'description': 'scattered clouds', 'icon': '03n'}], 'base': 'stations', 'main': {'temp': 48.36, 'feels_like': 47.44, 'temp_min': 48.36, 'temp_max': 48.36, 'pressure': 1013, 'humidity': 53, 'sea_level': 1013, 'grnd_level': 1012}, 'visibility': 10000, 'wind': {'speed': 3.42, 'deg': 88, 'gust': 3.8}, 'clouds': {'all': 35}, 'dt': 1659152216, 'sys': {'country': 'AR', 'sunrise': 1659180037, 'sunset': 1659215762}, 'timezone': -10800, 'id': 3832899, 'name': 'Viedma', 'cod': 200}\n",
      "{'coord': {'lon': 26.4333, 'lat': 44.4833}, 'weather': [{'id': 800, 'main': 'Clear', 'description': 'clear sky', 'icon': '01d'}], 'base': 'stations', 'main': {'temp': 70.63, 'feels_like': 71.2, 'temp_min': 68.22, 'temp_max': 73.18, 'pressure': 1016, 'humidity': 81, 'sea_level': 1016, 'grnd_level': 1008}, 'visibility': 10000, 'wind': {'speed': 7.52, 'deg': 57, 'gust': 14.97}, 'clouds': {'all': 9}, 'dt': 1659152216, 'sys': {'type': 2, 'id': 2037799, 'country': 'RO', 'sunrise': 1659149908, 'sunset': 1659202965}, 'timezone': 10800, 'id': 685155, 'name': 'Belciugatele', 'cod': 200}\n",
      "{'coord': {'lon': 13.1875, 'lat': 32.8752}, 'weather': [{'id': 800, 'main': 'Clear', 'description': 'clear sky', 'icon': '01n'}], 'base': 'stations', 'main': {'temp': 79.23, 'feels_like': 79.23, 'temp_min': 79.23, 'temp_max': 79.23, 'pressure': 1013, 'humidity': 71, 'sea_level': 1013, 'grnd_level': 1011}, 'visibility': 10000, 'wind': {'speed': 7.99, 'deg': 119, 'gust': 8.97}, 'clouds': {'all': 0}, 'dt': 1659152116, 'sys': {'country': 'LY', 'sunrise': 1659154756, 'sunset': 1659204475}, 'timezone': 7200, 'id': 2210247, 'name': 'Tripoli', 'cod': 200}\n",
      "{'coord': {'lon': 90.4993, 'lat': 56.2694}, 'weather': [{'id': 500, 'main': 'Rain', 'description': 'light rain', 'icon': '10d'}], 'base': 'stations', 'main': {'temp': 68.7, 'feels_like': 68.79, 'temp_min': 68.7, 'temp_max': 68.7, 'pressure': 1002, 'humidity': 75, 'sea_level': 1002, 'grnd_level': 979}, 'visibility': 10000, 'wind': {'speed': 3.69, 'deg': 344, 'gust': 6.33}, 'rain': {'1h': 0.19}, 'clouds': {'all': 98}, 'dt': 1659152217, 'sys': {'country': 'RU', 'sunrise': 1659131763, 'sunset': 1659190360}, 'timezone': 25200, 'id': 1512165, 'name': 'Achinsk', 'cod': 200}\n",
      "{'cod': '404', 'message': 'city not found'}\n",
      "City Not Found\n",
      "{'coord': {'lon': -6.589, 'lat': 62.2266}, 'weather': [{'id': 500, 'main': 'Rain', 'description': 'light rain', 'icon': '10n'}], 'base': 'stations', 'main': {'temp': 52.72, 'feels_like': 52.3, 'temp_min': 52.72, 'temp_max': 52.72, 'pressure': 999, 'humidity': 98, 'sea_level': 999, 'grnd_level': 996}, 'visibility': 1006, 'wind': {'speed': 25.7, 'deg': 166, 'gust': 38.05}, 'rain': {'1h': 0.81}, 'clouds': {'all': 100}, 'dt': 1659152217, 'sys': {'type': 1, 'id': 1596, 'country': 'FO', 'sunrise': 1659152688, 'sunset': 1659216036}, 'timezone': 3600, 'id': 2618795, 'name': 'Klaksvík', 'cod': 200}\n",
      "{'cod': '404', 'message': 'city not found'}\n",
      "City Not Found\n",
      "{'coord': {'lon': 12.143, 'lat': 43.5747}, 'weather': [{'id': 800, 'main': 'Clear', 'description': 'clear sky', 'icon': '01n'}], 'base': 'stations', 'main': {'temp': 65.48, 'feels_like': 65.21, 'temp_min': 65.1, 'temp_max': 67.93, 'pressure': 1014, 'humidity': 74, 'sea_level': 1014, 'grnd_level': 974}, 'visibility': 10000, 'wind': {'speed': 2.17, 'deg': 195, 'gust': 2.55}, 'clouds': {'all': 3}, 'dt': 1659152218, 'sys': {'type': 2, 'id': 2004275, 'country': 'IT', 'sunrise': 1659153496, 'sunset': 1659206237}, 'timezone': 7200, 'id': 6541100, 'name': 'Sansepolcro', 'cod': 200}\n",
      "{'coord': {'lon': -46.05, 'lat': 60.9167}, 'weather': [{'id': 802, 'main': 'Clouds', 'description': 'scattered clouds', 'icon': '03n'}], 'base': 'stations', 'main': {'temp': 48.42, 'feels_like': 48.42, 'temp_min': 48.42, 'temp_max': 48.42, 'pressure': 1012, 'humidity': 77, 'sea_level': 1012, 'grnd_level': 1009}, 'visibility': 10000, 'wind': {'speed': 1.34, 'deg': 350, 'gust': 2.44}, 'clouds': {'all': 28}, 'dt': 1659152218, 'sys': {'type': 1, 'id': 47, 'country': 'GL', 'sunrise': 1659162812, 'sunset': 1659224852}, 'timezone': -7200, 'id': 3421719, 'name': 'Narsaq', 'cod': 200}\n",
      "{'coord': {'lon': 17.9442, 'lat': -33.0117}, 'weather': [{'id': 803, 'main': 'Clouds', 'description': 'broken clouds', 'icon': '04n'}], 'base': 'stations', 'main': {'temp': 46.45, 'feels_like': 44.08, 'temp_min': 46.45, 'temp_max': 46.45, 'pressure': 1021, 'humidity': 70, 'sea_level': 1021, 'grnd_level': 1018}, 'visibility': 10000, 'wind': {'speed': 4.97, 'deg': 261, 'gust': 8.28}, 'clouds': {'all': 80}, 'dt': 1659152218, 'sys': {'type': 1, 'id': 1943, 'country': 'ZA', 'sunrise': 1659159637, 'sunset': 1659197311}, 'timezone': 7200, 'id': 3361934, 'name': 'Saldanha', 'cod': 200}\n",
      "{'coord': {'lon': 36.5345, 'lat': 61.8099}, 'weather': [{'id': 500, 'main': 'Rain', 'description': 'light rain', 'icon': '10d'}], 'base': 'stations', 'main': {'temp': 56.07, 'feels_like': 55.8, 'temp_min': 56.07, 'temp_max': 56.07, 'pressure': 1011, 'humidity': 94, 'sea_level': 1011, 'grnd_level': 1004}, 'visibility': 10000, 'wind': {'speed': 7.36, 'deg': 175, 'gust': 16.8}, 'rain': {'1h': 0.15}, 'clouds': {'all': 99}, 'dt': 1659152219, 'sys': {'country': 'RU', 'sunrise': 1659142531, 'sunset': 1659205494}, 'timezone': 10800, 'id': 504269, 'name': 'Pudozh', 'cod': 200}\n",
      "{'coord': {'lon': 120.5836, 'lat': 6.3032}, 'weather': [{'id': 804, 'main': 'Clouds', 'description': 'overcast clouds', 'icon': '04d'}], 'base': 'stations', 'main': {'temp': 82.76, 'feels_like': 90.1, 'temp_min': 82.76, 'temp_max': 82.76, 'pressure': 1008, 'humidity': 78, 'sea_level': 1008, 'grnd_level': 1007}, 'visibility': 10000, 'wind': {'speed': 9.75, 'deg': 174, 'gust': 10.96}, 'clouds': {'all': 100}, 'dt': 1659152219, 'sys': {'country': 'PH', 'sunrise': 1659131518, 'sunset': 1659176164}, 'timezone': 28800, 'id': 1695180, 'name': 'Simbahan', 'cod': 200}\n",
      "{'coord': {'lon': -86.5705, 'lat': 30.7621}, 'weather': [{'id': 800, 'main': 'Clear', 'description': 'clear sky', 'icon': '01n'}], 'base': 'stations', 'main': {'temp': 79.16, 'feels_like': 79.16, 'temp_min': 75.78, 'temp_max': 83.53, 'pressure': 1020, 'humidity': 78}, 'visibility': 10000, 'wind': {'speed': 3.44, 'deg': 180}, 'clouds': {'all': 0}, 'dt': 1659151973, 'sys': {'type': 2, 'id': 2041204, 'country': 'US', 'sunrise': 1659092518, 'sunset': 1659141799}, 'timezone': -18000, 'id': 4152311, 'name': 'Crestview', 'cod': 200}\n",
      "{'coord': {'lon': 33.9365, 'lat': 26.7292}, 'weather': [{'id': 801, 'main': 'Clouds', 'description': 'few clouds', 'icon': '02d'}], 'base': 'stations', 'main': {'temp': 86.67, 'feels_like': 85.59, 'temp_min': 86.67, 'temp_max': 86.67, 'pressure': 1005, 'humidity': 37, 'sea_level': 1005, 'grnd_level': 1003}, 'visibility': 10000, 'wind': {'speed': 6.64, 'deg': 317, 'gust': 10}, 'clouds': {'all': 14}, 'dt': 1659152219, 'sys': {'country': 'EG', 'sunrise': 1659150463, 'sunset': 1659198809}, 'timezone': 7200, 'id': 358620, 'name': 'Safaga', 'cod': 200}\n",
      "{'coord': {'lon': -127.1743, 'lat': 54.7804}, 'weather': [{'id': 802, 'main': 'Clouds', 'description': 'scattered clouds', 'icon': '03d'}], 'base': 'stations', 'main': {'temp': 79.12, 'feels_like': 79.12, 'temp_min': 79.12, 'temp_max': 79.12, 'pressure': 1014, 'humidity': 47}, 'visibility': 10000, 'wind': {'speed': 5.75, 'deg': 300}, 'clouds': {'all': 40}, 'dt': 1659152220, 'sys': {'type': 1, 'id': 990, 'country': 'CA', 'sunrise': 1659098018, 'sunset': 1659155789}, 'timezone': -25200, 'id': 6149996, 'name': 'Smithers', 'cod': 200}\n"
     ]
    },
    {
     "name": "stdout",
     "output_type": "stream",
     "text": [
      "{'coord': {'lon': -65.7852, 'lat': -28.4696}, 'weather': [{'id': 800, 'main': 'Clear', 'description': 'clear sky', 'icon': '01n'}], 'base': 'stations', 'main': {'temp': 56.59, 'feels_like': 54.01, 'temp_min': 56.59, 'temp_max': 56.59, 'pressure': 1014, 'humidity': 44, 'sea_level': 1014, 'grnd_level': 953}, 'visibility': 10000, 'wind': {'speed': 11.3, 'deg': 22, 'gust': 19.1}, 'clouds': {'all': 0}, 'dt': 1659152220, 'sys': {'type': 2, 'id': 2004347, 'country': 'AR', 'sunrise': 1659179232, 'sunset': 1659217906}, 'timezone': -10800, 'id': 3837702, 'name': 'San Fernando del Valle de Catamarca', 'cod': 200}\n",
      "{'cod': '404', 'message': 'city not found'}\n",
      "City Not Found\n",
      "{'coord': {'lon': 114.6517, 'lat': 37.8792}, 'weather': [{'id': 801, 'main': 'Clouds', 'description': 'few clouds', 'icon': '02d'}], 'base': 'stations', 'main': {'temp': 86.16, 'feels_like': 89.67, 'temp_min': 86.16, 'temp_max': 86.16, 'pressure': 1007, 'humidity': 55, 'sea_level': 1007, 'grnd_level': 1001}, 'visibility': 10000, 'wind': {'speed': 5.06, 'deg': 55, 'gust': 4.32}, 'clouds': {'all': 15}, 'dt': 1659152221, 'sys': {'type': 1, 'id': 9615, 'country': 'CN', 'sunrise': 1659129746, 'sunset': 1659180784}, 'timezone': 28800, 'id': 1802204, 'name': 'Luancheng', 'cod': 200}\n",
      "{'coord': {'lon': -4.2167, 'lat': 51.0333}, 'weather': [{'id': 804, 'main': 'Clouds', 'description': 'overcast clouds', 'icon': '04n'}], 'base': 'stations', 'main': {'temp': 60.39, 'feels_like': 60.58, 'temp_min': 58.66, 'temp_max': 61.39, 'pressure': 1018, 'humidity': 95, 'sea_level': 1018, 'grnd_level': 1011}, 'visibility': 10000, 'wind': {'speed': 7.29, 'deg': 235, 'gust': 14.38}, 'clouds': {'all': 93}, 'dt': 1659152221, 'sys': {'type': 2, 'id': 2005965, 'country': 'GB', 'sunrise': 1659155951, 'sunset': 1659211634}, 'timezone': 3600, 'id': 2641434, 'name': 'Northam', 'cod': 200}\n",
      "{'coord': {'lon': 2.486, 'lat': 8.0425}, 'weather': [{'id': 500, 'main': 'Rain', 'description': 'light rain', 'icon': '10n'}], 'base': 'stations', 'main': {'temp': 69.78, 'feels_like': 71.06, 'temp_min': 69.78, 'temp_max': 69.78, 'pressure': 1014, 'humidity': 98, 'sea_level': 1014, 'grnd_level': 993}, 'visibility': 10000, 'wind': {'speed': 3.42, 'deg': 178, 'gust': 7.45}, 'rain': {'1h': 0.78}, 'clouds': {'all': 100}, 'dt': 1659152221, 'sys': {'country': 'BJ', 'sunrise': 1659159720, 'sunset': 1659204648}, 'timezone': 3600, 'id': 2391893, 'name': 'Savé', 'cod': 200}\n",
      "{'coord': {'lon': -77.0282, 'lat': -12.0432}, 'weather': [{'id': 803, 'main': 'Clouds', 'description': 'broken clouds', 'icon': '04n'}], 'base': 'stations', 'main': {'temp': 58.89, 'feels_like': 58.57, 'temp_min': 58.89, 'temp_max': 59.25, 'pressure': 989, 'humidity': 87}, 'visibility': 10000, 'wind': {'speed': 2.3, 'deg': 0}, 'clouds': {'all': 75}, 'dt': 1659152222, 'sys': {'type': 2, 'id': 2037860, 'country': 'PE', 'sunrise': 1659094047, 'sunset': 1659135690}, 'timezone': -18000, 'id': 3936456, 'name': 'Lima', 'cod': 200}\n",
      "{'coord': {'lon': 69.1628, 'lat': 54.8753}, 'weather': [{'id': 800, 'main': 'Clear', 'description': 'clear sky', 'icon': '01d'}], 'base': 'stations', 'main': {'temp': 66.18, 'feels_like': 65.88, 'temp_min': 66.18, 'temp_max': 66.18, 'pressure': 1010, 'humidity': 72}, 'visibility': 10000, 'wind': {'speed': 8.95, 'deg': 20}, 'clouds': {'all': 0}, 'dt': 1659152222, 'sys': {'type': 1, 'id': 8823, 'country': 'KZ', 'sunrise': 1659137316, 'sunset': 1659195047}, 'timezone': 21600, 'id': 1520172, 'name': 'Petropavl', 'cod': 200}\n",
      "{'coord': {'lon': 81.8167, 'lat': 7.4167}, 'weather': [{'id': 804, 'main': 'Clouds', 'description': 'overcast clouds', 'icon': '04d'}], 'base': 'stations', 'main': {'temp': 83.08, 'feels_like': 88.56, 'temp_min': 83.08, 'temp_max': 83.08, 'pressure': 1009, 'humidity': 70, 'sea_level': 1009, 'grnd_level': 1008}, 'visibility': 10000, 'wind': {'speed': 1.74, 'deg': 16, 'gust': 3.58}, 'clouds': {'all': 100}, 'dt': 1659152222, 'sys': {'country': 'LK', 'sunrise': 1659140731, 'sunset': 1659185559}, 'timezone': 19800, 'id': 1242110, 'name': 'Kalmunai', 'cod': 200}\n",
      "{'coord': {'lon': 20.9714, 'lat': 70.0311}, 'weather': [{'id': 800, 'main': 'Clear', 'description': 'clear sky', 'icon': '01d'}], 'base': 'stations', 'main': {'temp': 53.6, 'feels_like': 52.09, 'temp_min': 53.6, 'temp_max': 53.6, 'pressure': 1022, 'humidity': 73, 'sea_level': 1022, 'grnd_level': 1022}, 'visibility': 10000, 'wind': {'speed': 7.65, 'deg': 118, 'gust': 7.83}, 'clouds': {'all': 1}, 'dt': 1659152223, 'sys': {'type': 1, 'id': 1672, 'country': 'NO', 'sunrise': 1659138060, 'sunset': 1659217435}, 'timezone': 7200, 'id': 777682, 'name': 'Skjervøy', 'cod': 200}\n",
      "{'coord': {'lon': 86.1469, 'lat': 41.7597}, 'weather': [{'id': 804, 'main': 'Clouds', 'description': 'overcast clouds', 'icon': '04d'}], 'base': 'stations', 'main': {'temp': 84.58, 'feels_like': 82.02, 'temp_min': 84.58, 'temp_max': 84.58, 'pressure': 1002, 'humidity': 25, 'sea_level': 1002, 'grnd_level': 902}, 'visibility': 10000, 'wind': {'speed': 4.03, 'deg': 75, 'gust': 4}, 'clouds': {'all': 100}, 'dt': 1659152223, 'sys': {'country': 'CN', 'sunrise': 1659136018, 'sunset': 1659188194}, 'timezone': 28800, 'id': 1529376, 'name': 'Korla', 'cod': 200}\n",
      "{'coord': {'lon': -87.875, 'lat': 41.1417}, 'weather': [{'id': 800, 'main': 'Clear', 'description': 'clear sky', 'icon': '01n'}], 'base': 'stations', 'main': {'temp': 64.76, 'feels_like': 64.94, 'temp_min': 62.91, 'temp_max': 67.05, 'pressure': 1020, 'humidity': 85}, 'visibility': 10000, 'wind': {'speed': 0, 'deg': 0}, 'clouds': {'all': 0}, 'dt': 1659152223, 'sys': {'type': 1, 'id': 4514, 'country': 'US', 'sunrise': 1659091449, 'sunset': 1659143494}, 'timezone': -18000, 'id': 4885342, 'name': 'Bourbonnais', 'cod': 200}\n",
      "{'coord': {'lon': 17.9667, 'lat': -24.6333}, 'weather': [{'id': 803, 'main': 'Clouds', 'description': 'broken clouds', 'icon': '04n'}], 'base': 'stations', 'main': {'temp': 45.36, 'feels_like': 41.92, 'temp_min': 45.36, 'temp_max': 45.36, 'pressure': 1020, 'humidity': 41, 'sea_level': 1020, 'grnd_level': 893}, 'visibility': 10000, 'wind': {'speed': 6.4, 'deg': 137, 'gust': 6.46}, 'clouds': {'all': 63}, 'dt': 1659152224, 'sys': {'country': 'NA', 'sunrise': 1659158757, 'sunset': 1659198180}, 'timezone': 7200, 'id': 3355595, 'name': 'Mariental', 'cod': 200}\n",
      "{'coord': {'lon': 82.1838, 'lat': 29.2747}, 'weather': [{'id': 804, 'main': 'Clouds', 'description': 'overcast clouds', 'icon': '04d'}], 'base': 'stations', 'main': {'temp': 67.91, 'feels_like': 68.22, 'temp_min': 67.91, 'temp_max': 67.91, 'pressure': 1012, 'humidity': 81, 'sea_level': 1012, 'grnd_level': 775}, 'visibility': 10000, 'wind': {'speed': 3.44, 'deg': 274, 'gust': 2.75}, 'clouds': {'all': 97}, 'dt': 1659152224, 'sys': {'country': 'NP', 'sunrise': 1659138605, 'sunset': 1659187509}, 'timezone': 20700, 'id': 1283285, 'name': 'Jumla', 'cod': 200}\n",
      "{'coord': {'lon': -102.2, 'lat': 17.9583}, 'weather': [{'id': 802, 'main': 'Clouds', 'description': 'scattered clouds', 'icon': '03n'}], 'base': 'stations', 'main': {'temp': 79.32, 'feels_like': 79.32, 'temp_min': 79.32, 'temp_max': 79.32, 'pressure': 1013, 'humidity': 82, 'sea_level': 1013, 'grnd_level': 1011}, 'visibility': 10000, 'wind': {'speed': 2.19, 'deg': 343, 'gust': 2.84}, 'clouds': {'all': 38}, 'dt': 1659152224, 'sys': {'country': 'MX', 'sunrise': 1659097576, 'sunset': 1659144243}, 'timezone': -18000, 'id': 4026082, 'name': 'Lázaro Cárdenas', 'cod': 200}\n",
      "{'coord': {'lon': 49.8164, 'lat': 7.9803}, 'weather': [{'id': 803, 'main': 'Clouds', 'description': 'broken clouds', 'icon': '04d'}], 'base': 'stations', 'main': {'temp': 77.2, 'feels_like': 78.13, 'temp_min': 77.2, 'temp_max': 77.2, 'pressure': 1013, 'humidity': 75, 'sea_level': 1013, 'grnd_level': 1009}, 'visibility': 10000, 'wind': {'speed': 22.1, 'deg': 221, 'gust': 32.08}, 'clouds': {'all': 52}, 'dt': 1659152225, 'sys': {'country': 'SO', 'sunrise': 1659148365, 'sunset': 1659193285}, 'timezone': 10800, 'id': 60019, 'name': 'Eyl', 'cod': 200}\n",
      "{'coord': {'lon': 145.4333, 'lat': -17}, 'weather': [{'id': 800, 'main': 'Clear', 'description': 'clear sky', 'icon': '01d'}], 'base': 'stations', 'main': {'temp': 75.43, 'feels_like': 75.54, 'temp_min': 74.12, 'temp_max': 75.43, 'pressure': 1015, 'humidity': 61, 'sea_level': 1015, 'grnd_level': 969}, 'visibility': 10000, 'wind': {'speed': 8.7, 'deg': 85, 'gust': 8.77}, 'clouds': {'all': 9}, 'dt': 1659152225, 'sys': {'type': 2, 'id': 2010006, 'country': 'AU', 'sunrise': 1659127475, 'sunset': 1659168279}, 'timezone': 36000, 'id': 2158767, 'name': 'Mareeba', 'cod': 200}\n",
      "{'coord': {'lon': 114.1577, 'lat': 22.2855}, 'weather': [{'id': 502, 'main': 'Rain', 'description': 'heavy intensity rain', 'icon': '10d'}], 'base': 'stations', 'main': {'temp': 85.12, 'feels_like': 93.76, 'temp_min': 78.85, 'temp_max': 86.38, 'pressure': 1005, 'humidity': 72}, 'visibility': 10000, 'wind': {'speed': 1.01, 'deg': 175, 'gust': 3}, 'rain': {'1h': 7.72}, 'clouds': {'all': 37}, 'dt': 1659152024, 'sys': {'type': 2, 'id': 2035800, 'country': 'HK', 'sunrise': 1659131651, 'sunset': 1659179115}, 'timezone': 28800, 'id': 1819729, 'name': 'Hong Kong', 'cod': 200}\n"
     ]
    },
    {
     "name": "stdout",
     "output_type": "stream",
     "text": [
      "{'cod': '404', 'message': 'city not found'}\n",
      "City Not Found\n",
      "{'coord': {'lon': -70.027, 'lat': 12.524}, 'weather': [{'id': 801, 'main': 'Clouds', 'description': 'few clouds', 'icon': '02n'}], 'base': 'stations', 'main': {'temp': 80.55, 'feels_like': 85.08, 'temp_min': 80.55, 'temp_max': 80.55, 'pressure': 1014, 'humidity': 78}, 'visibility': 10000, 'wind': {'speed': 14.97, 'deg': 90}, 'clouds': {'all': 20}, 'dt': 1659152226, 'sys': {'type': 1, 'id': 8791, 'country': 'AW', 'sunrise': 1659090336, 'sunset': 1659136040}, 'timezone': -14400, 'id': 3577154, 'name': 'Oranjestad', 'cod': 200}\n",
      "{'coord': {'lon': -7.3528, 'lat': 4.423}, 'weather': [{'id': 802, 'main': 'Clouds', 'description': 'scattered clouds', 'icon': '03n'}], 'base': 'stations', 'main': {'temp': 73.04, 'feels_like': 73.62, 'temp_min': 73.04, 'temp_max': 73.04, 'pressure': 1014, 'humidity': 76, 'sea_level': 1014, 'grnd_level': 1013}, 'visibility': 10000, 'wind': {'speed': 5.61, 'deg': 227, 'gust': 7.54}, 'clouds': {'all': 42}, 'dt': 1659152226, 'sys': {'country': 'CI', 'sunrise': 1659162378, 'sunset': 1659206712}, 'timezone': 0, 'id': 2281120, 'name': 'Tabou', 'cod': 200}\n",
      "{'coord': {'lon': 98.9394, 'lat': 18.5262}, 'weather': [{'id': 804, 'main': 'Clouds', 'description': 'overcast clouds', 'icon': '04d'}], 'base': 'stations', 'main': {'temp': 88.27, 'feels_like': 91.13, 'temp_min': 85.51, 'temp_max': 90.45, 'pressure': 1007, 'humidity': 49, 'sea_level': 1007, 'grnd_level': 974}, 'visibility': 10000, 'wind': {'speed': 1.99, 'deg': 227, 'gust': 4.25}, 'clouds': {'all': 100}, 'dt': 1659152226, 'sys': {'type': 2, 'id': 75010, 'country': 'TH', 'sunrise': 1659135659, 'sunset': 1659182412}, 'timezone': 25200, 'id': 1151528, 'name': 'Pa Sang', 'cod': 200}\n",
      "{'cod': '404', 'message': 'city not found'}\n",
      "City Not Found\n",
      "{'coord': {'lon': -2.0981, 'lat': 57.1437}, 'weather': [{'id': 501, 'main': 'Rain', 'description': 'moderate rain', 'icon': '10n'}], 'base': 'stations', 'main': {'temp': 57.47, 'feels_like': 57.38, 'temp_min': 57.2, 'temp_max': 59.49, 'pressure': 1011, 'humidity': 95}, 'visibility': 3700, 'wind': {'speed': 12.66, 'deg': 170}, 'rain': {'1h': 3.87}, 'clouds': {'all': 100}, 'dt': 1659152227, 'sys': {'type': 1, 'id': 1440, 'country': 'GB', 'sunrise': 1659153727, 'sunset': 1659212841}, 'timezone': 3600, 'id': 2657832, 'name': 'Aberdeen', 'cod': 200}\n",
      "{'coord': {'lon': -63.0578, 'lat': 18.217}, 'weather': [{'id': 802, 'main': 'Clouds', 'description': 'scattered clouds', 'icon': '03n'}], 'base': 'stations', 'main': {'temp': 82.22, 'feels_like': 90.14, 'temp_min': 80.82, 'temp_max': 82.26, 'pressure': 1017, 'humidity': 83, 'sea_level': 1017, 'grnd_level': 1015}, 'visibility': 10000, 'wind': {'speed': 23.76, 'deg': 84, 'gust': 28.03}, 'clouds': {'all': 46}, 'dt': 1659152227, 'sys': {'type': 1, 'id': 8801, 'country': 'AI', 'sunrise': 1659088156, 'sunset': 1659134876}, 'timezone': -14400, 'id': 3573374, 'name': 'The Valley', 'cod': 200}\n",
      "{'coord': {'lon': 46.5825, 'lat': 44.3861}, 'weather': [{'id': 800, 'main': 'Clear', 'description': 'clear sky', 'icon': '01d'}], 'base': 'stations', 'main': {'temp': 80.78, 'feels_like': 81.3, 'temp_min': 80.78, 'temp_max': 80.78, 'pressure': 1013, 'humidity': 48, 'sea_level': 1013, 'grnd_level': 1016}, 'visibility': 10000, 'wind': {'speed': 3.31, 'deg': 182, 'gust': 3.78}, 'clouds': {'all': 0}, 'dt': 1659152227, 'sys': {'country': 'RU', 'sunrise': 1659145085, 'sunset': 1659198117}, 'timezone': 10800, 'id': 868355, 'name': 'Kochubey', 'cod': 200}\n",
      "{'coord': {'lon': 108.0108, 'lat': 61.2767}, 'weather': [{'id': 804, 'main': 'Clouds', 'description': 'overcast clouds', 'icon': '04d'}], 'base': 'stations', 'main': {'temp': 61.77, 'feels_like': 62.06, 'temp_min': 61.77, 'temp_max': 61.77, 'pressure': 996, 'humidity': 94, 'sea_level': 996, 'grnd_level': 964}, 'visibility': 10000, 'wind': {'speed': 6.02, 'deg': 174, 'gust': 17.45}, 'clouds': {'all': 100}, 'dt': 1659152228, 'sys': {'country': 'RU', 'sunrise': 1659125606, 'sunset': 1659188111}, 'timezone': 28800, 'id': 2012956, 'name': 'Yerbogachën', 'cod': 200}\n",
      "{'coord': {'lon': -13.8627, 'lat': 28.5004}, 'weather': [{'id': 804, 'main': 'Clouds', 'description': 'overcast clouds', 'icon': '04n'}], 'base': 'stations', 'main': {'temp': 71.35, 'feels_like': 72.09, 'temp_min': 71.35, 'temp_max': 71.35, 'pressure': 1013, 'humidity': 83}, 'visibility': 10000, 'wind': {'speed': 12.66, 'deg': 10}, 'clouds': {'all': 100}, 'dt': 1659152228, 'sys': {'type': 1, 'id': 2371, 'country': 'ES', 'sunrise': 1659161750, 'sunset': 1659210465}, 'timezone': 3600, 'id': 2512186, 'name': 'Puerto del Rosario', 'cod': 200}\n",
      "{'coord': {'lon': -85.1999, 'lat': 32.3502}, 'weather': [{'id': 801, 'main': 'Clouds', 'description': 'few clouds', 'icon': '02n'}], 'base': 'stations', 'main': {'temp': 78.04, 'feels_like': 79.97, 'temp_min': 76.15, 'temp_max': 82, 'pressure': 1018, 'humidity': 94}, 'visibility': 10000, 'wind': {'speed': 3.44, 'deg': 110}, 'clouds': {'all': 20}, 'dt': 1659152228, 'sys': {'type': 1, 'id': 4765, 'country': 'US', 'sunrise': 1659092002, 'sunset': 1659141657}, 'timezone': -18000, 'id': 4047434, 'name': 'Russell', 'cod': 200}\n",
      "{'coord': {'lon': 27.4794, 'lat': -11.6609}, 'weather': [{'id': 801, 'main': 'Clouds', 'description': 'few clouds', 'icon': '02n'}], 'base': 'stations', 'main': {'temp': 51.89, 'feels_like': 49.6, 'temp_min': 51.89, 'temp_max': 51.89, 'pressure': 1019, 'humidity': 60, 'sea_level': 1019, 'grnd_level': 878}, 'visibility': 10000, 'wind': {'speed': 4.34, 'deg': 104, 'gust': 9.08}, 'clouds': {'all': 20}, 'dt': 1659152229, 'sys': {'country': 'CD', 'sunrise': 1659155323, 'sunset': 1659197048}, 'timezone': 7200, 'id': 922704, 'name': 'Lubumbashi', 'cod': 200}\n",
      "{'coord': {'lon': 87.2167, 'lat': 24.8333}, 'weather': [{'id': 803, 'main': 'Clouds', 'description': 'broken clouds', 'icon': '04d'}], 'base': 'stations', 'main': {'temp': 93.94, 'feels_like': 102.11, 'temp_min': 93.94, 'temp_max': 93.94, 'pressure': 1005, 'humidity': 49, 'sea_level': 1005, 'grnd_level': 995}, 'visibility': 10000, 'wind': {'speed': 6.53, 'deg': 252, 'gust': 7.49}, 'clouds': {'all': 76}, 'dt': 1659152229, 'sys': {'country': 'IN', 'sunrise': 1659137866, 'sunset': 1659185832}, 'timezone': 19800, 'id': 1271113, 'name': 'Godda', 'cod': 200}\n",
      "{'coord': {'lon': 82.0711, 'lat': 57.0186}, 'weather': [{'id': 804, 'main': 'Clouds', 'description': 'overcast clouds', 'icon': '04d'}], 'base': 'stations', 'main': {'temp': 68.34, 'feels_like': 67.78, 'temp_min': 68.34, 'temp_max': 68.34, 'pressure': 1005, 'humidity': 62, 'sea_level': 1005, 'grnd_level': 992}, 'visibility': 10000, 'wind': {'speed': 5.95, 'deg': 349, 'gust': 7.02}, 'clouds': {'all': 100}, 'dt': 1659152229, 'sys': {'country': 'RU', 'sunrise': 1659133542, 'sunset': 1659192626}, 'timezone': 25200, 'id': 1511057, 'name': 'Bakchar', 'cod': 200}\n",
      "{'coord': {'lon': 120.2641, 'lat': -9.6567}, 'weather': [{'id': 803, 'main': 'Clouds', 'description': 'broken clouds', 'icon': '04d'}], 'base': 'stations', 'main': {'temp': 84.02, 'feels_like': 87.03, 'temp_min': 84.02, 'temp_max': 84.02, 'pressure': 1011, 'humidity': 58, 'sea_level': 1011, 'grnd_level': 1006}, 'visibility': 10000, 'wind': {'speed': 14.2, 'deg': 82, 'gust': 12.46}, 'clouds': {'all': 79}, 'dt': 1659152230, 'sys': {'country': 'ID', 'sunrise': 1659132892, 'sunset': 1659174943}, 'timezone': 28800, 'id': 1622318, 'name': 'Waingapu', 'cod': 200}\n",
      "{'coord': {'lon': 48.5268, 'lat': 5.3505}, 'weather': [{'id': 804, 'main': 'Clouds', 'description': 'overcast clouds', 'icon': '04d'}], 'base': 'stations', 'main': {'temp': 76.19, 'feels_like': 77.32, 'temp_min': 76.19, 'temp_max': 76.19, 'pressure': 1013, 'humidity': 81, 'sea_level': 1013, 'grnd_level': 1013}, 'visibility': 10000, 'wind': {'speed': 21.77, 'deg': 213, 'gust': 31.61}, 'clouds': {'all': 100}, 'dt': 1659152230, 'sys': {'country': 'SO', 'sunrise': 1659148891, 'sunset': 1659193378}, 'timezone': 10800, 'id': 57000, 'name': 'Hobyo', 'cod': 200}\n",
      "{'coord': {'lon': 52.3409, 'lat': 35.2182}, 'weather': [{'id': 801, 'main': 'Clouds', 'description': 'few clouds', 'icon': '02d'}], 'base': 'stations', 'main': {'temp': 86.92, 'feels_like': 86.09, 'temp_min': 86.92, 'temp_max': 86.92, 'pressure': 1008, 'humidity': 38, 'sea_level': 1008, 'grnd_level': 917}, 'visibility': 10000, 'wind': {'speed': 4.18, 'deg': 75, 'gust': 4.63}, 'clouds': {'all': 20}, 'dt': 1659152230, 'sys': {'country': 'IR', 'sunrise': 1659145064, 'sunset': 1659195374}, 'timezone': 16200, 'id': 133964, 'name': 'Garmsār', 'cod': 200}\n"
     ]
    },
    {
     "name": "stdout",
     "output_type": "stream",
     "text": [
      "{'coord': {'lon': 71.7189, 'lat': 40.4272}, 'weather': [{'id': 804, 'main': 'Clouds', 'description': 'overcast clouds', 'icon': '04d'}], 'base': 'stations', 'main': {'temp': 83.12, 'feels_like': 81.5, 'temp_min': 83.12, 'temp_max': 83.12, 'pressure': 1008, 'humidity': 32}, 'visibility': 10000, 'wind': {'speed': 2.3, 'deg': 0}, 'clouds': {'all': 99}, 'dt': 1659152231, 'sys': {'type': 1, 'id': 9014, 'country': 'UZ', 'sunrise': 1659139688, 'sunset': 1659191449}, 'timezone': 18000, 'id': 1513491, 'name': 'Yangi Marg`ilon', 'cod': 200}\n",
      "{'coord': {'lon': 140.5894, 'lat': 40.7072}, 'weather': [{'id': 803, 'main': 'Clouds', 'description': 'broken clouds', 'icon': '04d'}], 'base': 'stations', 'main': {'temp': 88.02, 'feels_like': 96.12, 'temp_min': 82.9, 'temp_max': 88.02, 'pressure': 1014, 'humidity': 62}, 'visibility': 10000, 'wind': {'speed': 4.61, 'deg': 0}, 'clouds': {'all': 75}, 'dt': 1659152231, 'sys': {'type': 1, 'id': 8044, 'country': 'JP', 'sunrise': 1659123106, 'sunset': 1659174974}, 'timezone': 32400, 'id': 2129005, 'name': 'Namioka', 'cod': 200}\n",
      "{'coord': {'lon': 34.5886, 'lat': 31.4222}, 'weather': [{'id': 800, 'main': 'Clear', 'description': 'clear sky', 'icon': '01d'}], 'base': 'stations', 'main': {'temp': 77.18, 'feels_like': 78.08, 'temp_min': 77.18, 'temp_max': 77.18, 'pressure': 1008, 'humidity': 74, 'sea_level': 1008, 'grnd_level': 991}, 'visibility': 10000, 'wind': {'speed': 1.83, 'deg': 357, 'gust': 2.93}, 'clouds': {'all': 0}, 'dt': 1659152231, 'sys': {'country': 'IL', 'sunrise': 1659149789, 'sunset': 1659199170}, 'timezone': 10800, 'id': 294068, 'name': 'Netivot', 'cod': 200}\n",
      "{'coord': {'lon': 96.11, 'lat': 52.4675}, 'weather': [{'id': 803, 'main': 'Clouds', 'description': 'broken clouds', 'icon': '04d'}], 'base': 'stations', 'main': {'temp': 74.19, 'feels_like': 73.09, 'temp_min': 74.19, 'temp_max': 74.19, 'pressure': 1001, 'humidity': 38, 'sea_level': 1001, 'grnd_level': 905}, 'visibility': 10000, 'wind': {'speed': 4.92, 'deg': 294, 'gust': 9.13}, 'clouds': {'all': 54}, 'dt': 1659152232, 'sys': {'country': 'RU', 'sunrise': 1659131498, 'sunset': 1659187931}, 'timezone': 25200, 'id': 1489401, 'name': 'Toora-Khem', 'cod': 200}\n",
      "{'coord': {'lon': 15.0925, 'lat': 32.3754}, 'weather': [{'id': 800, 'main': 'Clear', 'description': 'clear sky', 'icon': '01n'}], 'base': 'stations', 'main': {'temp': 79.47, 'feels_like': 79.47, 'temp_min': 79.47, 'temp_max': 79.47, 'pressure': 1014, 'humidity': 77, 'sea_level': 1014, 'grnd_level': 1013}, 'visibility': 10000, 'wind': {'speed': 5.97, 'deg': 40, 'gust': 6.8}, 'clouds': {'all': 0}, 'dt': 1659152232, 'sys': {'country': 'LY', 'sunrise': 1659154358, 'sunset': 1659203959}, 'timezone': 7200, 'id': 2214846, 'name': 'Misratah', 'cod': 200}\n",
      "{'coord': {'lon': 114.8794, 'lat': 56.3444}, 'weather': [{'id': 500, 'main': 'Rain', 'description': 'light rain', 'icon': '10d'}], 'base': 'stations', 'main': {'temp': 72.77, 'feels_like': 72.52, 'temp_min': 72.77, 'temp_max': 72.77, 'pressure': 1003, 'humidity': 59, 'sea_level': 1003, 'grnd_level': 945}, 'visibility': 10000, 'wind': {'speed': 4.88, 'deg': 61, 'gust': 5.41}, 'rain': {'1h': 0.17}, 'clouds': {'all': 14}, 'dt': 1659152232, 'sys': {'country': 'RU', 'sunrise': 1659125880, 'sunset': 1659184541}, 'timezone': 28800, 'id': 2015701, 'name': 'Taksimo', 'cod': 200}\n",
      "{'coord': {'lon': 83.2667, 'lat': 17.65}, 'weather': [{'id': 701, 'main': 'Mist', 'description': 'mist', 'icon': '50d'}], 'base': 'stations', 'main': {'temp': 86.32, 'feels_like': 95.86, 'temp_min': 86.32, 'temp_max': 86.32, 'pressure': 1007, 'humidity': 70}, 'visibility': 4000, 'wind': {'speed': 6.91, 'deg': 300}, 'clouds': {'all': 20}, 'dt': 1659152233, 'sys': {'type': 1, 'id': 9255, 'country': 'IN', 'sunrise': 1659139501, 'sunset': 1659186092}, 'timezone': 19800, 'id': 1252783, 'name': 'Yārāda', 'cod': 200}\n",
      "{'coord': {'lon': 144.0661, 'lat': -4.0625}, 'weather': [{'id': 804, 'main': 'Clouds', 'description': 'overcast clouds', 'icon': '04d'}], 'base': 'stations', 'main': {'temp': 87.82, 'feels_like': 93.88, 'temp_min': 87.82, 'temp_max': 87.82, 'pressure': 1008, 'humidity': 58, 'sea_level': 1008, 'grnd_level': 1008}, 'visibility': 10000, 'wind': {'speed': 4.47, 'deg': 45, 'gust': 7.67}, 'clouds': {'all': 100}, 'dt': 1659152233, 'sys': {'country': 'PG', 'sunrise': 1659126724, 'sunset': 1659169687}, 'timezone': 36000, 'id': 2100765, 'name': 'Angoram', 'cod': 200}\n",
      "{'coord': {'lon': 42.5867, 'lat': 45.3997}, 'weather': [{'id': 800, 'main': 'Clear', 'description': 'clear sky', 'icon': '01d'}], 'base': 'stations', 'main': {'temp': 79.61, 'feels_like': 79.61, 'temp_min': 74.32, 'temp_max': 79.61, 'pressure': 1012, 'humidity': 44, 'sea_level': 1012, 'grnd_level': 989}, 'visibility': 10000, 'wind': {'speed': 2.01, 'deg': 162, 'gust': 2.1}, 'clouds': {'all': 0}, 'dt': 1659152233, 'sys': {'type': 2, 'id': 48791, 'country': 'RU', 'sunrise': 1659145865, 'sunset': 1659199255}, 'timezone': 10800, 'id': 576147, 'name': 'Blagodatnoye', 'cod': 200}\n",
      "{'coord': {'lon': 37.4667, 'lat': 12.6}, 'weather': [{'id': 804, 'main': 'Clouds', 'description': 'overcast clouds', 'icon': '04d'}], 'base': 'stations', 'main': {'temp': 57.9, 'feels_like': 57.15, 'temp_min': 57.9, 'temp_max': 57.9, 'pressure': 1015, 'humidity': 80, 'sea_level': 1015, 'grnd_level': 787}, 'visibility': 10000, 'wind': {'speed': 2.42, 'deg': 65, 'gust': 2.51}, 'clouds': {'all': 94}, 'dt': 1659152035, 'sys': {'country': 'ET', 'sunrise': 1659150940, 'sunset': 1659196637}, 'timezone': 10800, 'id': 336014, 'name': 'Gonder', 'cod': 200}\n",
      "{'coord': {'lon': 10.7833, 'lat': 45.1667}, 'weather': [{'id': 800, 'main': 'Clear', 'description': 'clear sky', 'icon': '01n'}], 'base': 'stations', 'main': {'temp': 67.21, 'feels_like': 67.82, 'temp_min': 66.34, 'temp_max': 70.75, 'pressure': 1012, 'humidity': 89}, 'visibility': 10000, 'wind': {'speed': 1.99, 'deg': 264, 'gust': 3}, 'clouds': {'all': 2}, 'dt': 1659152234, 'sys': {'type': 2, 'id': 2011529, 'country': 'IT', 'sunrise': 1659153546, 'sunset': 1659206839}, 'timezone': 7200, 'id': 3174050, 'name': 'Province of Mantua', 'cod': 200}\n",
      "{'coord': {'lon': -6.5802, 'lat': 34.261}, 'weather': [{'id': 804, 'main': 'Clouds', 'description': 'overcast clouds', 'icon': '04n'}], 'base': 'stations', 'main': {'temp': 68.76, 'feels_like': 69.28, 'temp_min': 68.76, 'temp_max': 68.76, 'pressure': 1013, 'humidity': 84, 'sea_level': 1013, 'grnd_level': 1012}, 'visibility': 10000, 'wind': {'speed': 1.81, 'deg': 238, 'gust': 1.83}, 'clouds': {'all': 100}, 'dt': 1659152234, 'sys': {'type': 1, 'id': 2402, 'country': 'MA', 'sunrise': 1659159333, 'sunset': 1659209387}, 'timezone': 3600, 'id': 2544571, 'name': 'Kenitra', 'cod': 200}\n",
      "{'coord': {'lon': -1.2, 'lat': 48.35}, 'weather': [{'id': 801, 'main': 'Clouds', 'description': 'few clouds', 'icon': '02n'}], 'base': 'stations', 'main': {'temp': 62.46, 'feels_like': 62.67, 'temp_min': 62.46, 'temp_max': 62.46, 'pressure': 1020, 'humidity': 91, 'sea_level': 1020, 'grnd_level': 1007}, 'visibility': 10000, 'wind': {'speed': 5.59, 'deg': 337, 'gust': 7.23}, 'clouds': {'all': 16}, 'dt': 1659152160, 'sys': {'type': 1, 'id': 6538, 'country': 'FR', 'sunrise': 1659155815, 'sunset': 1659210322}, 'timezone': 7200, 'id': 3017609, 'name': 'Fougères', 'cod': 200}\n",
      "{'coord': {'lon': -96.0612, 'lat': 50.2536}, 'weather': [{'id': 800, 'main': 'Clear', 'description': 'clear sky', 'icon': '01n'}], 'base': 'stations', 'main': {'temp': 59.43, 'feels_like': 59.16, 'temp_min': 59.43, 'temp_max': 59.43, 'pressure': 1013, 'humidity': 87, 'sea_level': 1013, 'grnd_level': 983}, 'visibility': 10000, 'wind': {'speed': 5.53, 'deg': 197, 'gust': 7.56}, 'clouds': {'all': 4}, 'dt': 1659152235, 'sys': {'country': 'CA', 'sunrise': 1659091710, 'sunset': 1659147162}, 'timezone': -18000, 'id': 6014443, 'name': 'Lac du Bonnet', 'cod': 200}\n",
      "{'coord': {'lon': 80.4392, 'lat': 47.9714}, 'weather': [{'id': 804, 'main': 'Clouds', 'description': 'overcast clouds', 'icon': '04d'}], 'base': 'stations', 'main': {'temp': 77.14, 'feels_like': 76.53, 'temp_min': 77.14, 'temp_max': 77.14, 'pressure': 1003, 'humidity': 42, 'sea_level': 1003, 'grnd_level': 930}, 'visibility': 10000, 'wind': {'speed': 21.97, 'deg': 213, 'gust': 27.09}, 'clouds': {'all': 86}, 'dt': 1659152236, 'sys': {'country': 'KZ', 'sunrise': 1659136281, 'sunset': 1659190670}, 'timezone': 21600, 'id': 1525988, 'name': 'Ayagoz', 'cod': 200}\n"
     ]
    },
    {
     "name": "stdout",
     "output_type": "stream",
     "text": [
      "{'coord': {'lon': 96.1667, 'lat': 27.9167}, 'weather': [{'id': 804, 'main': 'Clouds', 'description': 'overcast clouds', 'icon': '04d'}], 'base': 'stations', 'main': {'temp': 84.22, 'feels_like': 93.43, 'temp_min': 84.22, 'temp_max': 84.22, 'pressure': 1007, 'humidity': 77, 'sea_level': 1007, 'grnd_level': 984}, 'visibility': 10000, 'wind': {'speed': 1.23, 'deg': 186, 'gust': 2.21}, 'clouds': {'all': 99}, 'dt': 1659152237, 'sys': {'country': 'IN', 'sunrise': 1659135396, 'sunset': 1659184006}, 'timezone': 19800, 'id': 1254709, 'name': 'Tezu', 'cod': 200}\n",
      "{'coord': {'lon': 45.1914, 'lat': -12.9067}, 'weather': [{'id': 800, 'main': 'Clear', 'description': 'clear sky', 'icon': '01d'}], 'base': 'stations', 'main': {'temp': 69.55, 'feels_like': 70.63, 'temp_min': 69.55, 'temp_max': 69.55, 'pressure': 1016, 'humidity': 94}, 'visibility': 10000, 'wind': {'speed': 3.44, 'deg': 270}, 'clouds': {'all': 0}, 'dt': 1659152237, 'sys': {'type': 1, 'id': 2131, 'country': 'YT', 'sunrise': 1659151177, 'sunset': 1659192692}, 'timezone': 10800, 'id': 1090397, 'name': 'Bandrele', 'cod': 200}\n",
      "{'coord': {'lon': -113.5841, 'lat': 37.1041}, 'weather': [{'id': 800, 'main': 'Clear', 'description': 'clear sky', 'icon': '01n'}], 'base': 'stations', 'main': {'temp': 77.59, 'feels_like': 78.3, 'temp_min': 77.59, 'temp_max': 77.59, 'pressure': 1017, 'humidity': 69}, 'visibility': 10000, 'wind': {'speed': 0, 'deg': 0}, 'clouds': {'all': 0}, 'dt': 1659152237, 'sys': {'type': 1, 'id': 5832, 'country': 'US', 'sunrise': 1659098211, 'sunset': 1659149073}, 'timezone': -21600, 'id': 5546220, 'name': 'Saint George', 'cod': 200}\n",
      "{'coord': {'lon': 140.1822, 'lat': 53.2514}, 'weather': [{'id': 501, 'main': 'Rain', 'description': 'moderate rain', 'icon': '10d'}], 'base': 'stations', 'main': {'temp': 65.23, 'feels_like': 66.06, 'temp_min': 65.23, 'temp_max': 65.23, 'pressure': 1002, 'humidity': 98, 'sea_level': 1002, 'grnd_level': 1002}, 'visibility': 10000, 'wind': {'speed': 3.8, 'deg': 88, 'gust': 7.74}, 'rain': {'1h': 1.06}, 'clouds': {'all': 100}, 'dt': 1659152238, 'sys': {'country': 'RU', 'sunrise': 1659120705, 'sunset': 1659177570}, 'timezone': 36000, 'id': 2123621, 'name': 'Mago', 'cod': 200}\n",
      "{'coord': {'lon': 33.9228, 'lat': 48.6874}, 'weather': [{'id': 802, 'main': 'Clouds', 'description': 'scattered clouds', 'icon': '03d'}], 'base': 'stations', 'main': {'temp': 66.27, 'feels_like': 65.46, 'temp_min': 66.27, 'temp_max': 66.27, 'pressure': 1019, 'humidity': 61, 'sea_level': 1019, 'grnd_level': 1010}, 'visibility': 10000, 'wind': {'speed': 7.7, 'deg': 52, 'gust': 13.47}, 'clouds': {'all': 39}, 'dt': 1659152238, 'sys': {'country': 'UA', 'sunrise': 1659147308, 'sunset': 1659201971}, 'timezone': 10800, 'id': 703079, 'name': 'Lykhivka', 'cod': 200}\n",
      "{'coord': {'lon': 110.2833, 'lat': -7.95}, 'weather': [{'id': 804, 'main': 'Clouds', 'description': 'overcast clouds', 'icon': '04d'}], 'base': 'stations', 'main': {'temp': 80.8, 'feels_like': 84.27, 'temp_min': 80.8, 'temp_max': 80.8, 'pressure': 1011, 'humidity': 70, 'sea_level': 1011, 'grnd_level': 1007}, 'visibility': 10000, 'wind': {'speed': 12.41, 'deg': 144, 'gust': 12.15}, 'clouds': {'all': 99}, 'dt': 1659152238, 'sys': {'country': 'ID', 'sunrise': 1659135147, 'sunset': 1659177479}, 'timezone': 25200, 'id': 1650434, 'name': 'Bambanglipuro', 'cod': 200}\n",
      "{'coord': {'lon': -120.4579, 'lat': 34.6391}, 'weather': [{'id': 804, 'main': 'Clouds', 'description': 'overcast clouds', 'icon': '04n'}], 'base': 'stations', 'main': {'temp': 61.14, 'feels_like': 61, 'temp_min': 57.61, 'temp_max': 71.78, 'pressure': 1012, 'humidity': 86}, 'visibility': 10000, 'wind': {'speed': 9.22, 'deg': 270}, 'clouds': {'all': 100}, 'dt': 1659152239, 'sys': {'type': 1, 'id': 4747, 'country': 'US', 'sunrise': 1659100186, 'sunset': 1659150397}, 'timezone': -25200, 'id': 5367788, 'name': 'Lompoc', 'cod': 200}\n",
      "{'coord': {'lon': -124.1573, 'lat': 40.5982}, 'weather': [{'id': 804, 'main': 'Clouds', 'description': 'overcast clouds', 'icon': '04n'}], 'base': 'stations', 'main': {'temp': 58.03, 'feels_like': 57.76, 'temp_min': 55.74, 'temp_max': 59.34, 'pressure': 1012, 'humidity': 90}, 'visibility': 402, 'wind': {'speed': 6.91, 'deg': 310}, 'clouds': {'all': 100}, 'dt': 1659152239, 'sys': {'type': 2, 'id': 2040243, 'country': 'US', 'sunrise': 1659100247, 'sunset': 1659152112}, 'timezone': -25200, 'id': 5563839, 'name': 'Fortuna', 'cod': 200}\n",
      "{'coord': {'lon': 92.75, 'lat': 11.6667}, 'weather': [{'id': 802, 'main': 'Clouds', 'description': 'scattered clouds', 'icon': '03d'}], 'base': 'stations', 'main': {'temp': 86.04, 'feels_like': 98.64, 'temp_min': 86.04, 'temp_max': 86.04, 'pressure': 1007, 'humidity': 79}, 'visibility': 6000, 'wind': {'speed': 5.75, 'deg': 60}, 'clouds': {'all': 40}, 'dt': 1659152239, 'sys': {'type': 1, 'id': 9215, 'country': 'IN', 'sunrise': 1659137750, 'sunset': 1659183292}, 'timezone': 19800, 'id': 1259385, 'name': 'Port Blair', 'cod': 200}\n",
      "{'coord': {'lon': -123.3284, 'lat': 42.439}, 'weather': [{'id': 800, 'main': 'Clear', 'description': 'clear sky', 'icon': '01d'}], 'base': 'stations', 'main': {'temp': 95.07, 'feels_like': 96.62, 'temp_min': 90.28, 'temp_max': 105.31, 'pressure': 1012, 'humidity': 35}, 'visibility': 10000, 'wind': {'speed': 9.22, 'deg': 320, 'gust': 16.11}, 'clouds': {'all': 0}, 'dt': 1659152045, 'sys': {'type': 1, 'id': 2900, 'country': 'US', 'sunrise': 1659099758, 'sunset': 1659152203}, 'timezone': -25200, 'id': 5729080, 'name': 'Grants Pass', 'cod': 200}\n",
      "{'coord': {'lon': 97.75, 'lat': 22.9333}, 'weather': [{'id': 803, 'main': 'Clouds', 'description': 'broken clouds', 'icon': '04d'}], 'base': 'stations', 'main': {'temp': 79.16, 'feels_like': 79.16, 'temp_min': 79.16, 'temp_max': 79.16, 'pressure': 1007, 'humidity': 84, 'sea_level': 1007, 'grnd_level': 915}, 'visibility': 10000, 'wind': {'speed': 3, 'deg': 241, 'gust': 5.26}, 'clouds': {'all': 81}, 'dt': 1659152240, 'sys': {'country': 'MM', 'sunrise': 1659135527, 'sunset': 1659183115}, 'timezone': 23400, 'id': 1314759, 'name': 'Lashio', 'cod': 200}\n",
      "{'coord': {'lon': 42.4509, 'lat': 18.3851}, 'weather': [{'id': 804, 'main': 'Clouds', 'description': 'overcast clouds', 'icon': '04d'}], 'base': 'stations', 'main': {'temp': 63.12, 'feels_like': 62.01, 'temp_min': 63.12, 'temp_max': 64.51, 'pressure': 1011, 'humidity': 61, 'sea_level': 1011, 'grnd_level': 787}, 'visibility': 10000, 'wind': {'speed': 3.67, 'deg': 311, 'gust': 8.05}, 'clouds': {'all': 88}, 'dt': 1659152240, 'sys': {'type': 1, 'id': 7396, 'country': 'SA', 'sunrise': 1659149233, 'sunset': 1659195953}, 'timezone': 10800, 'id': 110690, 'name': 'Faya', 'cod': 200}\n",
      "{'coord': {'lon': 122.2111, 'lat': -8.6199}, 'weather': [{'id': 803, 'main': 'Clouds', 'description': 'broken clouds', 'icon': '04d'}], 'base': 'stations', 'main': {'temp': 81.61, 'feels_like': 84.4, 'temp_min': 81.61, 'temp_max': 81.61, 'pressure': 1011, 'humidity': 63, 'sea_level': 1011, 'grnd_level': 1009}, 'visibility': 10000, 'wind': {'speed': 5.03, 'deg': 162, 'gust': 8.3}, 'clouds': {'all': 59}, 'dt': 1659152240, 'sys': {'country': 'ID', 'sunrise': 1659132340, 'sunset': 1659174561}, 'timezone': 28800, 'id': 1635815, 'name': 'Maumere', 'cod': 200}\n",
      "{'coord': {'lon': 108.9667, 'lat': 1.1667}, 'weather': [{'id': 804, 'main': 'Clouds', 'description': 'overcast clouds', 'icon': '04d'}], 'base': 'stations', 'main': {'temp': 81.28, 'feels_like': 86.88, 'temp_min': 81.28, 'temp_max': 81.28, 'pressure': 1009, 'humidity': 79, 'sea_level': 1009, 'grnd_level': 1008}, 'visibility': 10000, 'wind': {'speed': 6.15, 'deg': 146, 'gust': 8.01}, 'clouds': {'all': 100}, 'dt': 1659152241, 'sys': {'country': 'ID', 'sunrise': 1659134725, 'sunset': 1659178534}, 'timezone': 25200, 'id': 1631637, 'name': 'Pemangkat', 'cod': 200}\n",
      "{'coord': {'lon': 159.5921, 'lat': -8.145}, 'weather': [{'id': 803, 'main': 'Clouds', 'description': 'broken clouds', 'icon': '04d'}], 'base': 'stations', 'main': {'temp': 85.39, 'feels_like': 90.97, 'temp_min': 85.39, 'temp_max': 85.39, 'pressure': 1009, 'humidity': 63, 'sea_level': 1009, 'grnd_level': 1006}, 'visibility': 10000, 'wind': {'speed': 5.28, 'deg': 101, 'gust': 5.82}, 'clouds': {'all': 83}, 'dt': 1659152241, 'sys': {'country': 'SB', 'sunrise': 1659123330, 'sunset': 1659165628}, 'timezone': 39600, 'id': 2109528, 'name': 'Buala', 'cod': 200}\n"
     ]
    },
    {
     "name": "stdout",
     "output_type": "stream",
     "text": [
      "{'coord': {'lon': 175.7, 'lat': -36.8333}, 'weather': [{'id': 801, 'main': 'Clouds', 'description': 'few clouds', 'icon': '02d'}], 'base': 'stations', 'main': {'temp': 58.39, 'feels_like': 57.74, 'temp_min': 58.39, 'temp_max': 58.39, 'pressure': 1015, 'humidity': 81, 'sea_level': 1015, 'grnd_level': 1014}, 'visibility': 10000, 'wind': {'speed': 8.7, 'deg': 3, 'gust': 15.64}, 'clouds': {'all': 18}, 'dt': 1659152241, 'sys': {'country': 'NZ', 'sunrise': 1659122255, 'sunset': 1659158972}, 'timezone': 43200, 'id': 2179103, 'name': 'Whitianga', 'cod': 200}\n",
      "{'coord': {'lon': 138.1667, 'lat': 56.45}, 'weather': [{'id': 500, 'main': 'Rain', 'description': 'light rain', 'icon': '10d'}], 'base': 'stations', 'main': {'temp': 58.06, 'feels_like': 58.14, 'temp_min': 58.06, 'temp_max': 58.06, 'pressure': 1010, 'humidity': 97, 'sea_level': 1010, 'grnd_level': 1010}, 'visibility': 7862, 'wind': {'speed': 19.73, 'deg': 29, 'gust': 28.05}, 'rain': {'1h': 0.99}, 'clouds': {'all': 100}, 'dt': 1659152242, 'sys': {'country': 'RU', 'sunrise': 1659120249, 'sunset': 1659178993}, 'timezone': 36000, 'id': 2027316, 'name': 'Ayan', 'cod': 200}\n",
      "{'coord': {'lon': 22.2667, 'lat': -19.6667}, 'weather': [{'id': 802, 'main': 'Clouds', 'description': 'scattered clouds', 'icon': '03n'}], 'base': 'stations', 'main': {'temp': 52.29, 'feels_like': 48.99, 'temp_min': 52.29, 'temp_max': 52.29, 'pressure': 1018, 'humidity': 38, 'sea_level': 1018, 'grnd_level': 909}, 'visibility': 10000, 'wind': {'speed': 6.06, 'deg': 39, 'gust': 6.89}, 'clouds': {'all': 28}, 'dt': 1659152242, 'sys': {'country': 'BW', 'sunrise': 1659157264, 'sunset': 1659197609}, 'timezone': 7200, 'id': 933211, 'name': 'Nokaneng', 'cod': 200}\n",
      "{'coord': {'lon': -0.6231, 'lat': 5.3511}, 'weather': [{'id': 804, 'main': 'Clouds', 'description': 'overcast clouds', 'icon': '04n'}], 'base': 'stations', 'main': {'temp': 71.53, 'feels_like': 72.43, 'temp_min': 71.53, 'temp_max': 71.53, 'pressure': 1014, 'humidity': 86, 'sea_level': 1014, 'grnd_level': 1011}, 'visibility': 10000, 'wind': {'speed': 7.18, 'deg': 263, 'gust': 11.23}, 'clouds': {'all': 95}, 'dt': 1659152242, 'sys': {'country': 'GH', 'sunrise': 1659160687, 'sunset': 1659205173}, 'timezone': 0, 'id': 2294034, 'name': 'Winneba', 'cod': 200}\n",
      "{'coord': {'lon': 55.4781, 'lat': -21.3393}, 'weather': [{'id': 803, 'main': 'Clouds', 'description': 'broken clouds', 'icon': '04d'}], 'base': 'stations', 'main': {'temp': 65.61, 'feels_like': 65.21, 'temp_min': 65.28, 'temp_max': 68.92, 'pressure': 1022, 'humidity': 71}, 'visibility': 10000, 'wind': {'speed': 10.36, 'deg': 30}, 'clouds': {'all': 75}, 'dt': 1659152243, 'sys': {'type': 1, 'id': 2127, 'country': 'RE', 'sunrise': 1659149448, 'sunset': 1659189485}, 'timezone': 14400, 'id': 935214, 'name': 'Saint-Pierre', 'cod': 200}\n",
      "{'coord': {'lon': -35.7353, 'lat': -9.6658}, 'weather': [{'id': 801, 'main': 'Clouds', 'description': 'few clouds', 'icon': '02n'}], 'base': 'stations', 'main': {'temp': 74.64, 'feels_like': 76.23, 'temp_min': 74.64, 'temp_max': 74.64, 'pressure': 1016, 'humidity': 94}, 'visibility': 10000, 'wind': {'speed': 1.14, 'deg': 330}, 'clouds': {'all': 20}, 'dt': 1659152243, 'sys': {'type': 1, 'id': 8413, 'country': 'BR', 'sunrise': 1659170327, 'sunset': 1659212386}, 'timezone': -10800, 'id': 3395981, 'name': 'Maceió', 'cod': 200}\n",
      "{'coord': {'lon': 55.6167, 'lat': -21.3667}, 'weather': [{'id': 802, 'main': 'Clouds', 'description': 'scattered clouds', 'icon': '03d'}], 'base': 'stations', 'main': {'temp': 64.78, 'feels_like': 64.62, 'temp_min': 64.2, 'temp_max': 64.78, 'pressure': 1024, 'humidity': 78, 'sea_level': 1024, 'grnd_level': 1008}, 'visibility': 10000, 'wind': {'speed': 14.9, 'deg': 82, 'gust': 15.73}, 'clouds': {'all': 25}, 'dt': 1659152243, 'sys': {'type': 1, 'id': 2127, 'country': 'RE', 'sunrise': 1659149417, 'sunset': 1659189449}, 'timezone': 14400, 'id': 6690296, 'name': 'Saint-Joseph', 'cod': 200}\n",
      "{'coord': {'lon': 90.2201, 'lat': 25.5198}, 'weather': [{'id': 501, 'main': 'Rain', 'description': 'moderate rain', 'icon': '10d'}], 'base': 'stations', 'main': {'temp': 81.9, 'feels_like': 89.82, 'temp_min': 81.9, 'temp_max': 81.9, 'pressure': 1006, 'humidity': 85, 'sea_level': 1006, 'grnd_level': 965}, 'visibility': 8927, 'wind': {'speed': 4.68, 'deg': 170, 'gust': 7.18}, 'rain': {'1h': 1.38}, 'clouds': {'all': 68}, 'dt': 1659152244, 'sys': {'country': 'IN', 'sunrise': 1659137075, 'sunset': 1659185181}, 'timezone': 19800, 'id': 1254046, 'name': 'Tura', 'cod': 200}\n",
      "{'coord': {'lon': 135.8049, 'lat': 34.6851}, 'weather': [{'id': 804, 'main': 'Clouds', 'description': 'overcast clouds', 'icon': '04d'}], 'base': 'stations', 'main': {'temp': 93.76, 'feels_like': 94.93, 'temp_min': 90.77, 'temp_max': 96.49, 'pressure': 1014, 'humidity': 36, 'sea_level': 1014, 'grnd_level': 1007}, 'visibility': 10000, 'wind': {'speed': 2.98, 'deg': 64, 'gust': 6.38}, 'clouds': {'all': 100}, 'dt': 1659152244, 'sys': {'type': 2, 'id': 20513, 'country': 'JP', 'sunrise': 1659125090, 'sunset': 1659175286}, 'timezone': 32400, 'id': 1855612, 'name': 'Nara', 'cod': 200}\n",
      "{'coord': {'lon': 75.95, 'lat': 21.8667}, 'weather': [{'id': 804, 'main': 'Clouds', 'description': 'overcast clouds', 'icon': '04d'}], 'base': 'stations', 'main': {'temp': 81.73, 'feels_like': 87.46, 'temp_min': 81.73, 'temp_max': 81.73, 'pressure': 1008, 'humidity': 77, 'sea_level': 1008, 'grnd_level': 977}, 'visibility': 10000, 'wind': {'speed': 8.01, 'deg': 287, 'gust': 11.48}, 'clouds': {'all': 99}, 'dt': 1659152244, 'sys': {'country': 'IN', 'sunrise': 1659140864, 'sunset': 1659188242}, 'timezone': 19800, 'id': 1275978, 'name': 'Bhikangaon', 'cod': 200}\n",
      "{'coord': {'lon': -49.6678, 'lat': 61.994}, 'weather': [{'id': 803, 'main': 'Clouds', 'description': 'broken clouds', 'icon': '04n'}], 'base': 'stations', 'main': {'temp': 45.48, 'feels_like': 41.83, 'temp_min': 45.48, 'temp_max': 45.48, 'pressure': 1013, 'humidity': 83, 'sea_level': 1013, 'grnd_level': 1011}, 'visibility': 10000, 'wind': {'speed': 6.85, 'deg': 161, 'gust': 6.85}, 'clouds': {'all': 73}, 'dt': 1659152245, 'sys': {'country': 'GL', 'sunrise': 1659163165, 'sunset': 1659226236}, 'timezone': -7200, 'id': 3421193, 'name': 'Paamiut', 'cod': 200}\n",
      "{'coord': {'lon': -80.8873, 'lat': 35.7826}, 'weather': [{'id': 800, 'main': 'Clear', 'description': 'clear sky', 'icon': '01n'}], 'base': 'stations', 'main': {'temp': 74.68, 'feels_like': 74.95, 'temp_min': 71.92, 'temp_max': 78.03, 'pressure': 1017, 'humidity': 66}, 'visibility': 10000, 'wind': {'speed': 0, 'deg': 0}, 'clouds': {'all': 0}, 'dt': 1659151960, 'sys': {'type': 2, 'id': 2009922, 'country': 'US', 'sunrise': 1659090536, 'sunset': 1659141053}, 'timezone': -14400, 'id': 4493316, 'name': 'Statesville', 'cod': 200}\n",
      "{'coord': {'lon': 115.0319, 'lat': 31.1783}, 'weather': [{'id': 800, 'main': 'Clear', 'description': 'clear sky', 'icon': '01d'}], 'base': 'stations', 'main': {'temp': 89.26, 'feels_like': 98.47, 'temp_min': 89.26, 'temp_max': 89.26, 'pressure': 1005, 'humidity': 61, 'sea_level': 1005, 'grnd_level': 999}, 'visibility': 10000, 'wind': {'speed': 4.68, 'deg': 328, 'gust': 3.83}, 'clouds': {'all': 6}, 'dt': 1659152245, 'sys': {'country': 'CN', 'sunrise': 1659130502, 'sunset': 1659179845}, 'timezone': 28800, 'id': 1801582, 'name': 'Macheng', 'cod': 200}\n",
      "{'cod': '404', 'message': 'city not found'}\n",
      "City Not Found\n",
      "{'coord': {'lon': -80.85, 'lat': -2.2333}, 'weather': [{'id': 804, 'main': 'Clouds', 'description': 'overcast clouds', 'icon': '04n'}], 'base': 'stations', 'main': {'temp': 68.5, 'feels_like': 69.1, 'temp_min': 68.5, 'temp_max': 68.5, 'pressure': 1014, 'humidity': 86, 'sea_level': 1014, 'grnd_level': 1008}, 'visibility': 10000, 'wind': {'speed': 9.64, 'deg': 234, 'gust': 9.42}, 'clouds': {'all': 99}, 'dt': 1659152246, 'sys': {'country': 'EC', 'sunrise': 1659094157, 'sunset': 1659137415}, 'timezone': -18000, 'id': 3651438, 'name': 'Santa Elena', 'cod': 200}\n",
      "{'coord': {'lon': 88.3972, 'lat': 69.4865}, 'weather': [{'id': 802, 'main': 'Clouds', 'description': 'scattered clouds', 'icon': '03d'}], 'base': 'stations', 'main': {'temp': 70.21, 'feels_like': 69.76, 'temp_min': 70.21, 'temp_max': 70.21, 'pressure': 1008, 'humidity': 60, 'sea_level': 1008, 'grnd_level': 1000}, 'visibility': 10000, 'wind': {'speed': 11.27, 'deg': 319, 'gust': 11.92}, 'clouds': {'all': 50}, 'dt': 1659152246, 'sys': {'type': 2, 'id': 49144, 'country': 'RU', 'sunrise': 1659123067, 'sunset': 1659200065}, 'timezone': 25200, 'id': 1490256, 'name': 'Talnakh', 'cod': 200}\n"
     ]
    },
    {
     "name": "stdout",
     "output_type": "stream",
     "text": [
      "{'coord': {'lon': -108.05, 'lat': 25.0833}, 'weather': [{'id': 803, 'main': 'Clouds', 'description': 'broken clouds', 'icon': '04n'}], 'base': 'stations', 'main': {'temp': 80.11, 'feels_like': 84.2, 'temp_min': 80.11, 'temp_max': 80.11, 'pressure': 1012, 'humidity': 78, 'sea_level': 1012, 'grnd_level': 1011}, 'visibility': 10000, 'wind': {'speed': 4.12, 'deg': 54, 'gust': 4.16}, 'clouds': {'all': 60}, 'dt': 1659152246, 'sys': {'country': 'MX', 'sunrise': 1659098291, 'sunset': 1659146336}, 'timezone': -21600, 'id': 4000490, 'name': 'La Reforma', 'cod': 200}\n",
      "{'coord': {'lon': 31.2333, 'lat': -7.1}, 'weather': [{'id': 804, 'main': 'Clouds', 'description': 'overcast clouds', 'icon': '04n'}], 'base': 'stations', 'main': {'temp': 70.03, 'feels_like': 69.28, 'temp_min': 70.03, 'temp_max': 70.03, 'pressure': 1014, 'humidity': 54, 'sea_level': 1014, 'grnd_level': 912}, 'visibility': 10000, 'wind': {'speed': 8.79, 'deg': 130, 'gust': 22.26}, 'clouds': {'all': 98}, 'dt': 1659152247, 'sys': {'country': 'TZ', 'sunrise': 1659154048, 'sunset': 1659196522}, 'timezone': 10800, 'id': 149132, 'name': 'Usevya', 'cod': 200}\n",
      "{'coord': {'lon': -2.9984, 'lat': 51.5877}, 'weather': [{'id': 804, 'main': 'Clouds', 'description': 'overcast clouds', 'icon': '04n'}], 'base': 'stations', 'main': {'temp': 60.73, 'feels_like': 60.44, 'temp_min': 56.82, 'temp_max': 64.45, 'pressure': 1018, 'humidity': 84, 'sea_level': 1018, 'grnd_level': 1015}, 'visibility': 10000, 'wind': {'speed': 6.73, 'deg': 251, 'gust': 10.8}, 'clouds': {'all': 100}, 'dt': 1659152247, 'sys': {'type': 2, 'id': 2013467, 'country': 'GB', 'sunrise': 1659155527, 'sunset': 1659211474}, 'timezone': 3600, 'id': 2641598, 'name': 'Newport', 'cod': 200}\n",
      "{'coord': {'lon': -3.9836, 'lat': 22.6783}, 'weather': [{'id': 803, 'main': 'Clouds', 'description': 'broken clouds', 'icon': '04n'}], 'base': 'stations', 'main': {'temp': 95.18, 'feels_like': 95.47, 'temp_min': 95.18, 'temp_max': 95.18, 'pressure': 1008, 'humidity': 32, 'sea_level': 1008, 'grnd_level': 992}, 'visibility': 10000, 'wind': {'speed': 12.53, 'deg': 237, 'gust': 18.32}, 'clouds': {'all': 74}, 'dt': 1659152247, 'sys': {'country': 'ML', 'sunrise': 1659159975, 'sunset': 1659207498}, 'timezone': 0, 'id': 2450173, 'name': 'Taoudenni', 'cod': 200}\n",
      "{'coord': {'lon': 26.4, 'lat': 46.4333}, 'weather': [{'id': 802, 'main': 'Clouds', 'description': 'scattered clouds', 'icon': '03d'}], 'base': 'stations', 'main': {'temp': 63.52, 'feels_like': 63.84, 'temp_min': 63.28, 'temp_max': 63.52, 'pressure': 1018, 'humidity': 91, 'sea_level': 1018, 'grnd_level': 970}, 'visibility': 10000, 'wind': {'speed': 1.52, 'deg': 251, 'gust': 1.68}, 'clouds': {'all': 26}, 'dt': 1659152248, 'sys': {'type': 1, 'id': 6909, 'country': 'RO', 'sunrise': 1659149562, 'sunset': 1659203327}, 'timezone': 10800, 'id': 686090, 'name': 'Asău', 'cod': 200}\n",
      "{'coord': {'lon': 134.5333, 'lat': 60.4167}, 'weather': [{'id': 804, 'main': 'Clouds', 'description': 'overcast clouds', 'icon': '04d'}], 'base': 'stations', 'main': {'temp': 85.24, 'feels_like': 84.6, 'temp_min': 85.24, 'temp_max': 85.24, 'pressure': 1003, 'humidity': 40, 'sea_level': 1003, 'grnd_level': 984}, 'visibility': 10000, 'wind': {'speed': 6.71, 'deg': 141, 'gust': 8.93}, 'clouds': {'all': 100}, 'dt': 1659152248, 'sys': {'country': 'RU', 'sunrise': 1659119623, 'sunset': 1659181363}, 'timezone': 32400, 'id': 2013918, 'name': 'Ust-Maya', 'cod': 200}\n",
      "{'coord': {'lon': -34.8339, 'lat': -6.9811}, 'weather': [{'id': 500, 'main': 'Rain', 'description': 'light rain', 'icon': '10n'}], 'base': 'stations', 'main': {'temp': 75.87, 'feels_like': 77.38, 'temp_min': 75.87, 'temp_max': 75.87, 'pressure': 1014, 'humidity': 90, 'sea_level': 1014, 'grnd_level': 1013}, 'visibility': 4394, 'wind': {'speed': 7.27, 'deg': 145, 'gust': 12.08}, 'rain': {'1h': 0.36}, 'clouds': {'all': 73}, 'dt': 1659152248, 'sys': {'type': 1, 'id': 8391, 'country': 'BR', 'sunrise': 1659169892, 'sunset': 1659212389}, 'timezone': -10800, 'id': 3404558, 'name': 'Cabedelo', 'cod': 200}\n",
      "{'coord': {'lon': 38.9997, 'lat': -13.1256}, 'weather': [{'id': 803, 'main': 'Clouds', 'description': 'broken clouds', 'icon': '04n'}], 'base': 'stations', 'main': {'temp': 61.41, 'feels_like': 61.16, 'temp_min': 61.41, 'temp_max': 61.41, 'pressure': 1019, 'humidity': 83, 'sea_level': 1019, 'grnd_level': 958}, 'visibility': 10000, 'wind': {'speed': 5.44, 'deg': 159, 'gust': 17.69}, 'clouds': {'all': 53}, 'dt': 1659152249, 'sys': {'country': 'MZ', 'sunrise': 1659152681, 'sunset': 1659194160}, 'timezone': 7200, 'id': 1037125, 'name': 'Montepuez', 'cod': 200}\n",
      "{'coord': {'lon': -70.1431, 'lat': -20.2208}, 'weather': [{'id': 803, 'main': 'Clouds', 'description': 'broken clouds', 'icon': '04n'}], 'base': 'stations', 'main': {'temp': 59.04, 'feels_like': 58.44, 'temp_min': 59.04, 'temp_max': 59.04, 'pressure': 1016, 'humidity': 81, 'sea_level': 1016, 'grnd_level': 1012}, 'visibility': 10000, 'wind': {'speed': 2.75, 'deg': 37, 'gust': 3}, 'clouds': {'all': 64}, 'dt': 1659152249, 'sys': {'type': 1, 'id': 8492, 'country': 'CL', 'sunrise': 1659093111, 'sunset': 1659133321}, 'timezone': -14400, 'id': 3887127, 'name': 'Iquique', 'cod': 200}\n",
      "{'coord': {'lon': -76.2167, 'lat': -13.7}, 'weather': [{'id': 701, 'main': 'Mist', 'description': 'mist', 'icon': '50n'}], 'base': 'stations', 'main': {'temp': 62.65, 'feels_like': 62.24, 'temp_min': 62.65, 'temp_max': 62.65, 'pressure': 1016, 'humidity': 77}, 'visibility': 8000, 'wind': {'speed': 9.22, 'deg': 210}, 'clouds': {'all': 100}, 'dt': 1659152097, 'sys': {'type': 1, 'id': 8691, 'country': 'PE', 'sunrise': 1659093993, 'sunset': 1659135354}, 'timezone': -18000, 'id': 3932145, 'name': 'Pisco', 'cod': 200}\n",
      "{'coord': {'lon': 47.8, 'lat': -18.9167}, 'weather': [{'id': 804, 'main': 'Clouds', 'description': 'overcast clouds', 'icon': '04d'}], 'base': 'stations', 'main': {'temp': 55.09, 'feels_like': 54.77, 'temp_min': 55.09, 'temp_max': 55.09, 'pressure': 1024, 'humidity': 95, 'sea_level': 1024, 'grnd_level': 863}, 'visibility': 3929, 'wind': {'speed': 5.06, 'deg': 111, 'gust': 14.41}, 'clouds': {'all': 99}, 'dt': 1659152249, 'sys': {'type': 1, 'id': 2136, 'country': 'MG', 'sunrise': 1659151071, 'sunset': 1659191547}, 'timezone': 10800, 'id': 1060673, 'name': 'Manjakandriana', 'cod': 200}\n",
      "{'coord': {'lon': -124.2179, 'lat': 43.3665}, 'weather': [{'id': 701, 'main': 'Mist', 'description': 'mist', 'icon': '50d'}], 'base': 'stations', 'main': {'temp': 61.23, 'feels_like': 61.47, 'temp_min': 59.94, 'temp_max': 63.99, 'pressure': 1013, 'humidity': 94}, 'visibility': 9656, 'wind': {'speed': 12.66, 'deg': 360}, 'clouds': {'all': 100}, 'dt': 1659152250, 'sys': {'type': 1, 'id': 5239, 'country': 'US', 'sunrise': 1659099818, 'sunset': 1659152570}, 'timezone': -25200, 'id': 5720495, 'name': 'Coos Bay', 'cod': 200}\n",
      "{'coord': {'lon': -72.545, 'lat': 10.0644}, 'weather': [{'id': 804, 'main': 'Clouds', 'description': 'overcast clouds', 'icon': '04n'}], 'base': 'stations', 'main': {'temp': 75.6, 'feels_like': 76.86, 'temp_min': 75.6, 'temp_max': 75.6, 'pressure': 1013, 'humidity': 85, 'sea_level': 1013, 'grnd_level': 1002}, 'visibility': 10000, 'wind': {'speed': 4.74, 'deg': 340, 'gust': 10.29}, 'clouds': {'all': 90}, 'dt': 1659152250, 'sys': {'country': 'VE', 'sunrise': 1659091151, 'sunset': 1659136434}, 'timezone': -14400, 'id': 3633444, 'name': 'Machiques', 'cod': 200}\n",
      "{'coord': {'lon': 110.3967, 'lat': 18.8003}, 'weather': [{'id': 804, 'main': 'Clouds', 'description': 'overcast clouds', 'icon': '04d'}], 'base': 'stations', 'main': {'temp': 90.09, 'feels_like': 99.88, 'temp_min': 90.09, 'temp_max': 90.09, 'pressure': 1005, 'humidity': 60, 'sea_level': 1005, 'grnd_level': 1004}, 'visibility': 10000, 'wind': {'speed': 6.49, 'deg': 189, 'gust': 6.78}, 'clouds': {'all': 100}, 'dt': 1659152251, 'sys': {'country': 'CN', 'sunrise': 1659132884, 'sunset': 1659179688}, 'timezone': 28800, 'id': 1791779, 'name': 'Wanning', 'cod': 200}\n",
      "{'coord': {'lon': 150.85, 'lat': 65.75}, 'weather': [{'id': 804, 'main': 'Clouds', 'description': 'overcast clouds', 'icon': '04d'}], 'base': 'stations', 'main': {'temp': 71.29, 'feels_like': 69.44, 'temp_min': 71.29, 'temp_max': 71.29, 'pressure': 1007, 'humidity': 28, 'sea_level': 1007, 'grnd_level': 1003}, 'visibility': 10000, 'wind': {'speed': 16.08, 'deg': 165, 'gust': 17.29}, 'clouds': {'all': 100}, 'dt': 1659152251, 'sys': {'country': 'RU', 'sunrise': 1659112557, 'sunset': 1659180597}, 'timezone': 39600, 'id': 2119283, 'name': 'Zyryanka', 'cod': 200}\n"
     ]
    },
    {
     "name": "stdout",
     "output_type": "stream",
     "text": [
      "{'coord': {'lon': 108.9833, 'lat': 53.45}, 'weather': [{'id': 500, 'main': 'Rain', 'description': 'light rain', 'icon': '10d'}], 'base': 'stations', 'main': {'temp': 56.89, 'feels_like': 56.8, 'temp_min': 56.89, 'temp_max': 56.89, 'pressure': 1002, 'humidity': 96, 'sea_level': 1002, 'grnd_level': 951}, 'visibility': 10000, 'wind': {'speed': 2.93, 'deg': 42, 'gust': 4.34}, 'rain': {'1h': 0.29}, 'clouds': {'all': 100}, 'dt': 1659152251, 'sys': {'country': 'RU', 'sunrise': 1659128148, 'sunset': 1659185102}, 'timezone': 28800, 'id': 2013986, 'name': \"Ust'-Barguzin\", 'cod': 200}\n",
      "{'coord': {'lon': -117.0333, 'lat': 32.3333}, 'weather': [{'id': 802, 'main': 'Clouds', 'description': 'scattered clouds', 'icon': '03n'}], 'base': 'stations', 'main': {'temp': 67.39, 'feels_like': 67.5, 'temp_min': 66.11, 'temp_max': 68.95, 'pressure': 1013, 'humidity': 78, 'sea_level': 1013, 'grnd_level': 1004}, 'visibility': 10000, 'wind': {'speed': 3.87, 'deg': 275, 'gust': 2.95}, 'clouds': {'all': 45}, 'dt': 1659152252, 'sys': {'type': 1, 'id': 7164, 'country': 'MX', 'sunrise': 1659099648, 'sunset': 1659149291}, 'timezone': -25200, 'id': 3988392, 'name': 'Rosarito', 'cod': 200}\n",
      "{'coord': {'lon': -72.225, 'lat': 7.7669}, 'weather': [{'id': 803, 'main': 'Clouds', 'description': 'broken clouds', 'icon': '04n'}], 'base': 'stations', 'main': {'temp': 71.78, 'feels_like': 73.22, 'temp_min': 71.78, 'temp_max': 71.78, 'pressure': 1017, 'humidity': 97, 'sea_level': 1017, 'grnd_level': 915}, 'visibility': 10000, 'wind': {'speed': 2.08, 'deg': 102, 'gust': 3.89}, 'clouds': {'all': 55}, 'dt': 1659152252, 'sys': {'type': 1, 'id': 8587, 'country': 'VE', 'sunrise': 1659091268, 'sunset': 1659136164}, 'timezone': -14400, 'id': 3628473, 'name': 'San Cristobal', 'cod': 200}\n",
      "{'coord': {'lon': 117.6319, 'lat': 62.1444}, 'weather': [{'id': 803, 'main': 'Clouds', 'description': 'broken clouds', 'icon': '04d'}], 'base': 'stations', 'main': {'temp': 75.92, 'feels_like': 75.79, 'temp_min': 75.92, 'temp_max': 75.92, 'pressure': 1000, 'humidity': 55, 'sea_level': 1000, 'grnd_level': 986}, 'visibility': 10000, 'wind': {'speed': 4.7, 'deg': 230, 'gust': 6.89}, 'clouds': {'all': 75}, 'dt': 1659152252, 'sys': {'country': 'RU', 'sunrise': 1659122861, 'sunset': 1659186237}, 'timezone': 32400, 'id': 2015913, 'name': 'Suntar', 'cod': 200}\n",
      "{'coord': {'lon': 127.4, 'lat': 0.8}, 'weather': [{'id': 803, 'main': 'Clouds', 'description': 'broken clouds', 'icon': '04d'}], 'base': 'stations', 'main': {'temp': 84.31, 'feels_like': 90.48, 'temp_min': 84.31, 'temp_max': 84.31, 'pressure': 1008, 'humidity': 68, 'sea_level': 1008, 'grnd_level': 1008}, 'visibility': 10000, 'wind': {'speed': 6.91, 'deg': 230, 'gust': 5.79}, 'clouds': {'all': 58}, 'dt': 1659152253, 'sys': {'country': 'ID', 'sunrise': 1659130330, 'sunset': 1659174080}, 'timezone': 32400, 'id': 1624041, 'name': 'Ternate', 'cod': 200}\n",
      "{'cod': '404', 'message': 'city not found'}\n",
      "City Not Found\n",
      "{'coord': {'lon': 79.4333, 'lat': 16.4833}, 'weather': [{'id': 803, 'main': 'Clouds', 'description': 'broken clouds', 'icon': '04d'}], 'base': 'stations', 'main': {'temp': 88.97, 'feels_like': 95.32, 'temp_min': 88.97, 'temp_max': 88.97, 'pressure': 1008, 'humidity': 56, 'sea_level': 1008, 'grnd_level': 992}, 'visibility': 10000, 'wind': {'speed': 4.76, 'deg': 173, 'gust': 4.38}, 'clouds': {'all': 66}, 'dt': 1659152253, 'sys': {'country': 'IN', 'sunrise': 1659140527, 'sunset': 1659186907}, 'timezone': 19800, 'id': 1264647, 'name': 'Mācherla', 'cod': 200}\n",
      "{'coord': {'lon': 7.6218, 'lat': 11.7853}, 'weather': [{'id': 803, 'main': 'Clouds', 'description': 'broken clouds', 'icon': '04n'}], 'base': 'stations', 'main': {'temp': 70.03, 'feels_like': 70.88, 'temp_min': 70.03, 'temp_max': 70.03, 'pressure': 1013, 'humidity': 88, 'sea_level': 1013, 'grnd_level': 943}, 'visibility': 10000, 'wind': {'speed': 7.07, 'deg': 234, 'gust': 13.27}, 'clouds': {'all': 81}, 'dt': 1659152253, 'sys': {'country': 'NG', 'sunrise': 1659158174, 'sunset': 1659203729}, 'timezone': 3600, 'id': 2331005, 'name': 'Malumfashi', 'cod': 200}\n",
      "{'coord': {'lon': 103.2064, 'lat': 35.6003}, 'weather': [{'id': 800, 'main': 'Clear', 'description': 'clear sky', 'icon': '01d'}], 'base': 'stations', 'main': {'temp': 83.23, 'feels_like': 81.68, 'temp_min': 83.23, 'temp_max': 83.23, 'pressure': 1001, 'humidity': 33, 'sea_level': 1001, 'grnd_level': 812}, 'visibility': 10000, 'wind': {'speed': 3.18, 'deg': 60, 'gust': 3.33}, 'clouds': {'all': 0}, 'dt': 1659152254, 'sys': {'country': 'CN', 'sunrise': 1659132800, 'sunset': 1659183223}, 'timezone': 28800, 'id': 1803331, 'name': 'Linxia Chengguanzhen', 'cod': 200}\n",
      "{'coord': {'lon': -75.4557, 'lat': 43.2128}, 'weather': [{'id': 800, 'main': 'Clear', 'description': 'clear sky', 'icon': '01n'}], 'base': 'stations', 'main': {'temp': 62.64, 'feels_like': 62.6, 'temp_min': 59.68, 'temp_max': 66.72, 'pressure': 1013, 'humidity': 85}, 'visibility': 10000, 'wind': {'speed': 1.01, 'deg': 356}, 'clouds': {'all': 0}, 'dt': 1659152254, 'sys': {'type': 1, 'id': 5681, 'country': 'US', 'sunrise': 1659088132, 'sunset': 1659140850}, 'timezone': -14400, 'id': 5134295, 'name': 'Rome', 'cod': 200}\n",
      "{'coord': {'lon': 75.3833, 'lat': 25.75}, 'weather': [{'id': 804, 'main': 'Clouds', 'description': 'overcast clouds', 'icon': '04d'}], 'base': 'stations', 'main': {'temp': 85.51, 'feels_like': 90.19, 'temp_min': 85.51, 'temp_max': 85.51, 'pressure': 1007, 'humidity': 60, 'sea_level': 1007, 'grnd_level': 969}, 'visibility': 10000, 'wind': {'speed': 11.7, 'deg': 266, 'gust': 14.56}, 'clouds': {'all': 100}, 'dt': 1659152255, 'sys': {'country': 'IN', 'sunrise': 1659140614, 'sunset': 1659188764}, 'timezone': 19800, 'id': 1273083, 'name': 'Deoli', 'cod': 200}\n",
      "{'coord': {'lon': 18.5012, 'lat': -31.6683}, 'weather': [{'id': 803, 'main': 'Clouds', 'description': 'broken clouds', 'icon': '04n'}], 'base': 'stations', 'main': {'temp': 49.15, 'feels_like': 47.05, 'temp_min': 49.15, 'temp_max': 49.15, 'pressure': 1022, 'humidity': 85, 'sea_level': 1022, 'grnd_level': 1018}, 'visibility': 10000, 'wind': {'speed': 5.3, 'deg': 207, 'gust': 5.46}, 'clouds': {'all': 71}, 'dt': 1659152255, 'sys': {'country': 'ZA', 'sunrise': 1659159353, 'sunset': 1659197328}, 'timezone': 7200, 'id': 3359736, 'name': 'Vredendal', 'cod': 200}\n",
      "{'coord': {'lon': -70.0332, 'lat': 18.4154}, 'weather': [{'id': 801, 'main': 'Clouds', 'description': 'few clouds', 'icon': '02n'}], 'base': 'stations', 'main': {'temp': 75.94, 'feels_like': 77.65, 'temp_min': 75.13, 'temp_max': 77.22, 'pressure': 1018, 'humidity': 94}, 'visibility': 10000, 'wind': {'speed': 4.61, 'deg': 360}, 'clouds': {'all': 20}, 'dt': 1659152255, 'sys': {'type': 1, 'id': 7052, 'country': 'DO', 'sunrise': 1659089812, 'sunset': 1659136567}, 'timezone': -14400, 'id': 3512128, 'name': 'Bajos de Haina', 'cod': 200}\n",
      "{'coord': {'lon': 16.7131, 'lat': 44.9814}, 'weather': [{'id': 804, 'main': 'Clouds', 'description': 'overcast clouds', 'icon': '04d'}], 'base': 'stations', 'main': {'temp': 62.28, 'feels_like': 61.45, 'temp_min': 62.28, 'temp_max': 62.28, 'pressure': 1012, 'humidity': 69, 'sea_level': 1012, 'grnd_level': 996}, 'visibility': 10000, 'wind': {'speed': 2.51, 'deg': 255, 'gust': 2.55}, 'clouds': {'all': 87}, 'dt': 1659152256, 'sys': {'type': 1, 'id': 6904, 'country': 'BA', 'sunrise': 1659152155, 'sunset': 1659205384}, 'timezone': 7200, 'id': 3192409, 'name': 'Prijedor', 'cod': 200}\n",
      "{'coord': {'lon': -47.6997, 'lat': -0.7175}, 'weather': [{'id': 803, 'main': 'Clouds', 'description': 'broken clouds', 'icon': '04n'}], 'base': 'stations', 'main': {'temp': 74.28, 'feels_like': 75.92, 'temp_min': 74.28, 'temp_max': 74.28, 'pressure': 1013, 'humidity': 96, 'sea_level': 1013, 'grnd_level': 1012}, 'visibility': 7551, 'wind': {'speed': 2.3, 'deg': 86, 'gust': 4.38}, 'clouds': {'all': 66}, 'dt': 1659152256, 'sys': {'country': 'BR', 'sunrise': 1659172476, 'sunset': 1659215981}, 'timezone': -10800, 'id': 3395440, 'name': 'Marapanim', 'cod': 200}\n",
      "{'coord': {'lon': 39.5131, 'lat': 68.0531}, 'weather': [{'id': 804, 'main': 'Clouds', 'description': 'overcast clouds', 'icon': '04d'}], 'base': 'stations', 'main': {'temp': 47.44, 'feels_like': 40.12, 'temp_min': 47.44, 'temp_max': 47.44, 'pressure': 1020, 'humidity': 91, 'sea_level': 1020, 'grnd_level': 1017}, 'visibility': 10000, 'wind': {'speed': 20.67, 'deg': 71, 'gust': 31.56}, 'clouds': {'all': 100}, 'dt': 1659152256, 'sys': {'country': 'RU', 'sunrise': 1659137086, 'sunset': 1659209509}, 'timezone': 10800, 'id': 556268, 'name': 'Ostrovnoy', 'cod': 200}\n"
     ]
    },
    {
     "name": "stdout",
     "output_type": "stream",
     "text": [
      "{'coord': {'lon': 27.8492, 'lat': 71.0357}, 'weather': [{'id': 803, 'main': 'Clouds', 'description': 'broken clouds', 'icon': '04n'}], 'base': 'stations', 'main': {'temp': 53.55, 'feels_like': 52.18, 'temp_min': 51.71, 'temp_max': 53.55, 'pressure': 1024, 'humidity': 76}, 'visibility': 10000, 'wind': {'speed': 11.5, 'deg': 180}, 'clouds': {'all': 78}, 'dt': 1659152257, 'sys': {'type': 1, 'id': 1633, 'country': 'NO', 'sunrise': 0, 'sunset': 0}, 'timezone': 7200, 'id': 778707, 'name': 'Mehamn', 'cod': 200}\n",
      "{'coord': {'lon': 49.05, 'lat': -13.2}, 'weather': [{'id': 800, 'main': 'Clear', 'description': 'clear sky', 'icon': '01d'}], 'base': 'stations', 'main': {'temp': 67.98, 'feels_like': 67.96, 'temp_min': 67.98, 'temp_max': 67.98, 'pressure': 1018, 'humidity': 74, 'sea_level': 1018, 'grnd_level': 1014}, 'visibility': 10000, 'wind': {'speed': 4.07, 'deg': 95, 'gust': 7.47}, 'clouds': {'all': 7}, 'dt': 1659152257, 'sys': {'country': 'MG', 'sunrise': 1659150276, 'sunset': 1659191741}, 'timezone': 10800, 'id': 1082243, 'name': 'Ambilobe', 'cod': 200}\n",
      "{'coord': {'lon': -119.2895, 'lat': 45.8404}, 'weather': [{'id': 800, 'main': 'Clear', 'description': 'clear sky', 'icon': '01n'}], 'base': 'stations', 'main': {'temp': 99.43, 'feels_like': 97.5, 'temp_min': 93.63, 'temp_max': 103.19, 'pressure': 1003, 'humidity': 22}, 'visibility': 10000, 'wind': {'speed': 4.61, 'deg': 80}, 'clouds': {'all': 0}, 'dt': 1659151967, 'sys': {'type': 1, 'id': 4413, 'country': 'US', 'sunrise': 1659098197, 'sunset': 1659151825}, 'timezone': -25200, 'id': 5731070, 'name': 'Hermiston', 'cod': 200}\n",
      "{'coord': {'lon': -112.4538, 'lat': 34.7575}, 'weather': [{'id': 802, 'main': 'Clouds', 'description': 'scattered clouds', 'icon': '03n'}], 'base': 'stations', 'main': {'temp': 70.72, 'feels_like': 71.29, 'temp_min': 67.77, 'temp_max': 74.41, 'pressure': 1017, 'humidity': 81}, 'visibility': 10000, 'wind': {'speed': 4.61, 'deg': 180}, 'clouds': {'all': 40}, 'dt': 1659152257, 'sys': {'type': 2, 'id': 2002063, 'country': 'US', 'sunrise': 1659098249, 'sunset': 1659148492}, 'timezone': -25200, 'id': 5289658, 'name': 'Chino Valley', 'cod': 200}\n",
      "{'coord': {'lon': -52, 'lat': 1}, 'weather': [{'id': 804, 'main': 'Clouds', 'description': 'overcast clouds', 'icon': '04n'}], 'base': 'stations', 'main': {'temp': 71.17, 'feels_like': 72.64, 'temp_min': 71.17, 'temp_max': 71.17, 'pressure': 1014, 'humidity': 99, 'sea_level': 1014, 'grnd_level': 998}, 'visibility': 10000, 'wind': {'speed': 2.15, 'deg': 63, 'gust': 7.85}, 'clouds': {'all': 99}, 'dt': 1659152258, 'sys': {'country': 'BR', 'sunrise': 1659173370, 'sunset': 1659217151}, 'timezone': -10800, 'id': 3407762, 'name': 'Amapá', 'cod': 200}\n",
      "{'cod': '404', 'message': 'city not found'}\n",
      "City Not Found\n",
      "{'coord': {'lon': -115.7999, 'lat': 60.8156}, 'weather': [{'id': 803, 'main': 'Clouds', 'description': 'broken clouds', 'icon': '04d'}], 'base': 'stations', 'main': {'temp': 60.78, 'feels_like': 59.7, 'temp_min': 58.96, 'temp_max': 60.78, 'pressure': 1016, 'humidity': 67}, 'visibility': 10000, 'wind': {'speed': 3.44, 'deg': 50}, 'clouds': {'all': 75}, 'dt': 1659152258, 'sys': {'type': 1, 'id': 1036, 'country': 'CA', 'sunrise': 1659093079, 'sunset': 1659155268}, 'timezone': -21600, 'id': 5972762, 'name': 'Hay River', 'cod': 200}\n",
      "{'coord': {'lon': 8.5547, 'lat': 3.4568}, 'weather': [{'id': 500, 'main': 'Rain', 'description': 'light rain', 'icon': '10n'}], 'base': 'stations', 'main': {'temp': 73.29, 'feels_like': 74.41, 'temp_min': 73.29, 'temp_max': 73.29, 'pressure': 1014, 'humidity': 87, 'sea_level': 1014, 'grnd_level': 1010}, 'visibility': 10000, 'wind': {'speed': 4.7, 'deg': 227, 'gust': 6.51}, 'rain': {'1h': 0.7}, 'clouds': {'all': 90}, 'dt': 1659152258, 'sys': {'type': 1, 'id': 2049, 'country': 'GQ', 'sunrise': 1659158638, 'sunset': 1659202817}, 'timezone': 3600, 'id': 2309528, 'name': 'Luba', 'cod': 200}\n",
      "{'coord': {'lon': -126.8329, 'lat': 65.282}, 'weather': [{'id': 801, 'main': 'Clouds', 'description': 'few clouds', 'icon': '02d'}], 'base': 'stations', 'main': {'temp': 60.84, 'feels_like': 59.77, 'temp_min': 60.84, 'temp_max': 60.84, 'pressure': 1019, 'humidity': 67}, 'visibility': 10000, 'wind': {'speed': 2.3, 'deg': 0}, 'clouds': {'all': 20}, 'dt': 1659152259, 'sys': {'type': 1, 'id': 951, 'country': 'CA', 'sunrise': 1659093116, 'sunset': 1659160527}, 'timezone': -21600, 'id': 6089245, 'name': 'Norman Wells', 'cod': 200}\n",
      "{'coord': {'lon': 32.0377, 'lat': -28.783}, 'weather': [{'id': 802, 'main': 'Clouds', 'description': 'scattered clouds', 'icon': '03n'}], 'base': 'stations', 'main': {'temp': 65.48, 'feels_like': 65.48, 'temp_min': 65.48, 'temp_max': 65.48, 'pressure': 1017, 'humidity': 80, 'sea_level': 1017, 'grnd_level': 1016}, 'visibility': 10000, 'wind': {'speed': 3.06, 'deg': 279, 'gust': 5.64}, 'clouds': {'all': 44}, 'dt': 1659152259, 'sys': {'country': 'ZA', 'sunrise': 1659155797, 'sunset': 1659194387}, 'timezone': 7200, 'id': 962367, 'name': 'Richards Bay', 'cod': 200}\n",
      "{'coord': {'lon': 150.1667, 'lat': 59.7}, 'weather': [{'id': 800, 'main': 'Clear', 'description': 'clear sky', 'icon': '01d'}], 'base': 'stations', 'main': {'temp': 68.02, 'feels_like': 67.57, 'temp_min': 68.02, 'temp_max': 68.02, 'pressure': 1012, 'humidity': 65, 'sea_level': 1012, 'grnd_level': 1010}, 'visibility': 10000, 'wind': {'speed': 7.72, 'deg': 224, 'gust': 7.67}, 'clouds': {'all': 9}, 'dt': 1659152259, 'sys': {'type': 2, 'id': 48852, 'country': 'RU', 'sunrise': 1659116172, 'sunset': 1659177310}, 'timezone': 39600, 'id': 2127060, 'name': \"Arman'\", 'cod': 200}\n",
      "{'coord': {'lon': -82.4331, 'lat': 49.4169}, 'weather': [{'id': 801, 'main': 'Clouds', 'description': 'few clouds', 'icon': '02n'}], 'base': 'stations', 'main': {'temp': 57.2, 'feels_like': 57.33, 'temp_min': 57.2, 'temp_max': 57.29, 'pressure': 1013, 'humidity': 100}, 'visibility': 10000, 'wind': {'speed': 8.05, 'deg': 250}, 'clouds': {'all': 20}, 'dt': 1659152260, 'sys': {'type': 1, 'id': 660, 'country': 'CA', 'sunrise': 1659088623, 'sunset': 1659143708}, 'timezone': -14400, 'id': 5989403, 'name': 'Kapuskasing', 'cod': 200}\n",
      "{'coord': {'lon': 25.7833, 'lat': 45.8667}, 'weather': [{'id': 800, 'main': 'Clear', 'description': 'clear sky', 'icon': '01d'}], 'base': 'stations', 'main': {'temp': 60.46, 'feels_like': 60.57, 'temp_min': 58.82, 'temp_max': 64.27, 'pressure': 1017, 'humidity': 93, 'sea_level': 1017, 'grnd_level': 954}, 'visibility': 10000, 'wind': {'speed': 3.44, 'deg': 82, 'gust': 3.6}, 'clouds': {'all': 10}, 'dt': 1659152260, 'sys': {'type': 2, 'id': 2039162, 'country': 'RO', 'sunrise': 1659149816, 'sunset': 1659203369}, 'timezone': 10800, 'id': 667303, 'name': 'Sfântu Gheorghe', 'cod': 200}\n",
      "{'coord': {'lon': 117.15, 'lat': -0.5}, 'weather': [{'id': 804, 'main': 'Clouds', 'description': 'overcast clouds', 'icon': '04d'}], 'base': 'stations', 'main': {'temp': 85.59, 'feels_like': 94.48, 'temp_min': 85.59, 'temp_max': 85.59, 'pressure': 1008, 'humidity': 71, 'sea_level': 1008, 'grnd_level': 1007}, 'visibility': 10000, 'wind': {'speed': 3.91, 'deg': 233, 'gust': 4.99}, 'clouds': {'all': 95}, 'dt': 1659152260, 'sys': {'country': 'ID', 'sunrise': 1659132895, 'sunset': 1659176435}, 'timezone': 28800, 'id': 1629001, 'name': 'Samarinda', 'cod': 200}\n",
      "{'cod': '404', 'message': 'city not found'}\n",
      "City Not Found\n",
      "{'coord': {'lon': 93.6333, 'lat': 26.8833}, 'weather': [{'id': 500, 'main': 'Rain', 'description': 'light rain', 'icon': '10d'}], 'base': 'stations', 'main': {'temp': 86.95, 'feels_like': 98.96, 'temp_min': 86.95, 'temp_max': 86.95, 'pressure': 1006, 'humidity': 73, 'sea_level': 1006, 'grnd_level': 997}, 'visibility': 10000, 'wind': {'speed': 4.21, 'deg': 240, 'gust': 7.27}, 'rain': {'1h': 0.32}, 'clouds': {'all': 98}, 'dt': 1659152261, 'sys': {'country': 'IN', 'sunrise': 1659136114, 'sunset': 1659184504}, 'timezone': 19800, 'id': 1271074, 'name': 'Gohpur', 'cod': 200}\n",
      "{'coord': {'lon': 110.7781, 'lat': 32.6475}, 'weather': [{'id': 801, 'main': 'Clouds', 'description': 'few clouds', 'icon': '02d'}], 'base': 'stations', 'main': {'temp': 89.98, 'feels_like': 93.69, 'temp_min': 89.98, 'temp_max': 89.98, 'pressure': 1006, 'humidity': 48, 'sea_level': 1006, 'grnd_level': 978}, 'visibility': 10000, 'wind': {'speed': 6.64, 'deg': 84, 'gust': 7}, 'clouds': {'all': 16}, 'dt': 1659152261, 'sys': {'country': 'CN', 'sunrise': 1659131350, 'sunset': 1659181038}, 'timezone': 28800, 'id': 1794903, 'name': 'Shiyan', 'cod': 200}\n"
     ]
    },
    {
     "name": "stdout",
     "output_type": "stream",
     "text": [
      "{'coord': {'lon': -109.4848, 'lat': 49.9168}, 'weather': [{'id': 803, 'main': 'Clouds', 'description': 'broken clouds', 'icon': '04n'}], 'base': 'stations', 'main': {'temp': 81.01, 'feels_like': 80.2, 'temp_min': 81.01, 'temp_max': 81.01, 'pressure': 1009, 'humidity': 35, 'sea_level': 1009, 'grnd_level': 925}, 'visibility': 10000, 'wind': {'speed': 7.65, 'deg': 138, 'gust': 12.19}, 'clouds': {'all': 67}, 'dt': 1659152262, 'sys': {'type': 1, 'id': 536, 'country': 'CA', 'sunrise': 1659095011, 'sunset': 1659150305}, 'timezone': -21600, 'id': 6065592, 'name': 'Maple Creek', 'cod': 200}\n",
      "{'coord': {'lon': -66.8654, 'lat': 50.0334}, 'weather': [{'id': 804, 'main': 'Clouds', 'description': 'overcast clouds', 'icon': '04n'}], 'base': 'stations', 'main': {'temp': 56.84, 'feels_like': 56.82, 'temp_min': 56.75, 'temp_max': 57.42, 'pressure': 1004, 'humidity': 98, 'sea_level': 1004, 'grnd_level': 1001}, 'visibility': 10000, 'wind': {'speed': 3.65, 'deg': 239, 'gust': 3.8}, 'clouds': {'all': 94}, 'dt': 1659152262, 'sys': {'type': 1, 'id': 309, 'country': 'CA', 'sunrise': 1659084746, 'sunset': 1659140113}, 'timezone': -14400, 'id': 6111696, 'name': 'Port-Cartier', 'cod': 200}\n",
      "{'coord': {'lon': 12.6316, 'lat': 66.0217}, 'weather': [{'id': 802, 'main': 'Clouds', 'description': 'scattered clouds', 'icon': '03d'}], 'base': 'stations', 'main': {'temp': 56.84, 'feels_like': 55.56, 'temp_min': 56.84, 'temp_max': 56.84, 'pressure': 1018, 'humidity': 71, 'sea_level': 1018, 'grnd_level': 1018}, 'visibility': 10000, 'wind': {'speed': 10.78, 'deg': 134, 'gust': 11.56}, 'clouds': {'all': 41}, 'dt': 1659152262, 'sys': {'country': 'NO', 'sunrise': 1659145597, 'sunset': 1659213901}, 'timezone': 7200, 'id': 3140301, 'name': 'Sandnessjøen', 'cod': 200}\n",
      "{'coord': {'lon': -65.1023, 'lat': -43.3002}, 'weather': [{'id': 801, 'main': 'Clouds', 'description': 'few clouds', 'icon': '02n'}], 'base': 'stations', 'main': {'temp': 47.05, 'feels_like': 44.28, 'temp_min': 47.05, 'temp_max': 47.05, 'pressure': 1014, 'humidity': 68, 'sea_level': 1014, 'grnd_level': 1012}, 'visibility': 10000, 'wind': {'speed': 5.79, 'deg': 254, 'gust': 5.93}, 'clouds': {'all': 22}, 'dt': 1659152263, 'sys': {'country': 'AR', 'sunrise': 1659180907, 'sunset': 1659215902}, 'timezone': -10800, 'id': 3839307, 'name': 'Rawson', 'cod': 200}\n",
      "{'coord': {'lon': -83.6665, 'lat': 49.6835}, 'weather': [{'id': 804, 'main': 'Clouds', 'description': 'overcast clouds', 'icon': '04n'}], 'base': 'stations', 'main': {'temp': 61.05, 'feels_like': 61, 'temp_min': 61.05, 'temp_max': 61.05, 'pressure': 1012, 'humidity': 88, 'sea_level': 1012, 'grnd_level': 984}, 'visibility': 10000, 'wind': {'speed': 5.3, 'deg': 259, 'gust': 15.05}, 'clouds': {'all': 94}, 'dt': 1659152263, 'sys': {'type': 1, 'id': 402, 'country': 'CA', 'sunrise': 1659088861, 'sunset': 1659144063}, 'timezone': -14400, 'id': 5973108, 'name': 'Hearst', 'cod': 200}\n",
      "{'coord': {'lon': 79.65, 'lat': 25.3167}, 'weather': [{'id': 804, 'main': 'Clouds', 'description': 'overcast clouds', 'icon': '04d'}], 'base': 'stations', 'main': {'temp': 87.58, 'feels_like': 95.16, 'temp_min': 87.58, 'temp_max': 87.58, 'pressure': 1006, 'humidity': 62, 'sea_level': 1006, 'grnd_level': 984}, 'visibility': 10000, 'wind': {'speed': 7.09, 'deg': 234, 'gust': 7.94}, 'clouds': {'all': 93}, 'dt': 1659152263, 'sys': {'country': 'IN', 'sunrise': 1659139634, 'sunset': 1659187696}, 'timezone': 19800, 'id': 1265716, 'name': 'Kulpahār', 'cod': 200}\n",
      "{'cod': '404', 'message': 'city not found'}\n",
      "City Not Found\n",
      "{'coord': {'lon': 12.7805, 'lat': 26.5921}, 'weather': [{'id': 800, 'main': 'Clear', 'description': 'clear sky', 'icon': '01n'}], 'base': 'stations', 'main': {'temp': 81.54, 'feels_like': 79.52, 'temp_min': 81.54, 'temp_max': 81.54, 'pressure': 1012, 'humidity': 19, 'sea_level': 1012, 'grnd_level': 960}, 'visibility': 10000, 'wind': {'speed': 5.08, 'deg': 99, 'gust': 5.44}, 'clouds': {'all': 1}, 'dt': 1659152264, 'sys': {'country': 'LY', 'sunrise': 1659155556, 'sunset': 1659203870}, 'timezone': 7200, 'id': 2219235, 'name': 'Ubari', 'cod': 200}\n",
      "{'coord': {'lon': 74.3087, 'lat': 35.9221}, 'weather': [{'id': 802, 'main': 'Clouds', 'description': 'scattered clouds', 'icon': '03d'}], 'base': 'stations', 'main': {'temp': 82.81, 'feels_like': 85.21, 'temp_min': 82.81, 'temp_max': 82.81, 'pressure': 1007, 'humidity': 58, 'sea_level': 1007, 'grnd_level': 855}, 'visibility': 10000, 'wind': {'speed': 5.08, 'deg': 147, 'gust': 6.62}, 'clouds': {'all': 30}, 'dt': 1659152264, 'sys': {'country': 'PK', 'sunrise': 1659139697, 'sunset': 1659190196}, 'timezone': 18000, 'id': 1178338, 'name': 'Gilgit', 'cod': 200}\n",
      "{'coord': {'lon': 167.55, 'lat': -13.8833}, 'weather': [{'id': 804, 'main': 'Clouds', 'description': 'overcast clouds', 'icon': '04d'}], 'base': 'stations', 'main': {'temp': 78.85, 'feels_like': 78.85, 'temp_min': 78.85, 'temp_max': 78.85, 'pressure': 1010, 'humidity': 80, 'sea_level': 1010, 'grnd_level': 998}, 'visibility': 10000, 'wind': {'speed': 13.82, 'deg': 73, 'gust': 15.64}, 'clouds': {'all': 91}, 'dt': 1659152264, 'sys': {'country': 'VU', 'sunrise': 1659121899, 'sunset': 1659163239}, 'timezone': 39600, 'id': 2134814, 'name': 'Sola', 'cod': 200}\n",
      "{'coord': {'lon': -60.7, 'lat': -31.6333}, 'weather': [{'id': 500, 'main': 'Rain', 'description': 'light rain', 'icon': '10n'}], 'base': 'stations', 'main': {'temp': 52.72, 'feels_like': 50.56, 'temp_min': 50.92, 'temp_max': 54.01, 'pressure': 1016, 'humidity': 61}, 'visibility': 10000, 'wind': {'speed': 4, 'deg': 181, 'gust': 5.99}, 'rain': {'1h': 0.21}, 'clouds': {'all': 98}, 'dt': 1659152265, 'sys': {'type': 2, 'id': 2008823, 'country': 'AR', 'sunrise': 1659178348, 'sunset': 1659216348}, 'timezone': -10800, 'id': 3836277, 'name': 'Santa Fe', 'cod': 200}\n",
      "{'coord': {'lon': -3.5265, 'lat': 18.9048}, 'weather': [{'id': 804, 'main': 'Clouds', 'description': 'overcast clouds', 'icon': '04n'}], 'base': 'stations', 'main': {'temp': 85.28, 'feels_like': 85.87, 'temp_min': 85.28, 'temp_max': 85.28, 'pressure': 1009, 'humidity': 46, 'sea_level': 1009, 'grnd_level': 978}, 'visibility': 10000, 'wind': {'speed': 10.22, 'deg': 251, 'gust': 11.01}, 'clouds': {'all': 90}, 'dt': 1659152265, 'sys': {'country': 'ML', 'sunrise': 1659160222, 'sunset': 1659207032}, 'timezone': 0, 'id': 2460954, 'name': 'Araouane', 'cod': 200}\n",
      "{'coord': {'lon': 38.52, 'lat': 44.37}, 'weather': [{'id': 800, 'main': 'Clear', 'description': 'clear sky', 'icon': '01d'}], 'base': 'stations', 'main': {'temp': 73.74, 'feels_like': 74.68, 'temp_min': 73.74, 'temp_max': 73.74, 'pressure': 1012, 'humidity': 82, 'sea_level': 1012, 'grnd_level': 1006}, 'visibility': 10000, 'wind': {'speed': 4.32, 'deg': 110, 'gust': 4.5}, 'clouds': {'all': 5}, 'dt': 1659152265, 'sys': {'country': 'RU', 'sunrise': 1659147025, 'sunset': 1659200047}, 'timezone': 10800, 'id': 580969, 'name': 'Arkhipo-Osipovka', 'cod': 200}\n",
      "{'coord': {'lon': 16.7667, 'lat': 60.6167}, 'weather': [{'id': 804, 'main': 'Clouds', 'description': 'overcast clouds', 'icon': '04d'}], 'base': 'stations', 'main': {'temp': 54.19, 'feels_like': 53.31, 'temp_min': 53.11, 'temp_max': 54.57, 'pressure': 1020, 'humidity': 85, 'sea_level': 1020, 'grnd_level': 1012}, 'visibility': 10000, 'wind': {'speed': 1.23, 'deg': 145, 'gust': 1.39}, 'clouds': {'all': 100}, 'dt': 1659152266, 'sys': {'type': 2, 'id': 2046176, 'country': 'SE', 'sunrise': 1659147846, 'sunset': 1659209667}, 'timezone': 7200, 'id': 2680075, 'name': 'Sandviken', 'cod': 200}\n",
      "{'coord': {'lon': -80.9, 'lat': -2.2333}, 'weather': [{'id': 804, 'main': 'Clouds', 'description': 'overcast clouds', 'icon': '04n'}], 'base': 'stations', 'main': {'temp': 68.49, 'feels_like': 69.12, 'temp_min': 68.49, 'temp_max': 68.49, 'pressure': 1014, 'humidity': 87, 'sea_level': 1014, 'grnd_level': 1010}, 'visibility': 10000, 'wind': {'speed': 10.18, 'deg': 233, 'gust': 9.78}, 'clouds': {'all': 99}, 'dt': 1659152266, 'sys': {'country': 'EC', 'sunrise': 1659094169, 'sunset': 1659137427}, 'timezone': -18000, 'id': 3655131, 'name': 'La Libertad', 'cod': 200}\n",
      "{'coord': {'lon': 152.8535, 'lat': -25.2986}, 'weather': [{'id': 803, 'main': 'Clouds', 'description': 'broken clouds', 'icon': '04d'}], 'base': 'stations', 'main': {'temp': 68.02, 'feels_like': 67.19, 'temp_min': 68.02, 'temp_max': 68.02, 'pressure': 1020, 'humidity': 57}, 'visibility': 10000, 'wind': {'speed': 5.01, 'deg': 141, 'gust': 11.01}, 'clouds': {'all': 75}, 'dt': 1659152266, 'sys': {'type': 2, 'id': 2032484, 'country': 'AU', 'sunrise': 1659126461, 'sunset': 1659165732}, 'timezone': 36000, 'id': 2146219, 'name': 'Hervey Bay', 'cod': 200}\n"
     ]
    },
    {
     "name": "stdout",
     "output_type": "stream",
     "text": [
      "{'coord': {'lon': -87.6901, 'lat': 42.0411}, 'weather': [{'id': 800, 'main': 'Clear', 'description': 'clear sky', 'icon': '01n'}], 'base': 'stations', 'main': {'temp': 68.31, 'feels_like': 68.13, 'temp_min': 61.27, 'temp_max': 73.11, 'pressure': 1020, 'humidity': 70}, 'visibility': 10000, 'wind': {'speed': 0, 'deg': 0}, 'clouds': {'all': 0}, 'dt': 1659152267, 'sys': {'type': 2, 'id': 2038650, 'country': 'US', 'sunrise': 1659091263, 'sunset': 1659143592}, 'timezone': -18000, 'id': 4891382, 'name': 'Evanston', 'cod': 200}\n",
      "{'coord': {'lon': 20.2263, 'lat': 30.7554}, 'weather': [{'id': 800, 'main': 'Clear', 'description': 'clear sky', 'icon': '01n'}], 'base': 'stations', 'main': {'temp': 76.86, 'feels_like': 77.4, 'temp_min': 76.86, 'temp_max': 76.86, 'pressure': 1012, 'humidity': 67, 'sea_level': 1012, 'grnd_level': 1011}, 'visibility': 10000, 'wind': {'speed': 6.13, 'deg': 15, 'gust': 6.44}, 'clouds': {'all': 0}, 'dt': 1659152267, 'sys': {'country': 'LY', 'sunrise': 1659153314, 'sunset': 1659202539}, 'timezone': 7200, 'id': 89113, 'name': 'Ajdabiya', 'cod': 200}\n",
      "{'coord': {'lon': -35.1047, 'lat': -8.7597}, 'weather': [{'id': 804, 'main': 'Clouds', 'description': 'overcast clouds', 'icon': '04n'}], 'base': 'stations', 'main': {'temp': 73.81, 'feels_like': 75.04, 'temp_min': 73.81, 'temp_max': 73.81, 'pressure': 1015, 'humidity': 88, 'sea_level': 1015, 'grnd_level': 1014}, 'visibility': 10000, 'wind': {'speed': 2.62, 'deg': 167, 'gust': 4.9}, 'clouds': {'all': 100}, 'dt': 1659152267, 'sys': {'country': 'BR', 'sunrise': 1659170102, 'sunset': 1659212309}, 'timezone': -10800, 'id': 3386931, 'name': 'Tamandaré', 'cod': 200}\n",
      "{'coord': {'lon': 119.4706, 'lat': 4.6533}, 'weather': [{'id': 804, 'main': 'Clouds', 'description': 'overcast clouds', 'icon': '04d'}], 'base': 'stations', 'main': {'temp': 82.87, 'feels_like': 90.07, 'temp_min': 82.87, 'temp_max': 82.87, 'pressure': 1008, 'humidity': 77, 'sea_level': 1008, 'grnd_level': 1008}, 'visibility': 10000, 'wind': {'speed': 7.63, 'deg': 175, 'gust': 8.05}, 'clouds': {'all': 94}, 'dt': 1659152268, 'sys': {'country': 'PH', 'sunrise': 1659131920, 'sunset': 1659176296}, 'timezone': 28800, 'id': 1706466, 'name': 'Ligayan', 'cod': 200}\n",
      "{'coord': {'lon': -165.4064, 'lat': 64.5011}, 'weather': [{'id': 800, 'main': 'Clear', 'description': 'clear sky', 'icon': '01d'}], 'base': 'stations', 'main': {'temp': 62.67, 'feels_like': 60.94, 'temp_min': 60.12, 'temp_max': 62.67, 'pressure': 1014, 'humidity': 49}, 'visibility': 10000, 'wind': {'speed': 17.27, 'deg': 30}, 'clouds': {'all': 0}, 'dt': 1659151998, 'sys': {'type': 1, 'id': 7770, 'country': 'US', 'sunrise': 1659102957, 'sunset': 1659169201}, 'timezone': -28800, 'id': 5870133, 'name': 'Nome', 'cod': 200}\n",
      "{'coord': {'lon': 36.6574, 'lat': 33.9674}, 'weather': [{'id': 800, 'main': 'Clear', 'description': 'clear sky', 'icon': '01d'}], 'base': 'stations', 'main': {'temp': 74.52, 'feels_like': 72.9, 'temp_min': 74.52, 'temp_max': 74.52, 'pressure': 1009, 'humidity': 26, 'sea_level': 1009, 'grnd_level': 860}, 'visibility': 10000, 'wind': {'speed': 1.14, 'deg': 303, 'gust': 2.71}, 'clouds': {'all': 0}, 'dt': 1659152268, 'sys': {'country': 'SY', 'sunrise': 1659148987, 'sunset': 1659198979}, 'timezone': 10800, 'id': 162627, 'name': 'Yabrūd', 'cod': 200}\n",
      "{'coord': {'lon': 37.27, 'lat': 55.74}, 'weather': [{'id': 800, 'main': 'Clear', 'description': 'clear sky', 'icon': '01d'}], 'base': 'stations', 'main': {'temp': 57.83, 'feels_like': 56.64, 'temp_min': 53.96, 'temp_max': 59.36, 'pressure': 1019, 'humidity': 71}, 'visibility': 10000, 'wind': {'speed': 2.24, 'deg': 270}, 'clouds': {'all': 0}, 'dt': 1659152269, 'sys': {'type': 2, 'id': 47653, 'country': 'RU', 'sunrise': 1659144720, 'sunset': 1659202951}, 'timezone': 10800, 'id': 578953, 'name': 'Barvikha', 'cod': 200}\n",
      "{'cod': '404', 'message': 'city not found'}\n",
      "City Not Found\n",
      "{'coord': {'lon': 72.642, 'lat': 10.5669}, 'weather': [{'id': 804, 'main': 'Clouds', 'description': 'overcast clouds', 'icon': '04d'}], 'base': 'stations', 'main': {'temp': 80.58, 'feels_like': 86.18, 'temp_min': 80.58, 'temp_max': 80.58, 'pressure': 1010, 'humidity': 84, 'sea_level': 1010, 'grnd_level': 1009}, 'visibility': 10000, 'wind': {'speed': 14.58, 'deg': 328, 'gust': 16.35}, 'clouds': {'all': 100}, 'dt': 1659152033, 'sys': {'country': 'IN', 'sunrise': 1659142670, 'sunset': 1659188024}, 'timezone': 19800, 'id': 1267390, 'name': 'Kavaratti', 'cod': 200}\n",
      "{'coord': {'lon': 34.6203, 'lat': 31.3141}, 'weather': [{'id': 800, 'main': 'Clear', 'description': 'clear sky', 'icon': '01d'}], 'base': 'stations', 'main': {'temp': 76.91, 'feels_like': 77.92, 'temp_min': 76.91, 'temp_max': 76.91, 'pressure': 1008, 'humidity': 77, 'sea_level': 1008, 'grnd_level': 992}, 'visibility': 10000, 'wind': {'speed': 2.04, 'deg': 338, 'gust': 3.33}, 'clouds': {'all': 0}, 'dt': 1659152269, 'sys': {'country': 'IL', 'sunrise': 1659149794, 'sunset': 1659199150}, 'timezone': 10800, 'id': 293992, 'name': 'Ofakim', 'cod': 200}\n",
      "{'coord': {'lon': 9.9333, 'lat': 45.2333}, 'weather': [{'id': 800, 'main': 'Clear', 'description': 'clear sky', 'icon': '01n'}], 'base': 'stations', 'main': {'temp': 67.8, 'feels_like': 68.88, 'temp_min': 66.24, 'temp_max': 70.29, 'pressure': 1013, 'humidity': 98, 'sea_level': 1013, 'grnd_level': 1007}, 'visibility': 10000, 'wind': {'speed': 5.35, 'deg': 275, 'gust': 6.82}, 'clouds': {'all': 6}, 'dt': 1659152270, 'sys': {'type': 2, 'id': 2009152, 'country': 'IT', 'sunrise': 1659153738, 'sunset': 1659207055}, 'timezone': 7200, 'id': 3177837, 'name': 'Provincia di Cremona', 'cod': 200}\n",
      "{'coord': {'lon': 85.5214, 'lat': 27.6298}, 'weather': [{'id': 803, 'main': 'Clouds', 'description': 'broken clouds', 'icon': '04d'}], 'base': 'stations', 'main': {'temp': 73.72, 'feels_like': 74.46, 'temp_min': 73.72, 'temp_max': 73.72, 'pressure': 1014, 'humidity': 78}, 'visibility': 6000, 'wind': {'speed': 0, 'deg': 0}, 'clouds': {'all': 75}, 'dt': 1659152270, 'sys': {'type': 1, 'id': 9201, 'country': 'NP', 'sunrise': 1659137982, 'sunset': 1659186529}, 'timezone': 20700, 'id': 1283679, 'name': 'Banepā', 'cod': 200}\n",
      "{'coord': {'lon': -89.6, 'lat': -0.9}, 'weather': [{'id': 804, 'main': 'Clouds', 'description': 'overcast clouds', 'icon': '04n'}], 'base': 'stations', 'main': {'temp': 69.35, 'feels_like': 69.98, 'temp_min': 69.35, 'temp_max': 69.35, 'pressure': 1014, 'humidity': 85, 'sea_level': 1014, 'grnd_level': 1004}, 'visibility': 10000, 'wind': {'speed': 11.14, 'deg': 162, 'gust': 12.33}, 'clouds': {'all': 100}, 'dt': 1659152270, 'sys': {'country': 'EC', 'sunrise': 1659096148, 'sunset': 1659139623}, 'timezone': -21600, 'id': 3652758, 'name': 'Puerto Baquerizo Moreno', 'cod': 200}\n",
      "{'coord': {'lon': 24.4833, 'lat': -6.1333}, 'weather': [{'id': 802, 'main': 'Clouds', 'description': 'scattered clouds', 'icon': '03n'}], 'base': 'stations', 'main': {'temp': 62.56, 'feels_like': 62.8, 'temp_min': 62.56, 'temp_max': 62.56, 'pressure': 1013, 'humidity': 91, 'sea_level': 1013, 'grnd_level': 917}, 'visibility': 10000, 'wind': {'speed': 2.55, 'deg': 317, 'gust': 2.57}, 'clouds': {'all': 28}, 'dt': 1659152271, 'sys': {'country': 'CD', 'sunrise': 1659155589, 'sunset': 1659198221}, 'timezone': 7200, 'id': 215527, 'name': 'Kabinda', 'cod': 200}\n",
      "{'coord': {'lon': -56.0522, 'lat': -34.8603}, 'weather': [{'id': 800, 'main': 'Clear', 'description': 'clear sky', 'icon': '01n'}], 'base': 'stations', 'main': {'temp': 42.94, 'feels_like': 39.42, 'temp_min': 42.94, 'temp_max': 51.94, 'pressure': 1017, 'humidity': 75}, 'visibility': 10000, 'wind': {'speed': 5.75, 'deg': 350}, 'clouds': {'all': 0}, 'dt': 1659152271, 'sys': {'type': 1, 'id': 8713, 'country': 'UY', 'sunrise': 1659177602, 'sunset': 1659214864}, 'timezone': -10800, 'id': 3441292, 'name': 'Paso de Carrasco', 'cod': 200}\n",
      "{'coord': {'lon': 15.1594, 'lat': -26.6481}, 'weather': [{'id': 801, 'main': 'Clouds', 'description': 'few clouds', 'icon': '02n'}], 'base': 'stations', 'main': {'temp': 53.17, 'feels_like': 51.71, 'temp_min': 53.17, 'temp_max': 53.17, 'pressure': 1020, 'humidity': 75, 'sea_level': 1020, 'grnd_level': 1017}, 'visibility': 10000, 'wind': {'speed': 7.74, 'deg': 146, 'gust': 9.31}, 'clouds': {'all': 12}, 'dt': 1659152271, 'sys': {'country': 'NA', 'sunrise': 1659159628, 'sunset': 1659198656}, 'timezone': 7200, 'id': 3355672, 'name': 'Lüderitz', 'cod': 200}\n"
     ]
    },
    {
     "name": "stdout",
     "output_type": "stream",
     "text": [
      "{'coord': {'lon': 167.7167, 'lat': -45.4167}, 'weather': [{'id': 804, 'main': 'Clouds', 'description': 'overcast clouds', 'icon': '04d'}], 'base': 'stations', 'main': {'temp': 41.11, 'feels_like': 38.64, 'temp_min': 41.11, 'temp_max': 41.11, 'pressure': 1011, 'humidity': 84, 'sea_level': 1011, 'grnd_level': 985}, 'visibility': 10000, 'wind': {'speed': 3.96, 'deg': 192, 'gust': 8.19}, 'clouds': {'all': 100}, 'dt': 1659152272, 'sys': {'country': 'NZ', 'sunrise': 1659125414, 'sunset': 1659159645}, 'timezone': 43200, 'id': 2181625, 'name': 'Te Anau', 'cod': 200}\n",
      "{'coord': {'lon': 133.8833, 'lat': -23.7}, 'weather': [{'id': 804, 'main': 'Clouds', 'description': 'overcast clouds', 'icon': '04d'}], 'base': 'stations', 'main': {'temp': 69.22, 'feels_like': 67.35, 'temp_min': 69.22, 'temp_max': 71.15, 'pressure': 1004, 'humidity': 32}, 'visibility': 10000, 'wind': {'speed': 10.36, 'deg': 330}, 'clouds': {'all': 97}, 'dt': 1659152272, 'sys': {'type': 2, 'id': 268586, 'country': 'AU', 'sunrise': 1659130858, 'sunset': 1659170441}, 'timezone': 34200, 'id': 2077895, 'name': 'Alice Springs', 'cod': 200}\n",
      "{'coord': {'lon': 80.2644, 'lat': 41.1231}, 'weather': [{'id': 804, 'main': 'Clouds', 'description': 'overcast clouds', 'icon': '04d'}], 'base': 'stations', 'main': {'temp': 81.75, 'feels_like': 80.65, 'temp_min': 81.75, 'temp_max': 81.75, 'pressure': 1003, 'humidity': 34, 'sea_level': 1003, 'grnd_level': 888}, 'visibility': 10000, 'wind': {'speed': 14.67, 'deg': 61, 'gust': 12.28}, 'clouds': {'all': 91}, 'dt': 1659152272, 'sys': {'country': 'CN', 'sunrise': 1659137530, 'sunset': 1659189505}, 'timezone': 28800, 'id': 1529660, 'name': 'Aksu', 'cod': 200}\n",
      "{'coord': {'lon': 4.0287, 'lat': 13.6393}, 'weather': [{'id': 800, 'main': 'Clear', 'description': 'clear sky', 'icon': '01n'}], 'base': 'stations', 'main': {'temp': 79.38, 'feels_like': 79.38, 'temp_min': 79.38, 'temp_max': 79.38, 'pressure': 1011, 'humidity': 68, 'sea_level': 1011, 'grnd_level': 985}, 'visibility': 10000, 'wind': {'speed': 6.38, 'deg': 250, 'gust': 8.55}, 'clouds': {'all': 10}, 'dt': 1659152273, 'sys': {'country': 'NE', 'sunrise': 1659158877, 'sunset': 1659204750}, 'timezone': 3600, 'id': 2445553, 'name': 'Dogondoutchi', 'cod': 200}\n",
      "{'coord': {'lon': 34.6667, 'lat': 38.9167}, 'weather': [{'id': 800, 'main': 'Clear', 'description': 'clear sky', 'icon': '01d'}], 'base': 'stations', 'main': {'temp': 58.21, 'feels_like': 56.88, 'temp_min': 58.21, 'temp_max': 58.21, 'pressure': 1014, 'humidity': 67}, 'visibility': 10000, 'wind': {'speed': 3.44, 'deg': 30}, 'clouds': {'all': 0}, 'dt': 1659152273, 'sys': {'type': 1, 'id': 6964, 'country': 'TR', 'sunrise': 1659148808, 'sunset': 1659200114}, 'timezone': 10800, 'id': 303830, 'name': 'Nevşehir', 'cod': 200}\n",
      "{'coord': {'lon': -85.85, 'lat': 16.45}, 'weather': [{'id': 800, 'main': 'Clear', 'description': 'clear sky', 'icon': '01n'}], 'base': 'stations', 'main': {'temp': 82.69, 'feels_like': 90.81, 'temp_min': 82.69, 'temp_max': 82.69, 'pressure': 1014, 'humidity': 81, 'sea_level': 1014, 'grnd_level': 1014}, 'visibility': 10000, 'wind': {'speed': 21.3, 'deg': 96, 'gust': 24.54}, 'clouds': {'all': 2}, 'dt': 1659152273, 'sys': {'country': 'HN', 'sunrise': 1659093788, 'sunset': 1659140183}, 'timezone': -21600, 'id': 3601402, 'name': 'Savannah Bight', 'cod': 200}\n",
      "{'coord': {'lon': 81.5167, 'lat': 25.7167}, 'weather': [{'id': 803, 'main': 'Clouds', 'description': 'broken clouds', 'icon': '04d'}], 'base': 'stations', 'main': {'temp': 90.72, 'feels_like': 99.64, 'temp_min': 90.72, 'temp_max': 90.72, 'pressure': 1005, 'humidity': 57, 'sea_level': 1005, 'grnd_level': 993}, 'visibility': 10000, 'wind': {'speed': 4.81, 'deg': 271, 'gust': 5.17}, 'clouds': {'all': 70}, 'dt': 1659152274, 'sys': {'country': 'IN', 'sunrise': 1659139144, 'sunset': 1659187289}, 'timezone': 19800, 'id': 1265632, 'name': 'Kunda', 'cod': 200}\n",
      "{'coord': {'lon': 55.5154, 'lat': 39.2446}, 'weather': [{'id': 802, 'main': 'Clouds', 'description': 'scattered clouds', 'icon': '03d'}], 'base': 'stations', 'main': {'temp': 82.53, 'feels_like': 85.19, 'temp_min': 82.53, 'temp_max': 82.53, 'pressure': 1012, 'humidity': 60, 'sea_level': 1012, 'grnd_level': 1008}, 'visibility': 10000, 'wind': {'speed': 11.07, 'deg': 220, 'gust': 13.56}, 'clouds': {'all': 33}, 'dt': 1659152274, 'sys': {'country': 'TM', 'sunrise': 1659143754, 'sunset': 1659195161}, 'timezone': 18000, 'id': 161974, 'name': 'Bereket', 'cod': 200}\n",
      "{'coord': {'lon': -15.8333, 'lat': 11.2833}, 'weather': [{'id': 804, 'main': 'Clouds', 'description': 'overcast clouds', 'icon': '04n'}], 'base': 'stations', 'main': {'temp': 78.96, 'feels_like': 78.96, 'temp_min': 78.96, 'temp_max': 78.96, 'pressure': 1013, 'humidity': 77, 'sea_level': 1013, 'grnd_level': 1010}, 'visibility': 10000, 'wind': {'speed': 16.44, 'deg': 224, 'gust': 17.38}, 'clouds': {'all': 96}, 'dt': 1659152274, 'sys': {'country': 'GW', 'sunrise': 1659163846, 'sunset': 1659209315}, 'timezone': 0, 'id': 2374583, 'name': 'Bubaque', 'cod': 200}\n",
      "{'coord': {'lon': 135.8667, 'lat': -34.7333}, 'weather': [{'id': 804, 'main': 'Clouds', 'description': 'overcast clouds', 'icon': '04d'}], 'base': 'stations', 'main': {'temp': 53.35, 'feels_like': 51.39, 'temp_min': 53.35, 'temp_max': 53.35, 'pressure': 1014, 'humidity': 64, 'sea_level': 1014, 'grnd_level': 1012}, 'visibility': 10000, 'wind': {'speed': 18.34, 'deg': 352, 'gust': 37}, 'clouds': {'all': 100}, 'dt': 1659152275, 'sys': {'country': 'AU', 'sunrise': 1659131551, 'sunset': 1659168795}, 'timezone': 34200, 'id': 2063036, 'name': 'Port Lincoln', 'cod': 200}\n",
      "{'coord': {'lon': -60.2177, 'lat': 46.2367}, 'weather': [{'id': 701, 'main': 'Mist', 'description': 'mist', 'icon': '50n'}], 'base': 'stations', 'main': {'temp': 67.15, 'feels_like': 68.09, 'temp_min': 65.89, 'temp_max': 68.81, 'pressure': 1010, 'humidity': 96}, 'visibility': 2012, 'wind': {'speed': 6.91, 'deg': 230}, 'clouds': {'all': 100}, 'dt': 1659152275, 'sys': {'type': 2, 'id': 2019664, 'country': 'CA', 'sunrise': 1659170405, 'sunset': 1659224060}, 'timezone': -10800, 'id': 7303783, 'name': 'Sydney Mines', 'cod': 200}\n",
      "{'coord': {'lon': 27.2132, 'lat': 35.507}, 'weather': [{'id': 801, 'main': 'Clouds', 'description': 'few clouds', 'icon': '02d'}], 'base': 'stations', 'main': {'temp': 75.16, 'feels_like': 76.28, 'temp_min': 75.16, 'temp_max': 75.16, 'pressure': 1005, 'humidity': 83}, 'visibility': 10000, 'wind': {'speed': 29.93, 'deg': 320, 'gust': 42.57}, 'clouds': {'all': 20}, 'dt': 1659152275, 'sys': {'type': 1, 'id': 6620, 'country': 'GR', 'sunrise': 1659151060, 'sunset': 1659201439}, 'timezone': 10800, 'id': 260895, 'name': 'Karpathos', 'cod': 200}\n",
      "{'coord': {'lon': -66.3821, 'lat': 50.2001}, 'weather': [{'id': 300, 'main': 'Drizzle', 'description': 'light intensity drizzle', 'icon': '09n'}, {'id': 741, 'main': 'Fog', 'description': 'fog', 'icon': '50n'}], 'base': 'stations', 'main': {'temp': 57.09, 'feels_like': 57.15, 'temp_min': 57.06, 'temp_max': 57.72, 'pressure': 1003, 'humidity': 99}, 'visibility': 402, 'wind': {'speed': 3.44, 'deg': 220}, 'clouds': {'all': 100}, 'dt': 1659152276, 'sys': {'type': 2, 'id': 2006302, 'country': 'CA', 'sunrise': 1659084593, 'sunset': 1659140034}, 'timezone': -14400, 'id': 6144312, 'name': 'Sept-Îles', 'cod': 200}\n",
      "{'coord': {'lon': 150.1833, 'lat': -35.7167}, 'weather': [{'id': 800, 'main': 'Clear', 'description': 'clear sky', 'icon': '01d'}], 'base': 'stations', 'main': {'temp': 55.09, 'feels_like': 51.94, 'temp_min': 55.09, 'temp_max': 55.09, 'pressure': 1024, 'humidity': 35, 'sea_level': 1024, 'grnd_level': 1022}, 'visibility': 10000, 'wind': {'speed': 7.34, 'deg': 43, 'gust': 11.25}, 'clouds': {'all': 1}, 'dt': 1659152276, 'sys': {'type': 2, 'id': 2039610, 'country': 'AU', 'sunrise': 1659128236, 'sunset': 1659165238}, 'timezone': 36000, 'id': 2176639, 'name': 'Batemans Bay', 'cod': 200}\n",
      "{'coord': {'lon': -44.91, 'lat': -11.7461}, 'weather': [{'id': 801, 'main': 'Clouds', 'description': 'few clouds', 'icon': '02n'}], 'base': 'stations', 'main': {'temp': 67.62, 'feels_like': 66.06, 'temp_min': 67.62, 'temp_max': 67.62, 'pressure': 1015, 'humidity': 42, 'sea_level': 1015, 'grnd_level': 958}, 'visibility': 10000, 'wind': {'speed': 3.85, 'deg': 238, 'gust': 4.34}, 'clouds': {'all': 16}, 'dt': 1659152276, 'sys': {'country': 'BR', 'sunrise': 1659172701, 'sunset': 1659214417}, 'timezone': -10800, 'id': 3451478, 'name': 'Riachão das Neves', 'cod': 200}\n"
     ]
    },
    {
     "name": "stdout",
     "output_type": "stream",
     "text": [
      "{'coord': {'lon': 9.8105, 'lat': 48.6854}, 'weather': [{'id': 800, 'main': 'Clear', 'description': 'clear sky', 'icon': '01n'}], 'base': 'stations', 'main': {'temp': 58.6, 'feels_like': 58.53, 'temp_min': 55.8, 'temp_max': 61.27, 'pressure': 1016, 'humidity': 93}, 'visibility': 10000, 'wind': {'speed': 5.39, 'deg': 271, 'gust': 9.15}, 'clouds': {'all': 5}, 'dt': 1659152277, 'sys': {'type': 2, 'id': 2004160, 'country': 'DE', 'sunrise': 1659153100, 'sunset': 1659207752}, 'timezone': 7200, 'id': 2936186, 'name': 'Donzdorf', 'cod': 200}\n",
      "{'coord': {'lon': 73.8282, 'lat': 57.1281}, 'weather': [{'id': 800, 'main': 'Clear', 'description': 'clear sky', 'icon': '01d'}], 'base': 'stations', 'main': {'temp': 69.37, 'feels_like': 68.74, 'temp_min': 69.37, 'temp_max': 69.37, 'pressure': 1010, 'humidity': 58, 'sea_level': 1010, 'grnd_level': 1002}, 'visibility': 10000, 'wind': {'speed': 8.28, 'deg': 22, 'gust': 13.6}, 'clouds': {'all': 2}, 'dt': 1659152277, 'sys': {'country': 'RU', 'sunrise': 1659135486, 'sunset': 1659194639}, 'timezone': 21600, 'id': 1485020, 'name': 'Znamenskoye', 'cod': 200}\n",
      "{'coord': {'lon': -85.4192, 'lat': 41.7992}, 'weather': [{'id': 800, 'main': 'Clear', 'description': 'clear sky', 'icon': '01n'}], 'base': 'stations', 'main': {'temp': 60.89, 'feels_like': 60.82, 'temp_min': 58.95, 'temp_max': 64.2, 'pressure': 1020, 'humidity': 88}, 'visibility': 10000, 'wind': {'speed': 0, 'deg': 0}, 'clouds': {'all': 0}, 'dt': 1659152277, 'sys': {'type': 1, 'id': 4547, 'country': 'US', 'sunrise': 1659090756, 'sunset': 1659143008}, 'timezone': -14400, 'id': 5011428, 'name': 'Sturgis', 'cod': 200}\n",
      "{'coord': {'lon': 132.2111, 'lat': 46.3317}, 'weather': [{'id': 803, 'main': 'Clouds', 'description': 'broken clouds', 'icon': '04d'}], 'base': 'stations', 'main': {'temp': 87.21, 'feels_like': 90.77, 'temp_min': 87.21, 'temp_max': 87.21, 'pressure': 1009, 'humidity': 53, 'sea_level': 1009, 'grnd_level': 999}, 'visibility': 10000, 'wind': {'speed': 10.85, 'deg': 263, 'gust': 15.03}, 'clouds': {'all': 66}, 'dt': 1659152278, 'sys': {'country': 'CN', 'sunrise': 1659124166, 'sunset': 1659177935}, 'timezone': 28800, 'id': 2038446, 'name': 'Baoqing', 'cod': 200}\n",
      "{'coord': {'lon': 16.1194, 'lat': 69.3143}, 'weather': [{'id': 802, 'main': 'Clouds', 'description': 'scattered clouds', 'icon': '03d'}], 'base': 'stations', 'main': {'temp': 49.98, 'feels_like': 47.77, 'temp_min': 49.98, 'temp_max': 49.98, 'pressure': 1020, 'humidity': 100}, 'visibility': 10000, 'wind': {'speed': 5.75, 'deg': 160}, 'clouds': {'all': 43}, 'dt': 1659152278, 'sys': {'type': 1, 'id': 1603, 'country': 'NO', 'sunrise': 1659140845, 'sunset': 1659216979}, 'timezone': 7200, 'id': 3163146, 'name': 'Andenes', 'cod': 200}\n",
      "{'coord': {'lon': -65.7125, 'lat': 66.1451}, 'weather': [{'id': 804, 'main': 'Clouds', 'description': 'overcast clouds', 'icon': '04n'}], 'base': 'stations', 'main': {'temp': 53.53, 'feels_like': 52.29, 'temp_min': 53.53, 'temp_max': 53.53, 'pressure': 1000, 'humidity': 79, 'sea_level': 1000, 'grnd_level': 997}, 'visibility': 10000, 'wind': {'speed': 6.31, 'deg': 72, 'gust': 5.59}, 'clouds': {'all': 100}, 'dt': 1659152278, 'sys': {'country': 'CA', 'sunrise': 1659077708, 'sunset': 1659146598}, 'timezone': -14400, 'id': 6096551, 'name': 'Pangnirtung', 'cod': 200}\n",
      "{'coord': {'lon': -61.1833, 'lat': 12.8833}, 'weather': [{'id': 800, 'main': 'Clear', 'description': 'clear sky', 'icon': '01n'}], 'base': 'stations', 'main': {'temp': 81.01, 'feels_like': 86.09, 'temp_min': 81.01, 'temp_max': 81.01, 'pressure': 1014, 'humidity': 78, 'sea_level': 1014, 'grnd_level': 1010}, 'visibility': 10000, 'wind': {'speed': 15.59, 'deg': 96, 'gust': 18.23}, 'clouds': {'all': 5}, 'dt': 1659152279, 'sys': {'country': 'VC', 'sunrise': 1659088182, 'sunset': 1659133949}, 'timezone': -14400, 'id': 3577911, 'name': 'Dovers', 'cod': 200}\n",
      "{'coord': {'lon': 40.5178, 'lat': -12.974}, 'weather': [{'id': 801, 'main': 'Clouds', 'description': 'few clouds', 'icon': '02n'}], 'base': 'stations', 'main': {'temp': 68.7, 'feels_like': 69.69, 'temp_min': 68.7, 'temp_max': 68.7, 'pressure': 1018, 'humidity': 94}, 'visibility': 10000, 'wind': {'speed': 8.05, 'deg': 250}, 'clouds': {'all': 20}, 'dt': 1659152279, 'sys': {'type': 1, 'id': 2206, 'country': 'MZ', 'sunrise': 1659152304, 'sunset': 1659193809}, 'timezone': 7200, 'id': 1028918, 'name': 'Pemba', 'cod': 200}\n",
      "{'coord': {'lon': 50.1031, 'lat': 61.0749}, 'weather': [{'id': 801, 'main': 'Clouds', 'description': 'few clouds', 'icon': '02d'}], 'base': 'stations', 'main': {'temp': 70.02, 'feels_like': 69.49, 'temp_min': 70.02, 'temp_max': 70.02, 'pressure': 1017, 'humidity': 59, 'sea_level': 1017, 'grnd_level': 1006}, 'visibility': 10000, 'wind': {'speed': 4.14, 'deg': 140, 'gust': 7}, 'clouds': {'all': 15}, 'dt': 1659152279, 'sys': {'country': 'RU', 'sunrise': 1659139623, 'sunset': 1659201889}, 'timezone': 10800, 'id': 473263, 'name': 'Vizinga', 'cod': 200}\n",
      "{'coord': {'lon': 79.1167, 'lat': 9.2833}, 'weather': [{'id': 804, 'main': 'Clouds', 'description': 'overcast clouds', 'icon': '04d'}], 'base': 'stations', 'main': {'temp': 82.98, 'feels_like': 89.74, 'temp_min': 82.98, 'temp_max': 82.98, 'pressure': 1009, 'humidity': 75, 'sea_level': 1009, 'grnd_level': 1009}, 'visibility': 10000, 'wind': {'speed': 12.01, 'deg': 204, 'gust': 11.65}, 'clouds': {'all': 95}, 'dt': 1659152280, 'sys': {'country': 'IN', 'sunrise': 1659141224, 'sunset': 1659186362}, 'timezone': 19800, 'id': 1263900, 'name': 'Mandapam', 'cod': 200}\n",
      "{'coord': {'lon': 38.4777, 'lat': 47.7935}, 'weather': [{'id': 800, 'main': 'Clear', 'description': 'clear sky', 'icon': '01d'}], 'base': 'stations', 'main': {'temp': 70.84, 'feels_like': 70.54, 'temp_min': 70.84, 'temp_max': 70.84, 'pressure': 1016, 'humidity': 62, 'sea_level': 1016, 'grnd_level': 999}, 'visibility': 10000, 'wind': {'speed': 13.02, 'deg': 28, 'gust': 19.86}, 'clouds': {'all': 3}, 'dt': 1659152280, 'sys': {'country': 'UA', 'sunrise': 1659146397, 'sunset': 1659200696}, 'timezone': 10800, 'id': 713504, 'name': 'Amvrosiyivka', 'cod': 200}\n",
      "{'coord': {'lon': 150.7967, 'lat': -2.5744}, 'weather': [{'id': 802, 'main': 'Clouds', 'description': 'scattered clouds', 'icon': '03d'}], 'base': 'stations', 'main': {'temp': 84.27, 'feels_like': 90.09, 'temp_min': 84.27, 'temp_max': 84.27, 'pressure': 1008, 'humidity': 67, 'sea_level': 1008, 'grnd_level': 1006}, 'visibility': 10000, 'wind': {'speed': 8.59, 'deg': 84, 'gust': 9.8}, 'clouds': {'all': 33}, 'dt': 1659152280, 'sys': {'country': 'PG', 'sunrise': 1659124988, 'sunset': 1659168192}, 'timezone': 36000, 'id': 2094342, 'name': 'Kavieng', 'cod': 200}\n",
      "{'coord': {'lon': 26.3894, 'lat': -12.1688}, 'weather': [{'id': 801, 'main': 'Clouds', 'description': 'few clouds', 'icon': '02n'}], 'base': 'stations', 'main': {'temp': 50.05, 'feels_like': 47.59, 'temp_min': 50.05, 'temp_max': 50.05, 'pressure': 1019, 'humidity': 60, 'sea_level': 1019, 'grnd_level': 865}, 'visibility': 10000, 'wind': {'speed': 3.96, 'deg': 112, 'gust': 7.65}, 'clouds': {'all': 20}, 'dt': 1659152281, 'sys': {'country': 'ZM', 'sunrise': 1659155627, 'sunset': 1659197267}, 'timezone': 7200, 'id': 897045, 'name': 'Solwezi', 'cod': 200}\n",
      "{'cod': '404', 'message': 'city not found'}\n",
      "City Not Found\n",
      "{'coord': {'lon': 16.9333, 'lat': -12.3833}, 'weather': [{'id': 800, 'main': 'Clear', 'description': 'clear sky', 'icon': '01n'}], 'base': 'stations', 'main': {'temp': 48.13, 'feels_like': 47.3, 'temp_min': 48.13, 'temp_max': 48.13, 'pressure': 1019, 'humidity': 40, 'sea_level': 1019, 'grnd_level': 832}, 'visibility': 10000, 'wind': {'speed': 3.29, 'deg': 261, 'gust': 3.29}, 'clouds': {'all': 6}, 'dt': 1659152281, 'sys': {'country': 'AO', 'sunrise': 1659157914, 'sunset': 1659199519}, 'timezone': 3600, 'id': 3348078, 'name': 'Kuito', 'cod': 200}\n",
      "{'coord': {'lon': 28.6617, 'lat': 56.7105}, 'weather': [{'id': 802, 'main': 'Clouds', 'description': 'scattered clouds', 'icon': '03d'}], 'base': 'stations', 'main': {'temp': 52.09, 'feels_like': 50.94, 'temp_min': 52.09, 'temp_max': 52.09, 'pressure': 1021, 'humidity': 84, 'sea_level': 1021, 'grnd_level': 1010}, 'visibility': 10000, 'wind': {'speed': 4.14, 'deg': 258, 'gust': 8.25}, 'clouds': {'all': 26}, 'dt': 1659152282, 'sys': {'country': 'RU', 'sunrise': 1659146480, 'sunset': 1659205324}, 'timezone': 10800, 'id': 515155, 'name': 'Opochka', 'cod': 200}\n"
     ]
    },
    {
     "name": "stdout",
     "output_type": "stream",
     "text": [
      "{'coord': {'lon': 18.3553, 'lat': 39.9304}, 'weather': [{'id': 800, 'main': 'Clear', 'description': 'clear sky', 'icon': '01n'}], 'base': 'stations', 'main': {'temp': 73.31, 'feels_like': 73.49, 'temp_min': 73.31, 'temp_max': 75.31, 'pressure': 1012, 'humidity': 67, 'sea_level': 1012, 'grnd_level': 1000}, 'visibility': 10000, 'wind': {'speed': 6.17, 'deg': 2, 'gust': 7.05}, 'clouds': {'all': 0}, 'dt': 1659152282, 'sys': {'type': 2, 'id': 2009376, 'country': 'IT', 'sunrise': 1659152577, 'sunset': 1659204173}, 'timezone': 7200, 'id': 2522857, 'name': 'Tricase', 'cod': 200}\n",
      "{'coord': {'lon': 29.9553, 'lat': 31.2156}, 'weather': [{'id': 800, 'main': 'Clear', 'description': 'clear sky', 'icon': '01d'}], 'base': 'stations', 'main': {'temp': 75.16, 'feels_like': 76.05, 'temp_min': 73.94, 'temp_max': 75.16, 'pressure': 1007, 'humidity': 78}, 'visibility': 10000, 'wind': {'speed': 0, 'deg': 0}, 'clouds': {'all': 0}, 'dt': 1659152282, 'sys': {'type': 1, 'id': 2511, 'country': 'EG', 'sunrise': 1659150925, 'sunset': 1659200258}, 'timezone': 7200, 'id': 361058, 'name': 'Alexandria', 'cod': 200}\n",
      "{'coord': {'lon': 1.3862, 'lat': 51.3813}, 'weather': [{'id': 803, 'main': 'Clouds', 'description': 'broken clouds', 'icon': '04n'}], 'base': 'stations', 'main': {'temp': 62.35, 'feels_like': 62.42, 'temp_min': 59.88, 'temp_max': 63.9, 'pressure': 1018, 'humidity': 88}, 'visibility': 10000, 'wind': {'speed': 3, 'deg': 167, 'gust': 5.01}, 'clouds': {'all': 63}, 'dt': 1659152283, 'sys': {'type': 2, 'id': 2072746, 'country': 'GB', 'sunrise': 1659154523, 'sunset': 1659210373}, 'timezone': 3600, 'id': 2643044, 'name': 'Margate', 'cod': 200}\n",
      "{'coord': {'lon': -80.8222, 'lat': -5.5569}, 'weather': [{'id': 800, 'main': 'Clear', 'description': 'clear sky', 'icon': '01n'}], 'base': 'stations', 'main': {'temp': 63.5, 'feels_like': 63.3, 'temp_min': 63.5, 'temp_max': 63.5, 'pressure': 1014, 'humidity': 80, 'sea_level': 1014, 'grnd_level': 1013}, 'visibility': 10000, 'wind': {'speed': 11.81, 'deg': 155, 'gust': 18.03}, 'clouds': {'all': 3}, 'dt': 1659152283, 'sys': {'country': 'PE', 'sunrise': 1659094421, 'sunset': 1659137137}, 'timezone': -18000, 'id': 3691954, 'name': 'Sechura', 'cod': 200}\n",
      "{'coord': {'lon': 59.6143, 'lat': 37.3482}, 'weather': [{'id': 800, 'main': 'Clear', 'description': 'clear sky', 'icon': '01d'}], 'base': 'stations', 'main': {'temp': 84.47, 'feels_like': 87.22, 'temp_min': 84.47, 'temp_max': 84.47, 'pressure': 1011, 'humidity': 56, 'sea_level': 1011, 'grnd_level': 979}, 'visibility': 10000, 'wind': {'speed': 13.56, 'deg': 318, 'gust': 15.43}, 'clouds': {'all': 3}, 'dt': 1659152283, 'sys': {'country': 'TM', 'sunrise': 1659143036, 'sunset': 1659193911}, 'timezone': 18000, 'id': 161901, 'name': 'Kaka', 'cod': 200}\n",
      "{'coord': {'lon': 129.5531, 'lat': 33.3597}, 'weather': [{'id': 802, 'main': 'Clouds', 'description': 'scattered clouds', 'icon': '03d'}], 'base': 'stations', 'main': {'temp': 93.38, 'feels_like': 105.98, 'temp_min': 93.38, 'temp_max': 93.38, 'pressure': 1007, 'humidity': 75, 'sea_level': 1007, 'grnd_level': 1001}, 'visibility': 10000, 'wind': {'speed': 6.22, 'deg': 83, 'gust': 12.37}, 'clouds': {'all': 30}, 'dt': 1659152284, 'sys': {'type': 2, 'id': 2001102, 'country': 'JP', 'sunrise': 1659126756, 'sunset': 1659176621}, 'timezone': 32400, 'id': 1862555, 'name': 'Hirado', 'cod': 200}\n",
      "{'coord': {'lon': 77.2406, 'lat': 38.4167}, 'weather': [{'id': 804, 'main': 'Clouds', 'description': 'overcast clouds', 'icon': '04d'}], 'base': 'stations', 'main': {'temp': 83.19, 'feels_like': 80.91, 'temp_min': 83.19, 'temp_max': 83.19, 'pressure': 1003, 'humidity': 24, 'sea_level': 1003, 'grnd_level': 874}, 'visibility': 10000, 'wind': {'speed': 7.25, 'deg': 191, 'gust': 10.31}, 'clouds': {'all': 100}, 'dt': 1659152284, 'sys': {'country': 'CN', 'sunrise': 1659138655, 'sunset': 1659189832}, 'timezone': 28800, 'id': 1280037, 'name': 'Shache', 'cod': 200}\n",
      "{'coord': {'lon': 22.2247, 'lat': -10.7073}, 'weather': [{'id': 800, 'main': 'Clear', 'description': 'clear sky', 'icon': '01n'}], 'base': 'stations', 'main': {'temp': 55.81, 'feels_like': 52.83, 'temp_min': 55.81, 'temp_max': 55.81, 'pressure': 1016, 'humidity': 37, 'sea_level': 1016, 'grnd_level': 892}, 'visibility': 10000, 'wind': {'speed': 4.59, 'deg': 167, 'gust': 6.13}, 'clouds': {'all': 8}, 'dt': 1659152284, 'sys': {'country': 'AO', 'sunrise': 1659156505, 'sunset': 1659198389}, 'timezone': 3600, 'id': 876177, 'name': 'Luau', 'cod': 200}\n",
      "{'coord': {'lon': 27.2665, 'lat': -25.185}, 'weather': [{'id': 801, 'main': 'Clouds', 'description': 'few clouds', 'icon': '02n'}], 'base': 'stations', 'main': {'temp': 51.78, 'feels_like': 49.24, 'temp_min': 51.78, 'temp_max': 51.78, 'pressure': 1019, 'humidity': 55, 'sea_level': 1019, 'grnd_level': 886}, 'visibility': 10000, 'wind': {'speed': 4.36, 'deg': 303, 'gust': 4.41}, 'clouds': {'all': 16}, 'dt': 1659152285, 'sys': {'country': 'ZA', 'sunrise': 1659156580, 'sunset': 1659195894}, 'timezone': 7200, 'id': 974933, 'name': 'Mogwase', 'cod': 200}\n",
      "{'coord': {'lon': 66.3167, 'lat': 51.1}, 'weather': [{'id': 804, 'main': 'Clouds', 'description': 'overcast clouds', 'icon': '04d'}], 'base': 'stations', 'main': {'temp': 63.54, 'feels_like': 63.91, 'temp_min': 63.54, 'temp_max': 63.54, 'pressure': 1005, 'humidity': 92, 'sea_level': 1005, 'grnd_level': 977}, 'visibility': 10000, 'wind': {'speed': 18.79, 'deg': 20, 'gust': 27.81}, 'clouds': {'all': 99}, 'dt': 1659152285, 'sys': {'country': 'KZ', 'sunrise': 1659138990, 'sunset': 1659194739}, 'timezone': 21600, 'id': 1524606, 'name': 'Derzhavīnsk', 'cod': 200}\n",
      "{'coord': {'lon': -92.1041, 'lat': 46.7208}, 'weather': [{'id': 800, 'main': 'Clear', 'description': 'clear sky', 'icon': '01n'}], 'base': 'stations', 'main': {'temp': 62.06, 'feels_like': 61.97, 'temp_min': 57.29, 'temp_max': 67.89, 'pressure': 1018, 'humidity': 85}, 'visibility': 10000, 'wind': {'speed': 6.91, 'deg': 220}, 'clouds': {'all': 0}, 'dt': 1659152285, 'sys': {'type': 1, 'id': 5944, 'country': 'US', 'sunrise': 1659091500, 'sunset': 1659145473}, 'timezone': -18000, 'id': 5275191, 'name': 'Superior', 'cod': 200}\n",
      "{'cod': '404', 'message': 'city not found'}\n",
      "City Not Found\n",
      "{'coord': {'lon': 9.2342, 'lat': 58.7206}, 'weather': [{'id': 802, 'main': 'Clouds', 'description': 'scattered clouds', 'icon': '03d'}], 'base': 'stations', 'main': {'temp': 55.29, 'feels_like': 54.19, 'temp_min': 55.29, 'temp_max': 55.29, 'pressure': 1020, 'humidity': 78, 'sea_level': 1020, 'grnd_level': 1017}, 'visibility': 10000, 'wind': {'speed': 1.9, 'deg': 20, 'gust': 2.93}, 'clouds': {'all': 29}, 'dt': 1659152286, 'sys': {'type': 2, 'id': 2040118, 'country': 'NO', 'sunrise': 1659150438, 'sunset': 1659210691}, 'timezone': 7200, 'id': 3141747, 'name': 'Risør', 'cod': 200}\n",
      "{'coord': {'lon': -122.7002, 'lat': 58.8053}, 'weather': [{'id': 803, 'main': 'Clouds', 'description': 'broken clouds', 'icon': '04d'}], 'base': 'stations', 'main': {'temp': 60.39, 'feels_like': 59.97, 'temp_min': 60.39, 'temp_max': 60.39, 'pressure': 1016, 'humidity': 82}, 'visibility': 10000, 'wind': {'speed': 5.75, 'deg': 320}, 'clouds': {'all': 75}, 'dt': 1659152286, 'sys': {'type': 1, 'id': 986, 'country': 'CA', 'sunrise': 1659095587, 'sunset': 1659156072}, 'timezone': -25200, 'id': 5955902, 'name': 'Fort Nelson', 'cod': 200}\n",
      "{'cod': '404', 'message': 'city not found'}\n",
      "City Not Found\n",
      "{'coord': {'lon': -82.9709, 'lat': 8.8208}, 'weather': [{'id': 804, 'main': 'Clouds', 'description': 'overcast clouds', 'icon': '04n'}], 'base': 'stations', 'main': {'temp': 66.2, 'feels_like': 67.03, 'temp_min': 66.2, 'temp_max': 66.2, 'pressure': 1014, 'humidity': 96, 'sea_level': 1014, 'grnd_level': 904}, 'visibility': 10000, 'wind': {'speed': 1.45, 'deg': 13, 'gust': 1.43}, 'clouds': {'all': 87}, 'dt': 1659152287, 'sys': {'country': 'CR', 'sunrise': 1659093759, 'sunset': 1659138831}, 'timezone': -21600, 'id': 3621501, 'name': 'San Vito', 'cod': 200}\n",
      "{'coord': {'lon': 9.9682, 'lat': 4.457}, 'weather': [{'id': 804, 'main': 'Clouds', 'description': 'overcast clouds', 'icon': '04n'}], 'base': 'stations', 'main': {'temp': 70.07, 'feels_like': 71.44, 'temp_min': 70.07, 'temp_max': 70.07, 'pressure': 1014, 'humidity': 99, 'sea_level': 1014, 'grnd_level': 1009}, 'visibility': 10000, 'wind': {'speed': 0.85, 'deg': 59, 'gust': 0.98}, 'clouds': {'all': 100}, 'dt': 1659152287, 'sys': {'country': 'CM', 'sunrise': 1659158218, 'sunset': 1659202558}, 'timezone': 3600, 'id': 2221046, 'name': 'Yabassi', 'cod': 200}\n"
     ]
    },
    {
     "name": "stdout",
     "output_type": "stream",
     "text": [
      "{'coord': {'lon': 25.8, 'lat': 45.7833}, 'weather': [{'id': 801, 'main': 'Clouds', 'description': 'few clouds', 'icon': '02d'}], 'base': 'stations', 'main': {'temp': 60.91, 'feels_like': 61.39, 'temp_min': 59.34, 'temp_max': 64.8, 'pressure': 1017, 'humidity': 100, 'sea_level': 1017, 'grnd_level': 959}, 'visibility': 10000, 'wind': {'speed': 3.36, 'deg': 85, 'gust': 3.8}, 'clouds': {'all': 14}, 'dt': 1659152287, 'sys': {'type': 2, 'id': 2039162, 'country': 'RO', 'sunrise': 1659149828, 'sunset': 1659203350}, 'timezone': 10800, 'id': 682147, 'name': 'Chichiş', 'cod': 200}\n",
      "{'coord': {'lon': 148.1667, 'lat': -33.9}, 'weather': [{'id': 800, 'main': 'Clear', 'description': 'clear sky', 'icon': '01d'}], 'base': 'stations', 'main': {'temp': 55.45, 'feels_like': 52.63, 'temp_min': 55.45, 'temp_max': 55.45, 'pressure': 1025, 'humidity': 41, 'sea_level': 1025, 'grnd_level': 978}, 'visibility': 10000, 'wind': {'speed': 6.55, 'deg': 2, 'gust': 8.25}, 'clouds': {'all': 0}, 'dt': 1659152288, 'sys': {'type': 2, 'id': 2001928, 'country': 'AU', 'sunrise': 1659128502, 'sunset': 1659165940}, 'timezone': 36000, 'id': 2164457, 'name': 'Grenfell', 'cod': 200}\n",
      "{'coord': {'lon': -131.6461, 'lat': 55.3422}, 'weather': [{'id': 500, 'main': 'Rain', 'description': 'light rain', 'icon': '10d'}], 'base': 'stations', 'main': {'temp': 70.27, 'feels_like': 70.66, 'temp_min': 70.27, 'temp_max': 70.27, 'pressure': 1017, 'humidity': 78}, 'visibility': 10000, 'wind': {'speed': 3.44, 'deg': 90}, 'rain': {'3h': 0.25}, 'clouds': {'all': 100}, 'dt': 1659152288, 'sys': {'type': 1, 'id': 7741, 'country': 'US', 'sunrise': 1659098925, 'sunset': 1659157029}, 'timezone': -28800, 'id': 5554428, 'name': 'Ketchikan', 'cod': 200}\n",
      "{'coord': {'lon': -8.2369, 'lat': 43.4832}, 'weather': [{'id': 800, 'main': 'Clear', 'description': 'clear sky', 'icon': '01n'}], 'base': 'stations', 'main': {'temp': 63.64, 'feels_like': 63.93, 'temp_min': 62.58, 'temp_max': 64.92, 'pressure': 1014, 'humidity': 90}, 'visibility': 10000, 'wind': {'speed': 1.01, 'deg': 357, 'gust': 3}, 'clouds': {'all': 5}, 'dt': 1659152288, 'sys': {'type': 2, 'id': 49079, 'country': 'ES', 'sunrise': 1659158406, 'sunset': 1659211109}, 'timezone': 7200, 'id': 3123493, 'name': 'Ferrol', 'cod': 200}\n",
      "{'coord': {'lon': -58.4, 'lat': -16.3667}, 'weather': [{'id': 802, 'main': 'Clouds', 'description': 'scattered clouds', 'icon': '03n'}], 'base': 'stations', 'main': {'temp': 60.64, 'feels_like': 59.88, 'temp_min': 60.64, 'temp_max': 60.64, 'pressure': 1017, 'humidity': 74, 'sea_level': 1017, 'grnd_level': 1002}, 'visibility': 10000, 'wind': {'speed': 4.29, 'deg': 176, 'gust': 11.9}, 'clouds': {'all': 40}, 'dt': 1659152289, 'sys': {'country': 'BO', 'sunrise': 1659089949, 'sunset': 1659130847}, 'timezone': -14400, 'id': 3444105, 'name': 'San Matías', 'cod': 200}\n",
      "{'coord': {'lon': 134.15, 'lat': 33.2833}, 'weather': [{'id': 501, 'main': 'Rain', 'description': 'moderate rain', 'icon': '10d'}], 'base': 'stations', 'main': {'temp': 82.18, 'feels_like': 89.78, 'temp_min': 82.18, 'temp_max': 82.18, 'pressure': 1014, 'humidity': 82, 'sea_level': 1014, 'grnd_level': 1014}, 'visibility': 10000, 'wind': {'speed': 16.31, 'deg': 109, 'gust': 22.5}, 'rain': {'1h': 1.15}, 'clouds': {'all': 87}, 'dt': 1659152289, 'sys': {'country': 'JP', 'sunrise': 1659125661, 'sunset': 1659175509}, 'timezone': 32400, 'id': 1856392, 'name': 'Muroto-misakicho', 'cod': 200}\n",
      "{'coord': {'lon': 97.5228, 'lat': 50.5994}, 'weather': [{'id': 803, 'main': 'Clouds', 'description': 'broken clouds', 'icon': '04d'}], 'base': 'stations', 'main': {'temp': 73.36, 'feels_like': 71.85, 'temp_min': 73.36, 'temp_max': 73.36, 'pressure': 1001, 'humidity': 31, 'sea_level': 1001, 'grnd_level': 862}, 'visibility': 10000, 'wind': {'speed': 3.78, 'deg': 19, 'gust': 8.93}, 'clouds': {'all': 58}, 'dt': 1659152290, 'sys': {'country': 'RU', 'sunrise': 1659131610, 'sunset': 1659187141}, 'timezone': 25200, 'id': 1501377, 'name': 'Kungurtug', 'cod': 200}\n",
      "{'coord': {'lon': -56.0861, 'lat': -9.8756}, 'weather': [{'id': 801, 'main': 'Clouds', 'description': 'few clouds', 'icon': '02n'}], 'base': 'stations', 'main': {'temp': 67.98, 'feels_like': 66.45, 'temp_min': 67.98, 'temp_max': 67.98, 'pressure': 1013, 'humidity': 42, 'sea_level': 1013, 'grnd_level': 979}, 'visibility': 10000, 'wind': {'speed': 3.89, 'deg': 147, 'gust': 6.78}, 'clouds': {'all': 15}, 'dt': 1659152290, 'sys': {'country': 'BR', 'sunrise': 1659088841, 'sunset': 1659130844}, 'timezone': -14400, 'id': 6316343, 'name': 'Alta Floresta', 'cod': 200}\n",
      "{'coord': {'lon': -91.8724, 'lat': 32.7562}, 'weather': [{'id': 804, 'main': 'Clouds', 'description': 'overcast clouds', 'icon': '04n'}], 'base': 'stations', 'main': {'temp': 74.93, 'feels_like': 76.64, 'temp_min': 73.81, 'temp_max': 75.69, 'pressure': 1018, 'humidity': 96}, 'visibility': 4526, 'wind': {'speed': 8.08, 'deg': 44, 'gust': 17.18}, 'clouds': {'all': 90}, 'dt': 1659152290, 'sys': {'type': 2, 'id': 2020610, 'country': 'US', 'sunrise': 1659093555, 'sunset': 1659143307}, 'timezone': -18000, 'id': 4315535, 'name': 'Bastrop', 'cod': 200}\n",
      "{'coord': {'lon': -34.9075, 'lat': -7.2597}, 'weather': [{'id': 803, 'main': 'Clouds', 'description': 'broken clouds', 'icon': '04n'}], 'base': 'stations', 'main': {'temp': 74.66, 'feels_like': 76.53, 'temp_min': 74.66, 'temp_max': 74.66, 'pressure': 1015, 'humidity': 100}, 'visibility': 6000, 'wind': {'speed': 4.61, 'deg': 130}, 'clouds': {'all': 75}, 'dt': 1659152291, 'sys': {'type': 1, 'id': 8391, 'country': 'BR', 'sunrise': 1659169933, 'sunset': 1659212384}, 'timezone': -10800, 'id': 3385077, 'name': 'Conde', 'cod': 200}\n",
      "{'coord': {'lon': -122.5029, 'lat': 52.9999}, 'weather': [{'id': 803, 'main': 'Clouds', 'description': 'broken clouds', 'icon': '04d'}], 'base': 'stations', 'main': {'temp': 79.3, 'feels_like': 79.3, 'temp_min': 79.3, 'temp_max': 79.3, 'pressure': 1011, 'humidity': 53}, 'visibility': 10000, 'wind': {'speed': 3.44, 'deg': 350}, 'clouds': {'all': 75}, 'dt': 1659152291, 'sys': {'type': 1, 'id': 907, 'country': 'CA', 'sunrise': 1659097390, 'sunset': 1659154174}, 'timezone': -25200, 'id': 6115187, 'name': 'Quesnel', 'cod': 200}\n",
      "{'coord': {'lon': 41.7119, 'lat': 54.0258}, 'weather': [{'id': 802, 'main': 'Clouds', 'description': 'scattered clouds', 'icon': '03d'}], 'base': 'stations', 'main': {'temp': 63.25, 'feels_like': 62.51, 'temp_min': 63.25, 'temp_max': 63.25, 'pressure': 1018, 'humidity': 69, 'sea_level': 1018, 'grnd_level': 1001}, 'visibility': 10000, 'wind': {'speed': 6.49, 'deg': 332, 'gust': 9.78}, 'clouds': {'all': 26}, 'dt': 1659152291, 'sys': {'country': 'RU', 'sunrise': 1659144154, 'sunset': 1659201385}, 'timezone': 10800, 'id': 495532, 'name': 'Shatsk', 'cod': 200}\n",
      "{'coord': {'lon': 135.4567, 'lat': 48.4642}, 'weather': [{'id': 803, 'main': 'Clouds', 'description': 'broken clouds', 'icon': '04d'}], 'base': 'stations', 'main': {'temp': 78.3, 'feels_like': 79.59, 'temp_min': 78.3, 'temp_max': 82.74, 'pressure': 1005, 'humidity': 80, 'sea_level': 1005, 'grnd_level': 1000}, 'visibility': 8780, 'wind': {'speed': 16.98, 'deg': 245, 'gust': 23.4}, 'clouds': {'all': 62}, 'dt': 1659152292, 'sys': {'type': 2, 'id': 49566, 'country': 'RU', 'sunrise': 1659122964, 'sunset': 1659177579}, 'timezone': 36000, 'id': 2021954, 'name': 'Knyaze-Volkonskoye', 'cod': 200}\n",
      "{'coord': {'lon': 146.4167, 'lat': 68.5333}, 'weather': [{'id': 804, 'main': 'Clouds', 'description': 'overcast clouds', 'icon': '04d'}], 'base': 'stations', 'main': {'temp': 63.07, 'feels_like': 61.14, 'temp_min': 63.07, 'temp_max': 63.07, 'pressure': 1007, 'humidity': 44, 'sea_level': 1007, 'grnd_level': 1000}, 'visibility': 10000, 'wind': {'speed': 9.71, 'deg': 201, 'gust': 13.11}, 'clouds': {'all': 99}, 'dt': 1659152292, 'sys': {'country': 'RU', 'sunrise': 1659110688, 'sunset': 1659184595}, 'timezone': 39600, 'id': 2126785, 'name': 'Belaya Gora', 'cod': 200}\n",
      "{'coord': {'lon': 35.5973, 'lat': 3.1191}, 'weather': [{'id': 802, 'main': 'Clouds', 'description': 'scattered clouds', 'icon': '03d'}], 'base': 'stations', 'main': {'temp': 77.07, 'feels_like': 77.16, 'temp_min': 77.07, 'temp_max': 77.07, 'pressure': 1012, 'humidity': 57, 'sea_level': 1012, 'grnd_level': 956}, 'visibility': 10000, 'wind': {'speed': 8.52, 'deg': 84, 'gust': 12.91}, 'clouds': {'all': 47}, 'dt': 1659152292, 'sys': {'country': 'KE', 'sunrise': 1659152175, 'sunset': 1659196299}, 'timezone': 10800, 'id': 189280, 'name': 'Lodwar', 'cod': 200}\n"
     ]
    },
    {
     "name": "stdout",
     "output_type": "stream",
     "text": [
      "{'coord': {'lon': 70.8333, 'lat': 66.8333}, 'weather': [{'id': 804, 'main': 'Clouds', 'description': 'overcast clouds', 'icon': '04d'}], 'base': 'stations', 'main': {'temp': 62.55, 'feels_like': 61.84, 'temp_min': 62.55, 'temp_max': 62.55, 'pressure': 1018, 'humidity': 71, 'sea_level': 1018, 'grnd_level': 1017}, 'visibility': 10000, 'wind': {'speed': 17.45, 'deg': 9, 'gust': 22.46}, 'clouds': {'all': 88}, 'dt': 1659152293, 'sys': {'country': 'RU', 'sunrise': 1659130865, 'sunset': 1659200697}, 'timezone': 18000, 'id': 1486321, 'name': 'Yar-Sale', 'cod': 200}\n",
      "{'coord': {'lon': -3.3526, 'lat': 37.8406}, 'weather': [{'id': 802, 'main': 'Clouds', 'description': 'scattered clouds', 'icon': '03n'}], 'base': 'stations', 'main': {'temp': 77.58, 'feels_like': 77, 'temp_min': 77.58, 'temp_max': 77.58, 'pressure': 1015, 'humidity': 42, 'sea_level': 1015, 'grnd_level': 941}, 'visibility': 10000, 'wind': {'speed': 2.68, 'deg': 149, 'gust': 3.36}, 'clouds': {'all': 40}, 'dt': 1659152293, 'sys': {'type': 2, 'id': 2031551, 'country': 'ES', 'sunrise': 1659158089, 'sunset': 1659209082}, 'timezone': 7200, 'id': 2516304, 'name': 'Jódar', 'cod': 200}\n",
      "{'coord': {'lon': 56.2884, 'lat': 59.946}, 'weather': [{'id': 804, 'main': 'Clouds', 'description': 'overcast clouds', 'icon': '04d'}], 'base': 'stations', 'main': {'temp': 67.64, 'feels_like': 66.97, 'temp_min': 67.64, 'temp_max': 67.64, 'pressure': 1018, 'humidity': 61, 'sea_level': 1018, 'grnd_level': 1001}, 'visibility': 10000, 'wind': {'speed': 2.57, 'deg': 147, 'gust': 3.87}, 'clouds': {'all': 100}, 'dt': 1659152293, 'sys': {'country': 'RU', 'sunrise': 1659138636, 'sunset': 1659199907}, 'timezone': 18000, 'id': 551047, 'name': 'Kerchevskiy', 'cod': 200}\n",
      "{'coord': {'lon': -77.5714, 'lat': 40.5992}, 'weather': [{'id': 701, 'main': 'Mist', 'description': 'mist', 'icon': '50n'}], 'base': 'stations', 'main': {'temp': 69.73, 'feels_like': 71.1, 'temp_min': 65.95, 'temp_max': 72.34, 'pressure': 1016, 'humidity': 100}, 'visibility': 9656, 'wind': {'speed': 0, 'deg': 0}, 'clouds': {'all': 20}, 'dt': 1659152294, 'sys': {'type': 1, 'id': 5732, 'country': 'US', 'sunrise': 1659089058, 'sunset': 1659140939}, 'timezone': -14400, 'id': 5197850, 'name': 'Lewistown', 'cod': 200}\n",
      "{'coord': {'lon': 141.6428, 'lat': 43.9344}, 'weather': [{'id': 804, 'main': 'Clouds', 'description': 'overcast clouds', 'icon': '04d'}], 'base': 'stations', 'main': {'temp': 78.57, 'feels_like': 79.23, 'temp_min': 78.57, 'temp_max': 78.57, 'pressure': 1012, 'humidity': 66, 'sea_level': 1012, 'grnd_level': 1008}, 'visibility': 10000, 'wind': {'speed': 9.51, 'deg': 261, 'gust': 15.9}, 'clouds': {'all': 89}, 'dt': 1659152294, 'sys': {'country': 'JP', 'sunrise': 1659122332, 'sunset': 1659175242}, 'timezone': 32400, 'id': 2128382, 'name': 'Rumoi', 'cod': 200}\n",
      "{'cod': '404', 'message': 'city not found'}\n",
      "City Not Found\n",
      "{'coord': {'lon': 117.6333, 'lat': 3.3}, 'weather': [{'id': 801, 'main': 'Clouds', 'description': 'few clouds', 'icon': '02d'}], 'base': 'stations', 'main': {'temp': 87.3, 'feels_like': 96.37, 'temp_min': 87.3, 'temp_max': 87.3, 'pressure': 1009, 'humidity': 66}, 'visibility': 10000, 'wind': {'speed': 5.75, 'deg': 220}, 'clouds': {'all': 20}, 'dt': 1659152294, 'sys': {'type': 1, 'id': 9378, 'country': 'ID', 'sunrise': 1659132472, 'sunset': 1659176627}, 'timezone': 28800, 'id': 1624725, 'name': 'Tarakan', 'cod': 200}\n",
      "{'coord': {'lon': -54.1333, 'lat': -26.6167}, 'weather': [{'id': 800, 'main': 'Clear', 'description': 'clear sky', 'icon': '01n'}], 'base': 'stations', 'main': {'temp': 40.84, 'feels_like': 40.84, 'temp_min': 40.84, 'temp_max': 40.84, 'pressure': 1020, 'humidity': 95, 'sea_level': 1020, 'grnd_level': 948}, 'visibility': 10000, 'wind': {'speed': 1.59, 'deg': 111, 'gust': 1.7}, 'clouds': {'all': 1}, 'dt': 1659152295, 'sys': {'country': 'AR', 'sunrise': 1659176249, 'sunset': 1659215296}, 'timezone': -10800, 'id': 3428068, 'name': 'San Vicente', 'cod': 200}\n",
      "{'coord': {'lon': 34.7642, 'lat': 31.61}, 'weather': [{'id': 800, 'main': 'Clear', 'description': 'clear sky', 'icon': '01d'}], 'base': 'stations', 'main': {'temp': 74.91, 'feels_like': 75.78, 'temp_min': 74.8, 'temp_max': 78.4, 'pressure': 1008, 'humidity': 78, 'sea_level': 1008, 'grnd_level': 993}, 'visibility': 10000, 'wind': {'speed': 1.19, 'deg': 65, 'gust': 2.04}, 'clouds': {'all': 0}, 'dt': 1659152295, 'sys': {'type': 2, 'id': 2009987, 'country': 'IL', 'sunrise': 1659149725, 'sunset': 1659199150}, 'timezone': 10800, 'id': 293842, 'name': 'Kiryat Gat', 'cod': 200}\n",
      "{'coord': {'lon': 12.3778, 'lat': 64.2457}, 'weather': [{'id': 803, 'main': 'Clouds', 'description': 'broken clouds', 'icon': '04d'}], 'base': 'stations', 'main': {'temp': 54.68, 'feels_like': 53.04, 'temp_min': 54.68, 'temp_max': 54.68, 'pressure': 1019, 'humidity': 68, 'sea_level': 1019, 'grnd_level': 1012}, 'visibility': 10000, 'wind': {'speed': 5.64, 'deg': 85, 'gust': 7.67}, 'clouds': {'all': 73}, 'dt': 1659152295, 'sys': {'country': 'NO', 'sunrise': 1659146958, 'sunset': 1659212662}, 'timezone': 7200, 'id': 3138076, 'name': 'Snåase', 'cod': 200}\n",
      "{'coord': {'lon': 35.3833, 'lat': -23.865}, 'weather': [{'id': 741, 'main': 'Fog', 'description': 'fog', 'icon': '50n'}], 'base': 'stations', 'main': {'temp': 55.38, 'feels_like': 55.33, 'temp_min': 55.38, 'temp_max': 55.38, 'pressure': 1019, 'humidity': 100}, 'visibility': 400, 'wind': {'speed': 0, 'deg': 0}, 'clouds': {'all': 1}, 'dt': 1659152296, 'sys': {'type': 1, 'id': 2200, 'country': 'MZ', 'sunrise': 1659154505, 'sunset': 1659194072}, 'timezone': 7200, 'id': 1045114, 'name': 'Inhambane', 'cod': 200}\n",
      "{'coord': {'lon': -112.8333, 'lat': 31.85}, 'weather': [{'id': 803, 'main': 'Clouds', 'description': 'broken clouds', 'icon': '04n'}], 'base': 'stations', 'main': {'temp': 83.8, 'feels_like': 87.21, 'temp_min': 83.8, 'temp_max': 83.8, 'pressure': 1011, 'humidity': 60, 'sea_level': 1011, 'grnd_level': 966}, 'visibility': 10000, 'wind': {'speed': 3.42, 'deg': 185, 'gust': 4}, 'clouds': {'all': 69}, 'dt': 1659152296, 'sys': {'country': 'MX', 'sunrise': 1659098697, 'sunset': 1659148226}, 'timezone': -25200, 'id': 3982837, 'name': 'Sonoita', 'cod': 200}\n",
      "{'coord': {'lon': 25.0865, 'lat': 31.7561}, 'weather': [{'id': 800, 'main': 'Clear', 'description': 'clear sky', 'icon': '01d'}], 'base': 'stations', 'main': {'temp': 75.51, 'feels_like': 76.51, 'temp_min': 75.51, 'temp_max': 75.51, 'pressure': 1010, 'humidity': 80, 'sea_level': 1010, 'grnd_level': 1006}, 'visibility': 10000, 'wind': {'speed': 9.24, 'deg': 298, 'gust': 11.63}, 'clouds': {'all': 0}, 'dt': 1659152296, 'sys': {'country': 'LY', 'sunrise': 1659152031, 'sunset': 1659201488}, 'timezone': 7200, 'id': 80509, 'name': 'Al Bardīyah', 'cod': 200}\n",
      "{'cod': '404', 'message': 'city not found'}\n",
      "City Not Found\n",
      "{'coord': {'lon': 130.9889, 'lat': -25.2406}, 'weather': [{'id': 804, 'main': 'Clouds', 'description': 'overcast clouds', 'icon': '04d'}], 'base': 'stations', 'main': {'temp': 67.6, 'feels_like': 64.96, 'temp_min': 67.6, 'temp_max': 67.6, 'pressure': 1017, 'humidity': 19, 'sea_level': 1017, 'grnd_level': 959}, 'visibility': 10000, 'wind': {'speed': 11.34, 'deg': 326, 'gust': 13.18}, 'clouds': {'all': 100}, 'dt': 1659152297, 'sys': {'country': 'AU', 'sunrise': 1659131701, 'sunset': 1659170987}, 'timezone': 34200, 'id': 6355222, 'name': 'Yulara', 'cod': 200}\n",
      "{'coord': {'lon': 33.5903, 'lat': 4.7717}, 'weather': [{'id': 501, 'main': 'Rain', 'description': 'moderate rain', 'icon': '10n'}], 'base': 'stations', 'main': {'temp': 68.67, 'feels_like': 69.66, 'temp_min': 68.67, 'temp_max': 68.67, 'pressure': 1013, 'humidity': 94, 'sea_level': 1013, 'grnd_level': 938}, 'visibility': 5437, 'wind': {'speed': 2.59, 'deg': 271, 'gust': 4.36}, 'rain': {'1h': 1.62}, 'clouds': {'all': 100}, 'dt': 1659152297, 'sys': {'country': 'SS', 'sunrise': 1659152523, 'sunset': 1659196915}, 'timezone': 7200, 'id': 372884, 'name': 'Kapoeta', 'cod': 200}\n",
      "{'coord': {'lon': -151.0167, 'lat': -16.7}, 'weather': [{'id': 800, 'main': 'Clear', 'description': 'clear sky', 'icon': '01d'}], 'base': 'stations', 'main': {'temp': 79.23, 'feels_like': 79.23, 'temp_min': 79.23, 'temp_max': 79.23, 'pressure': 1017, 'humidity': 70, 'sea_level': 1017, 'grnd_level': 1017}, 'visibility': 10000, 'wind': {'speed': 21.34, 'deg': 101, 'gust': 24.07}, 'clouds': {'all': 1}, 'dt': 1659152298, 'sys': {'country': 'PF', 'sunrise': 1659112201, 'sunset': 1659153050}, 'timezone': -36000, 'id': 4034496, 'name': 'Fare', 'cod': 200}\n"
     ]
    },
    {
     "name": "stdout",
     "output_type": "stream",
     "text": [
      "{'coord': {'lon': 152.75, 'lat': 61.3833}, 'weather': [{'id': 801, 'main': 'Clouds', 'description': 'few clouds', 'icon': '02d'}], 'base': 'stations', 'main': {'temp': 62.44, 'feels_like': 60.03, 'temp_min': 62.44, 'temp_max': 62.44, 'pressure': 1009, 'humidity': 35, 'sea_level': 1009, 'grnd_level': 951}, 'visibility': 10000, 'wind': {'speed': 0.51, 'deg': 220, 'gust': 1.79}, 'clouds': {'all': 12}, 'dt': 1659152298, 'sys': {'country': 'RU', 'sunrise': 1659114798, 'sunset': 1659177444}, 'timezone': 39600, 'id': 2120769, 'name': 'Talaya', 'cod': 200}\n",
      "{'coord': {'lon': 122.7617, 'lat': 63.8986}, 'weather': [{'id': 803, 'main': 'Clouds', 'description': 'broken clouds', 'icon': '04d'}], 'base': 'stations', 'main': {'temp': 82.15, 'feels_like': 83.08, 'temp_min': 82.15, 'temp_max': 82.15, 'pressure': 999, 'humidity': 51, 'sea_level': 999, 'grnd_level': 989}, 'visibility': 10000, 'wind': {'speed': 5.55, 'deg': 194, 'gust': 7.45}, 'clouds': {'all': 77}, 'dt': 1659152298, 'sys': {'country': 'RU', 'sunrise': 1659120629, 'sunset': 1659186008}, 'timezone': 32400, 'id': 2021017, 'name': 'Kysyl-Syr', 'cod': 200}\n",
      "{'coord': {'lon': -151.2583, 'lat': 60.5544}, 'weather': [{'id': 802, 'main': 'Clouds', 'description': 'scattered clouds', 'icon': '03d'}], 'base': 'stations', 'main': {'temp': 60.93, 'feels_like': 60.1, 'temp_min': 59.05, 'temp_max': 67.03, 'pressure': 1013, 'humidity': 72}, 'visibility': 10000, 'wind': {'speed': 11.5, 'deg': 260}, 'clouds': {'all': 40}, 'dt': 1659152299, 'sys': {'type': 1, 'id': 7680, 'country': 'US', 'sunrise': 1659101722, 'sunset': 1659163645}, 'timezone': -28800, 'id': 5866063, 'name': 'Kenai', 'cod': 200}\n",
      "{'coord': {'lon': 96.37, 'lat': 61.67}, 'weather': [{'id': 802, 'main': 'Clouds', 'description': 'scattered clouds', 'icon': '03d'}], 'base': 'stations', 'main': {'temp': 81.66, 'feels_like': 82.83, 'temp_min': 81.66, 'temp_max': 81.66, 'pressure': 997, 'humidity': 53, 'sea_level': 997, 'grnd_level': 981}, 'visibility': 10000, 'wind': {'speed': 6.33, 'deg': 2, 'gust': 9.46}, 'clouds': {'all': 32}, 'dt': 1659152299, 'sys': {'country': 'RU', 'sunrise': 1659128214, 'sunset': 1659191091}, 'timezone': 25200, 'id': 1510689, 'name': 'Baykit', 'cod': 200}\n",
      "{'coord': {'lon': 10.7002, 'lat': 46.6166}, 'weather': [{'id': 802, 'main': 'Clouds', 'description': 'scattered clouds', 'icon': '03n'}], 'base': 'stations', 'main': {'temp': 57.38, 'feels_like': 57.29, 'temp_min': 53.37, 'temp_max': 59.88, 'pressure': 1021, 'humidity': 95, 'sea_level': 1021, 'grnd_level': 921}, 'visibility': 7712, 'wind': {'speed': 7.78, 'deg': 326, 'gust': 9.15}, 'clouds': {'all': 37}, 'dt': 1659152299, 'sys': {'type': 1, 'id': 6813, 'country': 'IT', 'sunrise': 1659153299, 'sunset': 1659207126}, 'timezone': 7200, 'id': 3175096, 'name': 'Laas', 'cod': 200}\n",
      "{'coord': {'lon': -86.731, 'lat': 21.2311}, 'weather': [{'id': 804, 'main': 'Clouds', 'description': 'overcast clouds', 'icon': '04n'}], 'base': 'stations', 'main': {'temp': 75.16, 'feels_like': 76.1, 'temp_min': 75.16, 'temp_max': 75.25, 'pressure': 1016, 'humidity': 79, 'sea_level': 1016, 'grnd_level': 1016}, 'visibility': 10000, 'wind': {'speed': 12.37, 'deg': 83, 'gust': 17.63}, 'clouds': {'all': 99}, 'dt': 1659152300, 'sys': {'type': 2, 'id': 47730, 'country': 'MX', 'sunrise': 1659093555, 'sunset': 1659140839}, 'timezone': -18000, 'id': 3526756, 'name': 'Isla Mujeres', 'cod': 200}\n",
      "{'coord': {'lon': 21.5606, 'lat': 57.3894}, 'weather': [{'id': 741, 'main': 'Fog', 'description': 'fog', 'icon': '50d'}], 'base': 'stations', 'main': {'temp': 42.73, 'feels_like': 42.73, 'temp_min': 42.73, 'temp_max': 42.73, 'pressure': 1022, 'humidity': 100}, 'visibility': 500, 'wind': {'speed': 0, 'deg': 0}, 'clouds': {'all': 3}, 'dt': 1659152300, 'sys': {'type': 1, 'id': 1877, 'country': 'LV', 'sunrise': 1659147958, 'sunset': 1659207255}, 'timezone': 10800, 'id': 454310, 'name': 'Ventspils', 'cod': 200}\n",
      "{'coord': {'lon': 40.0573, 'lat': 1.7471}, 'weather': [{'id': 803, 'main': 'Clouds', 'description': 'broken clouds', 'icon': '04d'}], 'base': 'stations', 'main': {'temp': 70.74, 'feels_like': 71.04, 'temp_min': 70.74, 'temp_max': 70.74, 'pressure': 1016, 'humidity': 75, 'sea_level': 1016, 'grnd_level': 987}, 'visibility': 10000, 'wind': {'speed': 11.79, 'deg': 162, 'gust': 24.96}, 'clouds': {'all': 59}, 'dt': 1659152300, 'sys': {'country': 'KE', 'sunrise': 1659151216, 'sunset': 1659195118}, 'timezone': 10800, 'id': 178443, 'name': 'Wajir', 'cod': 200}\n",
      "{'coord': {'lon': 71.4789, 'lat': 60.0625}, 'weather': [{'id': 804, 'main': 'Clouds', 'description': 'overcast clouds', 'icon': '04d'}], 'base': 'stations', 'main': {'temp': 74.1, 'feels_like': 73.65, 'temp_min': 74.1, 'temp_max': 74.1, 'pressure': 1013, 'humidity': 52, 'sea_level': 1013, 'grnd_level': 1007}, 'visibility': 10000, 'wind': {'speed': 9.19, 'deg': 3, 'gust': 17.38}, 'clouds': {'all': 95}, 'dt': 1659152301, 'sys': {'country': 'RU', 'sunrise': 1659134935, 'sunset': 1659196317}, 'timezone': 18000, 'id': 1493162, 'name': 'Salym', 'cod': 200}\n",
      "{'coord': {'lon': 117.095, 'lat': -0.583}, 'weather': [{'id': 500, 'main': 'Rain', 'description': 'light rain', 'icon': '10d'}], 'base': 'stations', 'main': {'temp': 84.2, 'feels_like': 93.76, 'temp_min': 84.2, 'temp_max': 84.2, 'pressure': 1008, 'humidity': 78, 'sea_level': 1008, 'grnd_level': 1007}, 'visibility': 10000, 'wind': {'speed': 3.42, 'deg': 235, 'gust': 4.85}, 'rain': {'1h': 0.23}, 'clouds': {'all': 95}, 'dt': 1659152301, 'sys': {'country': 'ID', 'sunrise': 1659132915, 'sunset': 1659176441}, 'timezone': 28800, 'id': 1637510, 'name': 'Loa Janan', 'cod': 200}\n",
      "{'coord': {'lon': 127.6694, 'lat': 26.1247}, 'weather': [{'id': 803, 'main': 'Clouds', 'description': 'broken clouds', 'icon': '04d'}], 'base': 'stations', 'main': {'temp': 89.44, 'feels_like': 102.04, 'temp_min': 88.57, 'temp_max': 89.98, 'pressure': 1001, 'humidity': 74}, 'visibility': 10000, 'wind': {'speed': 8.05, 'deg': 30}, 'clouds': {'all': 75}, 'dt': 1659152144, 'sys': {'type': 1, 'id': 8137, 'country': 'JP', 'sunrise': 1659128022, 'sunset': 1659176259}, 'timezone': 32400, 'id': 1861280, 'name': 'Itoman', 'cod': 200}\n",
      "{'coord': {'lon': -39.2208, 'lat': -17.3411}, 'weather': [{'id': 803, 'main': 'Clouds', 'description': 'broken clouds', 'icon': '04n'}], 'base': 'stations', 'main': {'temp': 69.71, 'feels_like': 70.47, 'temp_min': 69.71, 'temp_max': 69.71, 'pressure': 1014, 'humidity': 87, 'sea_level': 1014, 'grnd_level': 1013}, 'visibility': 10000, 'wind': {'speed': 11.74, 'deg': 4, 'gust': 26.08}, 'clouds': {'all': 79}, 'dt': 1659152302, 'sys': {'country': 'BR', 'sunrise': 1659171811, 'sunset': 1659212576}, 'timezone': -10800, 'id': 3452483, 'name': 'Prado', 'cod': 200}\n",
      "{'coord': {'lon': -83.6712, 'lat': 12.3429}, 'weather': [{'id': 804, 'main': 'Clouds', 'description': 'overcast clouds', 'icon': '04n'}], 'base': 'stations', 'main': {'temp': 78.62, 'feels_like': 80.31, 'temp_min': 78.62, 'temp_max': 78.62, 'pressure': 1013, 'humidity': 88, 'sea_level': 1013, 'grnd_level': 1013}, 'visibility': 10000, 'wind': {'speed': 12.88, 'deg': 58, 'gust': 22.08}, 'clouds': {'all': 94}, 'dt': 1659152302, 'sys': {'country': 'NI', 'sunrise': 1659093627, 'sunset': 1659139299}, 'timezone': -21600, 'id': 3618522, 'name': 'Laguna de Perlas', 'cod': 200}\n",
      "{'coord': {'lon': -9.4156, 'lat': 38.9627}, 'weather': [{'id': 801, 'main': 'Clouds', 'description': 'few clouds', 'icon': '02n'}], 'base': 'stations', 'main': {'temp': 67.26, 'feels_like': 67.96, 'temp_min': 65.8, 'temp_max': 68.77, 'pressure': 1014, 'humidity': 91, 'sea_level': 1014, 'grnd_level': 1011}, 'visibility': 10000, 'wind': {'speed': 9.15, 'deg': 346, 'gust': 13.02}, 'clouds': {'all': 16}, 'dt': 1659152302, 'sys': {'type': 2, 'id': 2038498, 'country': 'PT', 'sunrise': 1659159387, 'sunset': 1659210693}, 'timezone': 3600, 'id': 2268563, 'name': 'Ericeira', 'cod': 200}\n",
      "{'coord': {'lon': 29.9816, 'lat': 55.4624}, 'weather': [{'id': 800, 'main': 'Clear', 'description': 'clear sky', 'icon': '01d'}], 'base': 'stations', 'main': {'temp': 50.23, 'feels_like': 48.67, 'temp_min': 50.11, 'temp_max': 50.23, 'pressure': 1021, 'humidity': 79, 'sea_level': 1021, 'grnd_level': 999}, 'visibility': 10000, 'wind': {'speed': 3.11, 'deg': 301, 'gust': 5.21}, 'clouds': {'all': 6}, 'dt': 1659152303, 'sys': {'type': 2, 'id': 2023989, 'country': 'BY', 'sunrise': 1659146557, 'sunset': 1659204614}, 'timezone': 10800, 'id': 628155, 'name': 'Haradok', 'cod': 200}\n"
     ]
    },
    {
     "name": "stdout",
     "output_type": "stream",
     "text": [
      "{'coord': {'lon': 145.575, 'lat': 43.3236}, 'weather': [{'id': 804, 'main': 'Clouds', 'description': 'overcast clouds', 'icon': '04d'}], 'base': 'stations', 'main': {'temp': 69.26, 'feels_like': 70.02, 'temp_min': 69.26, 'temp_max': 69.26, 'pressure': 1013, 'humidity': 88, 'sea_level': 1013, 'grnd_level': 1010}, 'visibility': 10000, 'wind': {'speed': 12.17, 'deg': 194, 'gust': 15.43}, 'clouds': {'all': 100}, 'dt': 1659152303, 'sys': {'country': 'JP', 'sunrise': 1659121491, 'sunset': 1659174196}, 'timezone': 32400, 'id': 2128975, 'name': 'Nemuro', 'cod': 200}\n",
      "{'coord': {'lon': 40.4939, 'lat': 38.8847}, 'weather': [{'id': 800, 'main': 'Clear', 'description': 'clear sky', 'icon': '01d'}], 'base': 'stations', 'main': {'temp': 78.69, 'feels_like': 77.29, 'temp_min': 78.69, 'temp_max': 78.69, 'pressure': 1008, 'humidity': 22, 'sea_level': 1008, 'grnd_level': 885}, 'visibility': 10000, 'wind': {'speed': 5.3, 'deg': 27, 'gust': 6.71}, 'clouds': {'all': 0}, 'dt': 1659152303, 'sys': {'country': 'TR', 'sunrise': 1659147413, 'sunset': 1659198712}, 'timezone': 10800, 'id': 321082, 'name': 'Bingöl', 'cod': 200}\n",
      "{'coord': {'lon': 43.8608, 'lat': 44.3264}, 'weather': [{'id': 800, 'main': 'Clear', 'description': 'clear sky', 'icon': '01d'}], 'base': 'stations', 'main': {'temp': 78.62, 'feels_like': 78.3, 'temp_min': 78.62, 'temp_max': 78.62, 'pressure': 1013, 'humidity': 45, 'sea_level': 1013, 'grnd_level': 994}, 'visibility': 10000, 'wind': {'speed': 2.62, 'deg': 177, 'gust': 2.84}, 'clouds': {'all': 0}, 'dt': 1659152304, 'sys': {'country': 'RU', 'sunrise': 1659145749, 'sunset': 1659198759}, 'timezone': 10800, 'id': 513970, 'name': 'Otkaznoye', 'cod': 200}\n",
      "{'coord': {'lon': -54.32, 'lat': -30.3364}, 'weather': [{'id': 800, 'main': 'Clear', 'description': 'clear sky', 'icon': '01n'}], 'base': 'stations', 'main': {'temp': 44.15, 'feels_like': 42.75, 'temp_min': 44.15, 'temp_max': 44.15, 'pressure': 1020, 'humidity': 80, 'sea_level': 1020, 'grnd_level': 1005}, 'visibility': 10000, 'wind': {'speed': 3.31, 'deg': 214, 'gust': 3.33}, 'clouds': {'all': 0}, 'dt': 1659152304, 'sys': {'country': 'BR', 'sunrise': 1659176677, 'sunset': 1659214957}, 'timezone': -10800, 'id': 3449099, 'name': 'São Gabriel', 'cod': 200}\n",
      "{'coord': {'lon': -87.5692, 'lat': 33.2098}, 'weather': [{'id': 804, 'main': 'Clouds', 'description': 'overcast clouds', 'icon': '04n'}], 'base': 'stations', 'main': {'temp': 83.98, 'feels_like': 91.78, 'temp_min': 83.98, 'temp_max': 83.98, 'pressure': 1019, 'humidity': 74}, 'visibility': 10000, 'wind': {'speed': 6.91, 'deg': 230}, 'clouds': {'all': 100}, 'dt': 1659152304, 'sys': {'type': 1, 'id': 6001, 'country': 'US', 'sunrise': 1659092467, 'sunset': 1659142330}, 'timezone': -18000, 'id': 4094455, 'name': 'Tuscaloosa', 'cod': 200}\n",
      "{'coord': {'lon': -90.1067, 'lat': 29.8458}, 'weather': [{'id': 802, 'main': 'Clouds', 'description': 'scattered clouds', 'icon': '03n'}], 'base': 'stations', 'main': {'temp': 81.12, 'feels_like': 86.72, 'temp_min': 78.01, 'temp_max': 84.2, 'pressure': 1019, 'humidity': 80}, 'visibility': 10000, 'wind': {'speed': 3.44, 'deg': 290}, 'clouds': {'all': 40}, 'dt': 1659152087, 'sys': {'type': 1, 'id': 5052, 'country': 'US', 'sunrise': 1659093472, 'sunset': 1659142543}, 'timezone': -18000, 'id': 4323873, 'name': 'Estelle', 'cod': 200}\n",
      "{'coord': {'lon': -34.8553, 'lat': -8.0089}, 'weather': [{'id': 803, 'main': 'Clouds', 'description': 'broken clouds', 'icon': '04n'}], 'base': 'stations', 'main': {'temp': 78.53, 'feels_like': 79.99, 'temp_min': 78.53, 'temp_max': 78.53, 'pressure': 1015, 'humidity': 83}, 'visibility': 9000, 'wind': {'speed': 4.61, 'deg': 130}, 'clouds': {'all': 75}, 'dt': 1659152305, 'sys': {'type': 1, 'id': 8426, 'country': 'BR', 'sunrise': 1659169981, 'sunset': 1659212310}, 'timezone': -10800, 'id': 3393536, 'name': 'Olinda', 'cod': 200}\n",
      "{'coord': {'lon': 69.6, 'lat': 42.3}, 'weather': [{'id': 800, 'main': 'Clear', 'description': 'clear sky', 'icon': '01d'}], 'base': 'stations', 'main': {'temp': 77.59, 'feels_like': 77.4, 'temp_min': 77.59, 'temp_max': 77.59, 'pressure': 1009, 'humidity': 50}, 'visibility': 10000, 'wind': {'speed': 4.47, 'deg': 320}, 'clouds': {'all': 0}, 'dt': 1659152305, 'sys': {'type': 1, 'id': 8824, 'country': 'KZ', 'sunrise': 1659139906, 'sunset': 1659192248}, 'timezone': 21600, 'id': 1518980, 'name': 'Shymkent', 'cod': 200}\n",
      "{'coord': {'lon': 81.8833, 'lat': 24.6833}, 'weather': [{'id': 803, 'main': 'Clouds', 'description': 'broken clouds', 'icon': '04d'}], 'base': 'stations', 'main': {'temp': 86.81, 'feels_like': 93.49, 'temp_min': 86.81, 'temp_max': 86.81, 'pressure': 1006, 'humidity': 62, 'sea_level': 1006, 'grnd_level': 968}, 'visibility': 10000, 'wind': {'speed': 8.19, 'deg': 247, 'gust': 8.3}, 'clouds': {'all': 52}, 'dt': 1659152305, 'sys': {'country': 'IN', 'sunrise': 1659139162, 'sunset': 1659187096}, 'timezone': 19800, 'id': 1263300, 'name': 'Mauganj', 'cod': 200}\n",
      "{'coord': {'lon': -81.4409, 'lat': 27.4956}, 'weather': [{'id': 800, 'main': 'Clear', 'description': 'clear sky', 'icon': '01n'}], 'base': 'stations', 'main': {'temp': 79.45, 'feels_like': 79.45, 'temp_min': 77.76, 'temp_max': 80.89, 'pressure': 1020, 'humidity': 82}, 'visibility': 10000, 'wind': {'speed': 8.05, 'deg': 80}, 'clouds': {'all': 0}, 'dt': 1659152306, 'sys': {'type': 2, 'id': 2008854, 'country': 'US', 'sunrise': 1659091650, 'sunset': 1659140205}, 'timezone': -14400, 'id': 4172383, 'name': 'Sebring', 'cod': 200}\n",
      "{'coord': {'lon': 113.2792, 'lat': 46.6806}, 'weather': [{'id': 500, 'main': 'Rain', 'description': 'light rain', 'icon': '10d'}], 'base': 'stations', 'main': {'temp': 78.12, 'feels_like': 77.59, 'temp_min': 78.12, 'temp_max': 78.12, 'pressure': 1001, 'humidity': 42, 'sea_level': 1001, 'grnd_level': 896}, 'visibility': 10000, 'wind': {'speed': 19.82, 'deg': 232, 'gust': 24.32}, 'rain': {'1h': 0.18}, 'clouds': {'all': 97}, 'dt': 1659152306, 'sys': {'country': 'MN', 'sunrise': 1659128647, 'sunset': 1659182541}, 'timezone': 28800, 'id': 2032614, 'name': 'Baruun-Urt', 'cod': 200}\n",
      "{'coord': {'lon': 12.5667, 'lat': 53.7833}, 'weather': [{'id': 804, 'main': 'Clouds', 'description': 'overcast clouds', 'icon': '04d'}], 'base': 'stations', 'main': {'temp': 57.36, 'feels_like': 55.81, 'temp_min': 57.36, 'temp_max': 57.36, 'pressure': 1017, 'humidity': 64, 'sea_level': 1017, 'grnd_level': 1014}, 'visibility': 10000, 'wind': {'speed': 7.02, 'deg': 106, 'gust': 15.77}, 'clouds': {'all': 100}, 'dt': 1659152306, 'sys': {'type': 1, 'id': 1847, 'country': 'DE', 'sunrise': 1659151224, 'sunset': 1659208305}, 'timezone': 7200, 'id': 2823398, 'name': 'Teterow', 'cod': 200}\n",
      "{'coord': {'lon': 41.9093, 'lat': 34.4816}, 'weather': [{'id': 802, 'main': 'Clouds', 'description': 'scattered clouds', 'icon': '03d'}], 'base': 'stations', 'main': {'temp': 91.85, 'feels_like': 87.48, 'temp_min': 91.85, 'temp_max': 91.85, 'pressure': 1004, 'humidity': 11, 'sea_level': 1004, 'grnd_level': 985}, 'visibility': 10000, 'wind': {'speed': 7.31, 'deg': 289, 'gust': 11.07}, 'clouds': {'all': 36}, 'dt': 1659152307, 'sys': {'country': 'IQ', 'sunrise': 1659147662, 'sunset': 1659197783}, 'timezone': 10800, 'id': 92004, 'name': 'Rāwah', 'cod': 200}\n",
      "{'coord': {'lon': 89.7897, 'lat': 22.3082}, 'weather': [{'id': 804, 'main': 'Clouds', 'description': 'overcast clouds', 'icon': '04d'}], 'base': 'stations', 'main': {'temp': 90.21, 'feels_like': 101.97, 'temp_min': 90.21, 'temp_max': 90.21, 'pressure': 1006, 'humidity': 63, 'sea_level': 1006, 'grnd_level': 1006}, 'visibility': 10000, 'wind': {'speed': 6.04, 'deg': 214, 'gust': 6.6}, 'clouds': {'all': 93}, 'dt': 1659152307, 'sys': {'country': 'BD', 'sunrise': 1659137499, 'sunset': 1659184964}, 'timezone': 21600, 'id': 1185239, 'name': 'Sarankhola', 'cod': 200}\n",
      "{'coord': {'lon': 86.7667, 'lat': 20.7833}, 'weather': [{'id': 803, 'main': 'Clouds', 'description': 'broken clouds', 'icon': '04d'}], 'base': 'stations', 'main': {'temp': 91.6, 'feels_like': 102.34, 'temp_min': 91.6, 'temp_max': 91.6, 'pressure': 1006, 'humidity': 58, 'sea_level': 1006, 'grnd_level': 1006}, 'visibility': 10000, 'wind': {'speed': 9.42, 'deg': 215, 'gust': 9.93}, 'clouds': {'all': 84}, 'dt': 1659152307, 'sys': {'country': 'IN', 'sunrise': 1659138371, 'sunset': 1659185543}, 'timezone': 19800, 'id': 1274761, 'name': 'Chāndbāli', 'cod': 200}\n"
     ]
    },
    {
     "name": "stdout",
     "output_type": "stream",
     "text": [
      "{'coord': {'lon': -40.2925, 'lat': -20.3297}, 'weather': [{'id': 802, 'main': 'Clouds', 'description': 'scattered clouds', 'icon': '03n'}], 'base': 'stations', 'main': {'temp': 70.95, 'feels_like': 71.51, 'temp_min': 70.95, 'temp_max': 73.35, 'pressure': 1016, 'humidity': 80}, 'visibility': 10000, 'wind': {'speed': 8.05, 'deg': 200}, 'clouds': {'all': 40}, 'dt': 1659152308, 'sys': {'type': 2, 'id': 2012383, 'country': 'BR', 'sunrise': 1659172334, 'sunset': 1659212568}, 'timezone': -10800, 'id': 3445026, 'name': 'Vila Velha', 'cod': 200}\n",
      "{'coord': {'lon': 18.75, 'lat': -28.0167}, 'weather': [{'id': 801, 'main': 'Clouds', 'description': 'few clouds', 'icon': '02n'}], 'base': 'stations', 'main': {'temp': 41.41, 'feels_like': 38.32, 'temp_min': 41.41, 'temp_max': 41.41, 'pressure': 1022, 'humidity': 87, 'sea_level': 1022, 'grnd_level': 903}, 'visibility': 10000, 'wind': {'speed': 4.76, 'deg': 253, 'gust': 4.76}, 'clouds': {'all': 22}, 'dt': 1659152308, 'sys': {'country': 'NA', 'sunrise': 1659158905, 'sunset': 1659197656}, 'timezone': 7200, 'id': 3356343, 'name': 'Karasburg', 'cod': 200}\n",
      "{'coord': {'lon': 152.2633, 'lat': -4.352}, 'weather': [{'id': 803, 'main': 'Clouds', 'description': 'broken clouds', 'icon': '04d'}], 'base': 'stations', 'main': {'temp': 85.41, 'feels_like': 87.57, 'temp_min': 85.41, 'temp_max': 85.41, 'pressure': 1008, 'humidity': 52, 'sea_level': 1008, 'grnd_level': 997}, 'visibility': 10000, 'wind': {'speed': 4.61, 'deg': 56, 'gust': 4.56}, 'clouds': {'all': 68}, 'dt': 1659152309, 'sys': {'country': 'PG', 'sunrise': 1659124780, 'sunset': 1659167696}, 'timezone': 36000, 'id': 2093685, 'name': 'Kokopo', 'cod': 200}\n",
      "{'coord': {'lon': 37.3908, 'lat': 11.5936}, 'weather': [{'id': 500, 'main': 'Rain', 'description': 'light rain', 'icon': '10d'}], 'base': 'stations', 'main': {'temp': 59.76, 'feels_like': 59.76, 'temp_min': 59.76, 'temp_max': 59.76, 'pressure': 1015, 'humidity': 92, 'sea_level': 1015, 'grnd_level': 825}, 'visibility': 10000, 'wind': {'speed': 3.04, 'deg': 178, 'gust': 3.4}, 'rain': {'1h': 0.15}, 'clouds': {'all': 94}, 'dt': 1659152309, 'sys': {'country': 'ET', 'sunrise': 1659151045, 'sunset': 1659196569}, 'timezone': 10800, 'id': 342884, 'name': 'Bahir Dar', 'cod': 200}\n",
      "{'coord': {'lon': 12.6113, 'lat': 13.3154}, 'weather': [{'id': 500, 'main': 'Rain', 'description': 'light rain', 'icon': '10n'}], 'base': 'stations', 'main': {'temp': 75.11, 'feels_like': 76.23, 'temp_min': 75.11, 'temp_max': 75.11, 'pressure': 1012, 'humidity': 83, 'sea_level': 1012, 'grnd_level': 977}, 'visibility': 10000, 'wind': {'speed': 18.1, 'deg': 142, 'gust': 23.78}, 'rain': {'1h': 0.36}, 'clouds': {'all': 100}, 'dt': 1659152309, 'sys': {'country': 'NE', 'sunrise': 1659156845, 'sunset': 1659202663}, 'timezone': 3600, 'id': 2445704, 'name': 'Diffa', 'cod': 200}\n",
      "{'coord': {'lon': 101.7667, 'lat': 36.6167}, 'weather': [{'id': 800, 'main': 'Clear', 'description': 'clear sky', 'icon': '01d'}], 'base': 'stations', 'main': {'temp': 76.8, 'feels_like': 76.21, 'temp_min': 76.8, 'temp_max': 76.8, 'pressure': 772, 'humidity': 43}, 'visibility': 10000, 'wind': {'speed': 2.98, 'deg': 31, 'gust': 3.09}, 'clouds': {'all': 0}, 'dt': 1659152310, 'sys': {'type': 2, 'id': 2074649, 'country': 'CN', 'sunrise': 1659133012, 'sunset': 1659183702}, 'timezone': 28800, 'id': 1788852, 'name': 'Xining', 'cod': 200}\n",
      "{'coord': {'lon': 112.9333, 'lat': 2.0167}, 'weather': [{'id': 500, 'main': 'Rain', 'description': 'light rain', 'icon': '10d'}], 'base': 'stations', 'main': {'temp': 83.66, 'feels_like': 93.06, 'temp_min': 83.66, 'temp_max': 83.66, 'pressure': 1009, 'humidity': 80, 'sea_level': 1009, 'grnd_level': 1005}, 'visibility': 10000, 'wind': {'speed': 1.21, 'deg': 162, 'gust': 1.63}, 'rain': {'1h': 0.19}, 'clouds': {'all': 98}, 'dt': 1659152310, 'sys': {'country': 'MY', 'sunrise': 1659133704, 'sunset': 1659177650}, 'timezone': 28800, 'id': 1737185, 'name': 'Kapit', 'cod': 200}\n",
      "{'coord': {'lon': 29.2228, 'lat': -1.6792}, 'weather': [{'id': 500, 'main': 'Rain', 'description': 'light rain', 'icon': '10n'}], 'base': 'stations', 'main': {'temp': 61.9, 'feels_like': 61.79, 'temp_min': 61.9, 'temp_max': 61.9, 'pressure': 1016, 'humidity': 85, 'sea_level': 1016, 'grnd_level': 854}, 'visibility': 10000, 'wind': {'speed': 1.48, 'deg': 62, 'gust': 1.77}, 'rain': {'1h': 0.13}, 'clouds': {'all': 59}, 'dt': 1659152310, 'sys': {'country': 'CD', 'sunrise': 1659154092, 'sunset': 1659197442}, 'timezone': 7200, 'id': 216281, 'name': 'Goma', 'cod': 200}\n",
      "{'coord': {'lon': 32.907, 'lat': 24.0934}, 'weather': [{'id': 800, 'main': 'Clear', 'description': 'clear sky', 'icon': '01d'}], 'base': 'stations', 'main': {'temp': 87.1, 'feels_like': 83.8, 'temp_min': 87.1, 'temp_max': 87.1, 'pressure': 1006, 'humidity': 21}, 'visibility': 10000, 'wind': {'speed': 3.44, 'deg': 20}, 'clouds': {'all': 0}, 'dt': 1659152311, 'sys': {'type': 1, 'id': 2526, 'country': 'EG', 'sunrise': 1659150979, 'sunset': 1659198787}, 'timezone': 7200, 'id': 359792, 'name': 'Aswān', 'cod': 200}\n",
      "{'coord': {'lon': 173.1667, 'lat': -35.1667}, 'weather': [{'id': 803, 'main': 'Clouds', 'description': 'broken clouds', 'icon': '04d'}], 'base': 'stations', 'main': {'temp': 59.47, 'feels_like': 58.35, 'temp_min': 59.47, 'temp_max': 59.47, 'pressure': 1013, 'humidity': 69, 'sea_level': 1013, 'grnd_level': 1011}, 'visibility': 10000, 'wind': {'speed': 11.36, 'deg': 348, 'gust': 18.86}, 'clouds': {'all': 60}, 'dt': 1659152311, 'sys': {'country': 'NZ', 'sunrise': 1659122656, 'sunset': 1659159786}, 'timezone': 43200, 'id': 2194098, 'name': 'Ahipara', 'cod': 200}\n",
      "{'coord': {'lon': -83.331, 'lat': 42.3256}, 'weather': [{'id': 800, 'main': 'Clear', 'description': 'clear sky', 'icon': '01n'}], 'base': 'stations', 'main': {'temp': 68.32, 'feels_like': 67.86, 'temp_min': 61.92, 'temp_max': 72.86, 'pressure': 1018, 'humidity': 64}, 'visibility': 10000, 'wind': {'speed': 9.22, 'deg': 310}, 'clouds': {'all': 0}, 'dt': 1659152191, 'sys': {'type': 2, 'id': 2021709, 'country': 'US', 'sunrise': 1659090170, 'sunset': 1659142592}, 'timezone': -14400, 'id': 4993659, 'name': 'Garden City', 'cod': 200}\n",
      "{'coord': {'lon': -55.8661, 'lat': -1.7656}, 'weather': [{'id': 803, 'main': 'Clouds', 'description': 'broken clouds', 'icon': '04n'}], 'base': 'stations', 'main': {'temp': 76.28, 'feels_like': 77.36, 'temp_min': 76.28, 'temp_max': 76.28, 'pressure': 1012, 'humidity': 80, 'sea_level': 1012, 'grnd_level': 1009}, 'visibility': 10000, 'wind': {'speed': 3.09, 'deg': 354, 'gust': 5.44}, 'clouds': {'all': 65}, 'dt': 1659152311, 'sys': {'country': 'BR', 'sunrise': 1659174520, 'sunset': 1659217857}, 'timezone': -10800, 'id': 3393471, 'name': 'Oriximiná', 'cod': 200}\n",
      "{'coord': {'lon': 27.2453, 'lat': 31.3525}, 'weather': [{'id': 800, 'main': 'Clear', 'description': 'clear sky', 'icon': '01d'}], 'base': 'stations', 'main': {'temp': 75.61, 'feels_like': 76.12, 'temp_min': 75.61, 'temp_max': 75.61, 'pressure': 1009, 'humidity': 69, 'sea_level': 1009, 'grnd_level': 1009}, 'visibility': 10000, 'wind': {'speed': 6.17, 'deg': 284, 'gust': 6.4}, 'clouds': {'all': 0}, 'dt': 1659152312, 'sys': {'country': 'EG', 'sunrise': 1659151560, 'sunset': 1659200924}, 'timezone': 7200, 'id': 352733, 'name': 'Marsá Maţrūḩ', 'cod': 200}\n"
     ]
    }
   ],
   "source": [
    "# Loop through the list of cities and perform a request for data on each\n",
    "for city in cities:\n",
    "    try:\n",
    "        lat.append(response[\"coord\"][\"lat\"])\n",
    "        temp.append(response['main']['temp'])\n",
    "        humidity.append(response['main']['humidity'])\n",
    "        cloudiness.append(response['clouds']['all'])\n",
    "        windspeed.append(response['wind']['speed'])\n",
    "        country.append(response['sys']['country'])\n",
    "        name.append(response['name'])\n",
    "    except KeyError:\n",
    "        print(\"City Not Found\")\n",
    "        pass\n",
    "        \n",
    "    response = requests.get(query_url + city).json()\n",
    "    print(response)"
   ]
  },
  {
   "cell_type": "code",
   "execution_count": 7,
   "metadata": {},
   "outputs": [],
   "source": [
    "city_data_df = pd.DataFrame({'City': name, \n",
    "                            'Latitude': lat, \n",
    "                            'Temperature': temp, \n",
    "                            'Humidity': humidity, \n",
    "                            'Cloudiness': cloudiness, \n",
    "                            'Wind Speed': windspeed, \n",
    "                            'Country': country})"
   ]
  },
  {
   "cell_type": "markdown",
   "metadata": {},
   "source": [
    "### Convert Raw Data to DataFrame\n",
    "* Export the city data into a .csv.\n",
    "* Display the DataFrame"
   ]
  },
  {
   "cell_type": "code",
   "execution_count": 8,
   "metadata": {},
   "outputs": [],
   "source": [
    "# Save data to csv\n",
    "\n",
    "city_data_df.to_csv(\"city_data.csv\", encoding=\"utf-8\", index=False)"
   ]
  },
  {
   "cell_type": "code",
   "execution_count": 9,
   "metadata": {
    "scrolled": true
   },
   "outputs": [
    {
     "data": {
      "text/html": [
       "<div>\n",
       "<style scoped>\n",
       "    .dataframe tbody tr th:only-of-type {\n",
       "        vertical-align: middle;\n",
       "    }\n",
       "\n",
       "    .dataframe tbody tr th {\n",
       "        vertical-align: top;\n",
       "    }\n",
       "\n",
       "    .dataframe thead th {\n",
       "        text-align: right;\n",
       "    }\n",
       "</style>\n",
       "<table border=\"1\" class=\"dataframe\">\n",
       "  <thead>\n",
       "    <tr style=\"text-align: right;\">\n",
       "      <th></th>\n",
       "      <th>City</th>\n",
       "      <th>Latitude</th>\n",
       "      <th>Temperature</th>\n",
       "      <th>Humidity</th>\n",
       "      <th>Cloudiness</th>\n",
       "      <th>Wind Speed</th>\n",
       "      <th>Country</th>\n",
       "    </tr>\n",
       "  </thead>\n",
       "  <tbody>\n",
       "    <tr>\n",
       "      <th>0</th>\n",
       "      <td>Hermanus</td>\n",
       "      <td>-34.4187</td>\n",
       "      <td>44.80</td>\n",
       "      <td>77</td>\n",
       "      <td>99</td>\n",
       "      <td>9.40</td>\n",
       "      <td>ZA</td>\n",
       "    </tr>\n",
       "    <tr>\n",
       "      <th>1</th>\n",
       "      <td>Atuona</td>\n",
       "      <td>-9.8000</td>\n",
       "      <td>77.18</td>\n",
       "      <td>70</td>\n",
       "      <td>5</td>\n",
       "      <td>18.32</td>\n",
       "      <td>PF</td>\n",
       "    </tr>\n",
       "    <tr>\n",
       "      <th>2</th>\n",
       "      <td>Chokurdakh</td>\n",
       "      <td>70.6333</td>\n",
       "      <td>64.87</td>\n",
       "      <td>42</td>\n",
       "      <td>70</td>\n",
       "      <td>10.29</td>\n",
       "      <td>RU</td>\n",
       "    </tr>\n",
       "    <tr>\n",
       "      <th>3</th>\n",
       "      <td>Solnechnyy</td>\n",
       "      <td>50.7214</td>\n",
       "      <td>73.94</td>\n",
       "      <td>90</td>\n",
       "      <td>97</td>\n",
       "      <td>6.38</td>\n",
       "      <td>RU</td>\n",
       "    </tr>\n",
       "    <tr>\n",
       "      <th>4</th>\n",
       "      <td>Celestún</td>\n",
       "      <td>20.8667</td>\n",
       "      <td>77.23</td>\n",
       "      <td>82</td>\n",
       "      <td>7</td>\n",
       "      <td>13.71</td>\n",
       "      <td>MX</td>\n",
       "    </tr>\n",
       "    <tr>\n",
       "      <th>...</th>\n",
       "      <td>...</td>\n",
       "      <td>...</td>\n",
       "      <td>...</td>\n",
       "      <td>...</td>\n",
       "      <td>...</td>\n",
       "      <td>...</td>\n",
       "      <td>...</td>\n",
       "    </tr>\n",
       "    <tr>\n",
       "      <th>582</th>\n",
       "      <td>Goma</td>\n",
       "      <td>-1.6792</td>\n",
       "      <td>61.90</td>\n",
       "      <td>85</td>\n",
       "      <td>59</td>\n",
       "      <td>1.48</td>\n",
       "      <td>CD</td>\n",
       "    </tr>\n",
       "    <tr>\n",
       "      <th>583</th>\n",
       "      <td>Aswān</td>\n",
       "      <td>24.0934</td>\n",
       "      <td>87.10</td>\n",
       "      <td>21</td>\n",
       "      <td>0</td>\n",
       "      <td>3.44</td>\n",
       "      <td>EG</td>\n",
       "    </tr>\n",
       "    <tr>\n",
       "      <th>584</th>\n",
       "      <td>Ahipara</td>\n",
       "      <td>-35.1667</td>\n",
       "      <td>59.47</td>\n",
       "      <td>69</td>\n",
       "      <td>60</td>\n",
       "      <td>11.36</td>\n",
       "      <td>NZ</td>\n",
       "    </tr>\n",
       "    <tr>\n",
       "      <th>585</th>\n",
       "      <td>Garden City</td>\n",
       "      <td>42.3256</td>\n",
       "      <td>68.32</td>\n",
       "      <td>64</td>\n",
       "      <td>0</td>\n",
       "      <td>9.22</td>\n",
       "      <td>US</td>\n",
       "    </tr>\n",
       "    <tr>\n",
       "      <th>586</th>\n",
       "      <td>Oriximiná</td>\n",
       "      <td>-1.7656</td>\n",
       "      <td>76.28</td>\n",
       "      <td>80</td>\n",
       "      <td>65</td>\n",
       "      <td>3.09</td>\n",
       "      <td>BR</td>\n",
       "    </tr>\n",
       "  </tbody>\n",
       "</table>\n",
       "<p>587 rows × 7 columns</p>\n",
       "</div>"
      ],
      "text/plain": [
       "            City  Latitude  Temperature  Humidity  Cloudiness  Wind Speed  \\\n",
       "0       Hermanus  -34.4187        44.80        77          99        9.40   \n",
       "1         Atuona   -9.8000        77.18        70           5       18.32   \n",
       "2     Chokurdakh   70.6333        64.87        42          70       10.29   \n",
       "3     Solnechnyy   50.7214        73.94        90          97        6.38   \n",
       "4       Celestún   20.8667        77.23        82           7       13.71   \n",
       "..           ...       ...          ...       ...         ...         ...   \n",
       "582         Goma   -1.6792        61.90        85          59        1.48   \n",
       "583        Aswān   24.0934        87.10        21           0        3.44   \n",
       "584      Ahipara  -35.1667        59.47        69          60       11.36   \n",
       "585  Garden City   42.3256        68.32        64           0        9.22   \n",
       "586    Oriximiná   -1.7656        76.28        80          65        3.09   \n",
       "\n",
       "    Country  \n",
       "0        ZA  \n",
       "1        PF  \n",
       "2        RU  \n",
       "3        RU  \n",
       "4        MX  \n",
       "..      ...  \n",
       "582      CD  \n",
       "583      EG  \n",
       "584      NZ  \n",
       "585      US  \n",
       "586      BR  \n",
       "\n",
       "[587 rows x 7 columns]"
      ]
     },
     "execution_count": 9,
     "metadata": {},
     "output_type": "execute_result"
    }
   ],
   "source": [
    "city_data_df"
   ]
  },
  {
   "cell_type": "code",
   "execution_count": 10,
   "metadata": {},
   "outputs": [
    {
     "data": {
      "text/html": [
       "<div>\n",
       "<style scoped>\n",
       "    .dataframe tbody tr th:only-of-type {\n",
       "        vertical-align: middle;\n",
       "    }\n",
       "\n",
       "    .dataframe tbody tr th {\n",
       "        vertical-align: top;\n",
       "    }\n",
       "\n",
       "    .dataframe thead th {\n",
       "        text-align: right;\n",
       "    }\n",
       "</style>\n",
       "<table border=\"1\" class=\"dataframe\">\n",
       "  <thead>\n",
       "    <tr style=\"text-align: right;\">\n",
       "      <th></th>\n",
       "      <th>City</th>\n",
       "      <th>Latitude</th>\n",
       "      <th>Temperature</th>\n",
       "      <th>Humidity</th>\n",
       "      <th>Cloudiness</th>\n",
       "      <th>Wind Speed</th>\n",
       "      <th>Country</th>\n",
       "    </tr>\n",
       "  </thead>\n",
       "  <tbody>\n",
       "    <tr>\n",
       "      <th>0</th>\n",
       "      <td>Hermanus</td>\n",
       "      <td>-34.4187</td>\n",
       "      <td>44.80</td>\n",
       "      <td>77</td>\n",
       "      <td>99</td>\n",
       "      <td>9.40</td>\n",
       "      <td>ZA</td>\n",
       "    </tr>\n",
       "    <tr>\n",
       "      <th>1</th>\n",
       "      <td>Atuona</td>\n",
       "      <td>-9.8000</td>\n",
       "      <td>77.18</td>\n",
       "      <td>70</td>\n",
       "      <td>5</td>\n",
       "      <td>18.32</td>\n",
       "      <td>PF</td>\n",
       "    </tr>\n",
       "    <tr>\n",
       "      <th>2</th>\n",
       "      <td>Chokurdakh</td>\n",
       "      <td>70.6333</td>\n",
       "      <td>64.87</td>\n",
       "      <td>42</td>\n",
       "      <td>70</td>\n",
       "      <td>10.29</td>\n",
       "      <td>RU</td>\n",
       "    </tr>\n",
       "    <tr>\n",
       "      <th>3</th>\n",
       "      <td>Solnechnyy</td>\n",
       "      <td>50.7214</td>\n",
       "      <td>73.94</td>\n",
       "      <td>90</td>\n",
       "      <td>97</td>\n",
       "      <td>6.38</td>\n",
       "      <td>RU</td>\n",
       "    </tr>\n",
       "    <tr>\n",
       "      <th>4</th>\n",
       "      <td>Celestún</td>\n",
       "      <td>20.8667</td>\n",
       "      <td>77.23</td>\n",
       "      <td>82</td>\n",
       "      <td>7</td>\n",
       "      <td>13.71</td>\n",
       "      <td>MX</td>\n",
       "    </tr>\n",
       "    <tr>\n",
       "      <th>...</th>\n",
       "      <td>...</td>\n",
       "      <td>...</td>\n",
       "      <td>...</td>\n",
       "      <td>...</td>\n",
       "      <td>...</td>\n",
       "      <td>...</td>\n",
       "      <td>...</td>\n",
       "    </tr>\n",
       "    <tr>\n",
       "      <th>582</th>\n",
       "      <td>Goma</td>\n",
       "      <td>-1.6792</td>\n",
       "      <td>61.90</td>\n",
       "      <td>85</td>\n",
       "      <td>59</td>\n",
       "      <td>1.48</td>\n",
       "      <td>CD</td>\n",
       "    </tr>\n",
       "    <tr>\n",
       "      <th>583</th>\n",
       "      <td>Aswān</td>\n",
       "      <td>24.0934</td>\n",
       "      <td>87.10</td>\n",
       "      <td>21</td>\n",
       "      <td>0</td>\n",
       "      <td>3.44</td>\n",
       "      <td>EG</td>\n",
       "    </tr>\n",
       "    <tr>\n",
       "      <th>584</th>\n",
       "      <td>Ahipara</td>\n",
       "      <td>-35.1667</td>\n",
       "      <td>59.47</td>\n",
       "      <td>69</td>\n",
       "      <td>60</td>\n",
       "      <td>11.36</td>\n",
       "      <td>NZ</td>\n",
       "    </tr>\n",
       "    <tr>\n",
       "      <th>585</th>\n",
       "      <td>Garden City</td>\n",
       "      <td>42.3256</td>\n",
       "      <td>68.32</td>\n",
       "      <td>64</td>\n",
       "      <td>0</td>\n",
       "      <td>9.22</td>\n",
       "      <td>US</td>\n",
       "    </tr>\n",
       "    <tr>\n",
       "      <th>586</th>\n",
       "      <td>Oriximiná</td>\n",
       "      <td>-1.7656</td>\n",
       "      <td>76.28</td>\n",
       "      <td>80</td>\n",
       "      <td>65</td>\n",
       "      <td>3.09</td>\n",
       "      <td>BR</td>\n",
       "    </tr>\n",
       "  </tbody>\n",
       "</table>\n",
       "<p>586 rows × 7 columns</p>\n",
       "</div>"
      ],
      "text/plain": [
       "            City  Latitude  Temperature  Humidity  Cloudiness  Wind Speed  \\\n",
       "0       Hermanus  -34.4187        44.80        77          99        9.40   \n",
       "1         Atuona   -9.8000        77.18        70           5       18.32   \n",
       "2     Chokurdakh   70.6333        64.87        42          70       10.29   \n",
       "3     Solnechnyy   50.7214        73.94        90          97        6.38   \n",
       "4       Celestún   20.8667        77.23        82           7       13.71   \n",
       "..           ...       ...          ...       ...         ...         ...   \n",
       "582         Goma   -1.6792        61.90        85          59        1.48   \n",
       "583        Aswān   24.0934        87.10        21           0        3.44   \n",
       "584      Ahipara  -35.1667        59.47        69          60       11.36   \n",
       "585  Garden City   42.3256        68.32        64           0        9.22   \n",
       "586    Oriximiná   -1.7656        76.28        80          65        3.09   \n",
       "\n",
       "    Country  \n",
       "0        ZA  \n",
       "1        PF  \n",
       "2        RU  \n",
       "3        RU  \n",
       "4        MX  \n",
       "..      ...  \n",
       "582      CD  \n",
       "583      EG  \n",
       "584      NZ  \n",
       "585      US  \n",
       "586      BR  \n",
       "\n",
       "[586 rows x 7 columns]"
      ]
     },
     "execution_count": 10,
     "metadata": {},
     "output_type": "execute_result"
    }
   ],
   "source": [
    "city_data_df.drop_duplicates()"
   ]
  },
  {
   "cell_type": "markdown",
   "metadata": {},
   "source": [
    "# <span style=\"color: blue;\">CURRENTLY</span> <span style=\"color: green;\">WORKING</span> <span style=\"color: red;\">HERE</span>"
   ]
  },
  {
   "cell_type": "code",
   "execution_count": 11,
   "metadata": {},
   "outputs": [
    {
     "ename": "TypeError",
     "evalue": "cannot unpack non-iterable bool object",
     "output_type": "error",
     "traceback": [
      "\u001b[1;31m---------------------------------------------------------------------------\u001b[0m",
      "\u001b[1;31mTypeError\u001b[0m                                 Traceback (most recent call last)",
      "Input \u001b[1;32mIn [11]\u001b[0m, in \u001b[0;36m<cell line: 1>\u001b[1;34m()\u001b[0m\n\u001b[1;32m----> 1\u001b[0m city_data_df([\u001b[38;5;124m\"\u001b[39m\u001b[38;5;124mHumidity\u001b[39m\u001b[38;5;124m\"\u001b[39m])\u001b[38;5;241m.\u001b[39msort, ascending\u001b[38;5;241m=\u001b[39m\u001b[38;5;28;01mFalse\u001b[39;00m\n",
      "\u001b[1;31mTypeError\u001b[0m: cannot unpack non-iterable bool object"
     ]
    }
   ],
   "source": [
    "city_data_df([\"Humidity\"]).sort, ascending=False"
   ]
  },
  {
   "cell_type": "code",
   "execution_count": null,
   "metadata": {},
   "outputs": [],
   "source": []
  },
  {
   "cell_type": "markdown",
   "metadata": {},
   "source": [
    "## Inspect the data and remove the cities where the humidity > 100%.\n",
    "----\n",
    "Skip this step if there are no cities that have humidity > 100%. "
   ]
  },
  {
   "cell_type": "code",
   "execution_count": null,
   "metadata": {},
   "outputs": [],
   "source": []
  },
  {
   "cell_type": "code",
   "execution_count": null,
   "metadata": {},
   "outputs": [],
   "source": [
    "#  Get the indices of cities that have humidity over 100%.\n"
   ]
  },
  {
   "cell_type": "code",
   "execution_count": null,
   "metadata": {},
   "outputs": [],
   "source": [
    "# Make a new DataFrame equal to the city data to drop all humidity outliers by index.\n",
    "# Passing \"inplace=False\" will make a copy of the city_data DataFrame, which we call \"clean_city_data\".\n"
   ]
  },
  {
   "cell_type": "code",
   "execution_count": null,
   "metadata": {},
   "outputs": [],
   "source": [
    "\n"
   ]
  },
  {
   "cell_type": "markdown",
   "metadata": {},
   "source": [
    "## Plotting the Data\n",
    "* Use proper labeling of the plots using plot titles (including date of analysis) and axes labels.\n",
    "* Save the plotted figures as .pngs."
   ]
  },
  {
   "cell_type": "markdown",
   "metadata": {},
   "source": [
    "## <span style=\"color: red;\">EDIT </span>Latitude vs. Temperature Plot"
   ]
  },
  {
   "cell_type": "code",
   "execution_count": null,
   "metadata": {
    "scrolled": true
   },
   "outputs": [],
   "source": [
    "# Build a scatter plot for each data type\n",
    "plt.scatter(weather_data[\"lat\"], weather_data[\"temp\"], marker=\"o\")\n",
    "\n",
    "# Incorporate the other graph properties\n",
    "plt.title(\"Temperature in World Cities\")\n",
    "plt.ylabel(\"Temperature (Celsius)\")\n",
    "plt.xlabel(\"Latitude\")\n",
    "plt.grid(True)\n",
    "\n",
    "# Save the figure\n",
    "plt.savefig(\"TemperatureInWorldCities.png\")\n",
    "\n",
    "# Show plot\n",
    "plt.show()"
   ]
  },
  {
   "cell_type": "markdown",
   "metadata": {},
   "source": [
    "## <span style=\"color: red;\">EDIT </span>Latitude vs. Humidity Plot"
   ]
  },
  {
   "cell_type": "code",
   "execution_count": null,
   "metadata": {},
   "outputs": [],
   "source": [
    "# Build a scatter plot for each data type\n",
    "plt.scatter(weather_data[\"lat\"], weather_data[\"temp\"], marker=\"o\")\n",
    "\n",
    "# Incorporate the other graph properties\n",
    "plt.title(\"Temperature in World Cities\")\n",
    "plt.ylabel(\"Temperature (Celsius)\")\n",
    "plt.xlabel(\"Latitude\")\n",
    "plt.grid(True)\n",
    "\n",
    "# Save the figure\n",
    "plt.savefig(\"TemperatureInWorldCities.png\")\n",
    "\n",
    "# Show plot\n",
    "plt.show()"
   ]
  },
  {
   "cell_type": "markdown",
   "metadata": {},
   "source": [
    "## <span style=\"color: red;\">EDIT </span>Latitude vs. Cloudiness Plot"
   ]
  },
  {
   "cell_type": "code",
   "execution_count": null,
   "metadata": {},
   "outputs": [],
   "source": [
    "# Build a scatter plot for each data type\n",
    "plt.scatter(weather_data[\"lat\"], weather_data[\"temp\"], marker=\"o\")\n",
    "\n",
    "# Incorporate the other graph properties\n",
    "plt.title(\"Temperature in World Cities\")\n",
    "plt.ylabel(\"Temperature (Celsius)\")\n",
    "plt.xlabel(\"Latitude\")\n",
    "plt.grid(True)\n",
    "\n",
    "# Save the figure\n",
    "plt.savefig(\"TemperatureInWorldCities.png\")\n",
    "\n",
    "# Show plot\n",
    "plt.show()"
   ]
  },
  {
   "cell_type": "markdown",
   "metadata": {},
   "source": [
    "## <span style=\"color: red;\">EDIT </span>Latitude vs. Wind Speed Plot"
   ]
  },
  {
   "cell_type": "code",
   "execution_count": null,
   "metadata": {},
   "outputs": [],
   "source": [
    "# Build a scatter plot for each data type\n",
    "plt.scatter(weather_data[\"lat\"], weather_data[\"temp\"], marker=\"o\")\n",
    "\n",
    "# Incorporate the other graph properties\n",
    "plt.title(\"Temperature in World Cities\")\n",
    "plt.ylabel(\"Temperature (Celsius)\")\n",
    "plt.xlabel(\"Latitude\")\n",
    "plt.grid(True)\n",
    "\n",
    "# Save the figure\n",
    "plt.savefig(\"TemperatureInWorldCities.png\")\n",
    "\n",
    "# Show plot\n",
    "plt.show()"
   ]
  },
  {
   "cell_type": "markdown",
   "metadata": {},
   "source": [
    "## Linear Regression"
   ]
  },
  {
   "cell_type": "code",
   "execution_count": null,
   "metadata": {},
   "outputs": [],
   "source": []
  },
  {
   "cell_type": "markdown",
   "metadata": {},
   "source": [
    "####  Northern Hemisphere - Max Temp vs. Latitude Linear Regression"
   ]
  },
  {
   "cell_type": "code",
   "execution_count": null,
   "metadata": {},
   "outputs": [],
   "source": []
  },
  {
   "cell_type": "markdown",
   "metadata": {},
   "source": [
    "####  Southern Hemisphere - Max Temp vs. Latitude Linear Regression"
   ]
  },
  {
   "cell_type": "code",
   "execution_count": null,
   "metadata": {},
   "outputs": [],
   "source": []
  },
  {
   "cell_type": "markdown",
   "metadata": {},
   "source": [
    "####  Northern Hemisphere - Humidity (%) vs. Latitude Linear Regression"
   ]
  },
  {
   "cell_type": "code",
   "execution_count": null,
   "metadata": {},
   "outputs": [],
   "source": []
  },
  {
   "cell_type": "markdown",
   "metadata": {},
   "source": [
    "####  Southern Hemisphere - Humidity (%) vs. Latitude Linear Regression"
   ]
  },
  {
   "cell_type": "code",
   "execution_count": null,
   "metadata": {},
   "outputs": [],
   "source": []
  },
  {
   "cell_type": "markdown",
   "metadata": {},
   "source": [
    "####  Northern Hemisphere - Cloudiness (%) vs. Latitude Linear Regression"
   ]
  },
  {
   "cell_type": "code",
   "execution_count": null,
   "metadata": {},
   "outputs": [],
   "source": []
  },
  {
   "cell_type": "markdown",
   "metadata": {},
   "source": [
    "####  Southern Hemisphere - Cloudiness (%) vs. Latitude Linear Regression"
   ]
  },
  {
   "cell_type": "code",
   "execution_count": null,
   "metadata": {},
   "outputs": [],
   "source": []
  },
  {
   "cell_type": "markdown",
   "metadata": {},
   "source": [
    "####  Northern Hemisphere - Wind Speed (mph) vs. Latitude Linear Regression"
   ]
  },
  {
   "cell_type": "code",
   "execution_count": null,
   "metadata": {},
   "outputs": [],
   "source": []
  },
  {
   "cell_type": "markdown",
   "metadata": {},
   "source": [
    "####  Southern Hemisphere - Wind Speed (mph) vs. Latitude Linear Regression"
   ]
  },
  {
   "cell_type": "code",
   "execution_count": null,
   "metadata": {},
   "outputs": [],
   "source": []
  },
  {
   "cell_type": "code",
   "execution_count": null,
   "metadata": {},
   "outputs": [],
   "source": []
  }
 ],
 "metadata": {
  "anaconda-cloud": {},
  "kernel_info": {
   "name": "python3"
  },
  "kernelspec": {
   "display_name": "Python 3 (ipykernel)",
   "language": "python",
   "name": "python3"
  },
  "language_info": {
   "codemirror_mode": {
    "name": "ipython",
    "version": 3
   },
   "file_extension": ".py",
   "mimetype": "text/x-python",
   "name": "python",
   "nbconvert_exporter": "python",
   "pygments_lexer": "ipython3",
   "version": "3.8.13"
  },
  "latex_envs": {
   "LaTeX_envs_menu_present": true,
   "autoclose": false,
   "autocomplete": true,
   "bibliofile": "biblio.bib",
   "cite_by": "apalike",
   "current_citInitial": 1,
   "eqLabelWithNumbers": true,
   "eqNumInitial": 1,
   "hotkeys": {
    "equation": "Ctrl-E",
    "itemize": "Ctrl-I"
   },
   "labels_anchors": false,
   "latex_user_defs": false,
   "report_style_numbering": false,
   "user_envs_cfg": false
  },
  "nteract": {
   "version": "0.12.3"
  }
 },
 "nbformat": 4,
 "nbformat_minor": 2
}
